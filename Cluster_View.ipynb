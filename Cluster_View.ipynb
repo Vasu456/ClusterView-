{
  "cells": [
    {
      "cell_type": "markdown",
      "metadata": {
        "id": "view-in-github",
        "colab_type": "text"
      },
      "source": [
        "<a href=\"https://colab.research.google.com/github/Vasu456/ClusterView-/blob/main/Cluster_View.ipynb\" target=\"_parent\"><img src=\"https://colab.research.google.com/assets/colab-badge.svg\" alt=\"Open In Colab\"/></a>"
      ]
    },
    {
      "cell_type": "markdown",
      "metadata": {
        "id": "g_iruOG-5VvN"
      },
      "source": [
        "# Importing Modules\n",
        "\n"
      ]
    },
    {
      "cell_type": "code",
      "execution_count": 1,
      "metadata": {
        "id": "0iyMknrzH_Ah",
        "colab": {
          "base_uri": "https://localhost:8080/"
        },
        "outputId": "2b653212-3df6-431f-cd78-ebd4a45cd707"
      },
      "outputs": [
        {
          "output_type": "stream",
          "name": "stdout",
          "text": [
            "Looking in indexes: https://pypi.org/simple, https://us-python.pkg.dev/colab-wheels/public/simple/\n",
            "Collecting umap-learn\n",
            "  Downloading umap-learn-0.5.3.tar.gz (88 kB)\n",
            "\u001b[2K     \u001b[90m━━━━━━━━━━━━━━━━━━━━━━━━━━━━━━━━━━━━━━━━\u001b[0m \u001b[32m88.2/88.2 kB\u001b[0m \u001b[31m3.4 MB/s\u001b[0m eta \u001b[36m0:00:00\u001b[0m\n",
            "\u001b[?25h  Preparing metadata (setup.py) ... \u001b[?25l\u001b[?25hdone\n",
            "Requirement already satisfied: numpy>=1.17 in /usr/local/lib/python3.10/dist-packages (from umap-learn) (1.22.4)\n",
            "Requirement already satisfied: scikit-learn>=0.22 in /usr/local/lib/python3.10/dist-packages (from umap-learn) (1.2.2)\n",
            "Requirement already satisfied: scipy>=1.0 in /usr/local/lib/python3.10/dist-packages (from umap-learn) (1.10.1)\n",
            "Requirement already satisfied: numba>=0.49 in /usr/local/lib/python3.10/dist-packages (from umap-learn) (0.56.4)\n",
            "Collecting pynndescent>=0.5 (from umap-learn)\n",
            "  Downloading pynndescent-0.5.10.tar.gz (1.1 MB)\n",
            "\u001b[2K     \u001b[90m━━━━━━━━━━━━━━━━━━━━━━━━━━━━━━━━━━━━━━━━\u001b[0m \u001b[32m1.1/1.1 MB\u001b[0m \u001b[31m23.6 MB/s\u001b[0m eta \u001b[36m0:00:00\u001b[0m\n",
            "\u001b[?25h  Preparing metadata (setup.py) ... \u001b[?25l\u001b[?25hdone\n",
            "Requirement already satisfied: tqdm in /usr/local/lib/python3.10/dist-packages (from umap-learn) (4.65.0)\n",
            "Requirement already satisfied: llvmlite<0.40,>=0.39.0dev0 in /usr/local/lib/python3.10/dist-packages (from numba>=0.49->umap-learn) (0.39.1)\n",
            "Requirement already satisfied: setuptools in /usr/local/lib/python3.10/dist-packages (from numba>=0.49->umap-learn) (67.7.2)\n",
            "Requirement already satisfied: joblib>=0.11 in /usr/local/lib/python3.10/dist-packages (from pynndescent>=0.5->umap-learn) (1.2.0)\n",
            "Requirement already satisfied: threadpoolctl>=2.0.0 in /usr/local/lib/python3.10/dist-packages (from scikit-learn>=0.22->umap-learn) (3.1.0)\n",
            "Building wheels for collected packages: umap-learn, pynndescent\n",
            "  Building wheel for umap-learn (setup.py) ... \u001b[?25l\u001b[?25hdone\n",
            "  Created wheel for umap-learn: filename=umap_learn-0.5.3-py3-none-any.whl size=82816 sha256=1516b32ff5736350fed77d3536a0305ecc2f0b61903d3b10782ae539c02c5d12\n",
            "  Stored in directory: /root/.cache/pip/wheels/a0/e8/c6/a37ea663620bd5200ea1ba0907ab3c217042c1d035ef606acc\n",
            "  Building wheel for pynndescent (setup.py) ... \u001b[?25l\u001b[?25hdone\n",
            "  Created wheel for pynndescent: filename=pynndescent-0.5.10-py3-none-any.whl size=55622 sha256=e87f159bbd7ab3ad018a73d401af35b6d516f7d10f1e396310cdc64504f9535d\n",
            "  Stored in directory: /root/.cache/pip/wheels/4a/38/5d/f60a40a66a9512b7e5e83517ebc2d1b42d857be97d135f1096\n",
            "Successfully built umap-learn pynndescent\n",
            "Installing collected packages: pynndescent, umap-learn\n",
            "Successfully installed pynndescent-0.5.10 umap-learn-0.5.3\n"
          ]
        }
      ],
      "source": [
        "!pip install umap-learn"
      ]
    },
    {
      "cell_type": "code",
      "source": [
        "!pip install umato\n"
      ],
      "metadata": {
        "colab": {
          "base_uri": "https://localhost:8080/"
        },
        "id": "ri0QR1AfsfMc",
        "outputId": "491e4eaf-ebb7-47d0-cd35-1a5fd8f2c220"
      },
      "execution_count": 2,
      "outputs": [
        {
          "output_type": "stream",
          "name": "stdout",
          "text": [
            "Looking in indexes: https://pypi.org/simple, https://us-python.pkg.dev/colab-wheels/public/simple/\n",
            "Collecting umato\n",
            "  Downloading umato-0.1.2-py3-none-any.whl (66 kB)\n",
            "\u001b[2K     \u001b[90m━━━━━━━━━━━━━━━━━━━━━━━━━━━━━━━━━━━━━━━━\u001b[0m \u001b[32m66.8/66.8 kB\u001b[0m \u001b[31m3.0 MB/s\u001b[0m eta \u001b[36m0:00:00\u001b[0m\n",
            "\u001b[?25hRequirement already satisfied: numpy in /usr/local/lib/python3.10/dist-packages (from umato) (1.22.4)\n",
            "Requirement already satisfied: numba in /usr/local/lib/python3.10/dist-packages (from umato) (0.56.4)\n",
            "Requirement already satisfied: scipy in /usr/local/lib/python3.10/dist-packages (from umato) (1.10.1)\n",
            "Requirement already satisfied: scikit-learn in /usr/local/lib/python3.10/dist-packages (from umato) (1.2.2)\n",
            "Requirement already satisfied: joblib in /usr/local/lib/python3.10/dist-packages (from umato) (1.2.0)\n",
            "Requirement already satisfied: matplotlib in /usr/local/lib/python3.10/dist-packages (from umato) (3.7.1)\n",
            "Requirement already satisfied: pandas in /usr/local/lib/python3.10/dist-packages (from umato) (1.5.3)\n",
            "Collecting fcsparser (from umato)\n",
            "  Downloading fcsparser-0.2.6-py3-none-any.whl (14.6 MB)\n",
            "\u001b[2K     \u001b[90m━━━━━━━━━━━━━━━━━━━━━━━━━━━━━━━━━━━━━━━━\u001b[0m \u001b[32m14.6/14.6 MB\u001b[0m \u001b[31m73.7 MB/s\u001b[0m eta \u001b[36m0:00:00\u001b[0m\n",
            "\u001b[?25hRequirement already satisfied: python-dateutil>=2.8.1 in /usr/local/lib/python3.10/dist-packages (from pandas->umato) (2.8.2)\n",
            "Requirement already satisfied: pytz>=2020.1 in /usr/local/lib/python3.10/dist-packages (from pandas->umato) (2022.7.1)\n",
            "Requirement already satisfied: contourpy>=1.0.1 in /usr/local/lib/python3.10/dist-packages (from matplotlib->umato) (1.0.7)\n",
            "Requirement already satisfied: cycler>=0.10 in /usr/local/lib/python3.10/dist-packages (from matplotlib->umato) (0.11.0)\n",
            "Requirement already satisfied: fonttools>=4.22.0 in /usr/local/lib/python3.10/dist-packages (from matplotlib->umato) (4.39.3)\n",
            "Requirement already satisfied: kiwisolver>=1.0.1 in /usr/local/lib/python3.10/dist-packages (from matplotlib->umato) (1.4.4)\n",
            "Requirement already satisfied: packaging>=20.0 in /usr/local/lib/python3.10/dist-packages (from matplotlib->umato) (23.1)\n",
            "Requirement already satisfied: pillow>=6.2.0 in /usr/local/lib/python3.10/dist-packages (from matplotlib->umato) (8.4.0)\n",
            "Requirement already satisfied: pyparsing>=2.3.1 in /usr/local/lib/python3.10/dist-packages (from matplotlib->umato) (3.0.9)\n",
            "Requirement already satisfied: llvmlite<0.40,>=0.39.0dev0 in /usr/local/lib/python3.10/dist-packages (from numba->umato) (0.39.1)\n",
            "Requirement already satisfied: setuptools in /usr/local/lib/python3.10/dist-packages (from numba->umato) (67.7.2)\n",
            "Requirement already satisfied: threadpoolctl>=2.0.0 in /usr/local/lib/python3.10/dist-packages (from scikit-learn->umato) (3.1.0)\n",
            "Requirement already satisfied: six>=1.5 in /usr/local/lib/python3.10/dist-packages (from python-dateutil>=2.8.1->pandas->umato) (1.16.0)\n",
            "Installing collected packages: fcsparser, umato\n",
            "Successfully installed fcsparser-0.2.6 umato-0.1.2\n"
          ]
        }
      ]
    },
    {
      "cell_type": "code",
      "execution_count": 3,
      "metadata": {
        "colab": {
          "base_uri": "https://localhost:8080/"
        },
        "id": "sU6QnMaLTzXi",
        "outputId": "5c534ea9-c107-42d6-ccbc-6048445c4e21"
      },
      "outputs": [
        {
          "output_type": "stream",
          "name": "stdout",
          "text": [
            "Looking in indexes: https://pypi.org/simple, https://us-python.pkg.dev/colab-wheels/public/simple/\n",
            "Requirement already satisfied: networkx in /usr/local/lib/python3.10/dist-packages (3.1)\n"
          ]
        }
      ],
      "source": [
        "!pip install networkx"
      ]
    },
    {
      "cell_type": "code",
      "execution_count": 4,
      "metadata": {
        "id": "HT06Hdl7IaSR",
        "colab": {
          "base_uri": "https://localhost:8080/"
        },
        "outputId": "03798029-4f7e-4896-f593-ed05bf08b97f"
      },
      "outputs": [
        {
          "output_type": "stream",
          "name": "stdout",
          "text": [
            "Looking in indexes: https://pypi.org/simple, https://us-python.pkg.dev/colab-wheels/public/simple/\n",
            "Collecting forcelayout\n",
            "  Downloading forcelayout-1.0.6-py3-none-any.whl (22 kB)\n",
            "Requirement already satisfied: numpy in /usr/local/lib/python3.10/dist-packages (from forcelayout) (1.22.4)\n",
            "Requirement already satisfied: matplotlib in /usr/local/lib/python3.10/dist-packages (from forcelayout) (3.7.1)\n",
            "Requirement already satisfied: contourpy>=1.0.1 in /usr/local/lib/python3.10/dist-packages (from matplotlib->forcelayout) (1.0.7)\n",
            "Requirement already satisfied: cycler>=0.10 in /usr/local/lib/python3.10/dist-packages (from matplotlib->forcelayout) (0.11.0)\n",
            "Requirement already satisfied: fonttools>=4.22.0 in /usr/local/lib/python3.10/dist-packages (from matplotlib->forcelayout) (4.39.3)\n",
            "Requirement already satisfied: kiwisolver>=1.0.1 in /usr/local/lib/python3.10/dist-packages (from matplotlib->forcelayout) (1.4.4)\n",
            "Requirement already satisfied: packaging>=20.0 in /usr/local/lib/python3.10/dist-packages (from matplotlib->forcelayout) (23.1)\n",
            "Requirement already satisfied: pillow>=6.2.0 in /usr/local/lib/python3.10/dist-packages (from matplotlib->forcelayout) (8.4.0)\n",
            "Requirement already satisfied: pyparsing>=2.3.1 in /usr/local/lib/python3.10/dist-packages (from matplotlib->forcelayout) (3.0.9)\n",
            "Requirement already satisfied: python-dateutil>=2.7 in /usr/local/lib/python3.10/dist-packages (from matplotlib->forcelayout) (2.8.2)\n",
            "Requirement already satisfied: six>=1.5 in /usr/local/lib/python3.10/dist-packages (from python-dateutil>=2.7->matplotlib->forcelayout) (1.16.0)\n",
            "Installing collected packages: forcelayout\n",
            "Successfully installed forcelayout-1.0.6\n",
            "Looking in indexes: https://pypi.org/simple, https://us-python.pkg.dev/colab-wheels/public/simple/\n",
            "Collecting pyDRMetrics\n",
            "  Downloading pyDRMetrics-0.0.7-py3-none-any.whl (10 kB)\n",
            "Installing collected packages: pyDRMetrics\n",
            "Successfully installed pyDRMetrics-0.0.7\n"
          ]
        }
      ],
      "source": [
        "!pip install forcelayout\n",
        "!pip install pyDRMetrics"
      ]
    },
    {
      "cell_type": "code",
      "execution_count": 5,
      "metadata": {
        "id": "SwWOWTkcJ4yN",
        "colab": {
          "base_uri": "https://localhost:8080/"
        },
        "outputId": "17990d60-a9fe-4dcf-981c-c2d790caeae1"
      },
      "outputs": [
        {
          "output_type": "stream",
          "name": "stdout",
          "text": [
            "Looking in indexes: https://pypi.org/simple, https://us-python.pkg.dev/colab-wheels/public/simple/\n",
            "Requirement already satisfied: scikit-learn in /usr/local/lib/python3.10/dist-packages (1.2.2)\n",
            "Requirement already satisfied: numpy>=1.17.3 in /usr/local/lib/python3.10/dist-packages (from scikit-learn) (1.22.4)\n",
            "Requirement already satisfied: scipy>=1.3.2 in /usr/local/lib/python3.10/dist-packages (from scikit-learn) (1.10.1)\n",
            "Requirement already satisfied: joblib>=1.1.1 in /usr/local/lib/python3.10/dist-packages (from scikit-learn) (1.2.0)\n",
            "Requirement already satisfied: threadpoolctl>=2.0.0 in /usr/local/lib/python3.10/dist-packages (from scikit-learn) (3.1.0)\n"
          ]
        }
      ],
      "source": [
        "!pip install scikit-learn"
      ]
    },
    {
      "cell_type": "code",
      "execution_count": 6,
      "metadata": {
        "id": "0rUyj-1u-e0V",
        "colab": {
          "base_uri": "https://localhost:8080/"
        },
        "outputId": "d6e1e073-83b4-4c16-ba64-34826252029c"
      },
      "outputs": [
        {
          "output_type": "stream",
          "name": "stdout",
          "text": [
            "/content/metis-5.1.0\n",
            "rm -rf build/Linux-x86_64\n",
            "mkdir -p build/Linux-x86_64\n",
            "cd build/Linux-x86_64 && cmake /content/metis-5.1.0 -DCMAKE_VERBOSE_MAKEFILE=1 -DGKLIB_PATH=/content/metis-5.1.0/GKlib -DCMAKE_INSTALL_PREFIX=/root/.local/ -DSHARED=1\n",
            "\u001b[0mCMake Deprecation Warning at CMakeLists.txt:1 (cmake_minimum_required):\n",
            "  Compatibility with CMake < 2.8.12 will be removed from a future version of\n",
            "  CMake.\n",
            "\n",
            "  Update the VERSION argument <min> value or use a ...<max> suffix to tell\n",
            "  CMake that the project does not need compatibility with older versions.\n",
            "\n",
            "\u001b[0m\n",
            "-- The C compiler identification is GNU 9.4.0\n",
            "-- The CXX compiler identification is GNU 9.4.0\n",
            "-- Detecting C compiler ABI info\n",
            "-- Detecting C compiler ABI info - done\n",
            "-- Check for working C compiler: /usr/bin/cc - skipped\n",
            "-- Detecting C compile features\n",
            "-- Detecting C compile features - done\n",
            "-- Detecting CXX compiler ABI info\n",
            "-- Detecting CXX compiler ABI info - done\n",
            "-- Check for working CXX compiler: /usr/bin/c++ - skipped\n",
            "-- Detecting CXX compile features\n",
            "-- Detecting CXX compile features - done\n",
            "-- Looking for execinfo.h\n",
            "-- Looking for execinfo.h - found\n",
            "-- Looking for getline\n",
            "-- Looking for getline - found\n",
            "-- checking for thread-local storage - found\n",
            "-- Configuring done\n",
            "-- Generating done\n",
            "-- Build files have been written to: /content/metis-5.1.0/build/Linux-x86_64\n",
            "make[1]: Entering directory '/content/metis-5.1.0/build/Linux-x86_64'\n",
            "/usr/local/lib/python3.10/dist-packages/cmake/data/bin/cmake -S/content/metis-5.1.0 -B/content/metis-5.1.0/build/Linux-x86_64 --check-build-system CMakeFiles/Makefile.cmake 0\n",
            "/usr/local/lib/python3.10/dist-packages/cmake/data/bin/cmake -E cmake_progress_start /content/metis-5.1.0/build/Linux-x86_64/CMakeFiles /content/metis-5.1.0/build/Linux-x86_64//CMakeFiles/progress.marks\n",
            "make  -f CMakeFiles/Makefile2 all\n",
            "make[2]: Entering directory '/content/metis-5.1.0/build/Linux-x86_64'\n",
            "make  -f libmetis/CMakeFiles/metis.dir/build.make libmetis/CMakeFiles/metis.dir/depend\n",
            "make[3]: Entering directory '/content/metis-5.1.0/build/Linux-x86_64'\n",
            "cd /content/metis-5.1.0/build/Linux-x86_64 && /usr/local/lib/python3.10/dist-packages/cmake/data/bin/cmake -E cmake_depends \"Unix Makefiles\" /content/metis-5.1.0 /content/metis-5.1.0/libmetis /content/metis-5.1.0/build/Linux-x86_64 /content/metis-5.1.0/build/Linux-x86_64/libmetis /content/metis-5.1.0/build/Linux-x86_64/libmetis/CMakeFiles/metis.dir/DependInfo.cmake --color=\n",
            "make[3]: Leaving directory '/content/metis-5.1.0/build/Linux-x86_64'\n",
            "make  -f libmetis/CMakeFiles/metis.dir/build.make libmetis/CMakeFiles/metis.dir/build\n",
            "make[3]: Entering directory '/content/metis-5.1.0/build/Linux-x86_64'\n",
            "[  1%] \u001b[32mBuilding C object libmetis/CMakeFiles/metis.dir/__/GKlib/b64.c.o\u001b[0m\n",
            "cd /content/metis-5.1.0/build/Linux-x86_64/libmetis && /usr/bin/cc -Dmetis_EXPORTS -I/content/metis-5.1.0/GKlib -I/content/metis-5.1.0/include -I/content/metis-5.1.0/libmetis/. -DLINUX -D_FILE_OFFSET_BITS=64 -std=c99 -fno-strict-aliasing -fPIC -Wall -pedantic -Wno-unused-but-set-variable -Wno-unused-variable -Wno-unknown-pragmas -DNDEBUG -DNDEBUG2 -DHAVE_EXECINFO_H -DHAVE_GETLINE -O3 -fPIC -MD -MT libmetis/CMakeFiles/metis.dir/__/GKlib/b64.c.o -MF CMakeFiles/metis.dir/__/GKlib/b64.c.o.d -o CMakeFiles/metis.dir/__/GKlib/b64.c.o -c /content/metis-5.1.0/GKlib/b64.c\n",
            "[  2%] \u001b[32mBuilding C object libmetis/CMakeFiles/metis.dir/__/GKlib/blas.c.o\u001b[0m\n",
            "cd /content/metis-5.1.0/build/Linux-x86_64/libmetis && /usr/bin/cc -Dmetis_EXPORTS -I/content/metis-5.1.0/GKlib -I/content/metis-5.1.0/include -I/content/metis-5.1.0/libmetis/. -DLINUX -D_FILE_OFFSET_BITS=64 -std=c99 -fno-strict-aliasing -fPIC -Wall -pedantic -Wno-unused-but-set-variable -Wno-unused-variable -Wno-unknown-pragmas -DNDEBUG -DNDEBUG2 -DHAVE_EXECINFO_H -DHAVE_GETLINE -O3 -fPIC -MD -MT libmetis/CMakeFiles/metis.dir/__/GKlib/blas.c.o -MF CMakeFiles/metis.dir/__/GKlib/blas.c.o.d -o CMakeFiles/metis.dir/__/GKlib/blas.c.o -c /content/metis-5.1.0/GKlib/blas.c\n",
            "[  3%] \u001b[32mBuilding C object libmetis/CMakeFiles/metis.dir/__/GKlib/csr.c.o\u001b[0m\n",
            "cd /content/metis-5.1.0/build/Linux-x86_64/libmetis && /usr/bin/cc -Dmetis_EXPORTS -I/content/metis-5.1.0/GKlib -I/content/metis-5.1.0/include -I/content/metis-5.1.0/libmetis/. -DLINUX -D_FILE_OFFSET_BITS=64 -std=c99 -fno-strict-aliasing -fPIC -Wall -pedantic -Wno-unused-but-set-variable -Wno-unused-variable -Wno-unknown-pragmas -DNDEBUG -DNDEBUG2 -DHAVE_EXECINFO_H -DHAVE_GETLINE -O3 -fPIC -MD -MT libmetis/CMakeFiles/metis.dir/__/GKlib/csr.c.o -MF CMakeFiles/metis.dir/__/GKlib/csr.c.o.d -o CMakeFiles/metis.dir/__/GKlib/csr.c.o -c /content/metis-5.1.0/GKlib/csr.c\n",
            "\u001b[01m\u001b[K/content/metis-5.1.0/GKlib/csr.c:\u001b[m\u001b[K In function ‘\u001b[01m\u001b[Kgk_csr_Normalize\u001b[m\u001b[K’:\n",
            "\u001b[01m\u001b[K/content/metis-5.1.0/GKlib/csr.c:1344:9:\u001b[m\u001b[K \u001b[01;35m\u001b[Kwarning: \u001b[m\u001b[Kthis ‘\u001b[01m\u001b[Kif\u001b[m\u001b[K’ clause does not guard... [\u001b[01;35m\u001b[K-Wmisleading-indentation\u001b[m\u001b[K]\n",
            " 1344 |    else \u001b[01;35m\u001b[Kif\u001b[m\u001b[K (norm == 1)\n",
            "      |         \u001b[01;35m\u001b[K^~\u001b[m\u001b[K\n",
            "\u001b[01m\u001b[K/content/metis-5.1.0/GKlib/csr.c:1346:11:\u001b[m\u001b[K \u001b[01;36m\u001b[Knote: \u001b[m\u001b[K...this statement, but the latter is misleadingly indented as if it were guarded by the ‘\u001b[01m\u001b[Kif\u001b[m\u001b[K’\n",
            " 1346 |           \u001b[01;36m\u001b[Kfor\u001b[m\u001b[K (j=ptr[i]; j<ptr[i+1]; j++)\n",
            "      |           \u001b[01;36m\u001b[K^~~\u001b[m\u001b[K\n",
            "\u001b[01m\u001b[K/content/metis-5.1.0/GKlib/csr.c:1371:9:\u001b[m\u001b[K \u001b[01;35m\u001b[Kwarning: \u001b[m\u001b[Kthis ‘\u001b[01m\u001b[Kif\u001b[m\u001b[K’ clause does not guard... [\u001b[01;35m\u001b[K-Wmisleading-indentation\u001b[m\u001b[K]\n",
            " 1371 |    else \u001b[01;35m\u001b[Kif\u001b[m\u001b[K (norm == 1)\n",
            "      |         \u001b[01;35m\u001b[K^~\u001b[m\u001b[K\n",
            "\u001b[01m\u001b[K/content/metis-5.1.0/GKlib/csr.c:1373:11:\u001b[m\u001b[K \u001b[01;36m\u001b[Knote: \u001b[m\u001b[K...this statement, but the latter is misleadingly indented as if it were guarded by the ‘\u001b[01m\u001b[Kif\u001b[m\u001b[K’\n",
            " 1373 |           \u001b[01;36m\u001b[Kfor\u001b[m\u001b[K (j=ptr[i]; j<ptr[i+1]; j++)\n",
            "      |           \u001b[01;36m\u001b[K^~~\u001b[m\u001b[K\n",
            "[  4%] \u001b[32mBuilding C object libmetis/CMakeFiles/metis.dir/__/GKlib/error.c.o\u001b[0m\n",
            "cd /content/metis-5.1.0/build/Linux-x86_64/libmetis && /usr/bin/cc -Dmetis_EXPORTS -I/content/metis-5.1.0/GKlib -I/content/metis-5.1.0/include -I/content/metis-5.1.0/libmetis/. -DLINUX -D_FILE_OFFSET_BITS=64 -std=c99 -fno-strict-aliasing -fPIC -Wall -pedantic -Wno-unused-but-set-variable -Wno-unused-variable -Wno-unknown-pragmas -DNDEBUG -DNDEBUG2 -DHAVE_EXECINFO_H -DHAVE_GETLINE -O3 -fPIC -MD -MT libmetis/CMakeFiles/metis.dir/__/GKlib/error.c.o -MF CMakeFiles/metis.dir/__/GKlib/error.c.o.d -o CMakeFiles/metis.dir/__/GKlib/error.c.o -c /content/metis-5.1.0/GKlib/error.c\n",
            "[  5%] \u001b[32mBuilding C object libmetis/CMakeFiles/metis.dir/__/GKlib/evaluate.c.o\u001b[0m\n",
            "cd /content/metis-5.1.0/build/Linux-x86_64/libmetis && /usr/bin/cc -Dmetis_EXPORTS -I/content/metis-5.1.0/GKlib -I/content/metis-5.1.0/include -I/content/metis-5.1.0/libmetis/. -DLINUX -D_FILE_OFFSET_BITS=64 -std=c99 -fno-strict-aliasing -fPIC -Wall -pedantic -Wno-unused-but-set-variable -Wno-unused-variable -Wno-unknown-pragmas -DNDEBUG -DNDEBUG2 -DHAVE_EXECINFO_H -DHAVE_GETLINE -O3 -fPIC -MD -MT libmetis/CMakeFiles/metis.dir/__/GKlib/evaluate.c.o -MF CMakeFiles/metis.dir/__/GKlib/evaluate.c.o.d -o CMakeFiles/metis.dir/__/GKlib/evaluate.c.o -c /content/metis-5.1.0/GKlib/evaluate.c\n",
            "[  6%] \u001b[32mBuilding C object libmetis/CMakeFiles/metis.dir/__/GKlib/fkvkselect.c.o\u001b[0m\n",
            "cd /content/metis-5.1.0/build/Linux-x86_64/libmetis && /usr/bin/cc -Dmetis_EXPORTS -I/content/metis-5.1.0/GKlib -I/content/metis-5.1.0/include -I/content/metis-5.1.0/libmetis/. -DLINUX -D_FILE_OFFSET_BITS=64 -std=c99 -fno-strict-aliasing -fPIC -Wall -pedantic -Wno-unused-but-set-variable -Wno-unused-variable -Wno-unknown-pragmas -DNDEBUG -DNDEBUG2 -DHAVE_EXECINFO_H -DHAVE_GETLINE -O3 -fPIC -MD -MT libmetis/CMakeFiles/metis.dir/__/GKlib/fkvkselect.c.o -MF CMakeFiles/metis.dir/__/GKlib/fkvkselect.c.o.d -o CMakeFiles/metis.dir/__/GKlib/fkvkselect.c.o -c /content/metis-5.1.0/GKlib/fkvkselect.c\n",
            "[  7%] \u001b[32mBuilding C object libmetis/CMakeFiles/metis.dir/__/GKlib/fs.c.o\u001b[0m\n",
            "cd /content/metis-5.1.0/build/Linux-x86_64/libmetis && /usr/bin/cc -Dmetis_EXPORTS -I/content/metis-5.1.0/GKlib -I/content/metis-5.1.0/include -I/content/metis-5.1.0/libmetis/. -DLINUX -D_FILE_OFFSET_BITS=64 -std=c99 -fno-strict-aliasing -fPIC -Wall -pedantic -Wno-unused-but-set-variable -Wno-unused-variable -Wno-unknown-pragmas -DNDEBUG -DNDEBUG2 -DHAVE_EXECINFO_H -DHAVE_GETLINE -O3 -fPIC -MD -MT libmetis/CMakeFiles/metis.dir/__/GKlib/fs.c.o -MF CMakeFiles/metis.dir/__/GKlib/fs.c.o.d -o CMakeFiles/metis.dir/__/GKlib/fs.c.o -c /content/metis-5.1.0/GKlib/fs.c\n",
            "[  9%] \u001b[32mBuilding C object libmetis/CMakeFiles/metis.dir/__/GKlib/getopt.c.o\u001b[0m\n",
            "cd /content/metis-5.1.0/build/Linux-x86_64/libmetis && /usr/bin/cc -Dmetis_EXPORTS -I/content/metis-5.1.0/GKlib -I/content/metis-5.1.0/include -I/content/metis-5.1.0/libmetis/. -DLINUX -D_FILE_OFFSET_BITS=64 -std=c99 -fno-strict-aliasing -fPIC -Wall -pedantic -Wno-unused-but-set-variable -Wno-unused-variable -Wno-unknown-pragmas -DNDEBUG -DNDEBUG2 -DHAVE_EXECINFO_H -DHAVE_GETLINE -O3 -fPIC -MD -MT libmetis/CMakeFiles/metis.dir/__/GKlib/getopt.c.o -MF CMakeFiles/metis.dir/__/GKlib/getopt.c.o.d -o CMakeFiles/metis.dir/__/GKlib/getopt.c.o -c /content/metis-5.1.0/GKlib/getopt.c\n",
            "\u001b[01m\u001b[K/content/metis-5.1.0/GKlib/getopt.c:\u001b[m\u001b[K In function ‘\u001b[01m\u001b[Kgk_getopt_internal\u001b[m\u001b[K’:\n",
            "\u001b[01m\u001b[K/content/metis-5.1.0/GKlib/getopt.c:343:5:\u001b[m\u001b[K \u001b[01;35m\u001b[Kwarning: \u001b[m\u001b[Kthis ‘\u001b[01m\u001b[Kif\u001b[m\u001b[K’ clause does not guard... [\u001b[01;35m\u001b[K-Wmisleading-indentation\u001b[m\u001b[K]\n",
            "  343 |     \u001b[01;35m\u001b[Kif\u001b[m\u001b[K (gk_optind == 0)\n",
            "      |     \u001b[01;35m\u001b[K^~\u001b[m\u001b[K\n",
            "\u001b[01m\u001b[K/content/metis-5.1.0/GKlib/getopt.c:345:7:\u001b[m\u001b[K \u001b[01;36m\u001b[Knote: \u001b[m\u001b[K...this statement, but the latter is misleadingly indented as if it were guarded by the ‘\u001b[01m\u001b[Kif\u001b[m\u001b[K’\n",
            "  345 |       \u001b[01;36m\u001b[Koptstring\u001b[m\u001b[K = gk_getopt_initialize (argc, argv, optstring);\n",
            "      |       \u001b[01;36m\u001b[K^~~~~~~~~\u001b[m\u001b[K\n",
            "\u001b[01m\u001b[K/content/metis-5.1.0/GKlib/getopt.c:700:2:\u001b[m\u001b[K \u001b[01;35m\u001b[Kwarning: \u001b[m\u001b[Kthis ‘\u001b[01m\u001b[Kelse\u001b[m\u001b[K’ clause does not guard... [\u001b[01;35m\u001b[K-Wmisleading-indentation\u001b[m\u001b[K]\n",
            "  700 |  \u001b[01;35m\u001b[Kelse\u001b[m\u001b[K\n",
            "      |  \u001b[01;35m\u001b[K^~~~\u001b[m\u001b[K\n",
            "\u001b[01m\u001b[K/content/metis-5.1.0/GKlib/getopt.c:703:4:\u001b[m\u001b[K \u001b[01;36m\u001b[Knote: \u001b[m\u001b[K...this statement, but the latter is misleadingly indented as if it were guarded by the ‘\u001b[01m\u001b[Kelse\u001b[m\u001b[K’\n",
            "  703 |    \u001b[01;36m\u001b[Knextchar\u001b[m\u001b[K = NULL;\n",
            "      |    \u001b[01;36m\u001b[K^~~~~~~~\u001b[m\u001b[K\n",
            "[ 10%] \u001b[32mBuilding C object libmetis/CMakeFiles/metis.dir/__/GKlib/gkregex.c.o\u001b[0m\n",
            "cd /content/metis-5.1.0/build/Linux-x86_64/libmetis && /usr/bin/cc -Dmetis_EXPORTS -I/content/metis-5.1.0/GKlib -I/content/metis-5.1.0/include -I/content/metis-5.1.0/libmetis/. -DLINUX -D_FILE_OFFSET_BITS=64 -std=c99 -fno-strict-aliasing -fPIC -Wall -pedantic -Wno-unused-but-set-variable -Wno-unused-variable -Wno-unknown-pragmas -DNDEBUG -DNDEBUG2 -DHAVE_EXECINFO_H -DHAVE_GETLINE -O3 -fPIC -MD -MT libmetis/CMakeFiles/metis.dir/__/GKlib/gkregex.c.o -MF CMakeFiles/metis.dir/__/GKlib/gkregex.c.o.d -o CMakeFiles/metis.dir/__/GKlib/gkregex.c.o -c /content/metis-5.1.0/GKlib/gkregex.c\n",
            "[ 11%] \u001b[32mBuilding C object libmetis/CMakeFiles/metis.dir/__/GKlib/graph.c.o\u001b[0m\n",
            "cd /content/metis-5.1.0/build/Linux-x86_64/libmetis && /usr/bin/cc -Dmetis_EXPORTS -I/content/metis-5.1.0/GKlib -I/content/metis-5.1.0/include -I/content/metis-5.1.0/libmetis/. -DLINUX -D_FILE_OFFSET_BITS=64 -std=c99 -fno-strict-aliasing -fPIC -Wall -pedantic -Wno-unused-but-set-variable -Wno-unused-variable -Wno-unknown-pragmas -DNDEBUG -DNDEBUG2 -DHAVE_EXECINFO_H -DHAVE_GETLINE -O3 -fPIC -MD -MT libmetis/CMakeFiles/metis.dir/__/GKlib/graph.c.o -MF CMakeFiles/metis.dir/__/GKlib/graph.c.o.d -o CMakeFiles/metis.dir/__/GKlib/graph.c.o -c /content/metis-5.1.0/GKlib/graph.c\n",
            "[ 12%] \u001b[32mBuilding C object libmetis/CMakeFiles/metis.dir/__/GKlib/htable.c.o\u001b[0m\n",
            "cd /content/metis-5.1.0/build/Linux-x86_64/libmetis && /usr/bin/cc -Dmetis_EXPORTS -I/content/metis-5.1.0/GKlib -I/content/metis-5.1.0/include -I/content/metis-5.1.0/libmetis/. -DLINUX -D_FILE_OFFSET_BITS=64 -std=c99 -fno-strict-aliasing -fPIC -Wall -pedantic -Wno-unused-but-set-variable -Wno-unused-variable -Wno-unknown-pragmas -DNDEBUG -DNDEBUG2 -DHAVE_EXECINFO_H -DHAVE_GETLINE -O3 -fPIC -MD -MT libmetis/CMakeFiles/metis.dir/__/GKlib/htable.c.o -MF CMakeFiles/metis.dir/__/GKlib/htable.c.o.d -o CMakeFiles/metis.dir/__/GKlib/htable.c.o -c /content/metis-5.1.0/GKlib/htable.c\n",
            "[ 13%] \u001b[32mBuilding C object libmetis/CMakeFiles/metis.dir/__/GKlib/io.c.o\u001b[0m\n",
            "cd /content/metis-5.1.0/build/Linux-x86_64/libmetis && /usr/bin/cc -Dmetis_EXPORTS -I/content/metis-5.1.0/GKlib -I/content/metis-5.1.0/include -I/content/metis-5.1.0/libmetis/. -DLINUX -D_FILE_OFFSET_BITS=64 -std=c99 -fno-strict-aliasing -fPIC -Wall -pedantic -Wno-unused-but-set-variable -Wno-unused-variable -Wno-unknown-pragmas -DNDEBUG -DNDEBUG2 -DHAVE_EXECINFO_H -DHAVE_GETLINE -O3 -fPIC -MD -MT libmetis/CMakeFiles/metis.dir/__/GKlib/io.c.o -MF CMakeFiles/metis.dir/__/GKlib/io.c.o.d -o CMakeFiles/metis.dir/__/GKlib/io.c.o -c /content/metis-5.1.0/GKlib/io.c\n",
            "[ 14%] \u001b[32mBuilding C object libmetis/CMakeFiles/metis.dir/__/GKlib/itemsets.c.o\u001b[0m\n",
            "cd /content/metis-5.1.0/build/Linux-x86_64/libmetis && /usr/bin/cc -Dmetis_EXPORTS -I/content/metis-5.1.0/GKlib -I/content/metis-5.1.0/include -I/content/metis-5.1.0/libmetis/. -DLINUX -D_FILE_OFFSET_BITS=64 -std=c99 -fno-strict-aliasing -fPIC -Wall -pedantic -Wno-unused-but-set-variable -Wno-unused-variable -Wno-unknown-pragmas -DNDEBUG -DNDEBUG2 -DHAVE_EXECINFO_H -DHAVE_GETLINE -O3 -fPIC -MD -MT libmetis/CMakeFiles/metis.dir/__/GKlib/itemsets.c.o -MF CMakeFiles/metis.dir/__/GKlib/itemsets.c.o.d -o CMakeFiles/metis.dir/__/GKlib/itemsets.c.o -c /content/metis-5.1.0/GKlib/itemsets.c\n",
            "[ 15%] \u001b[32mBuilding C object libmetis/CMakeFiles/metis.dir/__/GKlib/mcore.c.o\u001b[0m\n",
            "cd /content/metis-5.1.0/build/Linux-x86_64/libmetis && /usr/bin/cc -Dmetis_EXPORTS -I/content/metis-5.1.0/GKlib -I/content/metis-5.1.0/include -I/content/metis-5.1.0/libmetis/. -DLINUX -D_FILE_OFFSET_BITS=64 -std=c99 -fno-strict-aliasing -fPIC -Wall -pedantic -Wno-unused-but-set-variable -Wno-unused-variable -Wno-unknown-pragmas -DNDEBUG -DNDEBUG2 -DHAVE_EXECINFO_H -DHAVE_GETLINE -O3 -fPIC -MD -MT libmetis/CMakeFiles/metis.dir/__/GKlib/mcore.c.o -MF CMakeFiles/metis.dir/__/GKlib/mcore.c.o.d -o CMakeFiles/metis.dir/__/GKlib/mcore.c.o -c /content/metis-5.1.0/GKlib/mcore.c\n",
            "[ 17%] \u001b[32mBuilding C object libmetis/CMakeFiles/metis.dir/__/GKlib/memory.c.o\u001b[0m\n",
            "cd /content/metis-5.1.0/build/Linux-x86_64/libmetis && /usr/bin/cc -Dmetis_EXPORTS -I/content/metis-5.1.0/GKlib -I/content/metis-5.1.0/include -I/content/metis-5.1.0/libmetis/. -DLINUX -D_FILE_OFFSET_BITS=64 -std=c99 -fno-strict-aliasing -fPIC -Wall -pedantic -Wno-unused-but-set-variable -Wno-unused-variable -Wno-unknown-pragmas -DNDEBUG -DNDEBUG2 -DHAVE_EXECINFO_H -DHAVE_GETLINE -O3 -fPIC -MD -MT libmetis/CMakeFiles/metis.dir/__/GKlib/memory.c.o -MF CMakeFiles/metis.dir/__/GKlib/memory.c.o.d -o CMakeFiles/metis.dir/__/GKlib/memory.c.o -c /content/metis-5.1.0/GKlib/memory.c\n",
            "[ 18%] \u001b[32mBuilding C object libmetis/CMakeFiles/metis.dir/__/GKlib/omp.c.o\u001b[0m\n",
            "cd /content/metis-5.1.0/build/Linux-x86_64/libmetis && /usr/bin/cc -Dmetis_EXPORTS -I/content/metis-5.1.0/GKlib -I/content/metis-5.1.0/include -I/content/metis-5.1.0/libmetis/. -DLINUX -D_FILE_OFFSET_BITS=64 -std=c99 -fno-strict-aliasing -fPIC -Wall -pedantic -Wno-unused-but-set-variable -Wno-unused-variable -Wno-unknown-pragmas -DNDEBUG -DNDEBUG2 -DHAVE_EXECINFO_H -DHAVE_GETLINE -O3 -fPIC -MD -MT libmetis/CMakeFiles/metis.dir/__/GKlib/omp.c.o -MF CMakeFiles/metis.dir/__/GKlib/omp.c.o.d -o CMakeFiles/metis.dir/__/GKlib/omp.c.o -c /content/metis-5.1.0/GKlib/omp.c\n",
            "[ 19%] \u001b[32mBuilding C object libmetis/CMakeFiles/metis.dir/__/GKlib/pdb.c.o\u001b[0m\n",
            "cd /content/metis-5.1.0/build/Linux-x86_64/libmetis && /usr/bin/cc -Dmetis_EXPORTS -I/content/metis-5.1.0/GKlib -I/content/metis-5.1.0/include -I/content/metis-5.1.0/libmetis/. -DLINUX -D_FILE_OFFSET_BITS=64 -std=c99 -fno-strict-aliasing -fPIC -Wall -pedantic -Wno-unused-but-set-variable -Wno-unused-variable -Wno-unknown-pragmas -DNDEBUG -DNDEBUG2 -DHAVE_EXECINFO_H -DHAVE_GETLINE -O3 -fPIC -MD -MT libmetis/CMakeFiles/metis.dir/__/GKlib/pdb.c.o -MF CMakeFiles/metis.dir/__/GKlib/pdb.c.o.d -o CMakeFiles/metis.dir/__/GKlib/pdb.c.o -c /content/metis-5.1.0/GKlib/pdb.c\n",
            "[ 20%] \u001b[32mBuilding C object libmetis/CMakeFiles/metis.dir/__/GKlib/pqueue.c.o\u001b[0m\n",
            "cd /content/metis-5.1.0/build/Linux-x86_64/libmetis && /usr/bin/cc -Dmetis_EXPORTS -I/content/metis-5.1.0/GKlib -I/content/metis-5.1.0/include -I/content/metis-5.1.0/libmetis/. -DLINUX -D_FILE_OFFSET_BITS=64 -std=c99 -fno-strict-aliasing -fPIC -Wall -pedantic -Wno-unused-but-set-variable -Wno-unused-variable -Wno-unknown-pragmas -DNDEBUG -DNDEBUG2 -DHAVE_EXECINFO_H -DHAVE_GETLINE -O3 -fPIC -MD -MT libmetis/CMakeFiles/metis.dir/__/GKlib/pqueue.c.o -MF CMakeFiles/metis.dir/__/GKlib/pqueue.c.o.d -o CMakeFiles/metis.dir/__/GKlib/pqueue.c.o -c /content/metis-5.1.0/GKlib/pqueue.c\n",
            "[ 21%] \u001b[32mBuilding C object libmetis/CMakeFiles/metis.dir/__/GKlib/random.c.o\u001b[0m\n",
            "cd /content/metis-5.1.0/build/Linux-x86_64/libmetis && /usr/bin/cc -Dmetis_EXPORTS -I/content/metis-5.1.0/GKlib -I/content/metis-5.1.0/include -I/content/metis-5.1.0/libmetis/. -DLINUX -D_FILE_OFFSET_BITS=64 -std=c99 -fno-strict-aliasing -fPIC -Wall -pedantic -Wno-unused-but-set-variable -Wno-unused-variable -Wno-unknown-pragmas -DNDEBUG -DNDEBUG2 -DHAVE_EXECINFO_H -DHAVE_GETLINE -O3 -fPIC -MD -MT libmetis/CMakeFiles/metis.dir/__/GKlib/random.c.o -MF CMakeFiles/metis.dir/__/GKlib/random.c.o.d -o CMakeFiles/metis.dir/__/GKlib/random.c.o -c /content/metis-5.1.0/GKlib/random.c\n",
            "[ 22%] \u001b[32mBuilding C object libmetis/CMakeFiles/metis.dir/__/GKlib/rw.c.o\u001b[0m\n",
            "cd /content/metis-5.1.0/build/Linux-x86_64/libmetis && /usr/bin/cc -Dmetis_EXPORTS -I/content/metis-5.1.0/GKlib -I/content/metis-5.1.0/include -I/content/metis-5.1.0/libmetis/. -DLINUX -D_FILE_OFFSET_BITS=64 -std=c99 -fno-strict-aliasing -fPIC -Wall -pedantic -Wno-unused-but-set-variable -Wno-unused-variable -Wno-unknown-pragmas -DNDEBUG -DNDEBUG2 -DHAVE_EXECINFO_H -DHAVE_GETLINE -O3 -fPIC -MD -MT libmetis/CMakeFiles/metis.dir/__/GKlib/rw.c.o -MF CMakeFiles/metis.dir/__/GKlib/rw.c.o.d -o CMakeFiles/metis.dir/__/GKlib/rw.c.o -c /content/metis-5.1.0/GKlib/rw.c\n",
            "[ 23%] \u001b[32mBuilding C object libmetis/CMakeFiles/metis.dir/__/GKlib/seq.c.o\u001b[0m\n",
            "cd /content/metis-5.1.0/build/Linux-x86_64/libmetis && /usr/bin/cc -Dmetis_EXPORTS -I/content/metis-5.1.0/GKlib -I/content/metis-5.1.0/include -I/content/metis-5.1.0/libmetis/. -DLINUX -D_FILE_OFFSET_BITS=64 -std=c99 -fno-strict-aliasing -fPIC -Wall -pedantic -Wno-unused-but-set-variable -Wno-unused-variable -Wno-unknown-pragmas -DNDEBUG -DNDEBUG2 -DHAVE_EXECINFO_H -DHAVE_GETLINE -O3 -fPIC -MD -MT libmetis/CMakeFiles/metis.dir/__/GKlib/seq.c.o -MF CMakeFiles/metis.dir/__/GKlib/seq.c.o.d -o CMakeFiles/metis.dir/__/GKlib/seq.c.o -c /content/metis-5.1.0/GKlib/seq.c\n",
            "[ 25%] \u001b[32mBuilding C object libmetis/CMakeFiles/metis.dir/__/GKlib/sort.c.o\u001b[0m\n",
            "cd /content/metis-5.1.0/build/Linux-x86_64/libmetis && /usr/bin/cc -Dmetis_EXPORTS -I/content/metis-5.1.0/GKlib -I/content/metis-5.1.0/include -I/content/metis-5.1.0/libmetis/. -DLINUX -D_FILE_OFFSET_BITS=64 -std=c99 -fno-strict-aliasing -fPIC -Wall -pedantic -Wno-unused-but-set-variable -Wno-unused-variable -Wno-unknown-pragmas -DNDEBUG -DNDEBUG2 -DHAVE_EXECINFO_H -DHAVE_GETLINE -O3 -fPIC -MD -MT libmetis/CMakeFiles/metis.dir/__/GKlib/sort.c.o -MF CMakeFiles/metis.dir/__/GKlib/sort.c.o.d -o CMakeFiles/metis.dir/__/GKlib/sort.c.o -c /content/metis-5.1.0/GKlib/sort.c\n",
            "[ 26%] \u001b[32mBuilding C object libmetis/CMakeFiles/metis.dir/__/GKlib/string.c.o\u001b[0m\n",
            "cd /content/metis-5.1.0/build/Linux-x86_64/libmetis && /usr/bin/cc -Dmetis_EXPORTS -I/content/metis-5.1.0/GKlib -I/content/metis-5.1.0/include -I/content/metis-5.1.0/libmetis/. -DLINUX -D_FILE_OFFSET_BITS=64 -std=c99 -fno-strict-aliasing -fPIC -Wall -pedantic -Wno-unused-but-set-variable -Wno-unused-variable -Wno-unknown-pragmas -DNDEBUG -DNDEBUG2 -DHAVE_EXECINFO_H -DHAVE_GETLINE -O3 -fPIC -MD -MT libmetis/CMakeFiles/metis.dir/__/GKlib/string.c.o -MF CMakeFiles/metis.dir/__/GKlib/string.c.o.d -o CMakeFiles/metis.dir/__/GKlib/string.c.o -c /content/metis-5.1.0/GKlib/string.c\n",
            "[ 27%] \u001b[32mBuilding C object libmetis/CMakeFiles/metis.dir/__/GKlib/timers.c.o\u001b[0m\n",
            "cd /content/metis-5.1.0/build/Linux-x86_64/libmetis && /usr/bin/cc -Dmetis_EXPORTS -I/content/metis-5.1.0/GKlib -I/content/metis-5.1.0/include -I/content/metis-5.1.0/libmetis/. -DLINUX -D_FILE_OFFSET_BITS=64 -std=c99 -fno-strict-aliasing -fPIC -Wall -pedantic -Wno-unused-but-set-variable -Wno-unused-variable -Wno-unknown-pragmas -DNDEBUG -DNDEBUG2 -DHAVE_EXECINFO_H -DHAVE_GETLINE -O3 -fPIC -MD -MT libmetis/CMakeFiles/metis.dir/__/GKlib/timers.c.o -MF CMakeFiles/metis.dir/__/GKlib/timers.c.o.d -o CMakeFiles/metis.dir/__/GKlib/timers.c.o -c /content/metis-5.1.0/GKlib/timers.c\n",
            "[ 28%] \u001b[32mBuilding C object libmetis/CMakeFiles/metis.dir/__/GKlib/tokenizer.c.o\u001b[0m\n",
            "cd /content/metis-5.1.0/build/Linux-x86_64/libmetis && /usr/bin/cc -Dmetis_EXPORTS -I/content/metis-5.1.0/GKlib -I/content/metis-5.1.0/include -I/content/metis-5.1.0/libmetis/. -DLINUX -D_FILE_OFFSET_BITS=64 -std=c99 -fno-strict-aliasing -fPIC -Wall -pedantic -Wno-unused-but-set-variable -Wno-unused-variable -Wno-unknown-pragmas -DNDEBUG -DNDEBUG2 -DHAVE_EXECINFO_H -DHAVE_GETLINE -O3 -fPIC -MD -MT libmetis/CMakeFiles/metis.dir/__/GKlib/tokenizer.c.o -MF CMakeFiles/metis.dir/__/GKlib/tokenizer.c.o.d -o CMakeFiles/metis.dir/__/GKlib/tokenizer.c.o -c /content/metis-5.1.0/GKlib/tokenizer.c\n",
            "[ 29%] \u001b[32mBuilding C object libmetis/CMakeFiles/metis.dir/__/GKlib/util.c.o\u001b[0m\n",
            "cd /content/metis-5.1.0/build/Linux-x86_64/libmetis && /usr/bin/cc -Dmetis_EXPORTS -I/content/metis-5.1.0/GKlib -I/content/metis-5.1.0/include -I/content/metis-5.1.0/libmetis/. -DLINUX -D_FILE_OFFSET_BITS=64 -std=c99 -fno-strict-aliasing -fPIC -Wall -pedantic -Wno-unused-but-set-variable -Wno-unused-variable -Wno-unknown-pragmas -DNDEBUG -DNDEBUG2 -DHAVE_EXECINFO_H -DHAVE_GETLINE -O3 -fPIC -MD -MT libmetis/CMakeFiles/metis.dir/__/GKlib/util.c.o -MF CMakeFiles/metis.dir/__/GKlib/util.c.o.d -o CMakeFiles/metis.dir/__/GKlib/util.c.o -c /content/metis-5.1.0/GKlib/util.c\n",
            "[ 30%] \u001b[32mBuilding C object libmetis/CMakeFiles/metis.dir/auxapi.c.o\u001b[0m\n",
            "cd /content/metis-5.1.0/build/Linux-x86_64/libmetis && /usr/bin/cc -Dmetis_EXPORTS -I/content/metis-5.1.0/GKlib -I/content/metis-5.1.0/include -I/content/metis-5.1.0/libmetis/. -DLINUX -D_FILE_OFFSET_BITS=64 -std=c99 -fno-strict-aliasing -fPIC -Wall -pedantic -Wno-unused-but-set-variable -Wno-unused-variable -Wno-unknown-pragmas -DNDEBUG -DNDEBUG2 -DHAVE_EXECINFO_H -DHAVE_GETLINE -O3 -fPIC -MD -MT libmetis/CMakeFiles/metis.dir/auxapi.c.o -MF CMakeFiles/metis.dir/auxapi.c.o.d -o CMakeFiles/metis.dir/auxapi.c.o -c /content/metis-5.1.0/libmetis/auxapi.c\n",
            "[ 31%] \u001b[32mBuilding C object libmetis/CMakeFiles/metis.dir/balance.c.o\u001b[0m\n",
            "cd /content/metis-5.1.0/build/Linux-x86_64/libmetis && /usr/bin/cc -Dmetis_EXPORTS -I/content/metis-5.1.0/GKlib -I/content/metis-5.1.0/include -I/content/metis-5.1.0/libmetis/. -DLINUX -D_FILE_OFFSET_BITS=64 -std=c99 -fno-strict-aliasing -fPIC -Wall -pedantic -Wno-unused-but-set-variable -Wno-unused-variable -Wno-unknown-pragmas -DNDEBUG -DNDEBUG2 -DHAVE_EXECINFO_H -DHAVE_GETLINE -O3 -fPIC -MD -MT libmetis/CMakeFiles/metis.dir/balance.c.o -MF CMakeFiles/metis.dir/balance.c.o.d -o CMakeFiles/metis.dir/balance.c.o -c /content/metis-5.1.0/libmetis/balance.c\n",
            "[ 32%] \u001b[32mBuilding C object libmetis/CMakeFiles/metis.dir/bucketsort.c.o\u001b[0m\n",
            "cd /content/metis-5.1.0/build/Linux-x86_64/libmetis && /usr/bin/cc -Dmetis_EXPORTS -I/content/metis-5.1.0/GKlib -I/content/metis-5.1.0/include -I/content/metis-5.1.0/libmetis/. -DLINUX -D_FILE_OFFSET_BITS=64 -std=c99 -fno-strict-aliasing -fPIC -Wall -pedantic -Wno-unused-but-set-variable -Wno-unused-variable -Wno-unknown-pragmas -DNDEBUG -DNDEBUG2 -DHAVE_EXECINFO_H -DHAVE_GETLINE -O3 -fPIC -MD -MT libmetis/CMakeFiles/metis.dir/bucketsort.c.o -MF CMakeFiles/metis.dir/bucketsort.c.o.d -o CMakeFiles/metis.dir/bucketsort.c.o -c /content/metis-5.1.0/libmetis/bucketsort.c\n",
            "[ 34%] \u001b[32mBuilding C object libmetis/CMakeFiles/metis.dir/checkgraph.c.o\u001b[0m\n",
            "cd /content/metis-5.1.0/build/Linux-x86_64/libmetis && /usr/bin/cc -Dmetis_EXPORTS -I/content/metis-5.1.0/GKlib -I/content/metis-5.1.0/include -I/content/metis-5.1.0/libmetis/. -DLINUX -D_FILE_OFFSET_BITS=64 -std=c99 -fno-strict-aliasing -fPIC -Wall -pedantic -Wno-unused-but-set-variable -Wno-unused-variable -Wno-unknown-pragmas -DNDEBUG -DNDEBUG2 -DHAVE_EXECINFO_H -DHAVE_GETLINE -O3 -fPIC -MD -MT libmetis/CMakeFiles/metis.dir/checkgraph.c.o -MF CMakeFiles/metis.dir/checkgraph.c.o.d -o CMakeFiles/metis.dir/checkgraph.c.o -c /content/metis-5.1.0/libmetis/checkgraph.c\n",
            "[ 35%] \u001b[32mBuilding C object libmetis/CMakeFiles/metis.dir/coarsen.c.o\u001b[0m\n",
            "cd /content/metis-5.1.0/build/Linux-x86_64/libmetis && /usr/bin/cc -Dmetis_EXPORTS -I/content/metis-5.1.0/GKlib -I/content/metis-5.1.0/include -I/content/metis-5.1.0/libmetis/. -DLINUX -D_FILE_OFFSET_BITS=64 -std=c99 -fno-strict-aliasing -fPIC -Wall -pedantic -Wno-unused-but-set-variable -Wno-unused-variable -Wno-unknown-pragmas -DNDEBUG -DNDEBUG2 -DHAVE_EXECINFO_H -DHAVE_GETLINE -O3 -fPIC -MD -MT libmetis/CMakeFiles/metis.dir/coarsen.c.o -MF CMakeFiles/metis.dir/coarsen.c.o.d -o CMakeFiles/metis.dir/coarsen.c.o -c /content/metis-5.1.0/libmetis/coarsen.c\n",
            "[ 36%] \u001b[32mBuilding C object libmetis/CMakeFiles/metis.dir/compress.c.o\u001b[0m\n",
            "cd /content/metis-5.1.0/build/Linux-x86_64/libmetis && /usr/bin/cc -Dmetis_EXPORTS -I/content/metis-5.1.0/GKlib -I/content/metis-5.1.0/include -I/content/metis-5.1.0/libmetis/. -DLINUX -D_FILE_OFFSET_BITS=64 -std=c99 -fno-strict-aliasing -fPIC -Wall -pedantic -Wno-unused-but-set-variable -Wno-unused-variable -Wno-unknown-pragmas -DNDEBUG -DNDEBUG2 -DHAVE_EXECINFO_H -DHAVE_GETLINE -O3 -fPIC -MD -MT libmetis/CMakeFiles/metis.dir/compress.c.o -MF CMakeFiles/metis.dir/compress.c.o.d -o CMakeFiles/metis.dir/compress.c.o -c /content/metis-5.1.0/libmetis/compress.c\n",
            "[ 37%] \u001b[32mBuilding C object libmetis/CMakeFiles/metis.dir/contig.c.o\u001b[0m\n",
            "cd /content/metis-5.1.0/build/Linux-x86_64/libmetis && /usr/bin/cc -Dmetis_EXPORTS -I/content/metis-5.1.0/GKlib -I/content/metis-5.1.0/include -I/content/metis-5.1.0/libmetis/. -DLINUX -D_FILE_OFFSET_BITS=64 -std=c99 -fno-strict-aliasing -fPIC -Wall -pedantic -Wno-unused-but-set-variable -Wno-unused-variable -Wno-unknown-pragmas -DNDEBUG -DNDEBUG2 -DHAVE_EXECINFO_H -DHAVE_GETLINE -O3 -fPIC -MD -MT libmetis/CMakeFiles/metis.dir/contig.c.o -MF CMakeFiles/metis.dir/contig.c.o.d -o CMakeFiles/metis.dir/contig.c.o -c /content/metis-5.1.0/libmetis/contig.c\n",
            "[ 38%] \u001b[32mBuilding C object libmetis/CMakeFiles/metis.dir/debug.c.o\u001b[0m\n",
            "cd /content/metis-5.1.0/build/Linux-x86_64/libmetis && /usr/bin/cc -Dmetis_EXPORTS -I/content/metis-5.1.0/GKlib -I/content/metis-5.1.0/include -I/content/metis-5.1.0/libmetis/. -DLINUX -D_FILE_OFFSET_BITS=64 -std=c99 -fno-strict-aliasing -fPIC -Wall -pedantic -Wno-unused-but-set-variable -Wno-unused-variable -Wno-unknown-pragmas -DNDEBUG -DNDEBUG2 -DHAVE_EXECINFO_H -DHAVE_GETLINE -O3 -fPIC -MD -MT libmetis/CMakeFiles/metis.dir/debug.c.o -MF CMakeFiles/metis.dir/debug.c.o.d -o CMakeFiles/metis.dir/debug.c.o -c /content/metis-5.1.0/libmetis/debug.c\n",
            "[ 39%] \u001b[32mBuilding C object libmetis/CMakeFiles/metis.dir/fm.c.o\u001b[0m\n",
            "cd /content/metis-5.1.0/build/Linux-x86_64/libmetis && /usr/bin/cc -Dmetis_EXPORTS -I/content/metis-5.1.0/GKlib -I/content/metis-5.1.0/include -I/content/metis-5.1.0/libmetis/. -DLINUX -D_FILE_OFFSET_BITS=64 -std=c99 -fno-strict-aliasing -fPIC -Wall -pedantic -Wno-unused-but-set-variable -Wno-unused-variable -Wno-unknown-pragmas -DNDEBUG -DNDEBUG2 -DHAVE_EXECINFO_H -DHAVE_GETLINE -O3 -fPIC -MD -MT libmetis/CMakeFiles/metis.dir/fm.c.o -MF CMakeFiles/metis.dir/fm.c.o.d -o CMakeFiles/metis.dir/fm.c.o -c /content/metis-5.1.0/libmetis/fm.c\n",
            "[ 40%] \u001b[32mBuilding C object libmetis/CMakeFiles/metis.dir/fortran.c.o\u001b[0m\n",
            "cd /content/metis-5.1.0/build/Linux-x86_64/libmetis && /usr/bin/cc -Dmetis_EXPORTS -I/content/metis-5.1.0/GKlib -I/content/metis-5.1.0/include -I/content/metis-5.1.0/libmetis/. -DLINUX -D_FILE_OFFSET_BITS=64 -std=c99 -fno-strict-aliasing -fPIC -Wall -pedantic -Wno-unused-but-set-variable -Wno-unused-variable -Wno-unknown-pragmas -DNDEBUG -DNDEBUG2 -DHAVE_EXECINFO_H -DHAVE_GETLINE -O3 -fPIC -MD -MT libmetis/CMakeFiles/metis.dir/fortran.c.o -MF CMakeFiles/metis.dir/fortran.c.o.d -o CMakeFiles/metis.dir/fortran.c.o -c /content/metis-5.1.0/libmetis/fortran.c\n",
            "[ 42%] \u001b[32mBuilding C object libmetis/CMakeFiles/metis.dir/frename.c.o\u001b[0m\n",
            "cd /content/metis-5.1.0/build/Linux-x86_64/libmetis && /usr/bin/cc -Dmetis_EXPORTS -I/content/metis-5.1.0/GKlib -I/content/metis-5.1.0/include -I/content/metis-5.1.0/libmetis/. -DLINUX -D_FILE_OFFSET_BITS=64 -std=c99 -fno-strict-aliasing -fPIC -Wall -pedantic -Wno-unused-but-set-variable -Wno-unused-variable -Wno-unknown-pragmas -DNDEBUG -DNDEBUG2 -DHAVE_EXECINFO_H -DHAVE_GETLINE -O3 -fPIC -MD -MT libmetis/CMakeFiles/metis.dir/frename.c.o -MF CMakeFiles/metis.dir/frename.c.o.d -o CMakeFiles/metis.dir/frename.c.o -c /content/metis-5.1.0/libmetis/frename.c\n",
            "[ 43%] \u001b[32mBuilding C object libmetis/CMakeFiles/metis.dir/gklib.c.o\u001b[0m\n",
            "cd /content/metis-5.1.0/build/Linux-x86_64/libmetis && /usr/bin/cc -Dmetis_EXPORTS -I/content/metis-5.1.0/GKlib -I/content/metis-5.1.0/include -I/content/metis-5.1.0/libmetis/. -DLINUX -D_FILE_OFFSET_BITS=64 -std=c99 -fno-strict-aliasing -fPIC -Wall -pedantic -Wno-unused-but-set-variable -Wno-unused-variable -Wno-unknown-pragmas -DNDEBUG -DNDEBUG2 -DHAVE_EXECINFO_H -DHAVE_GETLINE -O3 -fPIC -MD -MT libmetis/CMakeFiles/metis.dir/gklib.c.o -MF CMakeFiles/metis.dir/gklib.c.o.d -o CMakeFiles/metis.dir/gklib.c.o -c /content/metis-5.1.0/libmetis/gklib.c\n",
            "[ 44%] \u001b[32mBuilding C object libmetis/CMakeFiles/metis.dir/graph.c.o\u001b[0m\n",
            "cd /content/metis-5.1.0/build/Linux-x86_64/libmetis && /usr/bin/cc -Dmetis_EXPORTS -I/content/metis-5.1.0/GKlib -I/content/metis-5.1.0/include -I/content/metis-5.1.0/libmetis/. -DLINUX -D_FILE_OFFSET_BITS=64 -std=c99 -fno-strict-aliasing -fPIC -Wall -pedantic -Wno-unused-but-set-variable -Wno-unused-variable -Wno-unknown-pragmas -DNDEBUG -DNDEBUG2 -DHAVE_EXECINFO_H -DHAVE_GETLINE -O3 -fPIC -MD -MT libmetis/CMakeFiles/metis.dir/graph.c.o -MF CMakeFiles/metis.dir/graph.c.o.d -o CMakeFiles/metis.dir/graph.c.o -c /content/metis-5.1.0/libmetis/graph.c\n",
            "[ 45%] \u001b[32mBuilding C object libmetis/CMakeFiles/metis.dir/initpart.c.o\u001b[0m\n",
            "cd /content/metis-5.1.0/build/Linux-x86_64/libmetis && /usr/bin/cc -Dmetis_EXPORTS -I/content/metis-5.1.0/GKlib -I/content/metis-5.1.0/include -I/content/metis-5.1.0/libmetis/. -DLINUX -D_FILE_OFFSET_BITS=64 -std=c99 -fno-strict-aliasing -fPIC -Wall -pedantic -Wno-unused-but-set-variable -Wno-unused-variable -Wno-unknown-pragmas -DNDEBUG -DNDEBUG2 -DHAVE_EXECINFO_H -DHAVE_GETLINE -O3 -fPIC -MD -MT libmetis/CMakeFiles/metis.dir/initpart.c.o -MF CMakeFiles/metis.dir/initpart.c.o.d -o CMakeFiles/metis.dir/initpart.c.o -c /content/metis-5.1.0/libmetis/initpart.c\n",
            "[ 46%] \u001b[32mBuilding C object libmetis/CMakeFiles/metis.dir/kmetis.c.o\u001b[0m\n",
            "cd /content/metis-5.1.0/build/Linux-x86_64/libmetis && /usr/bin/cc -Dmetis_EXPORTS -I/content/metis-5.1.0/GKlib -I/content/metis-5.1.0/include -I/content/metis-5.1.0/libmetis/. -DLINUX -D_FILE_OFFSET_BITS=64 -std=c99 -fno-strict-aliasing -fPIC -Wall -pedantic -Wno-unused-but-set-variable -Wno-unused-variable -Wno-unknown-pragmas -DNDEBUG -DNDEBUG2 -DHAVE_EXECINFO_H -DHAVE_GETLINE -O3 -fPIC -MD -MT libmetis/CMakeFiles/metis.dir/kmetis.c.o -MF CMakeFiles/metis.dir/kmetis.c.o.d -o CMakeFiles/metis.dir/kmetis.c.o -c /content/metis-5.1.0/libmetis/kmetis.c\n",
            "[ 47%] \u001b[32mBuilding C object libmetis/CMakeFiles/metis.dir/kwayfm.c.o\u001b[0m\n",
            "cd /content/metis-5.1.0/build/Linux-x86_64/libmetis && /usr/bin/cc -Dmetis_EXPORTS -I/content/metis-5.1.0/GKlib -I/content/metis-5.1.0/include -I/content/metis-5.1.0/libmetis/. -DLINUX -D_FILE_OFFSET_BITS=64 -std=c99 -fno-strict-aliasing -fPIC -Wall -pedantic -Wno-unused-but-set-variable -Wno-unused-variable -Wno-unknown-pragmas -DNDEBUG -DNDEBUG2 -DHAVE_EXECINFO_H -DHAVE_GETLINE -O3 -fPIC -MD -MT libmetis/CMakeFiles/metis.dir/kwayfm.c.o -MF CMakeFiles/metis.dir/kwayfm.c.o.d -o CMakeFiles/metis.dir/kwayfm.c.o -c /content/metis-5.1.0/libmetis/kwayfm.c\n",
            "[ 48%] \u001b[32mBuilding C object libmetis/CMakeFiles/metis.dir/kwayrefine.c.o\u001b[0m\n",
            "cd /content/metis-5.1.0/build/Linux-x86_64/libmetis && /usr/bin/cc -Dmetis_EXPORTS -I/content/metis-5.1.0/GKlib -I/content/metis-5.1.0/include -I/content/metis-5.1.0/libmetis/. -DLINUX -D_FILE_OFFSET_BITS=64 -std=c99 -fno-strict-aliasing -fPIC -Wall -pedantic -Wno-unused-but-set-variable -Wno-unused-variable -Wno-unknown-pragmas -DNDEBUG -DNDEBUG2 -DHAVE_EXECINFO_H -DHAVE_GETLINE -O3 -fPIC -MD -MT libmetis/CMakeFiles/metis.dir/kwayrefine.c.o -MF CMakeFiles/metis.dir/kwayrefine.c.o.d -o CMakeFiles/metis.dir/kwayrefine.c.o -c /content/metis-5.1.0/libmetis/kwayrefine.c\n",
            "[ 50%] \u001b[32mBuilding C object libmetis/CMakeFiles/metis.dir/mcutil.c.o\u001b[0m\n",
            "cd /content/metis-5.1.0/build/Linux-x86_64/libmetis && /usr/bin/cc -Dmetis_EXPORTS -I/content/metis-5.1.0/GKlib -I/content/metis-5.1.0/include -I/content/metis-5.1.0/libmetis/. -DLINUX -D_FILE_OFFSET_BITS=64 -std=c99 -fno-strict-aliasing -fPIC -Wall -pedantic -Wno-unused-but-set-variable -Wno-unused-variable -Wno-unknown-pragmas -DNDEBUG -DNDEBUG2 -DHAVE_EXECINFO_H -DHAVE_GETLINE -O3 -fPIC -MD -MT libmetis/CMakeFiles/metis.dir/mcutil.c.o -MF CMakeFiles/metis.dir/mcutil.c.o.d -o CMakeFiles/metis.dir/mcutil.c.o -c /content/metis-5.1.0/libmetis/mcutil.c\n",
            "[ 51%] \u001b[32mBuilding C object libmetis/CMakeFiles/metis.dir/mesh.c.o\u001b[0m\n",
            "cd /content/metis-5.1.0/build/Linux-x86_64/libmetis && /usr/bin/cc -Dmetis_EXPORTS -I/content/metis-5.1.0/GKlib -I/content/metis-5.1.0/include -I/content/metis-5.1.0/libmetis/. -DLINUX -D_FILE_OFFSET_BITS=64 -std=c99 -fno-strict-aliasing -fPIC -Wall -pedantic -Wno-unused-but-set-variable -Wno-unused-variable -Wno-unknown-pragmas -DNDEBUG -DNDEBUG2 -DHAVE_EXECINFO_H -DHAVE_GETLINE -O3 -fPIC -MD -MT libmetis/CMakeFiles/metis.dir/mesh.c.o -MF CMakeFiles/metis.dir/mesh.c.o.d -o CMakeFiles/metis.dir/mesh.c.o -c /content/metis-5.1.0/libmetis/mesh.c\n",
            "[ 52%] \u001b[32mBuilding C object libmetis/CMakeFiles/metis.dir/meshpart.c.o\u001b[0m\n",
            "cd /content/metis-5.1.0/build/Linux-x86_64/libmetis && /usr/bin/cc -Dmetis_EXPORTS -I/content/metis-5.1.0/GKlib -I/content/metis-5.1.0/include -I/content/metis-5.1.0/libmetis/. -DLINUX -D_FILE_OFFSET_BITS=64 -std=c99 -fno-strict-aliasing -fPIC -Wall -pedantic -Wno-unused-but-set-variable -Wno-unused-variable -Wno-unknown-pragmas -DNDEBUG -DNDEBUG2 -DHAVE_EXECINFO_H -DHAVE_GETLINE -O3 -fPIC -MD -MT libmetis/CMakeFiles/metis.dir/meshpart.c.o -MF CMakeFiles/metis.dir/meshpart.c.o.d -o CMakeFiles/metis.dir/meshpart.c.o -c /content/metis-5.1.0/libmetis/meshpart.c\n",
            "[ 53%] \u001b[32mBuilding C object libmetis/CMakeFiles/metis.dir/minconn.c.o\u001b[0m\n",
            "cd /content/metis-5.1.0/build/Linux-x86_64/libmetis && /usr/bin/cc -Dmetis_EXPORTS -I/content/metis-5.1.0/GKlib -I/content/metis-5.1.0/include -I/content/metis-5.1.0/libmetis/. -DLINUX -D_FILE_OFFSET_BITS=64 -std=c99 -fno-strict-aliasing -fPIC -Wall -pedantic -Wno-unused-but-set-variable -Wno-unused-variable -Wno-unknown-pragmas -DNDEBUG -DNDEBUG2 -DHAVE_EXECINFO_H -DHAVE_GETLINE -O3 -fPIC -MD -MT libmetis/CMakeFiles/metis.dir/minconn.c.o -MF CMakeFiles/metis.dir/minconn.c.o.d -o CMakeFiles/metis.dir/minconn.c.o -c /content/metis-5.1.0/libmetis/minconn.c\n",
            "[ 54%] \u001b[32mBuilding C object libmetis/CMakeFiles/metis.dir/mincover.c.o\u001b[0m\n",
            "cd /content/metis-5.1.0/build/Linux-x86_64/libmetis && /usr/bin/cc -Dmetis_EXPORTS -I/content/metis-5.1.0/GKlib -I/content/metis-5.1.0/include -I/content/metis-5.1.0/libmetis/. -DLINUX -D_FILE_OFFSET_BITS=64 -std=c99 -fno-strict-aliasing -fPIC -Wall -pedantic -Wno-unused-but-set-variable -Wno-unused-variable -Wno-unknown-pragmas -DNDEBUG -DNDEBUG2 -DHAVE_EXECINFO_H -DHAVE_GETLINE -O3 -fPIC -MD -MT libmetis/CMakeFiles/metis.dir/mincover.c.o -MF CMakeFiles/metis.dir/mincover.c.o.d -o CMakeFiles/metis.dir/mincover.c.o -c /content/metis-5.1.0/libmetis/mincover.c\n",
            "[ 55%] \u001b[32mBuilding C object libmetis/CMakeFiles/metis.dir/mmd.c.o\u001b[0m\n",
            "cd /content/metis-5.1.0/build/Linux-x86_64/libmetis && /usr/bin/cc -Dmetis_EXPORTS -I/content/metis-5.1.0/GKlib -I/content/metis-5.1.0/include -I/content/metis-5.1.0/libmetis/. -DLINUX -D_FILE_OFFSET_BITS=64 -std=c99 -fno-strict-aliasing -fPIC -Wall -pedantic -Wno-unused-but-set-variable -Wno-unused-variable -Wno-unknown-pragmas -DNDEBUG -DNDEBUG2 -DHAVE_EXECINFO_H -DHAVE_GETLINE -O3 -fPIC -MD -MT libmetis/CMakeFiles/metis.dir/mmd.c.o -MF CMakeFiles/metis.dir/mmd.c.o.d -o CMakeFiles/metis.dir/mmd.c.o -c /content/metis-5.1.0/libmetis/mmd.c\n",
            "[ 56%] \u001b[32mBuilding C object libmetis/CMakeFiles/metis.dir/ometis.c.o\u001b[0m\n",
            "cd /content/metis-5.1.0/build/Linux-x86_64/libmetis && /usr/bin/cc -Dmetis_EXPORTS -I/content/metis-5.1.0/GKlib -I/content/metis-5.1.0/include -I/content/metis-5.1.0/libmetis/. -DLINUX -D_FILE_OFFSET_BITS=64 -std=c99 -fno-strict-aliasing -fPIC -Wall -pedantic -Wno-unused-but-set-variable -Wno-unused-variable -Wno-unknown-pragmas -DNDEBUG -DNDEBUG2 -DHAVE_EXECINFO_H -DHAVE_GETLINE -O3 -fPIC -MD -MT libmetis/CMakeFiles/metis.dir/ometis.c.o -MF CMakeFiles/metis.dir/ometis.c.o.d -o CMakeFiles/metis.dir/ometis.c.o -c /content/metis-5.1.0/libmetis/ometis.c\n",
            "[ 57%] \u001b[32mBuilding C object libmetis/CMakeFiles/metis.dir/options.c.o\u001b[0m\n",
            "cd /content/metis-5.1.0/build/Linux-x86_64/libmetis && /usr/bin/cc -Dmetis_EXPORTS -I/content/metis-5.1.0/GKlib -I/content/metis-5.1.0/include -I/content/metis-5.1.0/libmetis/. -DLINUX -D_FILE_OFFSET_BITS=64 -std=c99 -fno-strict-aliasing -fPIC -Wall -pedantic -Wno-unused-but-set-variable -Wno-unused-variable -Wno-unknown-pragmas -DNDEBUG -DNDEBUG2 -DHAVE_EXECINFO_H -DHAVE_GETLINE -O3 -fPIC -MD -MT libmetis/CMakeFiles/metis.dir/options.c.o -MF CMakeFiles/metis.dir/options.c.o.d -o CMakeFiles/metis.dir/options.c.o -c /content/metis-5.1.0/libmetis/options.c\n",
            "[ 59%] \u001b[32mBuilding C object libmetis/CMakeFiles/metis.dir/parmetis.c.o\u001b[0m\n",
            "cd /content/metis-5.1.0/build/Linux-x86_64/libmetis && /usr/bin/cc -Dmetis_EXPORTS -I/content/metis-5.1.0/GKlib -I/content/metis-5.1.0/include -I/content/metis-5.1.0/libmetis/. -DLINUX -D_FILE_OFFSET_BITS=64 -std=c99 -fno-strict-aliasing -fPIC -Wall -pedantic -Wno-unused-but-set-variable -Wno-unused-variable -Wno-unknown-pragmas -DNDEBUG -DNDEBUG2 -DHAVE_EXECINFO_H -DHAVE_GETLINE -O3 -fPIC -MD -MT libmetis/CMakeFiles/metis.dir/parmetis.c.o -MF CMakeFiles/metis.dir/parmetis.c.o.d -o CMakeFiles/metis.dir/parmetis.c.o -c /content/metis-5.1.0/libmetis/parmetis.c\n",
            "[ 60%] \u001b[32mBuilding C object libmetis/CMakeFiles/metis.dir/pmetis.c.o\u001b[0m\n",
            "cd /content/metis-5.1.0/build/Linux-x86_64/libmetis && /usr/bin/cc -Dmetis_EXPORTS -I/content/metis-5.1.0/GKlib -I/content/metis-5.1.0/include -I/content/metis-5.1.0/libmetis/. -DLINUX -D_FILE_OFFSET_BITS=64 -std=c99 -fno-strict-aliasing -fPIC -Wall -pedantic -Wno-unused-but-set-variable -Wno-unused-variable -Wno-unknown-pragmas -DNDEBUG -DNDEBUG2 -DHAVE_EXECINFO_H -DHAVE_GETLINE -O3 -fPIC -MD -MT libmetis/CMakeFiles/metis.dir/pmetis.c.o -MF CMakeFiles/metis.dir/pmetis.c.o.d -o CMakeFiles/metis.dir/pmetis.c.o -c /content/metis-5.1.0/libmetis/pmetis.c\n",
            "[ 61%] \u001b[32mBuilding C object libmetis/CMakeFiles/metis.dir/refine.c.o\u001b[0m\n",
            "cd /content/metis-5.1.0/build/Linux-x86_64/libmetis && /usr/bin/cc -Dmetis_EXPORTS -I/content/metis-5.1.0/GKlib -I/content/metis-5.1.0/include -I/content/metis-5.1.0/libmetis/. -DLINUX -D_FILE_OFFSET_BITS=64 -std=c99 -fno-strict-aliasing -fPIC -Wall -pedantic -Wno-unused-but-set-variable -Wno-unused-variable -Wno-unknown-pragmas -DNDEBUG -DNDEBUG2 -DHAVE_EXECINFO_H -DHAVE_GETLINE -O3 -fPIC -MD -MT libmetis/CMakeFiles/metis.dir/refine.c.o -MF CMakeFiles/metis.dir/refine.c.o.d -o CMakeFiles/metis.dir/refine.c.o -c /content/metis-5.1.0/libmetis/refine.c\n",
            "[ 62%] \u001b[32mBuilding C object libmetis/CMakeFiles/metis.dir/separator.c.o\u001b[0m\n",
            "cd /content/metis-5.1.0/build/Linux-x86_64/libmetis && /usr/bin/cc -Dmetis_EXPORTS -I/content/metis-5.1.0/GKlib -I/content/metis-5.1.0/include -I/content/metis-5.1.0/libmetis/. -DLINUX -D_FILE_OFFSET_BITS=64 -std=c99 -fno-strict-aliasing -fPIC -Wall -pedantic -Wno-unused-but-set-variable -Wno-unused-variable -Wno-unknown-pragmas -DNDEBUG -DNDEBUG2 -DHAVE_EXECINFO_H -DHAVE_GETLINE -O3 -fPIC -MD -MT libmetis/CMakeFiles/metis.dir/separator.c.o -MF CMakeFiles/metis.dir/separator.c.o.d -o CMakeFiles/metis.dir/separator.c.o -c /content/metis-5.1.0/libmetis/separator.c\n",
            "[ 63%] \u001b[32mBuilding C object libmetis/CMakeFiles/metis.dir/sfm.c.o\u001b[0m\n",
            "cd /content/metis-5.1.0/build/Linux-x86_64/libmetis && /usr/bin/cc -Dmetis_EXPORTS -I/content/metis-5.1.0/GKlib -I/content/metis-5.1.0/include -I/content/metis-5.1.0/libmetis/. -DLINUX -D_FILE_OFFSET_BITS=64 -std=c99 -fno-strict-aliasing -fPIC -Wall -pedantic -Wno-unused-but-set-variable -Wno-unused-variable -Wno-unknown-pragmas -DNDEBUG -DNDEBUG2 -DHAVE_EXECINFO_H -DHAVE_GETLINE -O3 -fPIC -MD -MT libmetis/CMakeFiles/metis.dir/sfm.c.o -MF CMakeFiles/metis.dir/sfm.c.o.d -o CMakeFiles/metis.dir/sfm.c.o -c /content/metis-5.1.0/libmetis/sfm.c\n",
            "[ 64%] \u001b[32mBuilding C object libmetis/CMakeFiles/metis.dir/srefine.c.o\u001b[0m\n",
            "cd /content/metis-5.1.0/build/Linux-x86_64/libmetis && /usr/bin/cc -Dmetis_EXPORTS -I/content/metis-5.1.0/GKlib -I/content/metis-5.1.0/include -I/content/metis-5.1.0/libmetis/. -DLINUX -D_FILE_OFFSET_BITS=64 -std=c99 -fno-strict-aliasing -fPIC -Wall -pedantic -Wno-unused-but-set-variable -Wno-unused-variable -Wno-unknown-pragmas -DNDEBUG -DNDEBUG2 -DHAVE_EXECINFO_H -DHAVE_GETLINE -O3 -fPIC -MD -MT libmetis/CMakeFiles/metis.dir/srefine.c.o -MF CMakeFiles/metis.dir/srefine.c.o.d -o CMakeFiles/metis.dir/srefine.c.o -c /content/metis-5.1.0/libmetis/srefine.c\n",
            "[ 65%] \u001b[32mBuilding C object libmetis/CMakeFiles/metis.dir/stat.c.o\u001b[0m\n",
            "cd /content/metis-5.1.0/build/Linux-x86_64/libmetis && /usr/bin/cc -Dmetis_EXPORTS -I/content/metis-5.1.0/GKlib -I/content/metis-5.1.0/include -I/content/metis-5.1.0/libmetis/. -DLINUX -D_FILE_OFFSET_BITS=64 -std=c99 -fno-strict-aliasing -fPIC -Wall -pedantic -Wno-unused-but-set-variable -Wno-unused-variable -Wno-unknown-pragmas -DNDEBUG -DNDEBUG2 -DHAVE_EXECINFO_H -DHAVE_GETLINE -O3 -fPIC -MD -MT libmetis/CMakeFiles/metis.dir/stat.c.o -MF CMakeFiles/metis.dir/stat.c.o.d -o CMakeFiles/metis.dir/stat.c.o -c /content/metis-5.1.0/libmetis/stat.c\n",
            "[ 67%] \u001b[32mBuilding C object libmetis/CMakeFiles/metis.dir/timing.c.o\u001b[0m\n",
            "cd /content/metis-5.1.0/build/Linux-x86_64/libmetis && /usr/bin/cc -Dmetis_EXPORTS -I/content/metis-5.1.0/GKlib -I/content/metis-5.1.0/include -I/content/metis-5.1.0/libmetis/. -DLINUX -D_FILE_OFFSET_BITS=64 -std=c99 -fno-strict-aliasing -fPIC -Wall -pedantic -Wno-unused-but-set-variable -Wno-unused-variable -Wno-unknown-pragmas -DNDEBUG -DNDEBUG2 -DHAVE_EXECINFO_H -DHAVE_GETLINE -O3 -fPIC -MD -MT libmetis/CMakeFiles/metis.dir/timing.c.o -MF CMakeFiles/metis.dir/timing.c.o.d -o CMakeFiles/metis.dir/timing.c.o -c /content/metis-5.1.0/libmetis/timing.c\n",
            "[ 68%] \u001b[32mBuilding C object libmetis/CMakeFiles/metis.dir/util.c.o\u001b[0m\n",
            "cd /content/metis-5.1.0/build/Linux-x86_64/libmetis && /usr/bin/cc -Dmetis_EXPORTS -I/content/metis-5.1.0/GKlib -I/content/metis-5.1.0/include -I/content/metis-5.1.0/libmetis/. -DLINUX -D_FILE_OFFSET_BITS=64 -std=c99 -fno-strict-aliasing -fPIC -Wall -pedantic -Wno-unused-but-set-variable -Wno-unused-variable -Wno-unknown-pragmas -DNDEBUG -DNDEBUG2 -DHAVE_EXECINFO_H -DHAVE_GETLINE -O3 -fPIC -MD -MT libmetis/CMakeFiles/metis.dir/util.c.o -MF CMakeFiles/metis.dir/util.c.o.d -o CMakeFiles/metis.dir/util.c.o -c /content/metis-5.1.0/libmetis/util.c\n",
            "[ 69%] \u001b[32mBuilding C object libmetis/CMakeFiles/metis.dir/wspace.c.o\u001b[0m\n",
            "cd /content/metis-5.1.0/build/Linux-x86_64/libmetis && /usr/bin/cc -Dmetis_EXPORTS -I/content/metis-5.1.0/GKlib -I/content/metis-5.1.0/include -I/content/metis-5.1.0/libmetis/. -DLINUX -D_FILE_OFFSET_BITS=64 -std=c99 -fno-strict-aliasing -fPIC -Wall -pedantic -Wno-unused-but-set-variable -Wno-unused-variable -Wno-unknown-pragmas -DNDEBUG -DNDEBUG2 -DHAVE_EXECINFO_H -DHAVE_GETLINE -O3 -fPIC -MD -MT libmetis/CMakeFiles/metis.dir/wspace.c.o -MF CMakeFiles/metis.dir/wspace.c.o.d -o CMakeFiles/metis.dir/wspace.c.o -c /content/metis-5.1.0/libmetis/wspace.c\n",
            "[ 70%] \u001b[32m\u001b[1mLinking C shared library libmetis.so\u001b[0m\n",
            "cd /content/metis-5.1.0/build/Linux-x86_64/libmetis && /usr/local/lib/python3.10/dist-packages/cmake/data/bin/cmake -E cmake_link_script CMakeFiles/metis.dir/link.txt --verbose=1\n",
            "/usr/bin/cc -fPIC  -DLINUX -D_FILE_OFFSET_BITS=64 -std=c99 -fno-strict-aliasing -fPIC -Wall -pedantic -Wno-unused-but-set-variable -Wno-unused-variable -Wno-unknown-pragmas -DNDEBUG -DNDEBUG2 -DHAVE_EXECINFO_H -DHAVE_GETLINE -O3 -shared -Wl,-soname,libmetis.so -o libmetis.so CMakeFiles/metis.dir/__/GKlib/b64.c.o CMakeFiles/metis.dir/__/GKlib/blas.c.o CMakeFiles/metis.dir/__/GKlib/csr.c.o CMakeFiles/metis.dir/__/GKlib/error.c.o CMakeFiles/metis.dir/__/GKlib/evaluate.c.o CMakeFiles/metis.dir/__/GKlib/fkvkselect.c.o CMakeFiles/metis.dir/__/GKlib/fs.c.o CMakeFiles/metis.dir/__/GKlib/getopt.c.o CMakeFiles/metis.dir/__/GKlib/gkregex.c.o CMakeFiles/metis.dir/__/GKlib/graph.c.o CMakeFiles/metis.dir/__/GKlib/htable.c.o CMakeFiles/metis.dir/__/GKlib/io.c.o CMakeFiles/metis.dir/__/GKlib/itemsets.c.o CMakeFiles/metis.dir/__/GKlib/mcore.c.o CMakeFiles/metis.dir/__/GKlib/memory.c.o CMakeFiles/metis.dir/__/GKlib/omp.c.o CMakeFiles/metis.dir/__/GKlib/pdb.c.o CMakeFiles/metis.dir/__/GKlib/pqueue.c.o CMakeFiles/metis.dir/__/GKlib/random.c.o CMakeFiles/metis.dir/__/GKlib/rw.c.o CMakeFiles/metis.dir/__/GKlib/seq.c.o CMakeFiles/metis.dir/__/GKlib/sort.c.o CMakeFiles/metis.dir/__/GKlib/string.c.o CMakeFiles/metis.dir/__/GKlib/timers.c.o CMakeFiles/metis.dir/__/GKlib/tokenizer.c.o CMakeFiles/metis.dir/__/GKlib/util.c.o CMakeFiles/metis.dir/auxapi.c.o CMakeFiles/metis.dir/balance.c.o CMakeFiles/metis.dir/bucketsort.c.o CMakeFiles/metis.dir/checkgraph.c.o CMakeFiles/metis.dir/coarsen.c.o CMakeFiles/metis.dir/compress.c.o CMakeFiles/metis.dir/contig.c.o CMakeFiles/metis.dir/debug.c.o CMakeFiles/metis.dir/fm.c.o CMakeFiles/metis.dir/fortran.c.o CMakeFiles/metis.dir/frename.c.o CMakeFiles/metis.dir/gklib.c.o CMakeFiles/metis.dir/graph.c.o CMakeFiles/metis.dir/initpart.c.o CMakeFiles/metis.dir/kmetis.c.o CMakeFiles/metis.dir/kwayfm.c.o CMakeFiles/metis.dir/kwayrefine.c.o CMakeFiles/metis.dir/mcutil.c.o CMakeFiles/metis.dir/mesh.c.o CMakeFiles/metis.dir/meshpart.c.o CMakeFiles/metis.dir/minconn.c.o CMakeFiles/metis.dir/mincover.c.o CMakeFiles/metis.dir/mmd.c.o CMakeFiles/metis.dir/ometis.c.o CMakeFiles/metis.dir/options.c.o CMakeFiles/metis.dir/parmetis.c.o CMakeFiles/metis.dir/pmetis.c.o CMakeFiles/metis.dir/refine.c.o CMakeFiles/metis.dir/separator.c.o CMakeFiles/metis.dir/sfm.c.o CMakeFiles/metis.dir/srefine.c.o CMakeFiles/metis.dir/stat.c.o CMakeFiles/metis.dir/timing.c.o CMakeFiles/metis.dir/util.c.o CMakeFiles/metis.dir/wspace.c.o  -lm \n",
            "make[3]: Leaving directory '/content/metis-5.1.0/build/Linux-x86_64'\n",
            "[ 70%] Built target metis\n",
            "make  -f programs/CMakeFiles/gpmetis.dir/build.make programs/CMakeFiles/gpmetis.dir/depend\n",
            "make[3]: Entering directory '/content/metis-5.1.0/build/Linux-x86_64'\n",
            "cd /content/metis-5.1.0/build/Linux-x86_64 && /usr/local/lib/python3.10/dist-packages/cmake/data/bin/cmake -E cmake_depends \"Unix Makefiles\" /content/metis-5.1.0 /content/metis-5.1.0/programs /content/metis-5.1.0/build/Linux-x86_64 /content/metis-5.1.0/build/Linux-x86_64/programs /content/metis-5.1.0/build/Linux-x86_64/programs/CMakeFiles/gpmetis.dir/DependInfo.cmake --color=\n",
            "make[3]: Leaving directory '/content/metis-5.1.0/build/Linux-x86_64'\n",
            "make  -f programs/CMakeFiles/gpmetis.dir/build.make programs/CMakeFiles/gpmetis.dir/build\n",
            "make[3]: Entering directory '/content/metis-5.1.0/build/Linux-x86_64'\n",
            "[ 71%] \u001b[32mBuilding C object programs/CMakeFiles/gpmetis.dir/gpmetis.c.o\u001b[0m\n",
            "cd /content/metis-5.1.0/build/Linux-x86_64/programs && /usr/bin/cc -DSVNINFO=\\\"\\\" -I/content/metis-5.1.0/GKlib -I/content/metis-5.1.0/include -I/content/metis-5.1.0/programs/../libmetis -DLINUX -D_FILE_OFFSET_BITS=64 -std=c99 -fno-strict-aliasing -fPIC -Wall -pedantic -Wno-unused-but-set-variable -Wno-unused-variable -Wno-unknown-pragmas -DNDEBUG -DNDEBUG2 -DHAVE_EXECINFO_H -DHAVE_GETLINE -O3 -MD -MT programs/CMakeFiles/gpmetis.dir/gpmetis.c.o -MF CMakeFiles/gpmetis.dir/gpmetis.c.o.d -o CMakeFiles/gpmetis.dir/gpmetis.c.o -c /content/metis-5.1.0/programs/gpmetis.c\n",
            "[ 72%] \u001b[32mBuilding C object programs/CMakeFiles/gpmetis.dir/cmdline_gpmetis.c.o\u001b[0m\n",
            "cd /content/metis-5.1.0/build/Linux-x86_64/programs && /usr/bin/cc -DSVNINFO=\\\"\\\" -I/content/metis-5.1.0/GKlib -I/content/metis-5.1.0/include -I/content/metis-5.1.0/programs/../libmetis -DLINUX -D_FILE_OFFSET_BITS=64 -std=c99 -fno-strict-aliasing -fPIC -Wall -pedantic -Wno-unused-but-set-variable -Wno-unused-variable -Wno-unknown-pragmas -DNDEBUG -DNDEBUG2 -DHAVE_EXECINFO_H -DHAVE_GETLINE -O3 -MD -MT programs/CMakeFiles/gpmetis.dir/cmdline_gpmetis.c.o -MF CMakeFiles/gpmetis.dir/cmdline_gpmetis.c.o.d -o CMakeFiles/gpmetis.dir/cmdline_gpmetis.c.o -c /content/metis-5.1.0/programs/cmdline_gpmetis.c\n",
            "[ 73%] \u001b[32mBuilding C object programs/CMakeFiles/gpmetis.dir/io.c.o\u001b[0m\n",
            "cd /content/metis-5.1.0/build/Linux-x86_64/programs && /usr/bin/cc -DSVNINFO=\\\"\\\" -I/content/metis-5.1.0/GKlib -I/content/metis-5.1.0/include -I/content/metis-5.1.0/programs/../libmetis -DLINUX -D_FILE_OFFSET_BITS=64 -std=c99 -fno-strict-aliasing -fPIC -Wall -pedantic -Wno-unused-but-set-variable -Wno-unused-variable -Wno-unknown-pragmas -DNDEBUG -DNDEBUG2 -DHAVE_EXECINFO_H -DHAVE_GETLINE -O3 -MD -MT programs/CMakeFiles/gpmetis.dir/io.c.o -MF CMakeFiles/gpmetis.dir/io.c.o.d -o CMakeFiles/gpmetis.dir/io.c.o -c /content/metis-5.1.0/programs/io.c\n",
            "[ 75%] \u001b[32mBuilding C object programs/CMakeFiles/gpmetis.dir/stat.c.o\u001b[0m\n",
            "cd /content/metis-5.1.0/build/Linux-x86_64/programs && /usr/bin/cc -DSVNINFO=\\\"\\\" -I/content/metis-5.1.0/GKlib -I/content/metis-5.1.0/include -I/content/metis-5.1.0/programs/../libmetis -DLINUX -D_FILE_OFFSET_BITS=64 -std=c99 -fno-strict-aliasing -fPIC -Wall -pedantic -Wno-unused-but-set-variable -Wno-unused-variable -Wno-unknown-pragmas -DNDEBUG -DNDEBUG2 -DHAVE_EXECINFO_H -DHAVE_GETLINE -O3 -MD -MT programs/CMakeFiles/gpmetis.dir/stat.c.o -MF CMakeFiles/gpmetis.dir/stat.c.o.d -o CMakeFiles/gpmetis.dir/stat.c.o -c /content/metis-5.1.0/programs/stat.c\n",
            "[ 76%] \u001b[32m\u001b[1mLinking C executable gpmetis\u001b[0m\n",
            "cd /content/metis-5.1.0/build/Linux-x86_64/programs && /usr/local/lib/python3.10/dist-packages/cmake/data/bin/cmake -E cmake_link_script CMakeFiles/gpmetis.dir/link.txt --verbose=1\n",
            "/usr/bin/cc  -DLINUX -D_FILE_OFFSET_BITS=64 -std=c99 -fno-strict-aliasing -fPIC -Wall -pedantic -Wno-unused-but-set-variable -Wno-unused-variable -Wno-unknown-pragmas -DNDEBUG -DNDEBUG2 -DHAVE_EXECINFO_H -DHAVE_GETLINE -O3 -rdynamic CMakeFiles/gpmetis.dir/gpmetis.c.o CMakeFiles/gpmetis.dir/cmdline_gpmetis.c.o CMakeFiles/gpmetis.dir/io.c.o CMakeFiles/gpmetis.dir/stat.c.o -o gpmetis   -L/home/karypis/local/lib  -Wl,-rpath,/home/karypis/local/lib:/content/metis-5.1.0/build/Linux-x86_64/libmetis: ../libmetis/libmetis.so -lm \n",
            "make[3]: Leaving directory '/content/metis-5.1.0/build/Linux-x86_64'\n",
            "[ 76%] Built target gpmetis\n",
            "make  -f programs/CMakeFiles/ndmetis.dir/build.make programs/CMakeFiles/ndmetis.dir/depend\n",
            "make[3]: Entering directory '/content/metis-5.1.0/build/Linux-x86_64'\n",
            "cd /content/metis-5.1.0/build/Linux-x86_64 && /usr/local/lib/python3.10/dist-packages/cmake/data/bin/cmake -E cmake_depends \"Unix Makefiles\" /content/metis-5.1.0 /content/metis-5.1.0/programs /content/metis-5.1.0/build/Linux-x86_64 /content/metis-5.1.0/build/Linux-x86_64/programs /content/metis-5.1.0/build/Linux-x86_64/programs/CMakeFiles/ndmetis.dir/DependInfo.cmake --color=\n",
            "make[3]: Leaving directory '/content/metis-5.1.0/build/Linux-x86_64'\n",
            "make  -f programs/CMakeFiles/ndmetis.dir/build.make programs/CMakeFiles/ndmetis.dir/build\n",
            "make[3]: Entering directory '/content/metis-5.1.0/build/Linux-x86_64'\n",
            "[ 77%] \u001b[32mBuilding C object programs/CMakeFiles/ndmetis.dir/ndmetis.c.o\u001b[0m\n",
            "cd /content/metis-5.1.0/build/Linux-x86_64/programs && /usr/bin/cc -DSVNINFO=\\\"\\\" -I/content/metis-5.1.0/GKlib -I/content/metis-5.1.0/include -I/content/metis-5.1.0/programs/../libmetis -DLINUX -D_FILE_OFFSET_BITS=64 -std=c99 -fno-strict-aliasing -fPIC -Wall -pedantic -Wno-unused-but-set-variable -Wno-unused-variable -Wno-unknown-pragmas -DNDEBUG -DNDEBUG2 -DHAVE_EXECINFO_H -DHAVE_GETLINE -O3 -MD -MT programs/CMakeFiles/ndmetis.dir/ndmetis.c.o -MF CMakeFiles/ndmetis.dir/ndmetis.c.o.d -o CMakeFiles/ndmetis.dir/ndmetis.c.o -c /content/metis-5.1.0/programs/ndmetis.c\n",
            "[ 78%] \u001b[32mBuilding C object programs/CMakeFiles/ndmetis.dir/cmdline_ndmetis.c.o\u001b[0m\n",
            "cd /content/metis-5.1.0/build/Linux-x86_64/programs && /usr/bin/cc -DSVNINFO=\\\"\\\" -I/content/metis-5.1.0/GKlib -I/content/metis-5.1.0/include -I/content/metis-5.1.0/programs/../libmetis -DLINUX -D_FILE_OFFSET_BITS=64 -std=c99 -fno-strict-aliasing -fPIC -Wall -pedantic -Wno-unused-but-set-variable -Wno-unused-variable -Wno-unknown-pragmas -DNDEBUG -DNDEBUG2 -DHAVE_EXECINFO_H -DHAVE_GETLINE -O3 -MD -MT programs/CMakeFiles/ndmetis.dir/cmdline_ndmetis.c.o -MF CMakeFiles/ndmetis.dir/cmdline_ndmetis.c.o.d -o CMakeFiles/ndmetis.dir/cmdline_ndmetis.c.o -c /content/metis-5.1.0/programs/cmdline_ndmetis.c\n",
            "[ 79%] \u001b[32mBuilding C object programs/CMakeFiles/ndmetis.dir/io.c.o\u001b[0m\n",
            "cd /content/metis-5.1.0/build/Linux-x86_64/programs && /usr/bin/cc -DSVNINFO=\\\"\\\" -I/content/metis-5.1.0/GKlib -I/content/metis-5.1.0/include -I/content/metis-5.1.0/programs/../libmetis -DLINUX -D_FILE_OFFSET_BITS=64 -std=c99 -fno-strict-aliasing -fPIC -Wall -pedantic -Wno-unused-but-set-variable -Wno-unused-variable -Wno-unknown-pragmas -DNDEBUG -DNDEBUG2 -DHAVE_EXECINFO_H -DHAVE_GETLINE -O3 -MD -MT programs/CMakeFiles/ndmetis.dir/io.c.o -MF CMakeFiles/ndmetis.dir/io.c.o.d -o CMakeFiles/ndmetis.dir/io.c.o -c /content/metis-5.1.0/programs/io.c\n",
            "[ 80%] \u001b[32mBuilding C object programs/CMakeFiles/ndmetis.dir/smbfactor.c.o\u001b[0m\n",
            "cd /content/metis-5.1.0/build/Linux-x86_64/programs && /usr/bin/cc -DSVNINFO=\\\"\\\" -I/content/metis-5.1.0/GKlib -I/content/metis-5.1.0/include -I/content/metis-5.1.0/programs/../libmetis -DLINUX -D_FILE_OFFSET_BITS=64 -std=c99 -fno-strict-aliasing -fPIC -Wall -pedantic -Wno-unused-but-set-variable -Wno-unused-variable -Wno-unknown-pragmas -DNDEBUG -DNDEBUG2 -DHAVE_EXECINFO_H -DHAVE_GETLINE -O3 -MD -MT programs/CMakeFiles/ndmetis.dir/smbfactor.c.o -MF CMakeFiles/ndmetis.dir/smbfactor.c.o.d -o CMakeFiles/ndmetis.dir/smbfactor.c.o -c /content/metis-5.1.0/programs/smbfactor.c\n",
            "[ 81%] \u001b[32m\u001b[1mLinking C executable ndmetis\u001b[0m\n",
            "cd /content/metis-5.1.0/build/Linux-x86_64/programs && /usr/local/lib/python3.10/dist-packages/cmake/data/bin/cmake -E cmake_link_script CMakeFiles/ndmetis.dir/link.txt --verbose=1\n",
            "/usr/bin/cc  -DLINUX -D_FILE_OFFSET_BITS=64 -std=c99 -fno-strict-aliasing -fPIC -Wall -pedantic -Wno-unused-but-set-variable -Wno-unused-variable -Wno-unknown-pragmas -DNDEBUG -DNDEBUG2 -DHAVE_EXECINFO_H -DHAVE_GETLINE -O3 -rdynamic CMakeFiles/ndmetis.dir/ndmetis.c.o CMakeFiles/ndmetis.dir/cmdline_ndmetis.c.o CMakeFiles/ndmetis.dir/io.c.o CMakeFiles/ndmetis.dir/smbfactor.c.o -o ndmetis   -L/home/karypis/local/lib  -Wl,-rpath,/home/karypis/local/lib:/content/metis-5.1.0/build/Linux-x86_64/libmetis: ../libmetis/libmetis.so -lm \n",
            "make[3]: Leaving directory '/content/metis-5.1.0/build/Linux-x86_64'\n",
            "[ 81%] Built target ndmetis\n",
            "make  -f programs/CMakeFiles/mpmetis.dir/build.make programs/CMakeFiles/mpmetis.dir/depend\n",
            "make[3]: Entering directory '/content/metis-5.1.0/build/Linux-x86_64'\n",
            "cd /content/metis-5.1.0/build/Linux-x86_64 && /usr/local/lib/python3.10/dist-packages/cmake/data/bin/cmake -E cmake_depends \"Unix Makefiles\" /content/metis-5.1.0 /content/metis-5.1.0/programs /content/metis-5.1.0/build/Linux-x86_64 /content/metis-5.1.0/build/Linux-x86_64/programs /content/metis-5.1.0/build/Linux-x86_64/programs/CMakeFiles/mpmetis.dir/DependInfo.cmake --color=\n",
            "make[3]: Leaving directory '/content/metis-5.1.0/build/Linux-x86_64'\n",
            "make  -f programs/CMakeFiles/mpmetis.dir/build.make programs/CMakeFiles/mpmetis.dir/build\n",
            "make[3]: Entering directory '/content/metis-5.1.0/build/Linux-x86_64'\n",
            "[ 82%] \u001b[32mBuilding C object programs/CMakeFiles/mpmetis.dir/mpmetis.c.o\u001b[0m\n",
            "cd /content/metis-5.1.0/build/Linux-x86_64/programs && /usr/bin/cc -DSVNINFO=\\\"\\\" -I/content/metis-5.1.0/GKlib -I/content/metis-5.1.0/include -I/content/metis-5.1.0/programs/../libmetis -DLINUX -D_FILE_OFFSET_BITS=64 -std=c99 -fno-strict-aliasing -fPIC -Wall -pedantic -Wno-unused-but-set-variable -Wno-unused-variable -Wno-unknown-pragmas -DNDEBUG -DNDEBUG2 -DHAVE_EXECINFO_H -DHAVE_GETLINE -O3 -MD -MT programs/CMakeFiles/mpmetis.dir/mpmetis.c.o -MF CMakeFiles/mpmetis.dir/mpmetis.c.o.d -o CMakeFiles/mpmetis.dir/mpmetis.c.o -c /content/metis-5.1.0/programs/mpmetis.c\n",
            "[ 84%] \u001b[32mBuilding C object programs/CMakeFiles/mpmetis.dir/cmdline_mpmetis.c.o\u001b[0m\n",
            "cd /content/metis-5.1.0/build/Linux-x86_64/programs && /usr/bin/cc -DSVNINFO=\\\"\\\" -I/content/metis-5.1.0/GKlib -I/content/metis-5.1.0/include -I/content/metis-5.1.0/programs/../libmetis -DLINUX -D_FILE_OFFSET_BITS=64 -std=c99 -fno-strict-aliasing -fPIC -Wall -pedantic -Wno-unused-but-set-variable -Wno-unused-variable -Wno-unknown-pragmas -DNDEBUG -DNDEBUG2 -DHAVE_EXECINFO_H -DHAVE_GETLINE -O3 -MD -MT programs/CMakeFiles/mpmetis.dir/cmdline_mpmetis.c.o -MF CMakeFiles/mpmetis.dir/cmdline_mpmetis.c.o.d -o CMakeFiles/mpmetis.dir/cmdline_mpmetis.c.o -c /content/metis-5.1.0/programs/cmdline_mpmetis.c\n",
            "[ 85%] \u001b[32mBuilding C object programs/CMakeFiles/mpmetis.dir/io.c.o\u001b[0m\n",
            "cd /content/metis-5.1.0/build/Linux-x86_64/programs && /usr/bin/cc -DSVNINFO=\\\"\\\" -I/content/metis-5.1.0/GKlib -I/content/metis-5.1.0/include -I/content/metis-5.1.0/programs/../libmetis -DLINUX -D_FILE_OFFSET_BITS=64 -std=c99 -fno-strict-aliasing -fPIC -Wall -pedantic -Wno-unused-but-set-variable -Wno-unused-variable -Wno-unknown-pragmas -DNDEBUG -DNDEBUG2 -DHAVE_EXECINFO_H -DHAVE_GETLINE -O3 -MD -MT programs/CMakeFiles/mpmetis.dir/io.c.o -MF CMakeFiles/mpmetis.dir/io.c.o.d -o CMakeFiles/mpmetis.dir/io.c.o -c /content/metis-5.1.0/programs/io.c\n",
            "[ 86%] \u001b[32mBuilding C object programs/CMakeFiles/mpmetis.dir/stat.c.o\u001b[0m\n",
            "cd /content/metis-5.1.0/build/Linux-x86_64/programs && /usr/bin/cc -DSVNINFO=\\\"\\\" -I/content/metis-5.1.0/GKlib -I/content/metis-5.1.0/include -I/content/metis-5.1.0/programs/../libmetis -DLINUX -D_FILE_OFFSET_BITS=64 -std=c99 -fno-strict-aliasing -fPIC -Wall -pedantic -Wno-unused-but-set-variable -Wno-unused-variable -Wno-unknown-pragmas -DNDEBUG -DNDEBUG2 -DHAVE_EXECINFO_H -DHAVE_GETLINE -O3 -MD -MT programs/CMakeFiles/mpmetis.dir/stat.c.o -MF CMakeFiles/mpmetis.dir/stat.c.o.d -o CMakeFiles/mpmetis.dir/stat.c.o -c /content/metis-5.1.0/programs/stat.c\n",
            "[ 87%] \u001b[32m\u001b[1mLinking C executable mpmetis\u001b[0m\n",
            "cd /content/metis-5.1.0/build/Linux-x86_64/programs && /usr/local/lib/python3.10/dist-packages/cmake/data/bin/cmake -E cmake_link_script CMakeFiles/mpmetis.dir/link.txt --verbose=1\n",
            "/usr/bin/cc  -DLINUX -D_FILE_OFFSET_BITS=64 -std=c99 -fno-strict-aliasing -fPIC -Wall -pedantic -Wno-unused-but-set-variable -Wno-unused-variable -Wno-unknown-pragmas -DNDEBUG -DNDEBUG2 -DHAVE_EXECINFO_H -DHAVE_GETLINE -O3 -rdynamic CMakeFiles/mpmetis.dir/mpmetis.c.o CMakeFiles/mpmetis.dir/cmdline_mpmetis.c.o CMakeFiles/mpmetis.dir/io.c.o CMakeFiles/mpmetis.dir/stat.c.o -o mpmetis   -L/home/karypis/local/lib  -Wl,-rpath,/home/karypis/local/lib:/content/metis-5.1.0/build/Linux-x86_64/libmetis: ../libmetis/libmetis.so -lm \n",
            "make[3]: Leaving directory '/content/metis-5.1.0/build/Linux-x86_64'\n",
            "[ 87%] Built target mpmetis\n",
            "make  -f programs/CMakeFiles/m2gmetis.dir/build.make programs/CMakeFiles/m2gmetis.dir/depend\n",
            "make[3]: Entering directory '/content/metis-5.1.0/build/Linux-x86_64'\n",
            "cd /content/metis-5.1.0/build/Linux-x86_64 && /usr/local/lib/python3.10/dist-packages/cmake/data/bin/cmake -E cmake_depends \"Unix Makefiles\" /content/metis-5.1.0 /content/metis-5.1.0/programs /content/metis-5.1.0/build/Linux-x86_64 /content/metis-5.1.0/build/Linux-x86_64/programs /content/metis-5.1.0/build/Linux-x86_64/programs/CMakeFiles/m2gmetis.dir/DependInfo.cmake --color=\n",
            "make[3]: Leaving directory '/content/metis-5.1.0/build/Linux-x86_64'\n",
            "make  -f programs/CMakeFiles/m2gmetis.dir/build.make programs/CMakeFiles/m2gmetis.dir/build\n",
            "make[3]: Entering directory '/content/metis-5.1.0/build/Linux-x86_64'\n",
            "[ 88%] \u001b[32mBuilding C object programs/CMakeFiles/m2gmetis.dir/m2gmetis.c.o\u001b[0m\n",
            "cd /content/metis-5.1.0/build/Linux-x86_64/programs && /usr/bin/cc -DSVNINFO=\\\"\\\" -I/content/metis-5.1.0/GKlib -I/content/metis-5.1.0/include -I/content/metis-5.1.0/programs/../libmetis -DLINUX -D_FILE_OFFSET_BITS=64 -std=c99 -fno-strict-aliasing -fPIC -Wall -pedantic -Wno-unused-but-set-variable -Wno-unused-variable -Wno-unknown-pragmas -DNDEBUG -DNDEBUG2 -DHAVE_EXECINFO_H -DHAVE_GETLINE -O3 -MD -MT programs/CMakeFiles/m2gmetis.dir/m2gmetis.c.o -MF CMakeFiles/m2gmetis.dir/m2gmetis.c.o.d -o CMakeFiles/m2gmetis.dir/m2gmetis.c.o -c /content/metis-5.1.0/programs/m2gmetis.c\n",
            "[ 89%] \u001b[32mBuilding C object programs/CMakeFiles/m2gmetis.dir/cmdline_m2gmetis.c.o\u001b[0m\n",
            "cd /content/metis-5.1.0/build/Linux-x86_64/programs && /usr/bin/cc -DSVNINFO=\\\"\\\" -I/content/metis-5.1.0/GKlib -I/content/metis-5.1.0/include -I/content/metis-5.1.0/programs/../libmetis -DLINUX -D_FILE_OFFSET_BITS=64 -std=c99 -fno-strict-aliasing -fPIC -Wall -pedantic -Wno-unused-but-set-variable -Wno-unused-variable -Wno-unknown-pragmas -DNDEBUG -DNDEBUG2 -DHAVE_EXECINFO_H -DHAVE_GETLINE -O3 -MD -MT programs/CMakeFiles/m2gmetis.dir/cmdline_m2gmetis.c.o -MF CMakeFiles/m2gmetis.dir/cmdline_m2gmetis.c.o.d -o CMakeFiles/m2gmetis.dir/cmdline_m2gmetis.c.o -c /content/metis-5.1.0/programs/cmdline_m2gmetis.c\n",
            "[ 90%] \u001b[32mBuilding C object programs/CMakeFiles/m2gmetis.dir/io.c.o\u001b[0m\n",
            "cd /content/metis-5.1.0/build/Linux-x86_64/programs && /usr/bin/cc -DSVNINFO=\\\"\\\" -I/content/metis-5.1.0/GKlib -I/content/metis-5.1.0/include -I/content/metis-5.1.0/programs/../libmetis -DLINUX -D_FILE_OFFSET_BITS=64 -std=c99 -fno-strict-aliasing -fPIC -Wall -pedantic -Wno-unused-but-set-variable -Wno-unused-variable -Wno-unknown-pragmas -DNDEBUG -DNDEBUG2 -DHAVE_EXECINFO_H -DHAVE_GETLINE -O3 -MD -MT programs/CMakeFiles/m2gmetis.dir/io.c.o -MF CMakeFiles/m2gmetis.dir/io.c.o.d -o CMakeFiles/m2gmetis.dir/io.c.o -c /content/metis-5.1.0/programs/io.c\n",
            "[ 92%] \u001b[32m\u001b[1mLinking C executable m2gmetis\u001b[0m\n",
            "cd /content/metis-5.1.0/build/Linux-x86_64/programs && /usr/local/lib/python3.10/dist-packages/cmake/data/bin/cmake -E cmake_link_script CMakeFiles/m2gmetis.dir/link.txt --verbose=1\n",
            "/usr/bin/cc  -DLINUX -D_FILE_OFFSET_BITS=64 -std=c99 -fno-strict-aliasing -fPIC -Wall -pedantic -Wno-unused-but-set-variable -Wno-unused-variable -Wno-unknown-pragmas -DNDEBUG -DNDEBUG2 -DHAVE_EXECINFO_H -DHAVE_GETLINE -O3 -rdynamic CMakeFiles/m2gmetis.dir/m2gmetis.c.o CMakeFiles/m2gmetis.dir/cmdline_m2gmetis.c.o CMakeFiles/m2gmetis.dir/io.c.o -o m2gmetis   -L/home/karypis/local/lib  -Wl,-rpath,/home/karypis/local/lib:/content/metis-5.1.0/build/Linux-x86_64/libmetis: ../libmetis/libmetis.so -lm \n",
            "make[3]: Leaving directory '/content/metis-5.1.0/build/Linux-x86_64'\n",
            "[ 92%] Built target m2gmetis\n",
            "make  -f programs/CMakeFiles/graphchk.dir/build.make programs/CMakeFiles/graphchk.dir/depend\n",
            "make[3]: Entering directory '/content/metis-5.1.0/build/Linux-x86_64'\n",
            "cd /content/metis-5.1.0/build/Linux-x86_64 && /usr/local/lib/python3.10/dist-packages/cmake/data/bin/cmake -E cmake_depends \"Unix Makefiles\" /content/metis-5.1.0 /content/metis-5.1.0/programs /content/metis-5.1.0/build/Linux-x86_64 /content/metis-5.1.0/build/Linux-x86_64/programs /content/metis-5.1.0/build/Linux-x86_64/programs/CMakeFiles/graphchk.dir/DependInfo.cmake --color=\n",
            "make[3]: Leaving directory '/content/metis-5.1.0/build/Linux-x86_64'\n",
            "make  -f programs/CMakeFiles/graphchk.dir/build.make programs/CMakeFiles/graphchk.dir/build\n",
            "make[3]: Entering directory '/content/metis-5.1.0/build/Linux-x86_64'\n",
            "[ 93%] \u001b[32mBuilding C object programs/CMakeFiles/graphchk.dir/graphchk.c.o\u001b[0m\n",
            "cd /content/metis-5.1.0/build/Linux-x86_64/programs && /usr/bin/cc -DSVNINFO=\\\"\\\" -I/content/metis-5.1.0/GKlib -I/content/metis-5.1.0/include -I/content/metis-5.1.0/programs/../libmetis -DLINUX -D_FILE_OFFSET_BITS=64 -std=c99 -fno-strict-aliasing -fPIC -Wall -pedantic -Wno-unused-but-set-variable -Wno-unused-variable -Wno-unknown-pragmas -DNDEBUG -DNDEBUG2 -DHAVE_EXECINFO_H -DHAVE_GETLINE -O3 -MD -MT programs/CMakeFiles/graphchk.dir/graphchk.c.o -MF CMakeFiles/graphchk.dir/graphchk.c.o.d -o CMakeFiles/graphchk.dir/graphchk.c.o -c /content/metis-5.1.0/programs/graphchk.c\n",
            "[ 94%] \u001b[32mBuilding C object programs/CMakeFiles/graphchk.dir/io.c.o\u001b[0m\n",
            "cd /content/metis-5.1.0/build/Linux-x86_64/programs && /usr/bin/cc -DSVNINFO=\\\"\\\" -I/content/metis-5.1.0/GKlib -I/content/metis-5.1.0/include -I/content/metis-5.1.0/programs/../libmetis -DLINUX -D_FILE_OFFSET_BITS=64 -std=c99 -fno-strict-aliasing -fPIC -Wall -pedantic -Wno-unused-but-set-variable -Wno-unused-variable -Wno-unknown-pragmas -DNDEBUG -DNDEBUG2 -DHAVE_EXECINFO_H -DHAVE_GETLINE -O3 -MD -MT programs/CMakeFiles/graphchk.dir/io.c.o -MF CMakeFiles/graphchk.dir/io.c.o.d -o CMakeFiles/graphchk.dir/io.c.o -c /content/metis-5.1.0/programs/io.c\n",
            "[ 95%] \u001b[32m\u001b[1mLinking C executable graphchk\u001b[0m\n",
            "cd /content/metis-5.1.0/build/Linux-x86_64/programs && /usr/local/lib/python3.10/dist-packages/cmake/data/bin/cmake -E cmake_link_script CMakeFiles/graphchk.dir/link.txt --verbose=1\n",
            "/usr/bin/cc  -DLINUX -D_FILE_OFFSET_BITS=64 -std=c99 -fno-strict-aliasing -fPIC -Wall -pedantic -Wno-unused-but-set-variable -Wno-unused-variable -Wno-unknown-pragmas -DNDEBUG -DNDEBUG2 -DHAVE_EXECINFO_H -DHAVE_GETLINE -O3 -rdynamic CMakeFiles/graphchk.dir/graphchk.c.o CMakeFiles/graphchk.dir/io.c.o -o graphchk   -L/home/karypis/local/lib  -Wl,-rpath,/home/karypis/local/lib:/content/metis-5.1.0/build/Linux-x86_64/libmetis: ../libmetis/libmetis.so -lm \n",
            "make[3]: Leaving directory '/content/metis-5.1.0/build/Linux-x86_64'\n",
            "[ 95%] Built target graphchk\n",
            "make  -f programs/CMakeFiles/cmpfillin.dir/build.make programs/CMakeFiles/cmpfillin.dir/depend\n",
            "make[3]: Entering directory '/content/metis-5.1.0/build/Linux-x86_64'\n",
            "cd /content/metis-5.1.0/build/Linux-x86_64 && /usr/local/lib/python3.10/dist-packages/cmake/data/bin/cmake -E cmake_depends \"Unix Makefiles\" /content/metis-5.1.0 /content/metis-5.1.0/programs /content/metis-5.1.0/build/Linux-x86_64 /content/metis-5.1.0/build/Linux-x86_64/programs /content/metis-5.1.0/build/Linux-x86_64/programs/CMakeFiles/cmpfillin.dir/DependInfo.cmake --color=\n",
            "make[3]: Leaving directory '/content/metis-5.1.0/build/Linux-x86_64'\n",
            "make  -f programs/CMakeFiles/cmpfillin.dir/build.make programs/CMakeFiles/cmpfillin.dir/build\n",
            "make[3]: Entering directory '/content/metis-5.1.0/build/Linux-x86_64'\n",
            "[ 96%] \u001b[32mBuilding C object programs/CMakeFiles/cmpfillin.dir/cmpfillin.c.o\u001b[0m\n",
            "cd /content/metis-5.1.0/build/Linux-x86_64/programs && /usr/bin/cc -DSVNINFO=\\\"\\\" -I/content/metis-5.1.0/GKlib -I/content/metis-5.1.0/include -I/content/metis-5.1.0/programs/../libmetis -DLINUX -D_FILE_OFFSET_BITS=64 -std=c99 -fno-strict-aliasing -fPIC -Wall -pedantic -Wno-unused-but-set-variable -Wno-unused-variable -Wno-unknown-pragmas -DNDEBUG -DNDEBUG2 -DHAVE_EXECINFO_H -DHAVE_GETLINE -O3 -MD -MT programs/CMakeFiles/cmpfillin.dir/cmpfillin.c.o -MF CMakeFiles/cmpfillin.dir/cmpfillin.c.o.d -o CMakeFiles/cmpfillin.dir/cmpfillin.c.o -c /content/metis-5.1.0/programs/cmpfillin.c\n",
            "[ 97%] \u001b[32mBuilding C object programs/CMakeFiles/cmpfillin.dir/io.c.o\u001b[0m\n",
            "cd /content/metis-5.1.0/build/Linux-x86_64/programs && /usr/bin/cc -DSVNINFO=\\\"\\\" -I/content/metis-5.1.0/GKlib -I/content/metis-5.1.0/include -I/content/metis-5.1.0/programs/../libmetis -DLINUX -D_FILE_OFFSET_BITS=64 -std=c99 -fno-strict-aliasing -fPIC -Wall -pedantic -Wno-unused-but-set-variable -Wno-unused-variable -Wno-unknown-pragmas -DNDEBUG -DNDEBUG2 -DHAVE_EXECINFO_H -DHAVE_GETLINE -O3 -MD -MT programs/CMakeFiles/cmpfillin.dir/io.c.o -MF CMakeFiles/cmpfillin.dir/io.c.o.d -o CMakeFiles/cmpfillin.dir/io.c.o -c /content/metis-5.1.0/programs/io.c\n",
            "[ 98%] \u001b[32mBuilding C object programs/CMakeFiles/cmpfillin.dir/smbfactor.c.o\u001b[0m\n",
            "cd /content/metis-5.1.0/build/Linux-x86_64/programs && /usr/bin/cc -DSVNINFO=\\\"\\\" -I/content/metis-5.1.0/GKlib -I/content/metis-5.1.0/include -I/content/metis-5.1.0/programs/../libmetis -DLINUX -D_FILE_OFFSET_BITS=64 -std=c99 -fno-strict-aliasing -fPIC -Wall -pedantic -Wno-unused-but-set-variable -Wno-unused-variable -Wno-unknown-pragmas -DNDEBUG -DNDEBUG2 -DHAVE_EXECINFO_H -DHAVE_GETLINE -O3 -MD -MT programs/CMakeFiles/cmpfillin.dir/smbfactor.c.o -MF CMakeFiles/cmpfillin.dir/smbfactor.c.o.d -o CMakeFiles/cmpfillin.dir/smbfactor.c.o -c /content/metis-5.1.0/programs/smbfactor.c\n",
            "[100%] \u001b[32m\u001b[1mLinking C executable cmpfillin\u001b[0m\n",
            "cd /content/metis-5.1.0/build/Linux-x86_64/programs && /usr/local/lib/python3.10/dist-packages/cmake/data/bin/cmake -E cmake_link_script CMakeFiles/cmpfillin.dir/link.txt --verbose=1\n",
            "/usr/bin/cc  -DLINUX -D_FILE_OFFSET_BITS=64 -std=c99 -fno-strict-aliasing -fPIC -Wall -pedantic -Wno-unused-but-set-variable -Wno-unused-variable -Wno-unknown-pragmas -DNDEBUG -DNDEBUG2 -DHAVE_EXECINFO_H -DHAVE_GETLINE -O3 -rdynamic CMakeFiles/cmpfillin.dir/cmpfillin.c.o CMakeFiles/cmpfillin.dir/io.c.o CMakeFiles/cmpfillin.dir/smbfactor.c.o -o cmpfillin   -L/home/karypis/local/lib  -Wl,-rpath,/home/karypis/local/lib:/content/metis-5.1.0/build/Linux-x86_64/libmetis: ../libmetis/libmetis.so -lm \n",
            "make[3]: Leaving directory '/content/metis-5.1.0/build/Linux-x86_64'\n",
            "[100%] Built target cmpfillin\n",
            "make[2]: Leaving directory '/content/metis-5.1.0/build/Linux-x86_64'\n",
            "/usr/local/lib/python3.10/dist-packages/cmake/data/bin/cmake -E cmake_progress_start /content/metis-5.1.0/build/Linux-x86_64/CMakeFiles 0\n",
            "make  -f CMakeFiles/Makefile2 preinstall\n",
            "make[2]: Entering directory '/content/metis-5.1.0/build/Linux-x86_64'\n",
            "make[2]: Nothing to be done for 'preinstall'.\n",
            "make[2]: Leaving directory '/content/metis-5.1.0/build/Linux-x86_64'\n",
            "\u001b[36mInstall the project...\u001b[0m\n",
            "/usr/local/lib/python3.10/dist-packages/cmake/data/bin/cmake -P cmake_install.cmake\n",
            "-- Install configuration: \"\"\n",
            "-- Installing: /root/.local/include/metis.h\n",
            "-- Installing: /root/.local/lib/libmetis.so\n",
            "-- Installing: /root/.local/bin/gpmetis\n",
            "-- Set runtime path of \"/root/.local/bin/gpmetis\" to \"\"\n",
            "-- Installing: /root/.local/bin/ndmetis\n",
            "-- Set runtime path of \"/root/.local/bin/ndmetis\" to \"\"\n",
            "-- Installing: /root/.local/bin/mpmetis\n",
            "-- Set runtime path of \"/root/.local/bin/mpmetis\" to \"\"\n",
            "-- Installing: /root/.local/bin/m2gmetis\n",
            "-- Set runtime path of \"/root/.local/bin/m2gmetis\" to \"\"\n",
            "-- Installing: /root/.local/bin/graphchk\n",
            "-- Set runtime path of \"/root/.local/bin/graphchk\" to \"\"\n",
            "-- Installing: /root/.local/bin/cmpfillin\n",
            "-- Set runtime path of \"/root/.local/bin/cmpfillin\" to \"\"\n",
            "make[1]: Leaving directory '/content/metis-5.1.0/build/Linux-x86_64'\n",
            "Looking in indexes: https://pypi.org/simple, https://us-python.pkg.dev/colab-wheels/public/simple/\n",
            "Collecting metis-python\n",
            "  Downloading metis-python-0.1.tar.gz (11 kB)\n",
            "  Preparing metadata (setup.py) ... \u001b[?25l\u001b[?25hdone\n",
            "Requirement already satisfied: networkx in /usr/local/lib/python3.10/dist-packages (from metis-python) (3.1)\n",
            "Building wheels for collected packages: metis-python\n",
            "  Building wheel for metis-python (setup.py) ... \u001b[?25l\u001b[?25hdone\n",
            "  Created wheel for metis-python: filename=metis_python-0.1-py3-none-any.whl size=11166 sha256=b9466529b100003a8f31b110bd39c4f96ca3babb9086cd7b38ddb9c25c3a8d44\n",
            "  Stored in directory: /root/.cache/pip/wheels/49/2c/94/5c30dd51e289dee8d350288854f2b899b4fdb6e36976860e0f\n",
            "Successfully built metis-python\n",
            "Installing collected packages: metis-python\n",
            "Successfully installed metis-python-0.1\n"
          ]
        }
      ],
      "source": [
        "import requests\n",
        "import tarfile\n",
        "  \n",
        "\n",
        "# Download and extract the file\n",
        "url = \"https://src.fedoraproject.org/lookaside/pkgs/metis/metis-5.1.0.tar.gz/5465e67079419a69e0116de24fce58fe//metis-5.1.0.tar.gz\"\n",
        "response = requests.get(url, stream=True)\n",
        "file = tarfile.open(fileobj=response.raw, mode=\"r|gz\")\n",
        "file.extractall(path=\".\")\n",
        "\n",
        "# Change working directory\n",
        "%cd metis-5.1.0\n",
        "\n",
        "!make config shared=1 prefix=~/.local/\n",
        "!make install\n",
        "!cp ~/.local/lib/libmetis.so /usr/lib/libmetis.so\n",
        "!export METIS_DLL=/usr/lib/libmetis.so\n",
        "!pip3 install metis-python\n",
        "\n",
        "import metispy as metis"
      ]
    },
    {
      "cell_type": "code",
      "execution_count": 7,
      "metadata": {
        "id": "mq005qTiCArN"
      },
      "outputs": [],
      "source": [
        "import numpy as np\n",
        "from keras.datasets import mnist\n",
        "from sklearn.model_selection import train_test_split\n",
        "from sklearn.preprocessing import StandardScaler\n",
        "import matplotlib.pyplot as plt\n",
        "import seaborn as sns\n",
        "import pandas as pd\n",
        "import forcelayout as fl"
      ]
    },
    {
      "cell_type": "code",
      "execution_count": 8,
      "metadata": {
        "id": "RUpaxmoiHz71"
      },
      "outputs": [],
      "source": [
        "import umap.distances as distances\n",
        "import umap.umap_ as umap\n",
        "import networkx as nkx\n",
        "import umato\n",
        "from pyDRMetrics.pyDRMetrics import *"
      ]
    },
    {
      "cell_type": "markdown",
      "metadata": {
        "id": "pl0bcfq8tq0V"
      },
      "source": [
        "## Penguins"
      ]
    },
    {
      "cell_type": "code",
      "execution_count": 9,
      "metadata": {
        "id": "MwLtvQBwCRAo"
      },
      "outputs": [],
      "source": [
        "penguin_data = pd.read_csv(\"https://raw.githubusercontent.com/allisonhorst/palmerpenguins/c19a904462482430170bfe2c718775ddb7dbb885/inst/extdata/penguins.csv\")"
      ]
    },
    {
      "cell_type": "code",
      "execution_count": 10,
      "metadata": {
        "colab": {
          "base_uri": "https://localhost:8080/",
          "height": 206
        },
        "id": "MMu69fUrCSop",
        "outputId": "0960aa63-44e6-4e0f-fba4-ccb7a612640d"
      },
      "outputs": [
        {
          "output_type": "execute_result",
          "data": {
            "text/plain": [
              "  species     island  bill_length_mm  bill_depth_mm  flipper_length_mm  \\\n",
              "0  Adelie  Torgersen            39.1           18.7              181.0   \n",
              "1  Adelie  Torgersen            39.5           17.4              186.0   \n",
              "2  Adelie  Torgersen            40.3           18.0              195.0   \n",
              "4  Adelie  Torgersen            36.7           19.3              193.0   \n",
              "5  Adelie  Torgersen            39.3           20.6              190.0   \n",
              "\n",
              "   body_mass_g     sex  year  \n",
              "0       3750.0    male  2007  \n",
              "1       3800.0  female  2007  \n",
              "2       3250.0  female  2007  \n",
              "4       3450.0  female  2007  \n",
              "5       3650.0    male  2007  "
            ],
            "text/html": [
              "\n",
              "  <div id=\"df-d2d1bd46-e7b6-4331-8b27-f216727e2eb9\">\n",
              "    <div class=\"colab-df-container\">\n",
              "      <div>\n",
              "<style scoped>\n",
              "    .dataframe tbody tr th:only-of-type {\n",
              "        vertical-align: middle;\n",
              "    }\n",
              "\n",
              "    .dataframe tbody tr th {\n",
              "        vertical-align: top;\n",
              "    }\n",
              "\n",
              "    .dataframe thead th {\n",
              "        text-align: right;\n",
              "    }\n",
              "</style>\n",
              "<table border=\"1\" class=\"dataframe\">\n",
              "  <thead>\n",
              "    <tr style=\"text-align: right;\">\n",
              "      <th></th>\n",
              "      <th>species</th>\n",
              "      <th>island</th>\n",
              "      <th>bill_length_mm</th>\n",
              "      <th>bill_depth_mm</th>\n",
              "      <th>flipper_length_mm</th>\n",
              "      <th>body_mass_g</th>\n",
              "      <th>sex</th>\n",
              "      <th>year</th>\n",
              "    </tr>\n",
              "  </thead>\n",
              "  <tbody>\n",
              "    <tr>\n",
              "      <th>0</th>\n",
              "      <td>Adelie</td>\n",
              "      <td>Torgersen</td>\n",
              "      <td>39.1</td>\n",
              "      <td>18.7</td>\n",
              "      <td>181.0</td>\n",
              "      <td>3750.0</td>\n",
              "      <td>male</td>\n",
              "      <td>2007</td>\n",
              "    </tr>\n",
              "    <tr>\n",
              "      <th>1</th>\n",
              "      <td>Adelie</td>\n",
              "      <td>Torgersen</td>\n",
              "      <td>39.5</td>\n",
              "      <td>17.4</td>\n",
              "      <td>186.0</td>\n",
              "      <td>3800.0</td>\n",
              "      <td>female</td>\n",
              "      <td>2007</td>\n",
              "    </tr>\n",
              "    <tr>\n",
              "      <th>2</th>\n",
              "      <td>Adelie</td>\n",
              "      <td>Torgersen</td>\n",
              "      <td>40.3</td>\n",
              "      <td>18.0</td>\n",
              "      <td>195.0</td>\n",
              "      <td>3250.0</td>\n",
              "      <td>female</td>\n",
              "      <td>2007</td>\n",
              "    </tr>\n",
              "    <tr>\n",
              "      <th>4</th>\n",
              "      <td>Adelie</td>\n",
              "      <td>Torgersen</td>\n",
              "      <td>36.7</td>\n",
              "      <td>19.3</td>\n",
              "      <td>193.0</td>\n",
              "      <td>3450.0</td>\n",
              "      <td>female</td>\n",
              "      <td>2007</td>\n",
              "    </tr>\n",
              "    <tr>\n",
              "      <th>5</th>\n",
              "      <td>Adelie</td>\n",
              "      <td>Torgersen</td>\n",
              "      <td>39.3</td>\n",
              "      <td>20.6</td>\n",
              "      <td>190.0</td>\n",
              "      <td>3650.0</td>\n",
              "      <td>male</td>\n",
              "      <td>2007</td>\n",
              "    </tr>\n",
              "  </tbody>\n",
              "</table>\n",
              "</div>\n",
              "      <button class=\"colab-df-convert\" onclick=\"convertToInteractive('df-d2d1bd46-e7b6-4331-8b27-f216727e2eb9')\"\n",
              "              title=\"Convert this dataframe to an interactive table.\"\n",
              "              style=\"display:none;\">\n",
              "        \n",
              "  <svg xmlns=\"http://www.w3.org/2000/svg\" height=\"24px\"viewBox=\"0 0 24 24\"\n",
              "       width=\"24px\">\n",
              "    <path d=\"M0 0h24v24H0V0z\" fill=\"none\"/>\n",
              "    <path d=\"M18.56 5.44l.94 2.06.94-2.06 2.06-.94-2.06-.94-.94-2.06-.94 2.06-2.06.94zm-11 1L8.5 8.5l.94-2.06 2.06-.94-2.06-.94L8.5 2.5l-.94 2.06-2.06.94zm10 10l.94 2.06.94-2.06 2.06-.94-2.06-.94-.94-2.06-.94 2.06-2.06.94z\"/><path d=\"M17.41 7.96l-1.37-1.37c-.4-.4-.92-.59-1.43-.59-.52 0-1.04.2-1.43.59L10.3 9.45l-7.72 7.72c-.78.78-.78 2.05 0 2.83L4 21.41c.39.39.9.59 1.41.59.51 0 1.02-.2 1.41-.59l7.78-7.78 2.81-2.81c.8-.78.8-2.07 0-2.86zM5.41 20L4 18.59l7.72-7.72 1.47 1.35L5.41 20z\"/>\n",
              "  </svg>\n",
              "      </button>\n",
              "      \n",
              "  <style>\n",
              "    .colab-df-container {\n",
              "      display:flex;\n",
              "      flex-wrap:wrap;\n",
              "      gap: 12px;\n",
              "    }\n",
              "\n",
              "    .colab-df-convert {\n",
              "      background-color: #E8F0FE;\n",
              "      border: none;\n",
              "      border-radius: 50%;\n",
              "      cursor: pointer;\n",
              "      display: none;\n",
              "      fill: #1967D2;\n",
              "      height: 32px;\n",
              "      padding: 0 0 0 0;\n",
              "      width: 32px;\n",
              "    }\n",
              "\n",
              "    .colab-df-convert:hover {\n",
              "      background-color: #E2EBFA;\n",
              "      box-shadow: 0px 1px 2px rgba(60, 64, 67, 0.3), 0px 1px 3px 1px rgba(60, 64, 67, 0.15);\n",
              "      fill: #174EA6;\n",
              "    }\n",
              "\n",
              "    [theme=dark] .colab-df-convert {\n",
              "      background-color: #3B4455;\n",
              "      fill: #D2E3FC;\n",
              "    }\n",
              "\n",
              "    [theme=dark] .colab-df-convert:hover {\n",
              "      background-color: #434B5C;\n",
              "      box-shadow: 0px 1px 3px 1px rgba(0, 0, 0, 0.15);\n",
              "      filter: drop-shadow(0px 1px 2px rgba(0, 0, 0, 0.3));\n",
              "      fill: #FFFFFF;\n",
              "    }\n",
              "  </style>\n",
              "\n",
              "      <script>\n",
              "        const buttonEl =\n",
              "          document.querySelector('#df-d2d1bd46-e7b6-4331-8b27-f216727e2eb9 button.colab-df-convert');\n",
              "        buttonEl.style.display =\n",
              "          google.colab.kernel.accessAllowed ? 'block' : 'none';\n",
              "\n",
              "        async function convertToInteractive(key) {\n",
              "          const element = document.querySelector('#df-d2d1bd46-e7b6-4331-8b27-f216727e2eb9');\n",
              "          const dataTable =\n",
              "            await google.colab.kernel.invokeFunction('convertToInteractive',\n",
              "                                                     [key], {});\n",
              "          if (!dataTable) return;\n",
              "\n",
              "          const docLinkHtml = 'Like what you see? Visit the ' +\n",
              "            '<a target=\"_blank\" href=https://colab.research.google.com/notebooks/data_table.ipynb>data table notebook</a>'\n",
              "            + ' to learn more about interactive tables.';\n",
              "          element.innerHTML = '';\n",
              "          dataTable['output_type'] = 'display_data';\n",
              "          await google.colab.output.renderOutput(dataTable, element);\n",
              "          const docLink = document.createElement('div');\n",
              "          docLink.innerHTML = docLinkHtml;\n",
              "          element.appendChild(docLink);\n",
              "        }\n",
              "      </script>\n",
              "    </div>\n",
              "  </div>\n",
              "  "
            ]
          },
          "metadata": {},
          "execution_count": 10
        }
      ],
      "source": [
        "penguin_data = penguin_data.dropna()\n",
        "penguin_data.head()"
      ]
    },
    {
      "cell_type": "code",
      "execution_count": 11,
      "metadata": {
        "id": "OOxA6KCiIHR1"
      },
      "outputs": [],
      "source": [
        "data_ = penguin_data[\n",
        "    [\n",
        "        \"bill_length_mm\",\n",
        "        \"bill_depth_mm\",\n",
        "        \"flipper_length_mm\",\n",
        "        \"body_mass_g\",\n",
        "    ]\n",
        "].values\n",
        "data_ = StandardScaler().fit_transform(data_)"
      ]
    },
    {
      "cell_type": "code",
      "execution_count": 12,
      "metadata": {
        "colab": {
          "base_uri": "https://localhost:8080/"
        },
        "id": "furbln-EIicZ",
        "outputId": "9239b32a-1147-44fb-c21c-eeb56dbde9ad"
      },
      "outputs": [
        {
          "output_type": "execute_result",
          "data": {
            "text/plain": [
              "(333, 4)"
            ]
          },
          "metadata": {},
          "execution_count": 12
        }
      ],
      "source": [
        "data_.shape"
      ]
    },
    {
      "cell_type": "markdown",
      "metadata": {
        "id": "F3pxbse0ty2f"
      },
      "source": [
        "## MNIST"
      ]
    },
    {
      "cell_type": "code",
      "execution_count": null,
      "metadata": {
        "id": "5QFXrj1wPxO5"
      },
      "outputs": [],
      "source": [
        "(x_train,y_train),(x_test,y_test)  = mnist.load_data()\n",
        "# data_ = digits.data\n",
        "data_ = x_train[50000:60000]\n",
        "data_ = [i.flatten() for i in data_]"
      ]
    },
    {
      "cell_type": "code",
      "execution_count": null,
      "metadata": {
        "colab": {
          "base_uri": "https://localhost:8080/"
        },
        "id": "LoopgWKpKke1",
        "outputId": "6b89f809-6f84-45ed-93be-390a89fae14e"
      },
      "outputs": [
        {
          "output_type": "execute_result",
          "data": {
            "text/plain": [
              "(10000, 784)"
            ]
          },
          "metadata": {},
          "execution_count": 254
        }
      ],
      "source": [
        "np.array(data_).shape"
      ]
    },
    {
      "cell_type": "markdown",
      "metadata": {
        "id": "DkauVZJlClv8"
      },
      "source": [
        "#Fashion MNIST"
      ]
    },
    {
      "cell_type": "code",
      "execution_count": null,
      "metadata": {
        "id": "Ju2xqORDCogb",
        "colab": {
          "base_uri": "https://localhost:8080/"
        },
        "outputId": "614f47d2-a374-4b1e-e62a-3722eab09aff"
      },
      "outputs": [
        {
          "output_type": "stream",
          "name": "stdout",
          "text": [
            "Downloading data from https://storage.googleapis.com/tensorflow/tf-keras-datasets/train-labels-idx1-ubyte.gz\n",
            "29515/29515 [==============================] - 0s 0us/step\n",
            "Downloading data from https://storage.googleapis.com/tensorflow/tf-keras-datasets/train-images-idx3-ubyte.gz\n",
            "26421880/26421880 [==============================] - 0s 0us/step\n",
            "Downloading data from https://storage.googleapis.com/tensorflow/tf-keras-datasets/t10k-labels-idx1-ubyte.gz\n",
            "5148/5148 [==============================] - 0s 0us/step\n",
            "Downloading data from https://storage.googleapis.com/tensorflow/tf-keras-datasets/t10k-images-idx3-ubyte.gz\n",
            "4422102/4422102 [==============================] - 0s 0us/step\n"
          ]
        }
      ],
      "source": [
        "from tensorflow import keras\n",
        "\n",
        "# Load the Fashion MNIST dataset from the Keras API\n",
        "(x_train, y_train), _ = keras.datasets.fashion_mnist.load_data()\n"
      ]
    },
    {
      "cell_type": "code",
      "execution_count": null,
      "metadata": {
        "id": "iIDU_qFQC-c_"
      },
      "outputs": [],
      "source": [
        "n_samples = x_train.shape[0]\n",
        "x_train = x_train.reshape(n_samples, -1)"
      ]
    },
    {
      "cell_type": "code",
      "execution_count": null,
      "metadata": {
        "id": "9SBUgCupDAhT"
      },
      "outputs": [],
      "source": [
        "from sklearn.preprocessing import StandardScaler\n",
        "\n",
        "scaler = StandardScaler()\n",
        "x_train = scaler.fit_transform(x_train)"
      ]
    },
    {
      "cell_type": "code",
      "execution_count": null,
      "metadata": {
        "id": "CfDfrpI7DDFb"
      },
      "outputs": [],
      "source": [
        "data_ = x_train"
      ]
    },
    {
      "cell_type": "code",
      "execution_count": null,
      "metadata": {
        "id": "pVVrdcl_JwEP"
      },
      "outputs": [],
      "source": [
        "data_=data_[10000:20000]"
      ]
    },
    {
      "cell_type": "code",
      "execution_count": null,
      "metadata": {
        "colab": {
          "base_uri": "https://localhost:8080/"
        },
        "id": "Wbta6_A7LDl-",
        "outputId": "9a70b079-fa18-42d4-da43-49d6c8fd7ac2"
      },
      "outputs": [
        {
          "output_type": "execute_result",
          "data": {
            "text/plain": [
              "(10000, 784)"
            ]
          },
          "metadata": {},
          "execution_count": 13
        }
      ],
      "source": [
        "data_.shape"
      ]
    },
    {
      "cell_type": "markdown",
      "metadata": {
        "id": "sZXpvZ0at49Q"
      },
      "source": [
        "# Iris"
      ]
    },
    {
      "cell_type": "code",
      "execution_count": null,
      "metadata": {
        "id": "LwTuXY37wE5a"
      },
      "outputs": [],
      "source": [
        "dataset = pd.read_csv('https://gist.githubusercontent.com/curran/a08a1080b88344b0c8a7/raw/0e7a9b0a5d22642a06d3d5b9bcbad9890c8ee534/iris.csv')"
      ]
    },
    {
      "cell_type": "code",
      "execution_count": null,
      "metadata": {
        "colab": {
          "base_uri": "https://localhost:8080/"
        },
        "id": "IhFmFA47wxee",
        "outputId": "f30d153b-6c2e-42eb-8fda-6e35cc156334"
      },
      "outputs": [
        {
          "output_type": "execute_result",
          "data": {
            "text/plain": [
              "   sepal_length  sepal_width  petal_length  petal_width species\n",
              "0           5.1          3.5           1.4          0.2  setosa\n",
              "1           4.9          3.0           1.4          0.2  setosa\n",
              "2           4.7          3.2           1.3          0.2  setosa\n",
              "3           4.6          3.1           1.5          0.2  setosa\n",
              "4           5.0          3.6           1.4          0.2  setosa"
            ],
            "text/html": [
              "\n",
              "  <div id=\"df-cd61573f-e714-4f64-a8d5-48a5a87799d3\">\n",
              "    <div class=\"colab-df-container\">\n",
              "      <div>\n",
              "<style scoped>\n",
              "    .dataframe tbody tr th:only-of-type {\n",
              "        vertical-align: middle;\n",
              "    }\n",
              "\n",
              "    .dataframe tbody tr th {\n",
              "        vertical-align: top;\n",
              "    }\n",
              "\n",
              "    .dataframe thead th {\n",
              "        text-align: right;\n",
              "    }\n",
              "</style>\n",
              "<table border=\"1\" class=\"dataframe\">\n",
              "  <thead>\n",
              "    <tr style=\"text-align: right;\">\n",
              "      <th></th>\n",
              "      <th>sepal_length</th>\n",
              "      <th>sepal_width</th>\n",
              "      <th>petal_length</th>\n",
              "      <th>petal_width</th>\n",
              "      <th>species</th>\n",
              "    </tr>\n",
              "  </thead>\n",
              "  <tbody>\n",
              "    <tr>\n",
              "      <th>0</th>\n",
              "      <td>5.1</td>\n",
              "      <td>3.5</td>\n",
              "      <td>1.4</td>\n",
              "      <td>0.2</td>\n",
              "      <td>setosa</td>\n",
              "    </tr>\n",
              "    <tr>\n",
              "      <th>1</th>\n",
              "      <td>4.9</td>\n",
              "      <td>3.0</td>\n",
              "      <td>1.4</td>\n",
              "      <td>0.2</td>\n",
              "      <td>setosa</td>\n",
              "    </tr>\n",
              "    <tr>\n",
              "      <th>2</th>\n",
              "      <td>4.7</td>\n",
              "      <td>3.2</td>\n",
              "      <td>1.3</td>\n",
              "      <td>0.2</td>\n",
              "      <td>setosa</td>\n",
              "    </tr>\n",
              "    <tr>\n",
              "      <th>3</th>\n",
              "      <td>4.6</td>\n",
              "      <td>3.1</td>\n",
              "      <td>1.5</td>\n",
              "      <td>0.2</td>\n",
              "      <td>setosa</td>\n",
              "    </tr>\n",
              "    <tr>\n",
              "      <th>4</th>\n",
              "      <td>5.0</td>\n",
              "      <td>3.6</td>\n",
              "      <td>1.4</td>\n",
              "      <td>0.2</td>\n",
              "      <td>setosa</td>\n",
              "    </tr>\n",
              "  </tbody>\n",
              "</table>\n",
              "</div>\n",
              "      <button class=\"colab-df-convert\" onclick=\"convertToInteractive('df-cd61573f-e714-4f64-a8d5-48a5a87799d3')\"\n",
              "              title=\"Convert this dataframe to an interactive table.\"\n",
              "              style=\"display:none;\">\n",
              "        \n",
              "  <svg xmlns=\"http://www.w3.org/2000/svg\" height=\"24px\"viewBox=\"0 0 24 24\"\n",
              "       width=\"24px\">\n",
              "    <path d=\"M0 0h24v24H0V0z\" fill=\"none\"/>\n",
              "    <path d=\"M18.56 5.44l.94 2.06.94-2.06 2.06-.94-2.06-.94-.94-2.06-.94 2.06-2.06.94zm-11 1L8.5 8.5l.94-2.06 2.06-.94-2.06-.94L8.5 2.5l-.94 2.06-2.06.94zm10 10l.94 2.06.94-2.06 2.06-.94-2.06-.94-.94-2.06-.94 2.06-2.06.94z\"/><path d=\"M17.41 7.96l-1.37-1.37c-.4-.4-.92-.59-1.43-.59-.52 0-1.04.2-1.43.59L10.3 9.45l-7.72 7.72c-.78.78-.78 2.05 0 2.83L4 21.41c.39.39.9.59 1.41.59.51 0 1.02-.2 1.41-.59l7.78-7.78 2.81-2.81c.8-.78.8-2.07 0-2.86zM5.41 20L4 18.59l7.72-7.72 1.47 1.35L5.41 20z\"/>\n",
              "  </svg>\n",
              "      </button>\n",
              "      \n",
              "  <style>\n",
              "    .colab-df-container {\n",
              "      display:flex;\n",
              "      flex-wrap:wrap;\n",
              "      gap: 12px;\n",
              "    }\n",
              "\n",
              "    .colab-df-convert {\n",
              "      background-color: #E8F0FE;\n",
              "      border: none;\n",
              "      border-radius: 50%;\n",
              "      cursor: pointer;\n",
              "      display: none;\n",
              "      fill: #1967D2;\n",
              "      height: 32px;\n",
              "      padding: 0 0 0 0;\n",
              "      width: 32px;\n",
              "    }\n",
              "\n",
              "    .colab-df-convert:hover {\n",
              "      background-color: #E2EBFA;\n",
              "      box-shadow: 0px 1px 2px rgba(60, 64, 67, 0.3), 0px 1px 3px 1px rgba(60, 64, 67, 0.15);\n",
              "      fill: #174EA6;\n",
              "    }\n",
              "\n",
              "    [theme=dark] .colab-df-convert {\n",
              "      background-color: #3B4455;\n",
              "      fill: #D2E3FC;\n",
              "    }\n",
              "\n",
              "    [theme=dark] .colab-df-convert:hover {\n",
              "      background-color: #434B5C;\n",
              "      box-shadow: 0px 1px 3px 1px rgba(0, 0, 0, 0.15);\n",
              "      filter: drop-shadow(0px 1px 2px rgba(0, 0, 0, 0.3));\n",
              "      fill: #FFFFFF;\n",
              "    }\n",
              "  </style>\n",
              "\n",
              "      <script>\n",
              "        const buttonEl =\n",
              "          document.querySelector('#df-cd61573f-e714-4f64-a8d5-48a5a87799d3 button.colab-df-convert');\n",
              "        buttonEl.style.display =\n",
              "          google.colab.kernel.accessAllowed ? 'block' : 'none';\n",
              "\n",
              "        async function convertToInteractive(key) {\n",
              "          const element = document.querySelector('#df-cd61573f-e714-4f64-a8d5-48a5a87799d3');\n",
              "          const dataTable =\n",
              "            await google.colab.kernel.invokeFunction('convertToInteractive',\n",
              "                                                     [key], {});\n",
              "          if (!dataTable) return;\n",
              "\n",
              "          const docLinkHtml = 'Like what you see? Visit the ' +\n",
              "            '<a target=\"_blank\" href=https://colab.research.google.com/notebooks/data_table.ipynb>data table notebook</a>'\n",
              "            + ' to learn more about interactive tables.';\n",
              "          element.innerHTML = '';\n",
              "          dataTable['output_type'] = 'display_data';\n",
              "          await google.colab.output.renderOutput(dataTable, element);\n",
              "          const docLink = document.createElement('div');\n",
              "          docLink.innerHTML = docLinkHtml;\n",
              "          element.appendChild(docLink);\n",
              "        }\n",
              "      </script>\n",
              "    </div>\n",
              "  </div>\n",
              "  "
            ]
          },
          "metadata": {},
          "execution_count": 46
        }
      ],
      "source": [
        "dataset.head()"
      ]
    },
    {
      "cell_type": "code",
      "execution_count": null,
      "metadata": {
        "id": "bQAepLatwa8E"
      },
      "outputs": [],
      "source": [
        "data_ = dataset[\n",
        "    [\n",
        "        \"sepal_length\",\n",
        "        \"sepal_width\",\n",
        "        \"petal_length\",\n",
        "        \"petal_width\",\n",
        "    ]\n",
        "].values"
      ]
    },
    {
      "cell_type": "code",
      "execution_count": null,
      "metadata": {
        "colab": {
          "base_uri": "https://localhost:8080/"
        },
        "id": "w1cbngr4KX18",
        "outputId": "70c77b94-db38-4735-a290-f8ece7d14169"
      },
      "outputs": [
        {
          "output_type": "execute_result",
          "data": {
            "text/plain": [
              "(150, 4)"
            ]
          },
          "metadata": {},
          "execution_count": 48
        }
      ],
      "source": [
        "data_.shape"
      ]
    },
    {
      "cell_type": "markdown",
      "metadata": {
        "id": "KWKv912Y-AIO"
      },
      "source": [
        "# Wine"
      ]
    },
    {
      "cell_type": "code",
      "execution_count": null,
      "metadata": {
        "id": "A2u0MCls-AIf"
      },
      "outputs": [],
      "source": [
        "dataset = pd.read_csv('https://archive.ics.uci.edu/ml/machine-learning-databases/wine-quality/winequality-white.csv', sep=';')"
      ]
    },
    {
      "cell_type": "code",
      "execution_count": null,
      "metadata": {
        "colab": {
          "base_uri": "https://localhost:8080/"
        },
        "id": "YL2l64ik-AIg",
        "outputId": "7ce273c5-8387-413c-c5b8-9f84146efc26"
      },
      "outputs": [
        {
          "output_type": "execute_result",
          "data": {
            "text/plain": [
              "   fixed acidity  volatile acidity  citric acid  residual sugar  chlorides  \\\n",
              "0            7.0              0.27         0.36            20.7      0.045   \n",
              "1            6.3              0.30         0.34             1.6      0.049   \n",
              "2            8.1              0.28         0.40             6.9      0.050   \n",
              "3            7.2              0.23         0.32             8.5      0.058   \n",
              "4            7.2              0.23         0.32             8.5      0.058   \n",
              "\n",
              "   free sulfur dioxide  total sulfur dioxide  density    pH  sulphates  \\\n",
              "0                 45.0                 170.0   1.0010  3.00       0.45   \n",
              "1                 14.0                 132.0   0.9940  3.30       0.49   \n",
              "2                 30.0                  97.0   0.9951  3.26       0.44   \n",
              "3                 47.0                 186.0   0.9956  3.19       0.40   \n",
              "4                 47.0                 186.0   0.9956  3.19       0.40   \n",
              "\n",
              "   alcohol  quality  \n",
              "0      8.8        6  \n",
              "1      9.5        6  \n",
              "2     10.1        6  \n",
              "3      9.9        6  \n",
              "4      9.9        6  "
            ],
            "text/html": [
              "\n",
              "  <div id=\"df-20ced85a-722a-4e29-b197-86120b39bb0a\">\n",
              "    <div class=\"colab-df-container\">\n",
              "      <div>\n",
              "<style scoped>\n",
              "    .dataframe tbody tr th:only-of-type {\n",
              "        vertical-align: middle;\n",
              "    }\n",
              "\n",
              "    .dataframe tbody tr th {\n",
              "        vertical-align: top;\n",
              "    }\n",
              "\n",
              "    .dataframe thead th {\n",
              "        text-align: right;\n",
              "    }\n",
              "</style>\n",
              "<table border=\"1\" class=\"dataframe\">\n",
              "  <thead>\n",
              "    <tr style=\"text-align: right;\">\n",
              "      <th></th>\n",
              "      <th>fixed acidity</th>\n",
              "      <th>volatile acidity</th>\n",
              "      <th>citric acid</th>\n",
              "      <th>residual sugar</th>\n",
              "      <th>chlorides</th>\n",
              "      <th>free sulfur dioxide</th>\n",
              "      <th>total sulfur dioxide</th>\n",
              "      <th>density</th>\n",
              "      <th>pH</th>\n",
              "      <th>sulphates</th>\n",
              "      <th>alcohol</th>\n",
              "      <th>quality</th>\n",
              "    </tr>\n",
              "  </thead>\n",
              "  <tbody>\n",
              "    <tr>\n",
              "      <th>0</th>\n",
              "      <td>7.0</td>\n",
              "      <td>0.27</td>\n",
              "      <td>0.36</td>\n",
              "      <td>20.7</td>\n",
              "      <td>0.045</td>\n",
              "      <td>45.0</td>\n",
              "      <td>170.0</td>\n",
              "      <td>1.0010</td>\n",
              "      <td>3.00</td>\n",
              "      <td>0.45</td>\n",
              "      <td>8.8</td>\n",
              "      <td>6</td>\n",
              "    </tr>\n",
              "    <tr>\n",
              "      <th>1</th>\n",
              "      <td>6.3</td>\n",
              "      <td>0.30</td>\n",
              "      <td>0.34</td>\n",
              "      <td>1.6</td>\n",
              "      <td>0.049</td>\n",
              "      <td>14.0</td>\n",
              "      <td>132.0</td>\n",
              "      <td>0.9940</td>\n",
              "      <td>3.30</td>\n",
              "      <td>0.49</td>\n",
              "      <td>9.5</td>\n",
              "      <td>6</td>\n",
              "    </tr>\n",
              "    <tr>\n",
              "      <th>2</th>\n",
              "      <td>8.1</td>\n",
              "      <td>0.28</td>\n",
              "      <td>0.40</td>\n",
              "      <td>6.9</td>\n",
              "      <td>0.050</td>\n",
              "      <td>30.0</td>\n",
              "      <td>97.0</td>\n",
              "      <td>0.9951</td>\n",
              "      <td>3.26</td>\n",
              "      <td>0.44</td>\n",
              "      <td>10.1</td>\n",
              "      <td>6</td>\n",
              "    </tr>\n",
              "    <tr>\n",
              "      <th>3</th>\n",
              "      <td>7.2</td>\n",
              "      <td>0.23</td>\n",
              "      <td>0.32</td>\n",
              "      <td>8.5</td>\n",
              "      <td>0.058</td>\n",
              "      <td>47.0</td>\n",
              "      <td>186.0</td>\n",
              "      <td>0.9956</td>\n",
              "      <td>3.19</td>\n",
              "      <td>0.40</td>\n",
              "      <td>9.9</td>\n",
              "      <td>6</td>\n",
              "    </tr>\n",
              "    <tr>\n",
              "      <th>4</th>\n",
              "      <td>7.2</td>\n",
              "      <td>0.23</td>\n",
              "      <td>0.32</td>\n",
              "      <td>8.5</td>\n",
              "      <td>0.058</td>\n",
              "      <td>47.0</td>\n",
              "      <td>186.0</td>\n",
              "      <td>0.9956</td>\n",
              "      <td>3.19</td>\n",
              "      <td>0.40</td>\n",
              "      <td>9.9</td>\n",
              "      <td>6</td>\n",
              "    </tr>\n",
              "  </tbody>\n",
              "</table>\n",
              "</div>\n",
              "      <button class=\"colab-df-convert\" onclick=\"convertToInteractive('df-20ced85a-722a-4e29-b197-86120b39bb0a')\"\n",
              "              title=\"Convert this dataframe to an interactive table.\"\n",
              "              style=\"display:none;\">\n",
              "        \n",
              "  <svg xmlns=\"http://www.w3.org/2000/svg\" height=\"24px\"viewBox=\"0 0 24 24\"\n",
              "       width=\"24px\">\n",
              "    <path d=\"M0 0h24v24H0V0z\" fill=\"none\"/>\n",
              "    <path d=\"M18.56 5.44l.94 2.06.94-2.06 2.06-.94-2.06-.94-.94-2.06-.94 2.06-2.06.94zm-11 1L8.5 8.5l.94-2.06 2.06-.94-2.06-.94L8.5 2.5l-.94 2.06-2.06.94zm10 10l.94 2.06.94-2.06 2.06-.94-2.06-.94-.94-2.06-.94 2.06-2.06.94z\"/><path d=\"M17.41 7.96l-1.37-1.37c-.4-.4-.92-.59-1.43-.59-.52 0-1.04.2-1.43.59L10.3 9.45l-7.72 7.72c-.78.78-.78 2.05 0 2.83L4 21.41c.39.39.9.59 1.41.59.51 0 1.02-.2 1.41-.59l7.78-7.78 2.81-2.81c.8-.78.8-2.07 0-2.86zM5.41 20L4 18.59l7.72-7.72 1.47 1.35L5.41 20z\"/>\n",
              "  </svg>\n",
              "      </button>\n",
              "      \n",
              "  <style>\n",
              "    .colab-df-container {\n",
              "      display:flex;\n",
              "      flex-wrap:wrap;\n",
              "      gap: 12px;\n",
              "    }\n",
              "\n",
              "    .colab-df-convert {\n",
              "      background-color: #E8F0FE;\n",
              "      border: none;\n",
              "      border-radius: 50%;\n",
              "      cursor: pointer;\n",
              "      display: none;\n",
              "      fill: #1967D2;\n",
              "      height: 32px;\n",
              "      padding: 0 0 0 0;\n",
              "      width: 32px;\n",
              "    }\n",
              "\n",
              "    .colab-df-convert:hover {\n",
              "      background-color: #E2EBFA;\n",
              "      box-shadow: 0px 1px 2px rgba(60, 64, 67, 0.3), 0px 1px 3px 1px rgba(60, 64, 67, 0.15);\n",
              "      fill: #174EA6;\n",
              "    }\n",
              "\n",
              "    [theme=dark] .colab-df-convert {\n",
              "      background-color: #3B4455;\n",
              "      fill: #D2E3FC;\n",
              "    }\n",
              "\n",
              "    [theme=dark] .colab-df-convert:hover {\n",
              "      background-color: #434B5C;\n",
              "      box-shadow: 0px 1px 3px 1px rgba(0, 0, 0, 0.15);\n",
              "      filter: drop-shadow(0px 1px 2px rgba(0, 0, 0, 0.3));\n",
              "      fill: #FFFFFF;\n",
              "    }\n",
              "  </style>\n",
              "\n",
              "      <script>\n",
              "        const buttonEl =\n",
              "          document.querySelector('#df-20ced85a-722a-4e29-b197-86120b39bb0a button.colab-df-convert');\n",
              "        buttonEl.style.display =\n",
              "          google.colab.kernel.accessAllowed ? 'block' : 'none';\n",
              "\n",
              "        async function convertToInteractive(key) {\n",
              "          const element = document.querySelector('#df-20ced85a-722a-4e29-b197-86120b39bb0a');\n",
              "          const dataTable =\n",
              "            await google.colab.kernel.invokeFunction('convertToInteractive',\n",
              "                                                     [key], {});\n",
              "          if (!dataTable) return;\n",
              "\n",
              "          const docLinkHtml = 'Like what you see? Visit the ' +\n",
              "            '<a target=\"_blank\" href=https://colab.research.google.com/notebooks/data_table.ipynb>data table notebook</a>'\n",
              "            + ' to learn more about interactive tables.';\n",
              "          element.innerHTML = '';\n",
              "          dataTable['output_type'] = 'display_data';\n",
              "          await google.colab.output.renderOutput(dataTable, element);\n",
              "          const docLink = document.createElement('div');\n",
              "          docLink.innerHTML = docLinkHtml;\n",
              "          element.appendChild(docLink);\n",
              "        }\n",
              "      </script>\n",
              "    </div>\n",
              "  </div>\n",
              "  "
            ]
          },
          "metadata": {},
          "execution_count": 142
        }
      ],
      "source": [
        "dataset.head()"
      ]
    },
    {
      "cell_type": "code",
      "execution_count": null,
      "metadata": {
        "id": "rh1zhtD_-AIg"
      },
      "outputs": [],
      "source": [
        "data_ = dataset[\n",
        "    [\n",
        "        \"fixed acidity\",\n",
        "        \"volatile acidity\",\n",
        "        \"citric acid\",\n",
        "        \"residual sugar\",\n",
        "        \"chlorides\",\n",
        "        \"free sulfur dioxide\",\n",
        "        \"total sulfur dioxide\",\n",
        "        \"density\",\n",
        "        \"pH\",\n",
        "        \"sulphates\",\n",
        "        \"alcohol\"\n",
        "    ]\n",
        "].values"
      ]
    },
    {
      "cell_type": "code",
      "execution_count": null,
      "metadata": {
        "colab": {
          "base_uri": "https://localhost:8080/"
        },
        "id": "qsv4c04BKv2k",
        "outputId": "35399c7a-e3e6-4e30-ca33-57db8594a0b4"
      },
      "outputs": [
        {
          "output_type": "execute_result",
          "data": {
            "text/plain": [
              "(4898, 11)"
            ]
          },
          "metadata": {},
          "execution_count": 144
        }
      ],
      "source": [
        "data_.shape"
      ]
    },
    {
      "cell_type": "markdown",
      "metadata": {
        "id": "be9n_gUZTXeA"
      },
      "source": [
        "#Diabetes Dataset"
      ]
    },
    {
      "cell_type": "code",
      "execution_count": null,
      "metadata": {
        "id": "s4ADmSsnml4e"
      },
      "outputs": [],
      "source": [
        "dataset = pd.read_csv('https://raw.githubusercontent.com/jbrownlee/Datasets/master/pima-indians-diabetes.csv')\n",
        "dataset.columns = ['pregnancies', 'glucose', 'blood_pressure', 'skin_thickness', 'insulin', 'bmi', 'diabetes_pedigree_function', 'age', 'outcome']"
      ]
    },
    {
      "cell_type": "code",
      "execution_count": null,
      "metadata": {
        "colab": {
          "base_uri": "https://localhost:8080/"
        },
        "id": "nZ96Nh6NTh6T",
        "outputId": "72b7e991-b668-49f6-a1bf-e5da440d3131"
      },
      "outputs": [
        {
          "output_type": "execute_result",
          "data": {
            "text/plain": [
              "   pregnancies  glucose  blood_pressure  skin_thickness  insulin   bmi  \\\n",
              "0            1       85              66              29        0  26.6   \n",
              "1            8      183              64               0        0  23.3   \n",
              "2            1       89              66              23       94  28.1   \n",
              "3            0      137              40              35      168  43.1   \n",
              "4            5      116              74               0        0  25.6   \n",
              "\n",
              "   diabetes_pedigree_function  age  outcome  \n",
              "0                       0.351   31        0  \n",
              "1                       0.672   32        1  \n",
              "2                       0.167   21        0  \n",
              "3                       2.288   33        1  \n",
              "4                       0.201   30        0  "
            ],
            "text/html": [
              "\n",
              "  <div id=\"df-7415f8ec-96b0-47a1-8dd2-25da7ee902e3\">\n",
              "    <div class=\"colab-df-container\">\n",
              "      <div>\n",
              "<style scoped>\n",
              "    .dataframe tbody tr th:only-of-type {\n",
              "        vertical-align: middle;\n",
              "    }\n",
              "\n",
              "    .dataframe tbody tr th {\n",
              "        vertical-align: top;\n",
              "    }\n",
              "\n",
              "    .dataframe thead th {\n",
              "        text-align: right;\n",
              "    }\n",
              "</style>\n",
              "<table border=\"1\" class=\"dataframe\">\n",
              "  <thead>\n",
              "    <tr style=\"text-align: right;\">\n",
              "      <th></th>\n",
              "      <th>pregnancies</th>\n",
              "      <th>glucose</th>\n",
              "      <th>blood_pressure</th>\n",
              "      <th>skin_thickness</th>\n",
              "      <th>insulin</th>\n",
              "      <th>bmi</th>\n",
              "      <th>diabetes_pedigree_function</th>\n",
              "      <th>age</th>\n",
              "      <th>outcome</th>\n",
              "    </tr>\n",
              "  </thead>\n",
              "  <tbody>\n",
              "    <tr>\n",
              "      <th>0</th>\n",
              "      <td>1</td>\n",
              "      <td>85</td>\n",
              "      <td>66</td>\n",
              "      <td>29</td>\n",
              "      <td>0</td>\n",
              "      <td>26.6</td>\n",
              "      <td>0.351</td>\n",
              "      <td>31</td>\n",
              "      <td>0</td>\n",
              "    </tr>\n",
              "    <tr>\n",
              "      <th>1</th>\n",
              "      <td>8</td>\n",
              "      <td>183</td>\n",
              "      <td>64</td>\n",
              "      <td>0</td>\n",
              "      <td>0</td>\n",
              "      <td>23.3</td>\n",
              "      <td>0.672</td>\n",
              "      <td>32</td>\n",
              "      <td>1</td>\n",
              "    </tr>\n",
              "    <tr>\n",
              "      <th>2</th>\n",
              "      <td>1</td>\n",
              "      <td>89</td>\n",
              "      <td>66</td>\n",
              "      <td>23</td>\n",
              "      <td>94</td>\n",
              "      <td>28.1</td>\n",
              "      <td>0.167</td>\n",
              "      <td>21</td>\n",
              "      <td>0</td>\n",
              "    </tr>\n",
              "    <tr>\n",
              "      <th>3</th>\n",
              "      <td>0</td>\n",
              "      <td>137</td>\n",
              "      <td>40</td>\n",
              "      <td>35</td>\n",
              "      <td>168</td>\n",
              "      <td>43.1</td>\n",
              "      <td>2.288</td>\n",
              "      <td>33</td>\n",
              "      <td>1</td>\n",
              "    </tr>\n",
              "    <tr>\n",
              "      <th>4</th>\n",
              "      <td>5</td>\n",
              "      <td>116</td>\n",
              "      <td>74</td>\n",
              "      <td>0</td>\n",
              "      <td>0</td>\n",
              "      <td>25.6</td>\n",
              "      <td>0.201</td>\n",
              "      <td>30</td>\n",
              "      <td>0</td>\n",
              "    </tr>\n",
              "  </tbody>\n",
              "</table>\n",
              "</div>\n",
              "      <button class=\"colab-df-convert\" onclick=\"convertToInteractive('df-7415f8ec-96b0-47a1-8dd2-25da7ee902e3')\"\n",
              "              title=\"Convert this dataframe to an interactive table.\"\n",
              "              style=\"display:none;\">\n",
              "        \n",
              "  <svg xmlns=\"http://www.w3.org/2000/svg\" height=\"24px\"viewBox=\"0 0 24 24\"\n",
              "       width=\"24px\">\n",
              "    <path d=\"M0 0h24v24H0V0z\" fill=\"none\"/>\n",
              "    <path d=\"M18.56 5.44l.94 2.06.94-2.06 2.06-.94-2.06-.94-.94-2.06-.94 2.06-2.06.94zm-11 1L8.5 8.5l.94-2.06 2.06-.94-2.06-.94L8.5 2.5l-.94 2.06-2.06.94zm10 10l.94 2.06.94-2.06 2.06-.94-2.06-.94-.94-2.06-.94 2.06-2.06.94z\"/><path d=\"M17.41 7.96l-1.37-1.37c-.4-.4-.92-.59-1.43-.59-.52 0-1.04.2-1.43.59L10.3 9.45l-7.72 7.72c-.78.78-.78 2.05 0 2.83L4 21.41c.39.39.9.59 1.41.59.51 0 1.02-.2 1.41-.59l7.78-7.78 2.81-2.81c.8-.78.8-2.07 0-2.86zM5.41 20L4 18.59l7.72-7.72 1.47 1.35L5.41 20z\"/>\n",
              "  </svg>\n",
              "      </button>\n",
              "      \n",
              "  <style>\n",
              "    .colab-df-container {\n",
              "      display:flex;\n",
              "      flex-wrap:wrap;\n",
              "      gap: 12px;\n",
              "    }\n",
              "\n",
              "    .colab-df-convert {\n",
              "      background-color: #E8F0FE;\n",
              "      border: none;\n",
              "      border-radius: 50%;\n",
              "      cursor: pointer;\n",
              "      display: none;\n",
              "      fill: #1967D2;\n",
              "      height: 32px;\n",
              "      padding: 0 0 0 0;\n",
              "      width: 32px;\n",
              "    }\n",
              "\n",
              "    .colab-df-convert:hover {\n",
              "      background-color: #E2EBFA;\n",
              "      box-shadow: 0px 1px 2px rgba(60, 64, 67, 0.3), 0px 1px 3px 1px rgba(60, 64, 67, 0.15);\n",
              "      fill: #174EA6;\n",
              "    }\n",
              "\n",
              "    [theme=dark] .colab-df-convert {\n",
              "      background-color: #3B4455;\n",
              "      fill: #D2E3FC;\n",
              "    }\n",
              "\n",
              "    [theme=dark] .colab-df-convert:hover {\n",
              "      background-color: #434B5C;\n",
              "      box-shadow: 0px 1px 3px 1px rgba(0, 0, 0, 0.15);\n",
              "      filter: drop-shadow(0px 1px 2px rgba(0, 0, 0, 0.3));\n",
              "      fill: #FFFFFF;\n",
              "    }\n",
              "  </style>\n",
              "\n",
              "      <script>\n",
              "        const buttonEl =\n",
              "          document.querySelector('#df-7415f8ec-96b0-47a1-8dd2-25da7ee902e3 button.colab-df-convert');\n",
              "        buttonEl.style.display =\n",
              "          google.colab.kernel.accessAllowed ? 'block' : 'none';\n",
              "\n",
              "        async function convertToInteractive(key) {\n",
              "          const element = document.querySelector('#df-7415f8ec-96b0-47a1-8dd2-25da7ee902e3');\n",
              "          const dataTable =\n",
              "            await google.colab.kernel.invokeFunction('convertToInteractive',\n",
              "                                                     [key], {});\n",
              "          if (!dataTable) return;\n",
              "\n",
              "          const docLinkHtml = 'Like what you see? Visit the ' +\n",
              "            '<a target=\"_blank\" href=https://colab.research.google.com/notebooks/data_table.ipynb>data table notebook</a>'\n",
              "            + ' to learn more about interactive tables.';\n",
              "          element.innerHTML = '';\n",
              "          dataTable['output_type'] = 'display_data';\n",
              "          await google.colab.output.renderOutput(dataTable, element);\n",
              "          const docLink = document.createElement('div');\n",
              "          docLink.innerHTML = docLinkHtml;\n",
              "          element.appendChild(docLink);\n",
              "        }\n",
              "      </script>\n",
              "    </div>\n",
              "  </div>\n",
              "  "
            ]
          },
          "metadata": {},
          "execution_count": 159
        }
      ],
      "source": [
        "dataset.head()"
      ]
    },
    {
      "cell_type": "code",
      "execution_count": null,
      "metadata": {
        "id": "Udf_-wiETlF4"
      },
      "outputs": [],
      "source": [
        "data_ = dataset.iloc[:,:-1].values"
      ]
    },
    {
      "cell_type": "code",
      "execution_count": null,
      "metadata": {
        "colab": {
          "base_uri": "https://localhost:8080/"
        },
        "id": "QYakY6x6ToeP",
        "outputId": "7f96ffaf-3be1-444a-9fbb-26275fab7b72"
      },
      "outputs": [
        {
          "output_type": "execute_result",
          "data": {
            "text/plain": [
              "(767, 8)"
            ]
          },
          "metadata": {},
          "execution_count": 161
        }
      ],
      "source": [
        "data_.shape"
      ]
    },
    {
      "cell_type": "markdown",
      "metadata": {
        "id": "JWlG2v5ViZ9p"
      },
      "source": [
        "#Wheat seed Dataset"
      ]
    },
    {
      "cell_type": "code",
      "execution_count": null,
      "metadata": {
        "id": "oBIpmJo_jzMl"
      },
      "outputs": [],
      "source": [
        "dataset = pd.read_csv('https://raw.githubusercontent.com/jbrownlee/Datasets/master/wheat-seeds.csv')"
      ]
    },
    {
      "cell_type": "code",
      "execution_count": null,
      "metadata": {
        "id": "CDM-TE34kjd_"
      },
      "outputs": [],
      "source": [
        "dataset.columns = ['Area', 'Perimeter', 'Compactness', 'KernelLength', 'KernelWidth', 'AsymmetryCoefficient', 'KernelGrooveLength', 'Variety']"
      ]
    },
    {
      "cell_type": "code",
      "execution_count": null,
      "metadata": {
        "colab": {
          "base_uri": "https://localhost:8080/"
        },
        "id": "nz5VmPYxkbOg",
        "outputId": "d744b47d-23d7-40bb-f1b3-6003860a3615"
      },
      "outputs": [
        {
          "output_type": "execute_result",
          "data": {
            "text/plain": [
              "    Area  Perimeter  Compactness  KernelLength  KernelWidth  \\\n",
              "0  14.88      14.57       0.8811         5.554        3.333   \n",
              "1  14.29      14.09       0.9050         5.291        3.337   \n",
              "2  13.84      13.94       0.8955         5.324        3.379   \n",
              "3  16.14      14.99       0.9034         5.658        3.562   \n",
              "4  14.38      14.21       0.8951         5.386        3.312   \n",
              "\n",
              "   AsymmetryCoefficient  KernelGrooveLength  Variety  \n",
              "0                 1.018               4.956        1  \n",
              "1                 2.699               4.825        1  \n",
              "2                 2.259               4.805        1  \n",
              "3                 1.355               5.175        1  \n",
              "4                 2.462               4.956        1  "
            ],
            "text/html": [
              "\n",
              "  <div id=\"df-84b24a58-59cd-445e-8a30-2a390d4f6478\">\n",
              "    <div class=\"colab-df-container\">\n",
              "      <div>\n",
              "<style scoped>\n",
              "    .dataframe tbody tr th:only-of-type {\n",
              "        vertical-align: middle;\n",
              "    }\n",
              "\n",
              "    .dataframe tbody tr th {\n",
              "        vertical-align: top;\n",
              "    }\n",
              "\n",
              "    .dataframe thead th {\n",
              "        text-align: right;\n",
              "    }\n",
              "</style>\n",
              "<table border=\"1\" class=\"dataframe\">\n",
              "  <thead>\n",
              "    <tr style=\"text-align: right;\">\n",
              "      <th></th>\n",
              "      <th>Area</th>\n",
              "      <th>Perimeter</th>\n",
              "      <th>Compactness</th>\n",
              "      <th>KernelLength</th>\n",
              "      <th>KernelWidth</th>\n",
              "      <th>AsymmetryCoefficient</th>\n",
              "      <th>KernelGrooveLength</th>\n",
              "      <th>Variety</th>\n",
              "    </tr>\n",
              "  </thead>\n",
              "  <tbody>\n",
              "    <tr>\n",
              "      <th>0</th>\n",
              "      <td>14.88</td>\n",
              "      <td>14.57</td>\n",
              "      <td>0.8811</td>\n",
              "      <td>5.554</td>\n",
              "      <td>3.333</td>\n",
              "      <td>1.018</td>\n",
              "      <td>4.956</td>\n",
              "      <td>1</td>\n",
              "    </tr>\n",
              "    <tr>\n",
              "      <th>1</th>\n",
              "      <td>14.29</td>\n",
              "      <td>14.09</td>\n",
              "      <td>0.9050</td>\n",
              "      <td>5.291</td>\n",
              "      <td>3.337</td>\n",
              "      <td>2.699</td>\n",
              "      <td>4.825</td>\n",
              "      <td>1</td>\n",
              "    </tr>\n",
              "    <tr>\n",
              "      <th>2</th>\n",
              "      <td>13.84</td>\n",
              "      <td>13.94</td>\n",
              "      <td>0.8955</td>\n",
              "      <td>5.324</td>\n",
              "      <td>3.379</td>\n",
              "      <td>2.259</td>\n",
              "      <td>4.805</td>\n",
              "      <td>1</td>\n",
              "    </tr>\n",
              "    <tr>\n",
              "      <th>3</th>\n",
              "      <td>16.14</td>\n",
              "      <td>14.99</td>\n",
              "      <td>0.9034</td>\n",
              "      <td>5.658</td>\n",
              "      <td>3.562</td>\n",
              "      <td>1.355</td>\n",
              "      <td>5.175</td>\n",
              "      <td>1</td>\n",
              "    </tr>\n",
              "    <tr>\n",
              "      <th>4</th>\n",
              "      <td>14.38</td>\n",
              "      <td>14.21</td>\n",
              "      <td>0.8951</td>\n",
              "      <td>5.386</td>\n",
              "      <td>3.312</td>\n",
              "      <td>2.462</td>\n",
              "      <td>4.956</td>\n",
              "      <td>1</td>\n",
              "    </tr>\n",
              "  </tbody>\n",
              "</table>\n",
              "</div>\n",
              "      <button class=\"colab-df-convert\" onclick=\"convertToInteractive('df-84b24a58-59cd-445e-8a30-2a390d4f6478')\"\n",
              "              title=\"Convert this dataframe to an interactive table.\"\n",
              "              style=\"display:none;\">\n",
              "        \n",
              "  <svg xmlns=\"http://www.w3.org/2000/svg\" height=\"24px\"viewBox=\"0 0 24 24\"\n",
              "       width=\"24px\">\n",
              "    <path d=\"M0 0h24v24H0V0z\" fill=\"none\"/>\n",
              "    <path d=\"M18.56 5.44l.94 2.06.94-2.06 2.06-.94-2.06-.94-.94-2.06-.94 2.06-2.06.94zm-11 1L8.5 8.5l.94-2.06 2.06-.94-2.06-.94L8.5 2.5l-.94 2.06-2.06.94zm10 10l.94 2.06.94-2.06 2.06-.94-2.06-.94-.94-2.06-.94 2.06-2.06.94z\"/><path d=\"M17.41 7.96l-1.37-1.37c-.4-.4-.92-.59-1.43-.59-.52 0-1.04.2-1.43.59L10.3 9.45l-7.72 7.72c-.78.78-.78 2.05 0 2.83L4 21.41c.39.39.9.59 1.41.59.51 0 1.02-.2 1.41-.59l7.78-7.78 2.81-2.81c.8-.78.8-2.07 0-2.86zM5.41 20L4 18.59l7.72-7.72 1.47 1.35L5.41 20z\"/>\n",
              "  </svg>\n",
              "      </button>\n",
              "      \n",
              "  <style>\n",
              "    .colab-df-container {\n",
              "      display:flex;\n",
              "      flex-wrap:wrap;\n",
              "      gap: 12px;\n",
              "    }\n",
              "\n",
              "    .colab-df-convert {\n",
              "      background-color: #E8F0FE;\n",
              "      border: none;\n",
              "      border-radius: 50%;\n",
              "      cursor: pointer;\n",
              "      display: none;\n",
              "      fill: #1967D2;\n",
              "      height: 32px;\n",
              "      padding: 0 0 0 0;\n",
              "      width: 32px;\n",
              "    }\n",
              "\n",
              "    .colab-df-convert:hover {\n",
              "      background-color: #E2EBFA;\n",
              "      box-shadow: 0px 1px 2px rgba(60, 64, 67, 0.3), 0px 1px 3px 1px rgba(60, 64, 67, 0.15);\n",
              "      fill: #174EA6;\n",
              "    }\n",
              "\n",
              "    [theme=dark] .colab-df-convert {\n",
              "      background-color: #3B4455;\n",
              "      fill: #D2E3FC;\n",
              "    }\n",
              "\n",
              "    [theme=dark] .colab-df-convert:hover {\n",
              "      background-color: #434B5C;\n",
              "      box-shadow: 0px 1px 3px 1px rgba(0, 0, 0, 0.15);\n",
              "      filter: drop-shadow(0px 1px 2px rgba(0, 0, 0, 0.3));\n",
              "      fill: #FFFFFF;\n",
              "    }\n",
              "  </style>\n",
              "\n",
              "      <script>\n",
              "        const buttonEl =\n",
              "          document.querySelector('#df-84b24a58-59cd-445e-8a30-2a390d4f6478 button.colab-df-convert');\n",
              "        buttonEl.style.display =\n",
              "          google.colab.kernel.accessAllowed ? 'block' : 'none';\n",
              "\n",
              "        async function convertToInteractive(key) {\n",
              "          const element = document.querySelector('#df-84b24a58-59cd-445e-8a30-2a390d4f6478');\n",
              "          const dataTable =\n",
              "            await google.colab.kernel.invokeFunction('convertToInteractive',\n",
              "                                                     [key], {});\n",
              "          if (!dataTable) return;\n",
              "\n",
              "          const docLinkHtml = 'Like what you see? Visit the ' +\n",
              "            '<a target=\"_blank\" href=https://colab.research.google.com/notebooks/data_table.ipynb>data table notebook</a>'\n",
              "            + ' to learn more about interactive tables.';\n",
              "          element.innerHTML = '';\n",
              "          dataTable['output_type'] = 'display_data';\n",
              "          await google.colab.output.renderOutput(dataTable, element);\n",
              "          const docLink = document.createElement('div');\n",
              "          docLink.innerHTML = docLinkHtml;\n",
              "          element.appendChild(docLink);\n",
              "        }\n",
              "      </script>\n",
              "    </div>\n",
              "  </div>\n",
              "  "
            ]
          },
          "metadata": {},
          "execution_count": 195
        }
      ],
      "source": [
        "dataset.head()"
      ]
    },
    {
      "cell_type": "code",
      "execution_count": null,
      "metadata": {
        "id": "T6Lr8b0wkpZj"
      },
      "outputs": [],
      "source": [
        "data_ = dataset.iloc[:,:-1].values"
      ]
    },
    {
      "cell_type": "code",
      "execution_count": null,
      "metadata": {
        "colab": {
          "base_uri": "https://localhost:8080/"
        },
        "id": "WiT3TUBXkwOi",
        "outputId": "2311d5ea-c88d-420a-83f7-2cab8f8f1ae7"
      },
      "outputs": [
        {
          "output_type": "execute_result",
          "data": {
            "text/plain": [
              "(209, 7)"
            ]
          },
          "metadata": {},
          "execution_count": 197
        }
      ],
      "source": [
        "data_.shape"
      ]
    },
    {
      "cell_type": "markdown",
      "metadata": {
        "id": "QSlQjQoxhX3W"
      },
      "source": [
        "# UMAP + Graph Clustering"
      ]
    },
    {
      "cell_type": "code",
      "source": [
        "data_ = StandardScaler().fit_transform(data_)"
      ],
      "metadata": {
        "id": "QtDQTmNc1sO5"
      },
      "execution_count": 13,
      "outputs": []
    },
    {
      "cell_type": "code",
      "execution_count": 14,
      "metadata": {
        "colab": {
          "base_uri": "https://localhost:8080/",
          "height": 74
        },
        "id": "xCNptBZTxxr6",
        "outputId": "ac5ecb3a-78de-4838-ec73-e43baec93ff1"
      },
      "outputs": [
        {
          "output_type": "execute_result",
          "data": {
            "text/plain": [
              "UMAP(tqdm_kwds={'bar_format': '{desc}: {percentage:3.0f}%| {bar} {n_fmt}/{total_fmt} [{elapsed}]', 'desc': 'Epochs completed', 'disable': True})"
            ],
            "text/html": [
              "<style>#sk-container-id-1 {color: black;background-color: white;}#sk-container-id-1 pre{padding: 0;}#sk-container-id-1 div.sk-toggleable {background-color: white;}#sk-container-id-1 label.sk-toggleable__label {cursor: pointer;display: block;width: 100%;margin-bottom: 0;padding: 0.3em;box-sizing: border-box;text-align: center;}#sk-container-id-1 label.sk-toggleable__label-arrow:before {content: \"▸\";float: left;margin-right: 0.25em;color: #696969;}#sk-container-id-1 label.sk-toggleable__label-arrow:hover:before {color: black;}#sk-container-id-1 div.sk-estimator:hover label.sk-toggleable__label-arrow:before {color: black;}#sk-container-id-1 div.sk-toggleable__content {max-height: 0;max-width: 0;overflow: hidden;text-align: left;background-color: #f0f8ff;}#sk-container-id-1 div.sk-toggleable__content pre {margin: 0.2em;color: black;border-radius: 0.25em;background-color: #f0f8ff;}#sk-container-id-1 input.sk-toggleable__control:checked~div.sk-toggleable__content {max-height: 200px;max-width: 100%;overflow: auto;}#sk-container-id-1 input.sk-toggleable__control:checked~label.sk-toggleable__label-arrow:before {content: \"▾\";}#sk-container-id-1 div.sk-estimator input.sk-toggleable__control:checked~label.sk-toggleable__label {background-color: #d4ebff;}#sk-container-id-1 div.sk-label input.sk-toggleable__control:checked~label.sk-toggleable__label {background-color: #d4ebff;}#sk-container-id-1 input.sk-hidden--visually {border: 0;clip: rect(1px 1px 1px 1px);clip: rect(1px, 1px, 1px, 1px);height: 1px;margin: -1px;overflow: hidden;padding: 0;position: absolute;width: 1px;}#sk-container-id-1 div.sk-estimator {font-family: monospace;background-color: #f0f8ff;border: 1px dotted black;border-radius: 0.25em;box-sizing: border-box;margin-bottom: 0.5em;}#sk-container-id-1 div.sk-estimator:hover {background-color: #d4ebff;}#sk-container-id-1 div.sk-parallel-item::after {content: \"\";width: 100%;border-bottom: 1px solid gray;flex-grow: 1;}#sk-container-id-1 div.sk-label:hover label.sk-toggleable__label {background-color: #d4ebff;}#sk-container-id-1 div.sk-serial::before {content: \"\";position: absolute;border-left: 1px solid gray;box-sizing: border-box;top: 0;bottom: 0;left: 50%;z-index: 0;}#sk-container-id-1 div.sk-serial {display: flex;flex-direction: column;align-items: center;background-color: white;padding-right: 0.2em;padding-left: 0.2em;position: relative;}#sk-container-id-1 div.sk-item {position: relative;z-index: 1;}#sk-container-id-1 div.sk-parallel {display: flex;align-items: stretch;justify-content: center;background-color: white;position: relative;}#sk-container-id-1 div.sk-item::before, #sk-container-id-1 div.sk-parallel-item::before {content: \"\";position: absolute;border-left: 1px solid gray;box-sizing: border-box;top: 0;bottom: 0;left: 50%;z-index: -1;}#sk-container-id-1 div.sk-parallel-item {display: flex;flex-direction: column;z-index: 1;position: relative;background-color: white;}#sk-container-id-1 div.sk-parallel-item:first-child::after {align-self: flex-end;width: 50%;}#sk-container-id-1 div.sk-parallel-item:last-child::after {align-self: flex-start;width: 50%;}#sk-container-id-1 div.sk-parallel-item:only-child::after {width: 0;}#sk-container-id-1 div.sk-dashed-wrapped {border: 1px dashed gray;margin: 0 0.4em 0.5em 0.4em;box-sizing: border-box;padding-bottom: 0.4em;background-color: white;}#sk-container-id-1 div.sk-label label {font-family: monospace;font-weight: bold;display: inline-block;line-height: 1.2em;}#sk-container-id-1 div.sk-label-container {text-align: center;}#sk-container-id-1 div.sk-container {/* jupyter's `normalize.less` sets `[hidden] { display: none; }` but bootstrap.min.css set `[hidden] { display: none !important; }` so we also need the `!important` here to be able to override the default hidden behavior on the sphinx rendered scikit-learn.org. See: https://github.com/scikit-learn/scikit-learn/issues/21755 */display: inline-block !important;position: relative;}#sk-container-id-1 div.sk-text-repr-fallback {display: none;}</style><div id=\"sk-container-id-1\" class=\"sk-top-container\"><div class=\"sk-text-repr-fallback\"><pre>UMAP(tqdm_kwds={&#x27;bar_format&#x27;: &#x27;{desc}: {percentage:3.0f}%| {bar} {n_fmt}/{total_fmt} [{elapsed}]&#x27;, &#x27;desc&#x27;: &#x27;Epochs completed&#x27;, &#x27;disable&#x27;: True})</pre><b>In a Jupyter environment, please rerun this cell to show the HTML representation or trust the notebook. <br />On GitHub, the HTML representation is unable to render, please try loading this page with nbviewer.org.</b></div><div class=\"sk-container\" hidden><div class=\"sk-item\"><div class=\"sk-estimator sk-toggleable\"><input class=\"sk-toggleable__control sk-hidden--visually\" id=\"sk-estimator-id-1\" type=\"checkbox\" checked><label for=\"sk-estimator-id-1\" class=\"sk-toggleable__label sk-toggleable__label-arrow\">UMAP</label><div class=\"sk-toggleable__content\"><pre>UMAP(tqdm_kwds={&#x27;bar_format&#x27;: &#x27;{desc}: {percentage:3.0f}%| {bar} {n_fmt}/{total_fmt} [{elapsed}]&#x27;, &#x27;desc&#x27;: &#x27;Epochs completed&#x27;, &#x27;disable&#x27;: True})</pre></div></div></div></div></div>"
            ]
          },
          "metadata": {},
          "execution_count": 14
        }
      ],
      "source": [
        "reducer = umap.UMAP()\n",
        "reducer.fit(data_)"
      ]
    },
    {
      "cell_type": "code",
      "execution_count": null,
      "metadata": {
        "colab": {
          "base_uri": "https://localhost:8080/",
          "height": 91
        },
        "id": "90kgqnAd_sfA",
        "outputId": "ac215d8a-39b8-489b-ac4d-ada1fd44dffb"
      },
      "outputs": [
        {
          "output_type": "execute_result",
          "data": {
            "text/plain": [
              "UMATO(a=1.5769434604035877, b=0.8950608780665811, global_n_epochs=100,\n",
              "      hub_num=50, local_n_epochs=50)"
            ],
            "text/html": [
              "<style>#sk-container-id-2 {color: black;background-color: white;}#sk-container-id-2 pre{padding: 0;}#sk-container-id-2 div.sk-toggleable {background-color: white;}#sk-container-id-2 label.sk-toggleable__label {cursor: pointer;display: block;width: 100%;margin-bottom: 0;padding: 0.3em;box-sizing: border-box;text-align: center;}#sk-container-id-2 label.sk-toggleable__label-arrow:before {content: \"▸\";float: left;margin-right: 0.25em;color: #696969;}#sk-container-id-2 label.sk-toggleable__label-arrow:hover:before {color: black;}#sk-container-id-2 div.sk-estimator:hover label.sk-toggleable__label-arrow:before {color: black;}#sk-container-id-2 div.sk-toggleable__content {max-height: 0;max-width: 0;overflow: hidden;text-align: left;background-color: #f0f8ff;}#sk-container-id-2 div.sk-toggleable__content pre {margin: 0.2em;color: black;border-radius: 0.25em;background-color: #f0f8ff;}#sk-container-id-2 input.sk-toggleable__control:checked~div.sk-toggleable__content {max-height: 200px;max-width: 100%;overflow: auto;}#sk-container-id-2 input.sk-toggleable__control:checked~label.sk-toggleable__label-arrow:before {content: \"▾\";}#sk-container-id-2 div.sk-estimator input.sk-toggleable__control:checked~label.sk-toggleable__label {background-color: #d4ebff;}#sk-container-id-2 div.sk-label input.sk-toggleable__control:checked~label.sk-toggleable__label {background-color: #d4ebff;}#sk-container-id-2 input.sk-hidden--visually {border: 0;clip: rect(1px 1px 1px 1px);clip: rect(1px, 1px, 1px, 1px);height: 1px;margin: -1px;overflow: hidden;padding: 0;position: absolute;width: 1px;}#sk-container-id-2 div.sk-estimator {font-family: monospace;background-color: #f0f8ff;border: 1px dotted black;border-radius: 0.25em;box-sizing: border-box;margin-bottom: 0.5em;}#sk-container-id-2 div.sk-estimator:hover {background-color: #d4ebff;}#sk-container-id-2 div.sk-parallel-item::after {content: \"\";width: 100%;border-bottom: 1px solid gray;flex-grow: 1;}#sk-container-id-2 div.sk-label:hover label.sk-toggleable__label {background-color: #d4ebff;}#sk-container-id-2 div.sk-serial::before {content: \"\";position: absolute;border-left: 1px solid gray;box-sizing: border-box;top: 0;bottom: 0;left: 50%;z-index: 0;}#sk-container-id-2 div.sk-serial {display: flex;flex-direction: column;align-items: center;background-color: white;padding-right: 0.2em;padding-left: 0.2em;position: relative;}#sk-container-id-2 div.sk-item {position: relative;z-index: 1;}#sk-container-id-2 div.sk-parallel {display: flex;align-items: stretch;justify-content: center;background-color: white;position: relative;}#sk-container-id-2 div.sk-item::before, #sk-container-id-2 div.sk-parallel-item::before {content: \"\";position: absolute;border-left: 1px solid gray;box-sizing: border-box;top: 0;bottom: 0;left: 50%;z-index: -1;}#sk-container-id-2 div.sk-parallel-item {display: flex;flex-direction: column;z-index: 1;position: relative;background-color: white;}#sk-container-id-2 div.sk-parallel-item:first-child::after {align-self: flex-end;width: 50%;}#sk-container-id-2 div.sk-parallel-item:last-child::after {align-self: flex-start;width: 50%;}#sk-container-id-2 div.sk-parallel-item:only-child::after {width: 0;}#sk-container-id-2 div.sk-dashed-wrapped {border: 1px dashed gray;margin: 0 0.4em 0.5em 0.4em;box-sizing: border-box;padding-bottom: 0.4em;background-color: white;}#sk-container-id-2 div.sk-label label {font-family: monospace;font-weight: bold;display: inline-block;line-height: 1.2em;}#sk-container-id-2 div.sk-label-container {text-align: center;}#sk-container-id-2 div.sk-container {/* jupyter's `normalize.less` sets `[hidden] { display: none; }` but bootstrap.min.css set `[hidden] { display: none !important; }` so we also need the `!important` here to be able to override the default hidden behavior on the sphinx rendered scikit-learn.org. See: https://github.com/scikit-learn/scikit-learn/issues/21755 */display: inline-block !important;position: relative;}#sk-container-id-2 div.sk-text-repr-fallback {display: none;}</style><div id=\"sk-container-id-2\" class=\"sk-top-container\"><div class=\"sk-text-repr-fallback\"><pre>UMATO(a=1.5769434604035877, b=0.8950608780665811, global_n_epochs=100,\n",
              "      hub_num=50, local_n_epochs=50)</pre><b>In a Jupyter environment, please rerun this cell to show the HTML representation or trust the notebook. <br />On GitHub, the HTML representation is unable to render, please try loading this page with nbviewer.org.</b></div><div class=\"sk-container\" hidden><div class=\"sk-item\"><div class=\"sk-estimator sk-toggleable\"><input class=\"sk-toggleable__control sk-hidden--visually\" id=\"sk-estimator-id-2\" type=\"checkbox\" checked><label for=\"sk-estimator-id-2\" class=\"sk-toggleable__label sk-toggleable__label-arrow\">UMATO</label><div class=\"sk-toggleable__content\"><pre>UMATO(a=1.5769434604035877, b=0.8950608780665811, global_n_epochs=100,\n",
              "      hub_num=50, local_n_epochs=50)</pre></div></div></div></div></div>"
            ]
          },
          "metadata": {},
          "execution_count": 16
        }
      ],
      "source": [
        "reducerUMATO = umato.UMATO(hub_num=50)\n",
        "reducerUMATO.fit(data_)"
      ]
    },
    {
      "cell_type": "code",
      "execution_count": 15,
      "metadata": {
        "colab": {
          "base_uri": "https://localhost:8080/"
        },
        "id": "ls4g5f7duLNz",
        "outputId": "8682af74-a653-4172-cbf2-d2ec942a497d"
      },
      "outputs": [
        {
          "output_type": "stream",
          "name": "stdout",
          "text": [
            "  (0, 5)\t0.33252355\n",
            "  (0, 15)\t0.23630099\n",
            "  (0, 16)\t1.0\n",
            "  (0, 18)\t0.35113615\n",
            "  (0, 21)\t0.56220645\n",
            "  (0, 23)\t0.19581217\n",
            "  (0, 24)\t0.83450425\n",
            "  (0, 26)\t0.6375463\n",
            "  (0, 28)\t0.50778425\n",
            "  (0, 32)\t0.23126873\n",
            "  (0, 33)\t0.2025614\n",
            "  (0, 41)\t0.25491133\n",
            "  (0, 71)\t0.18496881\n",
            "  (0, 76)\t0.027138995\n",
            "  (0, 99)\t0.7340334\n",
            "  (0, 139)\t0.99999994\n",
            "  (0, 141)\t0.024152262\n",
            "  (1, 5)\t0.42800164\n",
            "  (1, 10)\t0.0808184\n",
            "  (1, 18)\t0.75279456\n",
            "  (1, 19)\t0.7068643\n",
            "  (1, 26)\t0.011221139\n",
            "  (1, 27)\t0.035953492\n",
            "  (1, 44)\t0.6080269\n",
            "  (1, 50)\t1.0\n",
            "  :\t:\n",
            "  (332, 272)\t0.7350263\n",
            "  (332, 274)\t0.10153266\n",
            "  (332, 278)\t0.23511815\n",
            "  (332, 280)\t0.12361371\n",
            "  (332, 281)\t0.07795189\n",
            "  (332, 284)\t0.18021752\n",
            "  (332, 288)\t0.2798114\n",
            "  (332, 290)\t0.21222177\n",
            "  (332, 291)\t0.45633194\n",
            "  (332, 292)\t1.0\n",
            "  (332, 298)\t0.19995709\n",
            "  (332, 299)\t1.0\n",
            "  (332, 301)\t0.21133499\n",
            "  (332, 305)\t0.024051826\n",
            "  (332, 307)\t0.51397014\n",
            "  (332, 309)\t0.39739394\n",
            "  (332, 310)\t0.07706329\n",
            "  (332, 313)\t0.09489391\n",
            "  (332, 314)\t0.16852744\n",
            "  (332, 316)\t0.45526004\n",
            "  (332, 318)\t0.09028054\n",
            "  (332, 320)\t0.30095047\n",
            "  (332, 322)\t0.082533054\n",
            "  (332, 323)\t0.882055\n",
            "  (332, 330)\t0.45935917\n"
          ]
        }
      ],
      "source": [
        "graph = reducer.graph_\n",
        "print(graph)\n",
        "ngraph = nkx.Graph(graph)"
      ]
    },
    {
      "cell_type": "markdown",
      "metadata": {
        "id": "80vM73EKhDb-"
      },
      "source": [
        "nparts = 10 for mnist and wine, 3 for iris and penguins"
      ]
    },
    {
      "cell_type": "code",
      "execution_count": 35,
      "metadata": {
        "id": "aXyxBLHD8rUl"
      },
      "outputs": [],
      "source": [
        "(edgecuts, parts) = metis.part_graph(ngraph, nparts=3)"
      ]
    },
    {
      "cell_type": "code",
      "execution_count": 36,
      "metadata": {
        "colab": {
          "base_uri": "https://localhost:8080/"
        },
        "id": "N-AeQRCrcNTf",
        "outputId": "0671cc5f-f2b5-4ab2-89d4-bb7da2600ea1"
      },
      "outputs": [
        {
          "output_type": "stream",
          "name": "stdout",
          "text": [
            "[1, 1, 1, 1, 1, 1, 2, 1, 2, 2, 1, 1, 2, 1, 2, 1, 1, 1, 1, 1, 1, 1, 1, 1, 1, 1, 1, 1, 1, 1, 2, 2, 1, 1, 2, 1, 2, 1, 2, 1, 2, 1, 1, 2, 1, 1, 1, 2, 1, 2, 1, 1, 1, 1, 1, 2, 1, 2, 1, 1, 1, 1, 1, 2, 1, 1, 1, 2, 1, 2, 1, 1, 1, 2, 1, 2, 1, 1, 1, 2, 1, 1, 1, 1, 1, 2, 1, 2, 1, 2, 1, 2, 1, 2, 1, 2, 1, 1, 1, 1, 1, 1, 1, 2, 1, 2, 1, 2, 2, 2, 1, 2, 1, 1, 1, 2, 1, 2, 1, 2, 1, 2, 1, 2, 1, 1, 1, 2, 1, 2, 1, 2, 1, 2, 1, 1, 1, 1, 1, 1, 2, 1, 1, 1, 1, 2, 0, 0, 0, 0, 0, 0, 0, 0, 0, 0, 0, 0, 0, 0, 0, 0, 0, 0, 0, 0, 0, 0, 0, 0, 0, 0, 0, 0, 0, 0, 0, 0, 0, 0, 0, 0, 0, 0, 0, 0, 0, 0, 0, 0, 0, 0, 0, 0, 0, 0, 0, 0, 0, 0, 0, 0, 0, 0, 0, 0, 0, 0, 0, 0, 0, 0, 0, 0, 0, 0, 0, 0, 0, 0, 0, 0, 0, 0, 0, 0, 0, 0, 0, 0, 0, 0, 0, 0, 0, 0, 0, 0, 0, 0, 0, 0, 0, 0, 0, 0, 0, 0, 0, 0, 0, 0, 0, 0, 0, 0, 0, 0, 0, 0, 0, 0, 0, 0, 0, 2, 2, 2, 2, 2, 2, 2, 2, 2, 2, 2, 2, 2, 2, 2, 2, 2, 2, 2, 2, 1, 2, 1, 2, 2, 2, 2, 2, 2, 2, 1, 2, 1, 2, 2, 2, 2, 2, 1, 2, 2, 2, 2, 2, 2, 2, 2, 2, 2, 2, 2, 2, 2, 2, 1, 2, 2, 2, 2, 2, 2, 2, 2, 2, 2, 2, 2, 2]\n"
          ]
        }
      ],
      "source": [
        "print(parts)"
      ]
    },
    {
      "cell_type": "code",
      "execution_count": 37,
      "metadata": {
        "id": "cyAy_rWWHR5x"
      },
      "outputs": [],
      "source": [
        "def calculateClusterCenter(data):\n",
        "  centre={}\n",
        "  for i in range(len(parts)):\n",
        "    if parts[i] in centre:\n",
        "      centre[parts[i]]+=data[i]\n",
        "    else:\n",
        "      centre[parts[i]]=data[i]\n",
        "\n",
        "\n",
        "  for j in centre:\n",
        "    try:\n",
        "      centre[j]/=parts.count(j)\n",
        "    except:\n",
        "      centre[j]=centre[j]/parts.count(j)\n",
        "  \n",
        "  return centre\n",
        "\n",
        "centre = calculateClusterCenter(data_)"
      ]
    },
    {
      "cell_type": "code",
      "execution_count": 38,
      "metadata": {
        "id": "puEb3sMFyt5E"
      },
      "outputs": [],
      "source": [
        "embedding = reducer.embedding_"
      ]
    },
    {
      "cell_type": "code",
      "execution_count": null,
      "metadata": {
        "id": "UV-alV08_3qc"
      },
      "outputs": [],
      "source": [
        "embeddingUMATO = reducerUMATO.embedding_"
      ]
    },
    {
      "cell_type": "code",
      "execution_count": null,
      "metadata": {
        "id": "84w1lCecKDtS"
      },
      "outputs": [],
      "source": [
        "from sklearn.manifold import TSNE\n",
        "data_=np.array(data_)\n",
        "embeddingTSNE = TSNE(n_components=2).fit_transform(data_)"
      ]
    },
    {
      "cell_type": "code",
      "execution_count": null,
      "metadata": {
        "id": "fYRCVgg8LJ0x"
      },
      "outputs": [],
      "source": [
        "from sklearn.decomposition import PCA\n",
        "embeddingPCA = PCA(n_components=2).fit_transform(data_)"
      ]
    },
    {
      "cell_type": "code",
      "execution_count": 39,
      "metadata": {
        "colab": {
          "base_uri": "https://localhost:8080/",
          "height": 368
        },
        "id": "W1aNJO_3y16b",
        "outputId": "31f58548-e988-47c4-fab6-50a0334e7aaa"
      },
      "outputs": [
        {
          "output_type": "display_data",
          "data": {
            "text/plain": [
              "<Figure size 650x400 with 2 Axes>"
            ],
            "image/png": "[encoded data removed]"
          },
          "metadata": {}
        }
      ],
      "source": [
        "plt.rcParams[\"figure.figsize\"] = (6.5,4)\n",
        "ax = plt.axes()\n",
        "ax.set_facecolor(\"black\")\n",
        "plt.scatter(embedding[:, 0], embedding[:, 1], c=parts, cmap='Spectral', s=5)\n",
        "plt.gca().set_aspect('equal', 'datalim')\n",
        "plt.colorbar(boundaries=np.arange(4)-0.5).set_ticks(np.arange(3))\n",
        "# plt.title('UMAP projection', fontsize=24);"
      ]
    },
    {
      "cell_type": "markdown",
      "metadata": {
        "id": "BwNNlLF9Nm1E"
      },
      "source": [
        "# Stress Calculation and Translation"
      ]
    },
    {
      "cell_type": "code",
      "execution_count": 40,
      "metadata": {
        "id": "yaPWTLSaFlLK"
      },
      "outputs": [],
      "source": [
        "def stress(originalData, projectedData):\n",
        "  squarePairDistance=0\n",
        "  numerator=0\n",
        "  length = len(originalData)\n",
        "  for i in range(length):\n",
        "    for j in range(i+1,length):\n",
        "          original = distances.euclidean(originalData[i],originalData[j])\n",
        "          projected = distances.euclidean(projectedData[i], projectedData[j])\n",
        "          squareDifference = (original-projected)**2\n",
        "          numerator+=squareDifference\n",
        "          squarePairDistance += original**2\n",
        "\n",
        "  stress = numerator/squarePairDistance\n",
        "\n",
        "  return stress"
      ]
    },
    {
      "cell_type": "code",
      "execution_count": 41,
      "metadata": {
        "id": "nFynDb6ZTKcp"
      },
      "outputs": [],
      "source": [
        "def selectCluster(parts, projectedPoints, cluster):\n",
        "  clusterPoints=[]\n",
        "  for i in range(len(parts)):\n",
        "    if parts[i]==cluster:\n",
        "      clusterPoints.append(list(projectedPoints[i]))\n",
        "  return np.array(clusterPoints)"
      ]
    },
    {
      "cell_type": "code",
      "execution_count": 42,
      "metadata": {
        "id": "pTcflOppVbc9"
      },
      "outputs": [],
      "source": [
        "def translate(cluster,axis, distance):\n",
        "  toAdd = [0,0]\n",
        "  toAdd[axis] = distance\n",
        "  return cluster+toAdd"
      ]
    },
    {
      "cell_type": "code",
      "execution_count": 43,
      "metadata": {
        "id": "9qPAowDQW3-k"
      },
      "outputs": [],
      "source": [
        "def changeCluster(parts, coordinates, projected, cluster):\n",
        "  count=0\n",
        "  newProjected=[]\n",
        "  for i in range(len(parts)):\n",
        "    if parts[i]==cluster:\n",
        "      newProjected.append(coordinates[count])\n",
        "      count+=1\n",
        "    else:\n",
        "      newProjected.append(projected[i])\n",
        "  return newProjected"
      ]
    },
    {
      "cell_type": "code",
      "execution_count": 44,
      "metadata": {
        "id": "9E12TCwuIjvF"
      },
      "outputs": [],
      "source": [
        "def forceDirectedCentres(originalCentres, parts):\n",
        "  clusterCentres = np.array(originalCentres[0])\n",
        "  for i in range(1,len(set(parts))):\n",
        "    clusterCentres=np.vstack((clusterCentres, originalCentres[i]))\n",
        "\n",
        "  layout = fl.draw_spring_layout(dataset=clusterCentres, algorithm=fl.SpringForce)\n",
        "\n",
        "  print(layout.get_stress())\n",
        "\n",
        "  forceDirectedPositions = layout.get_positions()\n",
        "\n",
        "  return forceDirectedPositions"
      ]
    },
    {
      "cell_type": "code",
      "source": [
        "def PCACentres(originalCentres, parts):\n",
        "  clusterCentres = np.array(originalCentres[0])\n",
        "  for i in range(1,len(set(parts))):\n",
        "    clusterCentres=np.vstack((clusterCentres, originalCentres[i]))\n",
        "\n",
        "  pcaCoords = PCA(n_components=2).fit_transform(clusterCentres)\n",
        "\n",
        "  return pcaCoords"
      ],
      "metadata": {
        "id": "2kH4j--B92gf"
      },
      "execution_count": 45,
      "outputs": []
    },
    {
      "cell_type": "code",
      "execution_count": 46,
      "metadata": {
        "id": "qnWm5yv9MAZk"
      },
      "outputs": [],
      "source": [
        "def posDifference(highDimensionCentres, lowDimensionCentres, initializer):\n",
        "  if initializer==\"fdl\":\n",
        "    centreRepresentation = forceDirectedCentres(highDimensionCentres, parts)\n",
        "  elif initializer==\"pca\":\n",
        "    centreRepresentation = PCACentres(highDimensionCentres, parts)\n",
        "\n",
        "  centre2d = np.array(lowDimensionCentres[0])\n",
        "  for i in range(1,len(set(parts))):\n",
        "    centre2d=np.vstack((centre2d, lowDimensionCentres[i]))\n",
        "\n",
        "  return centreRepresentation - centre2d"
      ]
    },
    {
      "cell_type": "code",
      "execution_count": 47,
      "metadata": {
        "id": "le3EA_Iw_xZC",
        "colab": {
          "base_uri": "https://localhost:8080/",
          "height": 362
        },
        "outputId": "7bf361d6-81ff-4cd0-bb11-61016bf7d0f3"
      },
      "outputs": [
        {
          "output_type": "stream",
          "name": "stdout",
          "text": [
            "7.573592974972165e-07\n"
          ]
        },
        {
          "output_type": "display_data",
          "data": {
            "text/plain": [
              "<Figure size 650x400 with 1 Axes>"
            ],
            "image/png": "[encoded data removed]"
          },
          "metadata": {}
        }
      ],
      "source": [
        "initialCentres = calculateClusterCenter(embedding)\n",
        "\n",
        "differenceFDL = posDifference(centre, initialCentres, \"fdl\")\n",
        "#differencePCA = posDifference(centre, initialCentres, \"pca\")"
      ]
    },
    {
      "cell_type": "code",
      "execution_count": 48,
      "metadata": {
        "id": "45m3YOU1Bbwz"
      },
      "outputs": [],
      "source": [
        "def translateUsingDifference(difference, parts, embedding):\n",
        "  newEmbedding = embedding \n",
        "  for i in range(len(difference)):\n",
        "    x = selectCluster(parts, newEmbedding, i)\n",
        "    translated = translate(x, 0, difference[i][0])\n",
        "    newEmbedding = changeCluster(parts, translated, newEmbedding, i)\n",
        "\n",
        "    y = selectCluster(parts, newEmbedding, i)\n",
        "    translated = translate(y, 1, difference[i][1])\n",
        "    newEmbedding = changeCluster(parts, translated, newEmbedding, i)\n",
        "\n",
        "  return newEmbedding"
      ]
    },
    {
      "cell_type": "code",
      "execution_count": 49,
      "metadata": {
        "colab": {
          "base_uri": "https://localhost:8080/"
        },
        "id": "nEMAny0PU-hq",
        "outputId": "76061aa6-8865-44e9-fd38-f11eed8f4b16"
      },
      "outputs": [
        {
          "output_type": "stream",
          "name": "stdout",
          "text": [
            "Original stress:  15.123690118675881\n",
            "ClusterView stress using FDL:  0.2432606771654525\n"
          ]
        }
      ],
      "source": [
        "print(\"Original stress: \", stress(data_, embedding))\n",
        "\n",
        "translatedEmbeddingFDL = translateUsingDifference(differenceFDL, parts, embedding)\n",
        "#translatedEmbeddingPCA = translateUsingDifference(differencePCA, parts, embedding)\n",
        "\n",
        "print(\"ClusterView stress using FDL: \", stress(data_,translatedEmbeddingFDL))\n",
        "#print(\"ClusterView stress using PCA: \", stress(data_,translatedEmbeddingPCA))"
      ]
    },
    {
      "cell_type": "code",
      "execution_count": null,
      "metadata": {
        "colab": {
          "base_uri": "https://localhost:8080/"
        },
        "id": "unBh5W_SABXR",
        "outputId": "ec67a2f3-2c25-47dc-ae81-163e40a736df"
      },
      "outputs": [
        {
          "output_type": "stream",
          "name": "stdout",
          "text": [
            "UMATO stress:  0.9573600652195654\n",
            "TSNE stress:  1.029446813183858\n",
            "PCA stress:  0.225041688522829\n"
          ]
        }
      ],
      "source": [
        "print(\"UMATO stress: \", stress(data_, embeddingUMATO))\n",
        "print(\"TSNE stress: \", stress(data_, embeddingTSNE))\n",
        "print(\"PCA stress: \", stress(data_, embeddingPCA))"
      ]
    },
    {
      "cell_type": "code",
      "execution_count": 50,
      "metadata": {
        "id": "TGN_o7g2XYpr"
      },
      "outputs": [],
      "source": [
        "translatedEmbeddingFDL = np.array(translatedEmbeddingFDL)"
      ]
    },
    {
      "cell_type": "code",
      "execution_count": 51,
      "metadata": {
        "id": "qnksQRfdwrqY"
      },
      "outputs": [],
      "source": [
        "data_ = np.array(data_)"
      ]
    },
    {
      "cell_type": "code",
      "execution_count": 52,
      "metadata": {
        "colab": {
          "base_uri": "https://localhost:8080/",
          "height": 368
        },
        "id": "apyEuoipXM5C",
        "outputId": "b5cd24d7-72f5-48d2-c776-a93d2cd5a7cf"
      },
      "outputs": [
        {
          "output_type": "display_data",
          "data": {
            "text/plain": [
              "<Figure size 650x400 with 2 Axes>"
            ],
            "image/png": "[encoded data removed]"
          },
          "metadata": {}
        }
      ],
      "source": [
        "plt.rcParams[\"figure.figsize\"] = (6.5,4)\n",
        "ax = plt.axes()\n",
        "ax.set_facecolor(\"black\")\n",
        "plt.scatter(translatedEmbeddingFDL[:, 0], translatedEmbeddingFDL[:, 1], c=parts, cmap='Spectral', s=5)\n",
        "plt.gca().set_aspect('equal', 'datalim')\n",
        "plt.colorbar(boundaries=np.arange(4)-0.5).set_ticks(np.arange(3))\n",
        "# plt.title('UMAP projection after translation', fontsize=24);"
      ]
    },
    {
      "cell_type": "code",
      "source": [
        "from pyDRMetrics.coranking_matrix import *\n",
        "from sklearn.metrics import pairwise_distances\n",
        "\n",
        "def TandC(X,Z):\n",
        "  df = pd.DataFrame(X, index=None)\n",
        "  D = pd.DataFrame(pairwise_distances(df.values)).values\n",
        "  dfz = pd.DataFrame(Z, index=None)\n",
        "  Dz = pd.DataFrame(pairwise_distances(dfz.values)).values\n",
        "\n",
        "  R = ranking_matrix(D)\n",
        "  Rz = ranking_matrix(Dz)\n",
        "  Q = coranking_matrix(R, Rz)\n",
        "\n",
        "  Q = Q[1:,1:]\n",
        "  m = len(Q)\n",
        "\n",
        "  # T = np.zeros(m-1) # trustworthiness\n",
        "  # C = np.zeros(m-1) # continuity\n",
        "\n",
        "  Qs = Q[7:,:7]\n",
        "  W = np.arange(Qs.shape[0]).reshape(-1, 1) # a column vector of weights. weight = rank error = actual_rank - k\n",
        "  T = 1-np.sum(Qs * W)/(7+1)/m/(m-1-7)  # 1 - normalized hard-k-intrusions. lower-left region. weighted by rank error (rank - k)\n",
        "  Qs = Q[:7,7:]\n",
        "  W = np.arange(Qs.shape[1]).reshape(1, -1) # a row vector of weights. weight = rank error = actual_rank - k\n",
        "  C = 1-np.sum(Qs * W)/(7+1)/m/(m-1-7)  # 1 - normalized hard-k-extrusions. upper-right region \n",
        "\n",
        "  return (T,C)"
      ],
      "metadata": {
        "id": "MuxRg-21Bp0b"
      },
      "execution_count": 53,
      "outputs": []
    },
    {
      "cell_type": "code",
      "execution_count": null,
      "metadata": {
        "colab": {
          "base_uri": "https://localhost:8080/"
        },
        "id": "S4KmE3Ubu6Ta",
        "outputId": "989729fe-4278-4cf7-818f-b4587dd2ff56"
      },
      "outputs": [
        {
          "output_type": "stream",
          "name": "stdout",
          "text": [
            "Trustworthiness of UMAP:  0.9701280044429226\n",
            "Trustworthiness of Translation FDL:  0.9705108760300513\n",
            "Trustworthiness of Translation PCA:  0.9705854405878982\n",
            "Trustworthiness of UMATO:  0.8114360204912494\n",
            "Trustworthiness of TSNE:  0.9868382331677268\n",
            "Trustworthiness of PCA:  0.8889491028474281\n",
            "\n",
            "Continuity of UMAP:  0.9888063999073313\n",
            "Continuity of Translation FDL:  0.9729513825669425\n",
            "Continuity of Translation PCA:  0.9720787375004141\n",
            "Continuity of UMATO:  0.9171092279381076\n",
            "Continuity of TSNE:  0.987394978613065\n",
            "Continuity of PCA:  0.9745310758680712\n"
          ]
        }
      ],
      "source": [
        "plt.rcParams[\"figure.figsize\"] = (6.5,4)\n",
        "\n",
        "drm = TandC(data_, embedding)\n",
        "newDrm = TandC(data_, translatedEmbeddingFDL)\n",
        "newDrm2 = TandC(data_, translatedEmbeddingPCA)\n",
        "umatoDrm = TandC(data_, embeddingUMATO)\n",
        "tsneDrm = TandC(data_, embeddingTSNE)\n",
        "pcaDrm = TandC(data_, embeddingPCA)\n",
        "# x = [l for l in range(len(drm.T))]\n",
        "\n",
        "# initialT = drm.T[7]\n",
        "# finalT = newDrm.T[7]\n",
        "# umatoT = umatoDrm.T[7]\n",
        "# tsneT = tsneDrm.T[7]\n",
        "# pcaT = pcaDrm.T[7]\n",
        "\n",
        "# initialC = drm[0]\n",
        "# finalC = newDrm.C\n",
        "# umatoC = umatoDrm.C\n",
        "\n",
        "print(\"Trustworthiness of UMAP: \",drm[0])\n",
        "print(\"Trustworthiness of Translation FDL: \",newDrm[0])\n",
        "print(\"Trustworthiness of Translation PCA: \",newDrm2[0])\n",
        "print(\"Trustworthiness of UMATO: \",umatoDrm[0])\n",
        "print(\"Trustworthiness of TSNE: \",tsneDrm[0])\n",
        "print(\"Trustworthiness of PCA: \",pcaDrm[0])\n",
        "\n",
        "print(\"\\nContinuity of UMAP: \",drm[1])\n",
        "print(\"Continuity of Translation FDL: \",newDrm[1])\n",
        "print(\"Continuity of Translation PCA: \",newDrm2[1])\n",
        "print(\"Continuity of UMATO: \",umatoDrm[1])\n",
        "print(\"Continuity of TSNE: \",tsneDrm[1])\n",
        "print(\"Continuity of PCA: \",pcaDrm[1])\n",
        "\n",
        "# plt.plot(x, initialT, linestyle='dotted')\n",
        "# plt.plot(x, umatoT, color='blue', linestyle='dashed')\n",
        "# plt.plot(x, finalT, color='blue')\n",
        "\n",
        "# # plt.plot(x, initialC, linestyle='dotted', color='red')\n",
        "# # plt.plot(x, umatoC, color='red', linestyle='dashed')\n",
        "# # plt.plot(x, finalC, color='red')\n",
        "\n",
        "\n",
        "# # plt.legend([\"UMAP Trustworthiness\", \"UMATO Trustworthiness\", \"Translation Trustworthiness\"])\n",
        "# # plt.xlabel(\"Number of neighbours\")\n",
        "# # plt.ylabel(\"Trustworthiness\")\n",
        "\n",
        "# plt.legend([\"UMAP\", \"UMATO\", \"Translation\"], loc=\"lower right\")\n",
        "# plt.xlabel(\"Number of neighbours\")\n",
        "# plt.ylabel(\"Trustworthiness\")\n",
        "\n",
        "# # plt.legend([\"Initial Trustworthiness\",\"Final Trustworthiness\",\"Initial Continuity\",\"Final Continuity\"], loc =\"lower right\")\n",
        "\n",
        "# plt.show()"
      ]
    },
    {
      "cell_type": "markdown",
      "metadata": {
        "id": "8yz3ZrAaWwk3"
      },
      "source": [
        "## Polar Coordinates (Shrinking)"
      ]
    },
    {
      "cell_type": "code",
      "execution_count": 54,
      "metadata": {
        "id": "QX9rY-aaWz3D"
      },
      "outputs": [],
      "source": [
        "clusterCentres=calculateClusterCenter(translatedEmbeddingFDL)"
      ]
    },
    {
      "cell_type": "code",
      "execution_count": 55,
      "metadata": {
        "id": "TH6i_XRHZInr"
      },
      "outputs": [],
      "source": [
        "def cart2pol(x, y):\n",
        "    rho = np.sqrt(x**2 + y**2)\n",
        "    phi = np.arctan2(y, x)\n",
        "    return(rho, phi)\n",
        "\n",
        "def pol2cart(rho, phi):\n",
        "    x = rho * np.cos(phi)\n",
        "    y = rho * np.sin(phi)\n",
        "    return(x, y)"
      ]
    },
    {
      "cell_type": "code",
      "execution_count": 56,
      "metadata": {
        "id": "WDeHUH2BYoqE"
      },
      "outputs": [],
      "source": [
        "newCoordinates=[]\n",
        "for i in range(len(parts)):\n",
        "  (rho, alpha) =cart2pol(clusterCentres[parts[i]][0],clusterCentres[parts[i]][1])\n",
        "  (r, theta)=cart2pol(translatedEmbeddingFDL[i][0],translatedEmbeddingFDL[i][1])\n",
        "  R = np.sqrt((r**2)+(rho**2)-(2*rho*r*np.cos(theta-alpha)))\n",
        "  if R!=0:\n",
        "    omega = np.arcsin((r/R)*(np.sin(theta-alpha)))\n",
        "    newR=0.95*R\n",
        "    originDistance = np.sqrt((newR**2)+(rho**2)+(2*rho*newR*np.cos(omega)))\n",
        "    originAngle = np.arcsin((newR/originDistance)*(np.sin(omega)))\n",
        "    (x,y)= pol2cart(originDistance, originAngle)\n",
        "    coordinate = np.array([x,y])\n",
        "    newCoordinates.append(coordinate)\n",
        "  else:\n",
        "    newCoordinates.append(clusterCentres[parts[i]])\n",
        "\n",
        "newCoordinates = np.array(newCoordinates)"
      ]
    },
    {
      "cell_type": "code",
      "source": [],
      "metadata": {
        "id": "etum7dU3wL6H"
      },
      "execution_count": null,
      "outputs": []
    }
  ],
  "metadata": {
    "colab": {
      "collapsed_sections": [
        "pl0bcfq8tq0V",
        "F3pxbse0ty2f",
        "DkauVZJlClv8",
        "sZXpvZ0at49Q",
        "KWKv912Y-AIO",
        "be9n_gUZTXeA",
        "JWlG2v5ViZ9p"
      ],
      "machine_shape": "hm",
      "provenance": [],
      "include_colab_link": true
    },
    "gpuClass": "premium",
    "kernelspec": {
      "display_name": "Python 3",
      "name": "python3"
    },
    "language_info": {
      "name": "python"
    }
  },
  "nbformat": 4,
  "nbformat_minor": 0
}