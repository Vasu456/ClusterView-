{
  "cells": [
    {
      "cell_type": "markdown",
      "metadata": {
        "id": "view-in-github",
        "colab_type": "text"
      },
      "source": [
        "<a href=\"https://colab.research.google.com/github/Vasu456/ClusterView-/blob/main/metrics_Cluster_View.ipynb\" target=\"_parent\"><img src=\"https://colab.research.google.com/assets/colab-badge.svg\" alt=\"Open In Colab\"/></a>"
      ]
    },
    {
      "cell_type": "markdown",
      "metadata": {
        "id": "g_iruOG-5VvN"
      },
      "source": [
        "# Importing Modules\n",
        "\n"
      ]
    },
    {
      "cell_type": "code",
      "execution_count": null,
      "metadata": {
        "colab": {
          "background_save": true,
          "base_uri": "https://localhost:8080/"
        },
        "id": "0iyMknrzH_Ah",
        "outputId": "1f9d838b-9400-4cfd-cd37-23cd506fb1bd"
      },
      "outputs": [
        {
          "name": "stdout",
          "output_type": "stream",
          "text": [
            "Looking in indexes: https://pypi.org/simple, https://us-python.pkg.dev/colab-wheels/public/simple/\n",
            "Collecting umap-learn\n",
            "  Downloading umap-learn-0.5.3.tar.gz (88 kB)\n",
            "\u001b[2K     \u001b[90m━━━━━━━━━━━━━━━━━━━━━━━━━━━━━━━━━━━━━━━━\u001b[0m \u001b[32m88.2/88.2 kB\u001b[0m \u001b[31m4.7 MB/s\u001b[0m eta \u001b[36m0:00:00\u001b[0m\n",
            "\u001b[?25h  Preparing metadata (setup.py) ... \u001b[?25l\u001b[?25hdone\n",
            "Requirement already satisfied: numpy>=1.17 in /usr/local/lib/python3.10/dist-packages (from umap-learn) (1.22.4)\n",
            "Requirement already satisfied: scikit-learn>=0.22 in /usr/local/lib/python3.10/dist-packages (from umap-learn) (1.2.2)\n",
            "Requirement already satisfied: scipy>=1.0 in /usr/local/lib/python3.10/dist-packages (from umap-learn) (1.10.1)\n",
            "Requirement already satisfied: numba>=0.49 in /usr/local/lib/python3.10/dist-packages (from umap-learn) (0.56.4)\n",
            "Collecting pynndescent>=0.5 (from umap-learn)\n",
            "  Downloading pynndescent-0.5.10.tar.gz (1.1 MB)\n",
            "\u001b[2K     \u001b[90m━━━━━━━━━━━━━━━━━━━━━━━━━━━━━━━━━━━━━━━━\u001b[0m \u001b[32m1.1/1.1 MB\u001b[0m \u001b[31m47.1 MB/s\u001b[0m eta \u001b[36m0:00:00\u001b[0m\n",
            "\u001b[?25h  Preparing metadata (setup.py) ... \u001b[?25l\u001b[?25hdone\n",
            "Requirement already satisfied: tqdm in /usr/local/lib/python3.10/dist-packages (from umap-learn) (4.65.0)\n",
            "Requirement already satisfied: llvmlite<0.40,>=0.39.0dev0 in /usr/local/lib/python3.10/dist-packages (from numba>=0.49->umap-learn) (0.39.1)\n",
            "Requirement already satisfied: setuptools in /usr/local/lib/python3.10/dist-packages (from numba>=0.49->umap-learn) (67.7.2)\n",
            "Requirement already satisfied: joblib>=0.11 in /usr/local/lib/python3.10/dist-packages (from pynndescent>=0.5->umap-learn) (1.2.0)\n",
            "Requirement already satisfied: threadpoolctl>=2.0.0 in /usr/local/lib/python3.10/dist-packages (from scikit-learn>=0.22->umap-learn) (3.1.0)\n",
            "Building wheels for collected packages: umap-learn, pynndescent\n",
            "  Building wheel for umap-learn (setup.py) ... \u001b[?25l\u001b[?25hdone\n",
            "  Created wheel for umap-learn: filename=umap_learn-0.5.3-py3-none-any.whl size=82816 sha256=fc8aa9eb1154638762726d428a0e55cabe0b26550f72fabaec5dbcadc89dc1e2\n",
            "  Stored in directory: /root/.cache/pip/wheels/a0/e8/c6/a37ea663620bd5200ea1ba0907ab3c217042c1d035ef606acc\n",
            "  Building wheel for pynndescent (setup.py) ... \u001b[?25l\u001b[?25hdone\n",
            "  Created wheel for pynndescent: filename=pynndescent-0.5.10-py3-none-any.whl size=55622 sha256=e0b07f8b182fa9c0cfca86261516b965e01f4db2ac64c1a31302def2bc066363\n",
            "  Stored in directory: /root/.cache/pip/wheels/4a/38/5d/f60a40a66a9512b7e5e83517ebc2d1b42d857be97d135f1096\n",
            "Successfully built umap-learn pynndescent\n",
            "Installing collected packages: pynndescent, umap-learn\n",
            "Successfully installed pynndescent-0.5.10 umap-learn-0.5.3\n"
          ]
        }
      ],
      "source": [
        "!pip install umap-learn"
      ]
    },
    {
      "cell_type": "code",
      "execution_count": null,
      "metadata": {
        "colab": {
          "background_save": true,
          "base_uri": "https://localhost:8080/"
        },
        "id": "sU6QnMaLTzXi",
        "outputId": "0265b644-3ce0-4097-e403-1143c2f6bf4b"
      },
      "outputs": [
        {
          "name": "stdout",
          "output_type": "stream",
          "text": [
            "Looking in indexes: https://pypi.org/simple, https://us-python.pkg.dev/colab-wheels/public/simple/\n",
            "Requirement already satisfied: networkx in /usr/local/lib/python3.10/dist-packages (3.1)\n"
          ]
        }
      ],
      "source": [
        "!pip install networkx"
      ]
    },
    {
      "cell_type": "code",
      "execution_count": null,
      "metadata": {
        "colab": {
          "background_save": true,
          "base_uri": "https://localhost:8080/"
        },
        "id": "HT06Hdl7IaSR",
        "outputId": "d1202cc5-a602-41eb-a4b0-ae83012fb432"
      },
      "outputs": [
        {
          "name": "stdout",
          "output_type": "stream",
          "text": [
            "Looking in indexes: https://pypi.org/simple, https://us-python.pkg.dev/colab-wheels/public/simple/\n",
            "Requirement already satisfied: forcelayout in /usr/local/lib/python3.10/dist-packages (1.0.6)\n",
            "Requirement already satisfied: numpy in /usr/local/lib/python3.10/dist-packages (from forcelayout) (1.22.4)\n",
            "Requirement already satisfied: matplotlib in /usr/local/lib/python3.10/dist-packages (from forcelayout) (3.7.1)\n",
            "Requirement already satisfied: contourpy>=1.0.1 in /usr/local/lib/python3.10/dist-packages (from matplotlib->forcelayout) (1.0.7)\n",
            "Requirement already satisfied: cycler>=0.10 in /usr/local/lib/python3.10/dist-packages (from matplotlib->forcelayout) (0.11.0)\n",
            "Requirement already satisfied: fonttools>=4.22.0 in /usr/local/lib/python3.10/dist-packages (from matplotlib->forcelayout) (4.39.3)\n",
            "Requirement already satisfied: kiwisolver>=1.0.1 in /usr/local/lib/python3.10/dist-packages (from matplotlib->forcelayout) (1.4.4)\n",
            "Requirement already satisfied: packaging>=20.0 in /usr/local/lib/python3.10/dist-packages (from matplotlib->forcelayout) (23.1)\n",
            "Requirement already satisfied: pillow>=6.2.0 in /usr/local/lib/python3.10/dist-packages (from matplotlib->forcelayout) (8.4.0)\n",
            "Requirement already satisfied: pyparsing>=2.3.1 in /usr/local/lib/python3.10/dist-packages (from matplotlib->forcelayout) (3.0.9)\n",
            "Requirement already satisfied: python-dateutil>=2.7 in /usr/local/lib/python3.10/dist-packages (from matplotlib->forcelayout) (2.8.2)\n",
            "Requirement already satisfied: six>=1.5 in /usr/local/lib/python3.10/dist-packages (from python-dateutil>=2.7->matplotlib->forcelayout) (1.16.0)\n",
            "Looking in indexes: https://pypi.org/simple, https://us-python.pkg.dev/colab-wheels/public/simple/\n",
            "Requirement already satisfied: pyDRMetrics in /usr/local/lib/python3.10/dist-packages (0.0.7)\n"
          ]
        }
      ],
      "source": [
        "!pip install forcelayout\n",
        "!pip install pyDRMetrics"
      ]
    },
    {
      "cell_type": "code",
      "execution_count": null,
      "metadata": {
        "colab": {
          "background_save": true,
          "base_uri": "https://localhost:8080/"
        },
        "id": "SwWOWTkcJ4yN",
        "outputId": "4ab8d4b2-cadf-498d-ba51-f1ea1dfde7d8"
      },
      "outputs": [
        {
          "name": "stdout",
          "output_type": "stream",
          "text": [
            "Looking in indexes: https://pypi.org/simple, https://us-python.pkg.dev/colab-wheels/public/simple/\n",
            "Requirement already satisfied: scikit-learn in /usr/local/lib/python3.10/dist-packages (1.2.2)\n",
            "Requirement already satisfied: numpy>=1.17.3 in /usr/local/lib/python3.10/dist-packages (from scikit-learn) (1.22.4)\n",
            "Requirement already satisfied: scipy>=1.3.2 in /usr/local/lib/python3.10/dist-packages (from scikit-learn) (1.10.1)\n",
            "Requirement already satisfied: joblib>=1.1.1 in /usr/local/lib/python3.10/dist-packages (from scikit-learn) (1.2.0)\n",
            "Requirement already satisfied: threadpoolctl>=2.0.0 in /usr/local/lib/python3.10/dist-packages (from scikit-learn) (3.1.0)\n"
          ]
        }
      ],
      "source": [
        "!pip install scikit-learn"
      ]
    },
    {
      "cell_type": "code",
      "execution_count": null,
      "metadata": {
        "colab": {
          "base_uri": "https://localhost:8080/"
        },
        "id": "0rUyj-1u-e0V",
        "outputId": "d1f475d9-ccb9-4c8a-e044-92d784939dda"
      },
      "outputs": [
        {
          "name": "stdout",
          "output_type": "stream",
          "text": [
            "/content/metis-5.1.0\n",
            "rm -rf build/Linux-x86_64\n",
            "mkdir -p build/Linux-x86_64\n",
            "cd build/Linux-x86_64 && cmake /content/metis-5.1.0 -DCMAKE_VERBOSE_MAKEFILE=1 -DGKLIB_PATH=/content/metis-5.1.0/GKlib -DCMAKE_INSTALL_PREFIX=/root/.local/ -DSHARED=1\n",
            "\u001b[0mCMake Deprecation Warning at CMakeLists.txt:1 (cmake_minimum_required):\n",
            "  Compatibility with CMake < 2.8.12 will be removed from a future version of\n",
            "  CMake.\n",
            "\n",
            "  Update the VERSION argument <min> value or use a ...<max> suffix to tell\n",
            "  CMake that the project does not need compatibility with older versions.\n",
            "\n",
            "\u001b[0m\n",
            "-- The C compiler identification is GNU 9.4.0\n",
            "-- The CXX compiler identification is GNU 9.4.0\n",
            "-- Detecting C compiler ABI info\n",
            "-- Detecting C compiler ABI info - done\n",
            "-- Check for working C compiler: /usr/bin/cc - skipped\n",
            "-- Detecting C compile features\n",
            "-- Detecting C compile features - done\n",
            "-- Detecting CXX compiler ABI info\n",
            "-- Detecting CXX compiler ABI info - done\n",
            "-- Check for working CXX compiler: /usr/bin/c++ - skipped\n",
            "-- Detecting CXX compile features\n",
            "-- Detecting CXX compile features - done\n",
            "-- Looking for execinfo.h\n",
            "-- Looking for execinfo.h - found\n",
            "-- Looking for getline\n",
            "-- Looking for getline - found\n",
            "-- checking for thread-local storage - found\n",
            "-- Configuring done\n",
            "-- Generating done\n",
            "-- Build files have been written to: /content/metis-5.1.0/build/Linux-x86_64\n",
            "make[1]: Entering directory '/content/metis-5.1.0/build/Linux-x86_64'\n",
            "/usr/local/lib/python3.10/dist-packages/cmake/data/bin/cmake -S/content/metis-5.1.0 -B/content/metis-5.1.0/build/Linux-x86_64 --check-build-system CMakeFiles/Makefile.cmake 0\n",
            "/usr/local/lib/python3.10/dist-packages/cmake/data/bin/cmake -E cmake_progress_start /content/metis-5.1.0/build/Linux-x86_64/CMakeFiles /content/metis-5.1.0/build/Linux-x86_64//CMakeFiles/progress.marks\n",
            "make  -f CMakeFiles/Makefile2 all\n",
            "make[2]: Entering directory '/content/metis-5.1.0/build/Linux-x86_64'\n",
            "make  -f libmetis/CMakeFiles/metis.dir/build.make libmetis/CMakeFiles/metis.dir/depend\n",
            "make[3]: Entering directory '/content/metis-5.1.0/build/Linux-x86_64'\n",
            "cd /content/metis-5.1.0/build/Linux-x86_64 && /usr/local/lib/python3.10/dist-packages/cmake/data/bin/cmake -E cmake_depends \"Unix Makefiles\" /content/metis-5.1.0 /content/metis-5.1.0/libmetis /content/metis-5.1.0/build/Linux-x86_64 /content/metis-5.1.0/build/Linux-x86_64/libmetis /content/metis-5.1.0/build/Linux-x86_64/libmetis/CMakeFiles/metis.dir/DependInfo.cmake --color=\n",
            "make[3]: Leaving directory '/content/metis-5.1.0/build/Linux-x86_64'\n",
            "make  -f libmetis/CMakeFiles/metis.dir/build.make libmetis/CMakeFiles/metis.dir/build\n",
            "make[3]: Entering directory '/content/metis-5.1.0/build/Linux-x86_64'\n",
            "[  1%] \u001b[32mBuilding C object libmetis/CMakeFiles/metis.dir/__/GKlib/b64.c.o\u001b[0m\n",
            "cd /content/metis-5.1.0/build/Linux-x86_64/libmetis && /usr/bin/cc -Dmetis_EXPORTS -I/content/metis-5.1.0/GKlib -I/content/metis-5.1.0/include -I/content/metis-5.1.0/libmetis/. -DLINUX -D_FILE_OFFSET_BITS=64 -std=c99 -fno-strict-aliasing -fPIC -Wall -pedantic -Wno-unused-but-set-variable -Wno-unused-variable -Wno-unknown-pragmas -DNDEBUG -DNDEBUG2 -DHAVE_EXECINFO_H -DHAVE_GETLINE -O3 -fPIC -MD -MT libmetis/CMakeFiles/metis.dir/__/GKlib/b64.c.o -MF CMakeFiles/metis.dir/__/GKlib/b64.c.o.d -o CMakeFiles/metis.dir/__/GKlib/b64.c.o -c /content/metis-5.1.0/GKlib/b64.c\n",
            "[  2%] \u001b[32mBuilding C object libmetis/CMakeFiles/metis.dir/__/GKlib/blas.c.o\u001b[0m\n",
            "cd /content/metis-5.1.0/build/Linux-x86_64/libmetis && /usr/bin/cc -Dmetis_EXPORTS -I/content/metis-5.1.0/GKlib -I/content/metis-5.1.0/include -I/content/metis-5.1.0/libmetis/. -DLINUX -D_FILE_OFFSET_BITS=64 -std=c99 -fno-strict-aliasing -fPIC -Wall -pedantic -Wno-unused-but-set-variable -Wno-unused-variable -Wno-unknown-pragmas -DNDEBUG -DNDEBUG2 -DHAVE_EXECINFO_H -DHAVE_GETLINE -O3 -fPIC -MD -MT libmetis/CMakeFiles/metis.dir/__/GKlib/blas.c.o -MF CMakeFiles/metis.dir/__/GKlib/blas.c.o.d -o CMakeFiles/metis.dir/__/GKlib/blas.c.o -c /content/metis-5.1.0/GKlib/blas.c\n",
            "[  3%] \u001b[32mBuilding C object libmetis/CMakeFiles/metis.dir/__/GKlib/csr.c.o\u001b[0m\n",
            "cd /content/metis-5.1.0/build/Linux-x86_64/libmetis && /usr/bin/cc -Dmetis_EXPORTS -I/content/metis-5.1.0/GKlib -I/content/metis-5.1.0/include -I/content/metis-5.1.0/libmetis/. -DLINUX -D_FILE_OFFSET_BITS=64 -std=c99 -fno-strict-aliasing -fPIC -Wall -pedantic -Wno-unused-but-set-variable -Wno-unused-variable -Wno-unknown-pragmas -DNDEBUG -DNDEBUG2 -DHAVE_EXECINFO_H -DHAVE_GETLINE -O3 -fPIC -MD -MT libmetis/CMakeFiles/metis.dir/__/GKlib/csr.c.o -MF CMakeFiles/metis.dir/__/GKlib/csr.c.o.d -o CMakeFiles/metis.dir/__/GKlib/csr.c.o -c /content/metis-5.1.0/GKlib/csr.c\n",
            "\u001b[01m\u001b[K/content/metis-5.1.0/GKlib/csr.c:\u001b[m\u001b[K In function ‘\u001b[01m\u001b[Kgk_csr_Normalize\u001b[m\u001b[K’:\n",
            "\u001b[01m\u001b[K/content/metis-5.1.0/GKlib/csr.c:1344:9:\u001b[m\u001b[K \u001b[01;35m\u001b[Kwarning: \u001b[m\u001b[Kthis ‘\u001b[01m\u001b[Kif\u001b[m\u001b[K’ clause does not guard... [\u001b[01;35m\u001b[K-Wmisleading-indentation\u001b[m\u001b[K]\n",
            " 1344 |    else \u001b[01;35m\u001b[Kif\u001b[m\u001b[K (norm == 1)\n",
            "      |         \u001b[01;35m\u001b[K^~\u001b[m\u001b[K\n",
            "\u001b[01m\u001b[K/content/metis-5.1.0/GKlib/csr.c:1346:11:\u001b[m\u001b[K \u001b[01;36m\u001b[Knote: \u001b[m\u001b[K...this statement, but the latter is misleadingly indented as if it were guarded by the ‘\u001b[01m\u001b[Kif\u001b[m\u001b[K’\n",
            " 1346 |           \u001b[01;36m\u001b[Kfor\u001b[m\u001b[K (j=ptr[i]; j<ptr[i+1]; j++)\n",
            "      |           \u001b[01;36m\u001b[K^~~\u001b[m\u001b[K\n",
            "\u001b[01m\u001b[K/content/metis-5.1.0/GKlib/csr.c:1371:9:\u001b[m\u001b[K \u001b[01;35m\u001b[Kwarning: \u001b[m\u001b[Kthis ‘\u001b[01m\u001b[Kif\u001b[m\u001b[K’ clause does not guard... [\u001b[01;35m\u001b[K-Wmisleading-indentation\u001b[m\u001b[K]\n",
            " 1371 |    else \u001b[01;35m\u001b[Kif\u001b[m\u001b[K (norm == 1)\n",
            "      |         \u001b[01;35m\u001b[K^~\u001b[m\u001b[K\n",
            "\u001b[01m\u001b[K/content/metis-5.1.0/GKlib/csr.c:1373:11:\u001b[m\u001b[K \u001b[01;36m\u001b[Knote: \u001b[m\u001b[K...this statement, but the latter is misleadingly indented as if it were guarded by the ‘\u001b[01m\u001b[Kif\u001b[m\u001b[K’\n",
            " 1373 |           \u001b[01;36m\u001b[Kfor\u001b[m\u001b[K (j=ptr[i]; j<ptr[i+1]; j++)\n",
            "      |           \u001b[01;36m\u001b[K^~~\u001b[m\u001b[K\n",
            "[  4%] \u001b[32mBuilding C object libmetis/CMakeFiles/metis.dir/__/GKlib/error.c.o\u001b[0m\n",
            "cd /content/metis-5.1.0/build/Linux-x86_64/libmetis && /usr/bin/cc -Dmetis_EXPORTS -I/content/metis-5.1.0/GKlib -I/content/metis-5.1.0/include -I/content/metis-5.1.0/libmetis/. -DLINUX -D_FILE_OFFSET_BITS=64 -std=c99 -fno-strict-aliasing -fPIC -Wall -pedantic -Wno-unused-but-set-variable -Wno-unused-variable -Wno-unknown-pragmas -DNDEBUG -DNDEBUG2 -DHAVE_EXECINFO_H -DHAVE_GETLINE -O3 -fPIC -MD -MT libmetis/CMakeFiles/metis.dir/__/GKlib/error.c.o -MF CMakeFiles/metis.dir/__/GKlib/error.c.o.d -o CMakeFiles/metis.dir/__/GKlib/error.c.o -c /content/metis-5.1.0/GKlib/error.c\n",
            "[  5%] \u001b[32mBuilding C object libmetis/CMakeFiles/metis.dir/__/GKlib/evaluate.c.o\u001b[0m\n",
            "cd /content/metis-5.1.0/build/Linux-x86_64/libmetis && /usr/bin/cc -Dmetis_EXPORTS -I/content/metis-5.1.0/GKlib -I/content/metis-5.1.0/include -I/content/metis-5.1.0/libmetis/. -DLINUX -D_FILE_OFFSET_BITS=64 -std=c99 -fno-strict-aliasing -fPIC -Wall -pedantic -Wno-unused-but-set-variable -Wno-unused-variable -Wno-unknown-pragmas -DNDEBUG -DNDEBUG2 -DHAVE_EXECINFO_H -DHAVE_GETLINE -O3 -fPIC -MD -MT libmetis/CMakeFiles/metis.dir/__/GKlib/evaluate.c.o -MF CMakeFiles/metis.dir/__/GKlib/evaluate.c.o.d -o CMakeFiles/metis.dir/__/GKlib/evaluate.c.o -c /content/metis-5.1.0/GKlib/evaluate.c\n",
            "[  6%] \u001b[32mBuilding C object libmetis/CMakeFiles/metis.dir/__/GKlib/fkvkselect.c.o\u001b[0m\n",
            "cd /content/metis-5.1.0/build/Linux-x86_64/libmetis && /usr/bin/cc -Dmetis_EXPORTS -I/content/metis-5.1.0/GKlib -I/content/metis-5.1.0/include -I/content/metis-5.1.0/libmetis/. -DLINUX -D_FILE_OFFSET_BITS=64 -std=c99 -fno-strict-aliasing -fPIC -Wall -pedantic -Wno-unused-but-set-variable -Wno-unused-variable -Wno-unknown-pragmas -DNDEBUG -DNDEBUG2 -DHAVE_EXECINFO_H -DHAVE_GETLINE -O3 -fPIC -MD -MT libmetis/CMakeFiles/metis.dir/__/GKlib/fkvkselect.c.o -MF CMakeFiles/metis.dir/__/GKlib/fkvkselect.c.o.d -o CMakeFiles/metis.dir/__/GKlib/fkvkselect.c.o -c /content/metis-5.1.0/GKlib/fkvkselect.c\n",
            "[  7%] \u001b[32mBuilding C object libmetis/CMakeFiles/metis.dir/__/GKlib/fs.c.o\u001b[0m\n",
            "cd /content/metis-5.1.0/build/Linux-x86_64/libmetis && /usr/bin/cc -Dmetis_EXPORTS -I/content/metis-5.1.0/GKlib -I/content/metis-5.1.0/include -I/content/metis-5.1.0/libmetis/. -DLINUX -D_FILE_OFFSET_BITS=64 -std=c99 -fno-strict-aliasing -fPIC -Wall -pedantic -Wno-unused-but-set-variable -Wno-unused-variable -Wno-unknown-pragmas -DNDEBUG -DNDEBUG2 -DHAVE_EXECINFO_H -DHAVE_GETLINE -O3 -fPIC -MD -MT libmetis/CMakeFiles/metis.dir/__/GKlib/fs.c.o -MF CMakeFiles/metis.dir/__/GKlib/fs.c.o.d -o CMakeFiles/metis.dir/__/GKlib/fs.c.o -c /content/metis-5.1.0/GKlib/fs.c\n",
            "[  9%] \u001b[32mBuilding C object libmetis/CMakeFiles/metis.dir/__/GKlib/getopt.c.o\u001b[0m\n",
            "cd /content/metis-5.1.0/build/Linux-x86_64/libmetis && /usr/bin/cc -Dmetis_EXPORTS -I/content/metis-5.1.0/GKlib -I/content/metis-5.1.0/include -I/content/metis-5.1.0/libmetis/. -DLINUX -D_FILE_OFFSET_BITS=64 -std=c99 -fno-strict-aliasing -fPIC -Wall -pedantic -Wno-unused-but-set-variable -Wno-unused-variable -Wno-unknown-pragmas -DNDEBUG -DNDEBUG2 -DHAVE_EXECINFO_H -DHAVE_GETLINE -O3 -fPIC -MD -MT libmetis/CMakeFiles/metis.dir/__/GKlib/getopt.c.o -MF CMakeFiles/metis.dir/__/GKlib/getopt.c.o.d -o CMakeFiles/metis.dir/__/GKlib/getopt.c.o -c /content/metis-5.1.0/GKlib/getopt.c\n",
            "\u001b[01m\u001b[K/content/metis-5.1.0/GKlib/getopt.c:\u001b[m\u001b[K In function ‘\u001b[01m\u001b[Kgk_getopt_internal\u001b[m\u001b[K’:\n",
            "\u001b[01m\u001b[K/content/metis-5.1.0/GKlib/getopt.c:343:5:\u001b[m\u001b[K \u001b[01;35m\u001b[Kwarning: \u001b[m\u001b[Kthis ‘\u001b[01m\u001b[Kif\u001b[m\u001b[K’ clause does not guard... [\u001b[01;35m\u001b[K-Wmisleading-indentation\u001b[m\u001b[K]\n",
            "  343 |     \u001b[01;35m\u001b[Kif\u001b[m\u001b[K (gk_optind == 0)\n",
            "      |     \u001b[01;35m\u001b[K^~\u001b[m\u001b[K\n",
            "\u001b[01m\u001b[K/content/metis-5.1.0/GKlib/getopt.c:345:7:\u001b[m\u001b[K \u001b[01;36m\u001b[Knote: \u001b[m\u001b[K...this statement, but the latter is misleadingly indented as if it were guarded by the ‘\u001b[01m\u001b[Kif\u001b[m\u001b[K’\n",
            "  345 |       \u001b[01;36m\u001b[Koptstring\u001b[m\u001b[K = gk_getopt_initialize (argc, argv, optstring);\n",
            "      |       \u001b[01;36m\u001b[K^~~~~~~~~\u001b[m\u001b[K\n",
            "\u001b[01m\u001b[K/content/metis-5.1.0/GKlib/getopt.c:700:2:\u001b[m\u001b[K \u001b[01;35m\u001b[Kwarning: \u001b[m\u001b[Kthis ‘\u001b[01m\u001b[Kelse\u001b[m\u001b[K’ clause does not guard... [\u001b[01;35m\u001b[K-Wmisleading-indentation\u001b[m\u001b[K]\n",
            "  700 |  \u001b[01;35m\u001b[Kelse\u001b[m\u001b[K\n",
            "      |  \u001b[01;35m\u001b[K^~~~\u001b[m\u001b[K\n",
            "\u001b[01m\u001b[K/content/metis-5.1.0/GKlib/getopt.c:703:4:\u001b[m\u001b[K \u001b[01;36m\u001b[Knote: \u001b[m\u001b[K...this statement, but the latter is misleadingly indented as if it were guarded by the ‘\u001b[01m\u001b[Kelse\u001b[m\u001b[K’\n",
            "  703 |    \u001b[01;36m\u001b[Knextchar\u001b[m\u001b[K = NULL;\n",
            "      |    \u001b[01;36m\u001b[K^~~~~~~~\u001b[m\u001b[K\n",
            "[ 10%] \u001b[32mBuilding C object libmetis/CMakeFiles/metis.dir/__/GKlib/gkregex.c.o\u001b[0m\n",
            "cd /content/metis-5.1.0/build/Linux-x86_64/libmetis && /usr/bin/cc -Dmetis_EXPORTS -I/content/metis-5.1.0/GKlib -I/content/metis-5.1.0/include -I/content/metis-5.1.0/libmetis/. -DLINUX -D_FILE_OFFSET_BITS=64 -std=c99 -fno-strict-aliasing -fPIC -Wall -pedantic -Wno-unused-but-set-variable -Wno-unused-variable -Wno-unknown-pragmas -DNDEBUG -DNDEBUG2 -DHAVE_EXECINFO_H -DHAVE_GETLINE -O3 -fPIC -MD -MT libmetis/CMakeFiles/metis.dir/__/GKlib/gkregex.c.o -MF CMakeFiles/metis.dir/__/GKlib/gkregex.c.o.d -o CMakeFiles/metis.dir/__/GKlib/gkregex.c.o -c /content/metis-5.1.0/GKlib/gkregex.c\n",
            "[ 11%] \u001b[32mBuilding C object libmetis/CMakeFiles/metis.dir/__/GKlib/graph.c.o\u001b[0m\n",
            "cd /content/metis-5.1.0/build/Linux-x86_64/libmetis && /usr/bin/cc -Dmetis_EXPORTS -I/content/metis-5.1.0/GKlib -I/content/metis-5.1.0/include -I/content/metis-5.1.0/libmetis/. -DLINUX -D_FILE_OFFSET_BITS=64 -std=c99 -fno-strict-aliasing -fPIC -Wall -pedantic -Wno-unused-but-set-variable -Wno-unused-variable -Wno-unknown-pragmas -DNDEBUG -DNDEBUG2 -DHAVE_EXECINFO_H -DHAVE_GETLINE -O3 -fPIC -MD -MT libmetis/CMakeFiles/metis.dir/__/GKlib/graph.c.o -MF CMakeFiles/metis.dir/__/GKlib/graph.c.o.d -o CMakeFiles/metis.dir/__/GKlib/graph.c.o -c /content/metis-5.1.0/GKlib/graph.c\n",
            "[ 12%] \u001b[32mBuilding C object libmetis/CMakeFiles/metis.dir/__/GKlib/htable.c.o\u001b[0m\n",
            "cd /content/metis-5.1.0/build/Linux-x86_64/libmetis && /usr/bin/cc -Dmetis_EXPORTS -I/content/metis-5.1.0/GKlib -I/content/metis-5.1.0/include -I/content/metis-5.1.0/libmetis/. -DLINUX -D_FILE_OFFSET_BITS=64 -std=c99 -fno-strict-aliasing -fPIC -Wall -pedantic -Wno-unused-but-set-variable -Wno-unused-variable -Wno-unknown-pragmas -DNDEBUG -DNDEBUG2 -DHAVE_EXECINFO_H -DHAVE_GETLINE -O3 -fPIC -MD -MT libmetis/CMakeFiles/metis.dir/__/GKlib/htable.c.o -MF CMakeFiles/metis.dir/__/GKlib/htable.c.o.d -o CMakeFiles/metis.dir/__/GKlib/htable.c.o -c /content/metis-5.1.0/GKlib/htable.c\n",
            "[ 13%] \u001b[32mBuilding C object libmetis/CMakeFiles/metis.dir/__/GKlib/io.c.o\u001b[0m\n",
            "cd /content/metis-5.1.0/build/Linux-x86_64/libmetis && /usr/bin/cc -Dmetis_EXPORTS -I/content/metis-5.1.0/GKlib -I/content/metis-5.1.0/include -I/content/metis-5.1.0/libmetis/. -DLINUX -D_FILE_OFFSET_BITS=64 -std=c99 -fno-strict-aliasing -fPIC -Wall -pedantic -Wno-unused-but-set-variable -Wno-unused-variable -Wno-unknown-pragmas -DNDEBUG -DNDEBUG2 -DHAVE_EXECINFO_H -DHAVE_GETLINE -O3 -fPIC -MD -MT libmetis/CMakeFiles/metis.dir/__/GKlib/io.c.o -MF CMakeFiles/metis.dir/__/GKlib/io.c.o.d -o CMakeFiles/metis.dir/__/GKlib/io.c.o -c /content/metis-5.1.0/GKlib/io.c\n",
            "[ 14%] \u001b[32mBuilding C object libmetis/CMakeFiles/metis.dir/__/GKlib/itemsets.c.o\u001b[0m\n",
            "cd /content/metis-5.1.0/build/Linux-x86_64/libmetis && /usr/bin/cc -Dmetis_EXPORTS -I/content/metis-5.1.0/GKlib -I/content/metis-5.1.0/include -I/content/metis-5.1.0/libmetis/. -DLINUX -D_FILE_OFFSET_BITS=64 -std=c99 -fno-strict-aliasing -fPIC -Wall -pedantic -Wno-unused-but-set-variable -Wno-unused-variable -Wno-unknown-pragmas -DNDEBUG -DNDEBUG2 -DHAVE_EXECINFO_H -DHAVE_GETLINE -O3 -fPIC -MD -MT libmetis/CMakeFiles/metis.dir/__/GKlib/itemsets.c.o -MF CMakeFiles/metis.dir/__/GKlib/itemsets.c.o.d -o CMakeFiles/metis.dir/__/GKlib/itemsets.c.o -c /content/metis-5.1.0/GKlib/itemsets.c\n",
            "[ 15%] \u001b[32mBuilding C object libmetis/CMakeFiles/metis.dir/__/GKlib/mcore.c.o\u001b[0m\n",
            "cd /content/metis-5.1.0/build/Linux-x86_64/libmetis && /usr/bin/cc -Dmetis_EXPORTS -I/content/metis-5.1.0/GKlib -I/content/metis-5.1.0/include -I/content/metis-5.1.0/libmetis/. -DLINUX -D_FILE_OFFSET_BITS=64 -std=c99 -fno-strict-aliasing -fPIC -Wall -pedantic -Wno-unused-but-set-variable -Wno-unused-variable -Wno-unknown-pragmas -DNDEBUG -DNDEBUG2 -DHAVE_EXECINFO_H -DHAVE_GETLINE -O3 -fPIC -MD -MT libmetis/CMakeFiles/metis.dir/__/GKlib/mcore.c.o -MF CMakeFiles/metis.dir/__/GKlib/mcore.c.o.d -o CMakeFiles/metis.dir/__/GKlib/mcore.c.o -c /content/metis-5.1.0/GKlib/mcore.c\n",
            "[ 17%] \u001b[32mBuilding C object libmetis/CMakeFiles/metis.dir/__/GKlib/memory.c.o\u001b[0m\n",
            "cd /content/metis-5.1.0/build/Linux-x86_64/libmetis && /usr/bin/cc -Dmetis_EXPORTS -I/content/metis-5.1.0/GKlib -I/content/metis-5.1.0/include -I/content/metis-5.1.0/libmetis/. -DLINUX -D_FILE_OFFSET_BITS=64 -std=c99 -fno-strict-aliasing -fPIC -Wall -pedantic -Wno-unused-but-set-variable -Wno-unused-variable -Wno-unknown-pragmas -DNDEBUG -DNDEBUG2 -DHAVE_EXECINFO_H -DHAVE_GETLINE -O3 -fPIC -MD -MT libmetis/CMakeFiles/metis.dir/__/GKlib/memory.c.o -MF CMakeFiles/metis.dir/__/GKlib/memory.c.o.d -o CMakeFiles/metis.dir/__/GKlib/memory.c.o -c /content/metis-5.1.0/GKlib/memory.c\n",
            "[ 18%] \u001b[32mBuilding C object libmetis/CMakeFiles/metis.dir/__/GKlib/omp.c.o\u001b[0m\n",
            "cd /content/metis-5.1.0/build/Linux-x86_64/libmetis && /usr/bin/cc -Dmetis_EXPORTS -I/content/metis-5.1.0/GKlib -I/content/metis-5.1.0/include -I/content/metis-5.1.0/libmetis/. -DLINUX -D_FILE_OFFSET_BITS=64 -std=c99 -fno-strict-aliasing -fPIC -Wall -pedantic -Wno-unused-but-set-variable -Wno-unused-variable -Wno-unknown-pragmas -DNDEBUG -DNDEBUG2 -DHAVE_EXECINFO_H -DHAVE_GETLINE -O3 -fPIC -MD -MT libmetis/CMakeFiles/metis.dir/__/GKlib/omp.c.o -MF CMakeFiles/metis.dir/__/GKlib/omp.c.o.d -o CMakeFiles/metis.dir/__/GKlib/omp.c.o -c /content/metis-5.1.0/GKlib/omp.c\n",
            "[ 19%] \u001b[32mBuilding C object libmetis/CMakeFiles/metis.dir/__/GKlib/pdb.c.o\u001b[0m\n",
            "cd /content/metis-5.1.0/build/Linux-x86_64/libmetis && /usr/bin/cc -Dmetis_EXPORTS -I/content/metis-5.1.0/GKlib -I/content/metis-5.1.0/include -I/content/metis-5.1.0/libmetis/. -DLINUX -D_FILE_OFFSET_BITS=64 -std=c99 -fno-strict-aliasing -fPIC -Wall -pedantic -Wno-unused-but-set-variable -Wno-unused-variable -Wno-unknown-pragmas -DNDEBUG -DNDEBUG2 -DHAVE_EXECINFO_H -DHAVE_GETLINE -O3 -fPIC -MD -MT libmetis/CMakeFiles/metis.dir/__/GKlib/pdb.c.o -MF CMakeFiles/metis.dir/__/GKlib/pdb.c.o.d -o CMakeFiles/metis.dir/__/GKlib/pdb.c.o -c /content/metis-5.1.0/GKlib/pdb.c\n",
            "[ 20%] \u001b[32mBuilding C object libmetis/CMakeFiles/metis.dir/__/GKlib/pqueue.c.o\u001b[0m\n",
            "cd /content/metis-5.1.0/build/Linux-x86_64/libmetis && /usr/bin/cc -Dmetis_EXPORTS -I/content/metis-5.1.0/GKlib -I/content/metis-5.1.0/include -I/content/metis-5.1.0/libmetis/. -DLINUX -D_FILE_OFFSET_BITS=64 -std=c99 -fno-strict-aliasing -fPIC -Wall -pedantic -Wno-unused-but-set-variable -Wno-unused-variable -Wno-unknown-pragmas -DNDEBUG -DNDEBUG2 -DHAVE_EXECINFO_H -DHAVE_GETLINE -O3 -fPIC -MD -MT libmetis/CMakeFiles/metis.dir/__/GKlib/pqueue.c.o -MF CMakeFiles/metis.dir/__/GKlib/pqueue.c.o.d -o CMakeFiles/metis.dir/__/GKlib/pqueue.c.o -c /content/metis-5.1.0/GKlib/pqueue.c\n",
            "[ 21%] \u001b[32mBuilding C object libmetis/CMakeFiles/metis.dir/__/GKlib/random.c.o\u001b[0m\n",
            "cd /content/metis-5.1.0/build/Linux-x86_64/libmetis && /usr/bin/cc -Dmetis_EXPORTS -I/content/metis-5.1.0/GKlib -I/content/metis-5.1.0/include -I/content/metis-5.1.0/libmetis/. -DLINUX -D_FILE_OFFSET_BITS=64 -std=c99 -fno-strict-aliasing -fPIC -Wall -pedantic -Wno-unused-but-set-variable -Wno-unused-variable -Wno-unknown-pragmas -DNDEBUG -DNDEBUG2 -DHAVE_EXECINFO_H -DHAVE_GETLINE -O3 -fPIC -MD -MT libmetis/CMakeFiles/metis.dir/__/GKlib/random.c.o -MF CMakeFiles/metis.dir/__/GKlib/random.c.o.d -o CMakeFiles/metis.dir/__/GKlib/random.c.o -c /content/metis-5.1.0/GKlib/random.c\n",
            "[ 22%] \u001b[32mBuilding C object libmetis/CMakeFiles/metis.dir/__/GKlib/rw.c.o\u001b[0m\n",
            "cd /content/metis-5.1.0/build/Linux-x86_64/libmetis && /usr/bin/cc -Dmetis_EXPORTS -I/content/metis-5.1.0/GKlib -I/content/metis-5.1.0/include -I/content/metis-5.1.0/libmetis/. -DLINUX -D_FILE_OFFSET_BITS=64 -std=c99 -fno-strict-aliasing -fPIC -Wall -pedantic -Wno-unused-but-set-variable -Wno-unused-variable -Wno-unknown-pragmas -DNDEBUG -DNDEBUG2 -DHAVE_EXECINFO_H -DHAVE_GETLINE -O3 -fPIC -MD -MT libmetis/CMakeFiles/metis.dir/__/GKlib/rw.c.o -MF CMakeFiles/metis.dir/__/GKlib/rw.c.o.d -o CMakeFiles/metis.dir/__/GKlib/rw.c.o -c /content/metis-5.1.0/GKlib/rw.c\n",
            "[ 23%] \u001b[32mBuilding C object libmetis/CMakeFiles/metis.dir/__/GKlib/seq.c.o\u001b[0m\n",
            "cd /content/metis-5.1.0/build/Linux-x86_64/libmetis && /usr/bin/cc -Dmetis_EXPORTS -I/content/metis-5.1.0/GKlib -I/content/metis-5.1.0/include -I/content/metis-5.1.0/libmetis/. -DLINUX -D_FILE_OFFSET_BITS=64 -std=c99 -fno-strict-aliasing -fPIC -Wall -pedantic -Wno-unused-but-set-variable -Wno-unused-variable -Wno-unknown-pragmas -DNDEBUG -DNDEBUG2 -DHAVE_EXECINFO_H -DHAVE_GETLINE -O3 -fPIC -MD -MT libmetis/CMakeFiles/metis.dir/__/GKlib/seq.c.o -MF CMakeFiles/metis.dir/__/GKlib/seq.c.o.d -o CMakeFiles/metis.dir/__/GKlib/seq.c.o -c /content/metis-5.1.0/GKlib/seq.c\n",
            "[ 25%] \u001b[32mBuilding C object libmetis/CMakeFiles/metis.dir/__/GKlib/sort.c.o\u001b[0m\n",
            "cd /content/metis-5.1.0/build/Linux-x86_64/libmetis && /usr/bin/cc -Dmetis_EXPORTS -I/content/metis-5.1.0/GKlib -I/content/metis-5.1.0/include -I/content/metis-5.1.0/libmetis/. -DLINUX -D_FILE_OFFSET_BITS=64 -std=c99 -fno-strict-aliasing -fPIC -Wall -pedantic -Wno-unused-but-set-variable -Wno-unused-variable -Wno-unknown-pragmas -DNDEBUG -DNDEBUG2 -DHAVE_EXECINFO_H -DHAVE_GETLINE -O3 -fPIC -MD -MT libmetis/CMakeFiles/metis.dir/__/GKlib/sort.c.o -MF CMakeFiles/metis.dir/__/GKlib/sort.c.o.d -o CMakeFiles/metis.dir/__/GKlib/sort.c.o -c /content/metis-5.1.0/GKlib/sort.c\n",
            "[ 26%] \u001b[32mBuilding C object libmetis/CMakeFiles/metis.dir/__/GKlib/string.c.o\u001b[0m\n",
            "cd /content/metis-5.1.0/build/Linux-x86_64/libmetis && /usr/bin/cc -Dmetis_EXPORTS -I/content/metis-5.1.0/GKlib -I/content/metis-5.1.0/include -I/content/metis-5.1.0/libmetis/. -DLINUX -D_FILE_OFFSET_BITS=64 -std=c99 -fno-strict-aliasing -fPIC -Wall -pedantic -Wno-unused-but-set-variable -Wno-unused-variable -Wno-unknown-pragmas -DNDEBUG -DNDEBUG2 -DHAVE_EXECINFO_H -DHAVE_GETLINE -O3 -fPIC -MD -MT libmetis/CMakeFiles/metis.dir/__/GKlib/string.c.o -MF CMakeFiles/metis.dir/__/GKlib/string.c.o.d -o CMakeFiles/metis.dir/__/GKlib/string.c.o -c /content/metis-5.1.0/GKlib/string.c\n",
            "[ 27%] \u001b[32mBuilding C object libmetis/CMakeFiles/metis.dir/__/GKlib/timers.c.o\u001b[0m\n",
            "cd /content/metis-5.1.0/build/Linux-x86_64/libmetis && /usr/bin/cc -Dmetis_EXPORTS -I/content/metis-5.1.0/GKlib -I/content/metis-5.1.0/include -I/content/metis-5.1.0/libmetis/. -DLINUX -D_FILE_OFFSET_BITS=64 -std=c99 -fno-strict-aliasing -fPIC -Wall -pedantic -Wno-unused-but-set-variable -Wno-unused-variable -Wno-unknown-pragmas -DNDEBUG -DNDEBUG2 -DHAVE_EXECINFO_H -DHAVE_GETLINE -O3 -fPIC -MD -MT libmetis/CMakeFiles/metis.dir/__/GKlib/timers.c.o -MF CMakeFiles/metis.dir/__/GKlib/timers.c.o.d -o CMakeFiles/metis.dir/__/GKlib/timers.c.o -c /content/metis-5.1.0/GKlib/timers.c\n",
            "[ 28%] \u001b[32mBuilding C object libmetis/CMakeFiles/metis.dir/__/GKlib/tokenizer.c.o\u001b[0m\n",
            "cd /content/metis-5.1.0/build/Linux-x86_64/libmetis && /usr/bin/cc -Dmetis_EXPORTS -I/content/metis-5.1.0/GKlib -I/content/metis-5.1.0/include -I/content/metis-5.1.0/libmetis/. -DLINUX -D_FILE_OFFSET_BITS=64 -std=c99 -fno-strict-aliasing -fPIC -Wall -pedantic -Wno-unused-but-set-variable -Wno-unused-variable -Wno-unknown-pragmas -DNDEBUG -DNDEBUG2 -DHAVE_EXECINFO_H -DHAVE_GETLINE -O3 -fPIC -MD -MT libmetis/CMakeFiles/metis.dir/__/GKlib/tokenizer.c.o -MF CMakeFiles/metis.dir/__/GKlib/tokenizer.c.o.d -o CMakeFiles/metis.dir/__/GKlib/tokenizer.c.o -c /content/metis-5.1.0/GKlib/tokenizer.c\n",
            "[ 29%] \u001b[32mBuilding C object libmetis/CMakeFiles/metis.dir/__/GKlib/util.c.o\u001b[0m\n",
            "cd /content/metis-5.1.0/build/Linux-x86_64/libmetis && /usr/bin/cc -Dmetis_EXPORTS -I/content/metis-5.1.0/GKlib -I/content/metis-5.1.0/include -I/content/metis-5.1.0/libmetis/. -DLINUX -D_FILE_OFFSET_BITS=64 -std=c99 -fno-strict-aliasing -fPIC -Wall -pedantic -Wno-unused-but-set-variable -Wno-unused-variable -Wno-unknown-pragmas -DNDEBUG -DNDEBUG2 -DHAVE_EXECINFO_H -DHAVE_GETLINE -O3 -fPIC -MD -MT libmetis/CMakeFiles/metis.dir/__/GKlib/util.c.o -MF CMakeFiles/metis.dir/__/GKlib/util.c.o.d -o CMakeFiles/metis.dir/__/GKlib/util.c.o -c /content/metis-5.1.0/GKlib/util.c\n",
            "[ 30%] \u001b[32mBuilding C object libmetis/CMakeFiles/metis.dir/auxapi.c.o\u001b[0m\n",
            "cd /content/metis-5.1.0/build/Linux-x86_64/libmetis && /usr/bin/cc -Dmetis_EXPORTS -I/content/metis-5.1.0/GKlib -I/content/metis-5.1.0/include -I/content/metis-5.1.0/libmetis/. -DLINUX -D_FILE_OFFSET_BITS=64 -std=c99 -fno-strict-aliasing -fPIC -Wall -pedantic -Wno-unused-but-set-variable -Wno-unused-variable -Wno-unknown-pragmas -DNDEBUG -DNDEBUG2 -DHAVE_EXECINFO_H -DHAVE_GETLINE -O3 -fPIC -MD -MT libmetis/CMakeFiles/metis.dir/auxapi.c.o -MF CMakeFiles/metis.dir/auxapi.c.o.d -o CMakeFiles/metis.dir/auxapi.c.o -c /content/metis-5.1.0/libmetis/auxapi.c\n",
            "[ 31%] \u001b[32mBuilding C object libmetis/CMakeFiles/metis.dir/balance.c.o\u001b[0m\n",
            "cd /content/metis-5.1.0/build/Linux-x86_64/libmetis && /usr/bin/cc -Dmetis_EXPORTS -I/content/metis-5.1.0/GKlib -I/content/metis-5.1.0/include -I/content/metis-5.1.0/libmetis/. -DLINUX -D_FILE_OFFSET_BITS=64 -std=c99 -fno-strict-aliasing -fPIC -Wall -pedantic -Wno-unused-but-set-variable -Wno-unused-variable -Wno-unknown-pragmas -DNDEBUG -DNDEBUG2 -DHAVE_EXECINFO_H -DHAVE_GETLINE -O3 -fPIC -MD -MT libmetis/CMakeFiles/metis.dir/balance.c.o -MF CMakeFiles/metis.dir/balance.c.o.d -o CMakeFiles/metis.dir/balance.c.o -c /content/metis-5.1.0/libmetis/balance.c\n",
            "[ 32%] \u001b[32mBuilding C object libmetis/CMakeFiles/metis.dir/bucketsort.c.o\u001b[0m\n",
            "cd /content/metis-5.1.0/build/Linux-x86_64/libmetis && /usr/bin/cc -Dmetis_EXPORTS -I/content/metis-5.1.0/GKlib -I/content/metis-5.1.0/include -I/content/metis-5.1.0/libmetis/. -DLINUX -D_FILE_OFFSET_BITS=64 -std=c99 -fno-strict-aliasing -fPIC -Wall -pedantic -Wno-unused-but-set-variable -Wno-unused-variable -Wno-unknown-pragmas -DNDEBUG -DNDEBUG2 -DHAVE_EXECINFO_H -DHAVE_GETLINE -O3 -fPIC -MD -MT libmetis/CMakeFiles/metis.dir/bucketsort.c.o -MF CMakeFiles/metis.dir/bucketsort.c.o.d -o CMakeFiles/metis.dir/bucketsort.c.o -c /content/metis-5.1.0/libmetis/bucketsort.c\n",
            "[ 34%] \u001b[32mBuilding C object libmetis/CMakeFiles/metis.dir/checkgraph.c.o\u001b[0m\n",
            "cd /content/metis-5.1.0/build/Linux-x86_64/libmetis && /usr/bin/cc -Dmetis_EXPORTS -I/content/metis-5.1.0/GKlib -I/content/metis-5.1.0/include -I/content/metis-5.1.0/libmetis/. -DLINUX -D_FILE_OFFSET_BITS=64 -std=c99 -fno-strict-aliasing -fPIC -Wall -pedantic -Wno-unused-but-set-variable -Wno-unused-variable -Wno-unknown-pragmas -DNDEBUG -DNDEBUG2 -DHAVE_EXECINFO_H -DHAVE_GETLINE -O3 -fPIC -MD -MT libmetis/CMakeFiles/metis.dir/checkgraph.c.o -MF CMakeFiles/metis.dir/checkgraph.c.o.d -o CMakeFiles/metis.dir/checkgraph.c.o -c /content/metis-5.1.0/libmetis/checkgraph.c\n",
            "[ 35%] \u001b[32mBuilding C object libmetis/CMakeFiles/metis.dir/coarsen.c.o\u001b[0m\n",
            "cd /content/metis-5.1.0/build/Linux-x86_64/libmetis && /usr/bin/cc -Dmetis_EXPORTS -I/content/metis-5.1.0/GKlib -I/content/metis-5.1.0/include -I/content/metis-5.1.0/libmetis/. -DLINUX -D_FILE_OFFSET_BITS=64 -std=c99 -fno-strict-aliasing -fPIC -Wall -pedantic -Wno-unused-but-set-variable -Wno-unused-variable -Wno-unknown-pragmas -DNDEBUG -DNDEBUG2 -DHAVE_EXECINFO_H -DHAVE_GETLINE -O3 -fPIC -MD -MT libmetis/CMakeFiles/metis.dir/coarsen.c.o -MF CMakeFiles/metis.dir/coarsen.c.o.d -o CMakeFiles/metis.dir/coarsen.c.o -c /content/metis-5.1.0/libmetis/coarsen.c\n",
            "[ 36%] \u001b[32mBuilding C object libmetis/CMakeFiles/metis.dir/compress.c.o\u001b[0m\n",
            "cd /content/metis-5.1.0/build/Linux-x86_64/libmetis && /usr/bin/cc -Dmetis_EXPORTS -I/content/metis-5.1.0/GKlib -I/content/metis-5.1.0/include -I/content/metis-5.1.0/libmetis/. -DLINUX -D_FILE_OFFSET_BITS=64 -std=c99 -fno-strict-aliasing -fPIC -Wall -pedantic -Wno-unused-but-set-variable -Wno-unused-variable -Wno-unknown-pragmas -DNDEBUG -DNDEBUG2 -DHAVE_EXECINFO_H -DHAVE_GETLINE -O3 -fPIC -MD -MT libmetis/CMakeFiles/metis.dir/compress.c.o -MF CMakeFiles/metis.dir/compress.c.o.d -o CMakeFiles/metis.dir/compress.c.o -c /content/metis-5.1.0/libmetis/compress.c\n",
            "[ 37%] \u001b[32mBuilding C object libmetis/CMakeFiles/metis.dir/contig.c.o\u001b[0m\n",
            "cd /content/metis-5.1.0/build/Linux-x86_64/libmetis && /usr/bin/cc -Dmetis_EXPORTS -I/content/metis-5.1.0/GKlib -I/content/metis-5.1.0/include -I/content/metis-5.1.0/libmetis/. -DLINUX -D_FILE_OFFSET_BITS=64 -std=c99 -fno-strict-aliasing -fPIC -Wall -pedantic -Wno-unused-but-set-variable -Wno-unused-variable -Wno-unknown-pragmas -DNDEBUG -DNDEBUG2 -DHAVE_EXECINFO_H -DHAVE_GETLINE -O3 -fPIC -MD -MT libmetis/CMakeFiles/metis.dir/contig.c.o -MF CMakeFiles/metis.dir/contig.c.o.d -o CMakeFiles/metis.dir/contig.c.o -c /content/metis-5.1.0/libmetis/contig.c\n",
            "[ 38%] \u001b[32mBuilding C object libmetis/CMakeFiles/metis.dir/debug.c.o\u001b[0m\n",
            "cd /content/metis-5.1.0/build/Linux-x86_64/libmetis && /usr/bin/cc -Dmetis_EXPORTS -I/content/metis-5.1.0/GKlib -I/content/metis-5.1.0/include -I/content/metis-5.1.0/libmetis/. -DLINUX -D_FILE_OFFSET_BITS=64 -std=c99 -fno-strict-aliasing -fPIC -Wall -pedantic -Wno-unused-but-set-variable -Wno-unused-variable -Wno-unknown-pragmas -DNDEBUG -DNDEBUG2 -DHAVE_EXECINFO_H -DHAVE_GETLINE -O3 -fPIC -MD -MT libmetis/CMakeFiles/metis.dir/debug.c.o -MF CMakeFiles/metis.dir/debug.c.o.d -o CMakeFiles/metis.dir/debug.c.o -c /content/metis-5.1.0/libmetis/debug.c\n",
            "[ 39%] \u001b[32mBuilding C object libmetis/CMakeFiles/metis.dir/fm.c.o\u001b[0m\n",
            "cd /content/metis-5.1.0/build/Linux-x86_64/libmetis && /usr/bin/cc -Dmetis_EXPORTS -I/content/metis-5.1.0/GKlib -I/content/metis-5.1.0/include -I/content/metis-5.1.0/libmetis/. -DLINUX -D_FILE_OFFSET_BITS=64 -std=c99 -fno-strict-aliasing -fPIC -Wall -pedantic -Wno-unused-but-set-variable -Wno-unused-variable -Wno-unknown-pragmas -DNDEBUG -DNDEBUG2 -DHAVE_EXECINFO_H -DHAVE_GETLINE -O3 -fPIC -MD -MT libmetis/CMakeFiles/metis.dir/fm.c.o -MF CMakeFiles/metis.dir/fm.c.o.d -o CMakeFiles/metis.dir/fm.c.o -c /content/metis-5.1.0/libmetis/fm.c\n",
            "[ 40%] \u001b[32mBuilding C object libmetis/CMakeFiles/metis.dir/fortran.c.o\u001b[0m\n",
            "cd /content/metis-5.1.0/build/Linux-x86_64/libmetis && /usr/bin/cc -Dmetis_EXPORTS -I/content/metis-5.1.0/GKlib -I/content/metis-5.1.0/include -I/content/metis-5.1.0/libmetis/. -DLINUX -D_FILE_OFFSET_BITS=64 -std=c99 -fno-strict-aliasing -fPIC -Wall -pedantic -Wno-unused-but-set-variable -Wno-unused-variable -Wno-unknown-pragmas -DNDEBUG -DNDEBUG2 -DHAVE_EXECINFO_H -DHAVE_GETLINE -O3 -fPIC -MD -MT libmetis/CMakeFiles/metis.dir/fortran.c.o -MF CMakeFiles/metis.dir/fortran.c.o.d -o CMakeFiles/metis.dir/fortran.c.o -c /content/metis-5.1.0/libmetis/fortran.c\n",
            "[ 42%] \u001b[32mBuilding C object libmetis/CMakeFiles/metis.dir/frename.c.o\u001b[0m\n",
            "cd /content/metis-5.1.0/build/Linux-x86_64/libmetis && /usr/bin/cc -Dmetis_EXPORTS -I/content/metis-5.1.0/GKlib -I/content/metis-5.1.0/include -I/content/metis-5.1.0/libmetis/. -DLINUX -D_FILE_OFFSET_BITS=64 -std=c99 -fno-strict-aliasing -fPIC -Wall -pedantic -Wno-unused-but-set-variable -Wno-unused-variable -Wno-unknown-pragmas -DNDEBUG -DNDEBUG2 -DHAVE_EXECINFO_H -DHAVE_GETLINE -O3 -fPIC -MD -MT libmetis/CMakeFiles/metis.dir/frename.c.o -MF CMakeFiles/metis.dir/frename.c.o.d -o CMakeFiles/metis.dir/frename.c.o -c /content/metis-5.1.0/libmetis/frename.c\n",
            "[ 43%] \u001b[32mBuilding C object libmetis/CMakeFiles/metis.dir/gklib.c.o\u001b[0m\n",
            "cd /content/metis-5.1.0/build/Linux-x86_64/libmetis && /usr/bin/cc -Dmetis_EXPORTS -I/content/metis-5.1.0/GKlib -I/content/metis-5.1.0/include -I/content/metis-5.1.0/libmetis/. -DLINUX -D_FILE_OFFSET_BITS=64 -std=c99 -fno-strict-aliasing -fPIC -Wall -pedantic -Wno-unused-but-set-variable -Wno-unused-variable -Wno-unknown-pragmas -DNDEBUG -DNDEBUG2 -DHAVE_EXECINFO_H -DHAVE_GETLINE -O3 -fPIC -MD -MT libmetis/CMakeFiles/metis.dir/gklib.c.o -MF CMakeFiles/metis.dir/gklib.c.o.d -o CMakeFiles/metis.dir/gklib.c.o -c /content/metis-5.1.0/libmetis/gklib.c\n",
            "[ 44%] \u001b[32mBuilding C object libmetis/CMakeFiles/metis.dir/graph.c.o\u001b[0m\n",
            "cd /content/metis-5.1.0/build/Linux-x86_64/libmetis && /usr/bin/cc -Dmetis_EXPORTS -I/content/metis-5.1.0/GKlib -I/content/metis-5.1.0/include -I/content/metis-5.1.0/libmetis/. -DLINUX -D_FILE_OFFSET_BITS=64 -std=c99 -fno-strict-aliasing -fPIC -Wall -pedantic -Wno-unused-but-set-variable -Wno-unused-variable -Wno-unknown-pragmas -DNDEBUG -DNDEBUG2 -DHAVE_EXECINFO_H -DHAVE_GETLINE -O3 -fPIC -MD -MT libmetis/CMakeFiles/metis.dir/graph.c.o -MF CMakeFiles/metis.dir/graph.c.o.d -o CMakeFiles/metis.dir/graph.c.o -c /content/metis-5.1.0/libmetis/graph.c\n",
            "[ 45%] \u001b[32mBuilding C object libmetis/CMakeFiles/metis.dir/initpart.c.o\u001b[0m\n",
            "cd /content/metis-5.1.0/build/Linux-x86_64/libmetis && /usr/bin/cc -Dmetis_EXPORTS -I/content/metis-5.1.0/GKlib -I/content/metis-5.1.0/include -I/content/metis-5.1.0/libmetis/. -DLINUX -D_FILE_OFFSET_BITS=64 -std=c99 -fno-strict-aliasing -fPIC -Wall -pedantic -Wno-unused-but-set-variable -Wno-unused-variable -Wno-unknown-pragmas -DNDEBUG -DNDEBUG2 -DHAVE_EXECINFO_H -DHAVE_GETLINE -O3 -fPIC -MD -MT libmetis/CMakeFiles/metis.dir/initpart.c.o -MF CMakeFiles/metis.dir/initpart.c.o.d -o CMakeFiles/metis.dir/initpart.c.o -c /content/metis-5.1.0/libmetis/initpart.c\n",
            "[ 46%] \u001b[32mBuilding C object libmetis/CMakeFiles/metis.dir/kmetis.c.o\u001b[0m\n",
            "cd /content/metis-5.1.0/build/Linux-x86_64/libmetis && /usr/bin/cc -Dmetis_EXPORTS -I/content/metis-5.1.0/GKlib -I/content/metis-5.1.0/include -I/content/metis-5.1.0/libmetis/. -DLINUX -D_FILE_OFFSET_BITS=64 -std=c99 -fno-strict-aliasing -fPIC -Wall -pedantic -Wno-unused-but-set-variable -Wno-unused-variable -Wno-unknown-pragmas -DNDEBUG -DNDEBUG2 -DHAVE_EXECINFO_H -DHAVE_GETLINE -O3 -fPIC -MD -MT libmetis/CMakeFiles/metis.dir/kmetis.c.o -MF CMakeFiles/metis.dir/kmetis.c.o.d -o CMakeFiles/metis.dir/kmetis.c.o -c /content/metis-5.1.0/libmetis/kmetis.c\n",
            "[ 47%] \u001b[32mBuilding C object libmetis/CMakeFiles/metis.dir/kwayfm.c.o\u001b[0m\n",
            "cd /content/metis-5.1.0/build/Linux-x86_64/libmetis && /usr/bin/cc -Dmetis_EXPORTS -I/content/metis-5.1.0/GKlib -I/content/metis-5.1.0/include -I/content/metis-5.1.0/libmetis/. -DLINUX -D_FILE_OFFSET_BITS=64 -std=c99 -fno-strict-aliasing -fPIC -Wall -pedantic -Wno-unused-but-set-variable -Wno-unused-variable -Wno-unknown-pragmas -DNDEBUG -DNDEBUG2 -DHAVE_EXECINFO_H -DHAVE_GETLINE -O3 -fPIC -MD -MT libmetis/CMakeFiles/metis.dir/kwayfm.c.o -MF CMakeFiles/metis.dir/kwayfm.c.o.d -o CMakeFiles/metis.dir/kwayfm.c.o -c /content/metis-5.1.0/libmetis/kwayfm.c\n",
            "[ 48%] \u001b[32mBuilding C object libmetis/CMakeFiles/metis.dir/kwayrefine.c.o\u001b[0m\n",
            "cd /content/metis-5.1.0/build/Linux-x86_64/libmetis && /usr/bin/cc -Dmetis_EXPORTS -I/content/metis-5.1.0/GKlib -I/content/metis-5.1.0/include -I/content/metis-5.1.0/libmetis/. -DLINUX -D_FILE_OFFSET_BITS=64 -std=c99 -fno-strict-aliasing -fPIC -Wall -pedantic -Wno-unused-but-set-variable -Wno-unused-variable -Wno-unknown-pragmas -DNDEBUG -DNDEBUG2 -DHAVE_EXECINFO_H -DHAVE_GETLINE -O3 -fPIC -MD -MT libmetis/CMakeFiles/metis.dir/kwayrefine.c.o -MF CMakeFiles/metis.dir/kwayrefine.c.o.d -o CMakeFiles/metis.dir/kwayrefine.c.o -c /content/metis-5.1.0/libmetis/kwayrefine.c\n",
            "[ 50%] \u001b[32mBuilding C object libmetis/CMakeFiles/metis.dir/mcutil.c.o\u001b[0m\n",
            "cd /content/metis-5.1.0/build/Linux-x86_64/libmetis && /usr/bin/cc -Dmetis_EXPORTS -I/content/metis-5.1.0/GKlib -I/content/metis-5.1.0/include -I/content/metis-5.1.0/libmetis/. -DLINUX -D_FILE_OFFSET_BITS=64 -std=c99 -fno-strict-aliasing -fPIC -Wall -pedantic -Wno-unused-but-set-variable -Wno-unused-variable -Wno-unknown-pragmas -DNDEBUG -DNDEBUG2 -DHAVE_EXECINFO_H -DHAVE_GETLINE -O3 -fPIC -MD -MT libmetis/CMakeFiles/metis.dir/mcutil.c.o -MF CMakeFiles/metis.dir/mcutil.c.o.d -o CMakeFiles/metis.dir/mcutil.c.o -c /content/metis-5.1.0/libmetis/mcutil.c\n",
            "[ 51%] \u001b[32mBuilding C object libmetis/CMakeFiles/metis.dir/mesh.c.o\u001b[0m\n",
            "cd /content/metis-5.1.0/build/Linux-x86_64/libmetis && /usr/bin/cc -Dmetis_EXPORTS -I/content/metis-5.1.0/GKlib -I/content/metis-5.1.0/include -I/content/metis-5.1.0/libmetis/. -DLINUX -D_FILE_OFFSET_BITS=64 -std=c99 -fno-strict-aliasing -fPIC -Wall -pedantic -Wno-unused-but-set-variable -Wno-unused-variable -Wno-unknown-pragmas -DNDEBUG -DNDEBUG2 -DHAVE_EXECINFO_H -DHAVE_GETLINE -O3 -fPIC -MD -MT libmetis/CMakeFiles/metis.dir/mesh.c.o -MF CMakeFiles/metis.dir/mesh.c.o.d -o CMakeFiles/metis.dir/mesh.c.o -c /content/metis-5.1.0/libmetis/mesh.c\n",
            "[ 52%] \u001b[32mBuilding C object libmetis/CMakeFiles/metis.dir/meshpart.c.o\u001b[0m\n",
            "cd /content/metis-5.1.0/build/Linux-x86_64/libmetis && /usr/bin/cc -Dmetis_EXPORTS -I/content/metis-5.1.0/GKlib -I/content/metis-5.1.0/include -I/content/metis-5.1.0/libmetis/. -DLINUX -D_FILE_OFFSET_BITS=64 -std=c99 -fno-strict-aliasing -fPIC -Wall -pedantic -Wno-unused-but-set-variable -Wno-unused-variable -Wno-unknown-pragmas -DNDEBUG -DNDEBUG2 -DHAVE_EXECINFO_H -DHAVE_GETLINE -O3 -fPIC -MD -MT libmetis/CMakeFiles/metis.dir/meshpart.c.o -MF CMakeFiles/metis.dir/meshpart.c.o.d -o CMakeFiles/metis.dir/meshpart.c.o -c /content/metis-5.1.0/libmetis/meshpart.c\n",
            "[ 53%] \u001b[32mBuilding C object libmetis/CMakeFiles/metis.dir/minconn.c.o\u001b[0m\n",
            "cd /content/metis-5.1.0/build/Linux-x86_64/libmetis && /usr/bin/cc -Dmetis_EXPORTS -I/content/metis-5.1.0/GKlib -I/content/metis-5.1.0/include -I/content/metis-5.1.0/libmetis/. -DLINUX -D_FILE_OFFSET_BITS=64 -std=c99 -fno-strict-aliasing -fPIC -Wall -pedantic -Wno-unused-but-set-variable -Wno-unused-variable -Wno-unknown-pragmas -DNDEBUG -DNDEBUG2 -DHAVE_EXECINFO_H -DHAVE_GETLINE -O3 -fPIC -MD -MT libmetis/CMakeFiles/metis.dir/minconn.c.o -MF CMakeFiles/metis.dir/minconn.c.o.d -o CMakeFiles/metis.dir/minconn.c.o -c /content/metis-5.1.0/libmetis/minconn.c\n",
            "[ 54%] \u001b[32mBuilding C object libmetis/CMakeFiles/metis.dir/mincover.c.o\u001b[0m\n",
            "cd /content/metis-5.1.0/build/Linux-x86_64/libmetis && /usr/bin/cc -Dmetis_EXPORTS -I/content/metis-5.1.0/GKlib -I/content/metis-5.1.0/include -I/content/metis-5.1.0/libmetis/. -DLINUX -D_FILE_OFFSET_BITS=64 -std=c99 -fno-strict-aliasing -fPIC -Wall -pedantic -Wno-unused-but-set-variable -Wno-unused-variable -Wno-unknown-pragmas -DNDEBUG -DNDEBUG2 -DHAVE_EXECINFO_H -DHAVE_GETLINE -O3 -fPIC -MD -MT libmetis/CMakeFiles/metis.dir/mincover.c.o -MF CMakeFiles/metis.dir/mincover.c.o.d -o CMakeFiles/metis.dir/mincover.c.o -c /content/metis-5.1.0/libmetis/mincover.c\n",
            "[ 55%] \u001b[32mBuilding C object libmetis/CMakeFiles/metis.dir/mmd.c.o\u001b[0m\n",
            "cd /content/metis-5.1.0/build/Linux-x86_64/libmetis && /usr/bin/cc -Dmetis_EXPORTS -I/content/metis-5.1.0/GKlib -I/content/metis-5.1.0/include -I/content/metis-5.1.0/libmetis/. -DLINUX -D_FILE_OFFSET_BITS=64 -std=c99 -fno-strict-aliasing -fPIC -Wall -pedantic -Wno-unused-but-set-variable -Wno-unused-variable -Wno-unknown-pragmas -DNDEBUG -DNDEBUG2 -DHAVE_EXECINFO_H -DHAVE_GETLINE -O3 -fPIC -MD -MT libmetis/CMakeFiles/metis.dir/mmd.c.o -MF CMakeFiles/metis.dir/mmd.c.o.d -o CMakeFiles/metis.dir/mmd.c.o -c /content/metis-5.1.0/libmetis/mmd.c\n",
            "[ 56%] \u001b[32mBuilding C object libmetis/CMakeFiles/metis.dir/ometis.c.o\u001b[0m\n",
            "cd /content/metis-5.1.0/build/Linux-x86_64/libmetis && /usr/bin/cc -Dmetis_EXPORTS -I/content/metis-5.1.0/GKlib -I/content/metis-5.1.0/include -I/content/metis-5.1.0/libmetis/. -DLINUX -D_FILE_OFFSET_BITS=64 -std=c99 -fno-strict-aliasing -fPIC -Wall -pedantic -Wno-unused-but-set-variable -Wno-unused-variable -Wno-unknown-pragmas -DNDEBUG -DNDEBUG2 -DHAVE_EXECINFO_H -DHAVE_GETLINE -O3 -fPIC -MD -MT libmetis/CMakeFiles/metis.dir/ometis.c.o -MF CMakeFiles/metis.dir/ometis.c.o.d -o CMakeFiles/metis.dir/ometis.c.o -c /content/metis-5.1.0/libmetis/ometis.c\n",
            "[ 57%] \u001b[32mBuilding C object libmetis/CMakeFiles/metis.dir/options.c.o\u001b[0m\n",
            "cd /content/metis-5.1.0/build/Linux-x86_64/libmetis && /usr/bin/cc -Dmetis_EXPORTS -I/content/metis-5.1.0/GKlib -I/content/metis-5.1.0/include -I/content/metis-5.1.0/libmetis/. -DLINUX -D_FILE_OFFSET_BITS=64 -std=c99 -fno-strict-aliasing -fPIC -Wall -pedantic -Wno-unused-but-set-variable -Wno-unused-variable -Wno-unknown-pragmas -DNDEBUG -DNDEBUG2 -DHAVE_EXECINFO_H -DHAVE_GETLINE -O3 -fPIC -MD -MT libmetis/CMakeFiles/metis.dir/options.c.o -MF CMakeFiles/metis.dir/options.c.o.d -o CMakeFiles/metis.dir/options.c.o -c /content/metis-5.1.0/libmetis/options.c\n",
            "[ 59%] \u001b[32mBuilding C object libmetis/CMakeFiles/metis.dir/parmetis.c.o\u001b[0m\n",
            "cd /content/metis-5.1.0/build/Linux-x86_64/libmetis && /usr/bin/cc -Dmetis_EXPORTS -I/content/metis-5.1.0/GKlib -I/content/metis-5.1.0/include -I/content/metis-5.1.0/libmetis/. -DLINUX -D_FILE_OFFSET_BITS=64 -std=c99 -fno-strict-aliasing -fPIC -Wall -pedantic -Wno-unused-but-set-variable -Wno-unused-variable -Wno-unknown-pragmas -DNDEBUG -DNDEBUG2 -DHAVE_EXECINFO_H -DHAVE_GETLINE -O3 -fPIC -MD -MT libmetis/CMakeFiles/metis.dir/parmetis.c.o -MF CMakeFiles/metis.dir/parmetis.c.o.d -o CMakeFiles/metis.dir/parmetis.c.o -c /content/metis-5.1.0/libmetis/parmetis.c\n",
            "[ 60%] \u001b[32mBuilding C object libmetis/CMakeFiles/metis.dir/pmetis.c.o\u001b[0m\n",
            "cd /content/metis-5.1.0/build/Linux-x86_64/libmetis && /usr/bin/cc -Dmetis_EXPORTS -I/content/metis-5.1.0/GKlib -I/content/metis-5.1.0/include -I/content/metis-5.1.0/libmetis/. -DLINUX -D_FILE_OFFSET_BITS=64 -std=c99 -fno-strict-aliasing -fPIC -Wall -pedantic -Wno-unused-but-set-variable -Wno-unused-variable -Wno-unknown-pragmas -DNDEBUG -DNDEBUG2 -DHAVE_EXECINFO_H -DHAVE_GETLINE -O3 -fPIC -MD -MT libmetis/CMakeFiles/metis.dir/pmetis.c.o -MF CMakeFiles/metis.dir/pmetis.c.o.d -o CMakeFiles/metis.dir/pmetis.c.o -c /content/metis-5.1.0/libmetis/pmetis.c\n",
            "[ 61%] \u001b[32mBuilding C object libmetis/CMakeFiles/metis.dir/refine.c.o\u001b[0m\n",
            "cd /content/metis-5.1.0/build/Linux-x86_64/libmetis && /usr/bin/cc -Dmetis_EXPORTS -I/content/metis-5.1.0/GKlib -I/content/metis-5.1.0/include -I/content/metis-5.1.0/libmetis/. -DLINUX -D_FILE_OFFSET_BITS=64 -std=c99 -fno-strict-aliasing -fPIC -Wall -pedantic -Wno-unused-but-set-variable -Wno-unused-variable -Wno-unknown-pragmas -DNDEBUG -DNDEBUG2 -DHAVE_EXECINFO_H -DHAVE_GETLINE -O3 -fPIC -MD -MT libmetis/CMakeFiles/metis.dir/refine.c.o -MF CMakeFiles/metis.dir/refine.c.o.d -o CMakeFiles/metis.dir/refine.c.o -c /content/metis-5.1.0/libmetis/refine.c\n",
            "[ 62%] \u001b[32mBuilding C object libmetis/CMakeFiles/metis.dir/separator.c.o\u001b[0m\n",
            "cd /content/metis-5.1.0/build/Linux-x86_64/libmetis && /usr/bin/cc -Dmetis_EXPORTS -I/content/metis-5.1.0/GKlib -I/content/metis-5.1.0/include -I/content/metis-5.1.0/libmetis/. -DLINUX -D_FILE_OFFSET_BITS=64 -std=c99 -fno-strict-aliasing -fPIC -Wall -pedantic -Wno-unused-but-set-variable -Wno-unused-variable -Wno-unknown-pragmas -DNDEBUG -DNDEBUG2 -DHAVE_EXECINFO_H -DHAVE_GETLINE -O3 -fPIC -MD -MT libmetis/CMakeFiles/metis.dir/separator.c.o -MF CMakeFiles/metis.dir/separator.c.o.d -o CMakeFiles/metis.dir/separator.c.o -c /content/metis-5.1.0/libmetis/separator.c\n",
            "[ 63%] \u001b[32mBuilding C object libmetis/CMakeFiles/metis.dir/sfm.c.o\u001b[0m\n",
            "cd /content/metis-5.1.0/build/Linux-x86_64/libmetis && /usr/bin/cc -Dmetis_EXPORTS -I/content/metis-5.1.0/GKlib -I/content/metis-5.1.0/include -I/content/metis-5.1.0/libmetis/. -DLINUX -D_FILE_OFFSET_BITS=64 -std=c99 -fno-strict-aliasing -fPIC -Wall -pedantic -Wno-unused-but-set-variable -Wno-unused-variable -Wno-unknown-pragmas -DNDEBUG -DNDEBUG2 -DHAVE_EXECINFO_H -DHAVE_GETLINE -O3 -fPIC -MD -MT libmetis/CMakeFiles/metis.dir/sfm.c.o -MF CMakeFiles/metis.dir/sfm.c.o.d -o CMakeFiles/metis.dir/sfm.c.o -c /content/metis-5.1.0/libmetis/sfm.c\n",
            "[ 64%] \u001b[32mBuilding C object libmetis/CMakeFiles/metis.dir/srefine.c.o\u001b[0m\n",
            "cd /content/metis-5.1.0/build/Linux-x86_64/libmetis && /usr/bin/cc -Dmetis_EXPORTS -I/content/metis-5.1.0/GKlib -I/content/metis-5.1.0/include -I/content/metis-5.1.0/libmetis/. -DLINUX -D_FILE_OFFSET_BITS=64 -std=c99 -fno-strict-aliasing -fPIC -Wall -pedantic -Wno-unused-but-set-variable -Wno-unused-variable -Wno-unknown-pragmas -DNDEBUG -DNDEBUG2 -DHAVE_EXECINFO_H -DHAVE_GETLINE -O3 -fPIC -MD -MT libmetis/CMakeFiles/metis.dir/srefine.c.o -MF CMakeFiles/metis.dir/srefine.c.o.d -o CMakeFiles/metis.dir/srefine.c.o -c /content/metis-5.1.0/libmetis/srefine.c\n",
            "[ 65%] \u001b[32mBuilding C object libmetis/CMakeFiles/metis.dir/stat.c.o\u001b[0m\n",
            "cd /content/metis-5.1.0/build/Linux-x86_64/libmetis && /usr/bin/cc -Dmetis_EXPORTS -I/content/metis-5.1.0/GKlib -I/content/metis-5.1.0/include -I/content/metis-5.1.0/libmetis/. -DLINUX -D_FILE_OFFSET_BITS=64 -std=c99 -fno-strict-aliasing -fPIC -Wall -pedantic -Wno-unused-but-set-variable -Wno-unused-variable -Wno-unknown-pragmas -DNDEBUG -DNDEBUG2 -DHAVE_EXECINFO_H -DHAVE_GETLINE -O3 -fPIC -MD -MT libmetis/CMakeFiles/metis.dir/stat.c.o -MF CMakeFiles/metis.dir/stat.c.o.d -o CMakeFiles/metis.dir/stat.c.o -c /content/metis-5.1.0/libmetis/stat.c\n",
            "[ 67%] \u001b[32mBuilding C object libmetis/CMakeFiles/metis.dir/timing.c.o\u001b[0m\n",
            "cd /content/metis-5.1.0/build/Linux-x86_64/libmetis && /usr/bin/cc -Dmetis_EXPORTS -I/content/metis-5.1.0/GKlib -I/content/metis-5.1.0/include -I/content/metis-5.1.0/libmetis/. -DLINUX -D_FILE_OFFSET_BITS=64 -std=c99 -fno-strict-aliasing -fPIC -Wall -pedantic -Wno-unused-but-set-variable -Wno-unused-variable -Wno-unknown-pragmas -DNDEBUG -DNDEBUG2 -DHAVE_EXECINFO_H -DHAVE_GETLINE -O3 -fPIC -MD -MT libmetis/CMakeFiles/metis.dir/timing.c.o -MF CMakeFiles/metis.dir/timing.c.o.d -o CMakeFiles/metis.dir/timing.c.o -c /content/metis-5.1.0/libmetis/timing.c\n",
            "[ 68%] \u001b[32mBuilding C object libmetis/CMakeFiles/metis.dir/util.c.o\u001b[0m\n",
            "cd /content/metis-5.1.0/build/Linux-x86_64/libmetis && /usr/bin/cc -Dmetis_EXPORTS -I/content/metis-5.1.0/GKlib -I/content/metis-5.1.0/include -I/content/metis-5.1.0/libmetis/. -DLINUX -D_FILE_OFFSET_BITS=64 -std=c99 -fno-strict-aliasing -fPIC -Wall -pedantic -Wno-unused-but-set-variable -Wno-unused-variable -Wno-unknown-pragmas -DNDEBUG -DNDEBUG2 -DHAVE_EXECINFO_H -DHAVE_GETLINE -O3 -fPIC -MD -MT libmetis/CMakeFiles/metis.dir/util.c.o -MF CMakeFiles/metis.dir/util.c.o.d -o CMakeFiles/metis.dir/util.c.o -c /content/metis-5.1.0/libmetis/util.c\n",
            "[ 69%] \u001b[32mBuilding C object libmetis/CMakeFiles/metis.dir/wspace.c.o\u001b[0m\n",
            "cd /content/metis-5.1.0/build/Linux-x86_64/libmetis && /usr/bin/cc -Dmetis_EXPORTS -I/content/metis-5.1.0/GKlib -I/content/metis-5.1.0/include -I/content/metis-5.1.0/libmetis/. -DLINUX -D_FILE_OFFSET_BITS=64 -std=c99 -fno-strict-aliasing -fPIC -Wall -pedantic -Wno-unused-but-set-variable -Wno-unused-variable -Wno-unknown-pragmas -DNDEBUG -DNDEBUG2 -DHAVE_EXECINFO_H -DHAVE_GETLINE -O3 -fPIC -MD -MT libmetis/CMakeFiles/metis.dir/wspace.c.o -MF CMakeFiles/metis.dir/wspace.c.o.d -o CMakeFiles/metis.dir/wspace.c.o -c /content/metis-5.1.0/libmetis/wspace.c\n",
            "[ 70%] \u001b[32m\u001b[1mLinking C shared library libmetis.so\u001b[0m\n",
            "cd /content/metis-5.1.0/build/Linux-x86_64/libmetis && /usr/local/lib/python3.10/dist-packages/cmake/data/bin/cmake -E cmake_link_script CMakeFiles/metis.dir/link.txt --verbose=1\n",
            "/usr/bin/cc -fPIC  -DLINUX -D_FILE_OFFSET_BITS=64 -std=c99 -fno-strict-aliasing -fPIC -Wall -pedantic -Wno-unused-but-set-variable -Wno-unused-variable -Wno-unknown-pragmas -DNDEBUG -DNDEBUG2 -DHAVE_EXECINFO_H -DHAVE_GETLINE -O3 -shared -Wl,-soname,libmetis.so -o libmetis.so CMakeFiles/metis.dir/__/GKlib/b64.c.o CMakeFiles/metis.dir/__/GKlib/blas.c.o CMakeFiles/metis.dir/__/GKlib/csr.c.o CMakeFiles/metis.dir/__/GKlib/error.c.o CMakeFiles/metis.dir/__/GKlib/evaluate.c.o CMakeFiles/metis.dir/__/GKlib/fkvkselect.c.o CMakeFiles/metis.dir/__/GKlib/fs.c.o CMakeFiles/metis.dir/__/GKlib/getopt.c.o CMakeFiles/metis.dir/__/GKlib/gkregex.c.o CMakeFiles/metis.dir/__/GKlib/graph.c.o CMakeFiles/metis.dir/__/GKlib/htable.c.o CMakeFiles/metis.dir/__/GKlib/io.c.o CMakeFiles/metis.dir/__/GKlib/itemsets.c.o CMakeFiles/metis.dir/__/GKlib/mcore.c.o CMakeFiles/metis.dir/__/GKlib/memory.c.o CMakeFiles/metis.dir/__/GKlib/omp.c.o CMakeFiles/metis.dir/__/GKlib/pdb.c.o CMakeFiles/metis.dir/__/GKlib/pqueue.c.o CMakeFiles/metis.dir/__/GKlib/random.c.o CMakeFiles/metis.dir/__/GKlib/rw.c.o CMakeFiles/metis.dir/__/GKlib/seq.c.o CMakeFiles/metis.dir/__/GKlib/sort.c.o CMakeFiles/metis.dir/__/GKlib/string.c.o CMakeFiles/metis.dir/__/GKlib/timers.c.o CMakeFiles/metis.dir/__/GKlib/tokenizer.c.o CMakeFiles/metis.dir/__/GKlib/util.c.o CMakeFiles/metis.dir/auxapi.c.o CMakeFiles/metis.dir/balance.c.o CMakeFiles/metis.dir/bucketsort.c.o CMakeFiles/metis.dir/checkgraph.c.o CMakeFiles/metis.dir/coarsen.c.o CMakeFiles/metis.dir/compress.c.o CMakeFiles/metis.dir/contig.c.o CMakeFiles/metis.dir/debug.c.o CMakeFiles/metis.dir/fm.c.o CMakeFiles/metis.dir/fortran.c.o CMakeFiles/metis.dir/frename.c.o CMakeFiles/metis.dir/gklib.c.o CMakeFiles/metis.dir/graph.c.o CMakeFiles/metis.dir/initpart.c.o CMakeFiles/metis.dir/kmetis.c.o CMakeFiles/metis.dir/kwayfm.c.o CMakeFiles/metis.dir/kwayrefine.c.o CMakeFiles/metis.dir/mcutil.c.o CMakeFiles/metis.dir/mesh.c.o CMakeFiles/metis.dir/meshpart.c.o CMakeFiles/metis.dir/minconn.c.o CMakeFiles/metis.dir/mincover.c.o CMakeFiles/metis.dir/mmd.c.o CMakeFiles/metis.dir/ometis.c.o CMakeFiles/metis.dir/options.c.o CMakeFiles/metis.dir/parmetis.c.o CMakeFiles/metis.dir/pmetis.c.o CMakeFiles/metis.dir/refine.c.o CMakeFiles/metis.dir/separator.c.o CMakeFiles/metis.dir/sfm.c.o CMakeFiles/metis.dir/srefine.c.o CMakeFiles/metis.dir/stat.c.o CMakeFiles/metis.dir/timing.c.o CMakeFiles/metis.dir/util.c.o CMakeFiles/metis.dir/wspace.c.o  -lm \n",
            "make[3]: Leaving directory '/content/metis-5.1.0/build/Linux-x86_64'\n",
            "[ 70%] Built target metis\n",
            "make  -f programs/CMakeFiles/gpmetis.dir/build.make programs/CMakeFiles/gpmetis.dir/depend\n",
            "make[3]: Entering directory '/content/metis-5.1.0/build/Linux-x86_64'\n",
            "cd /content/metis-5.1.0/build/Linux-x86_64 && /usr/local/lib/python3.10/dist-packages/cmake/data/bin/cmake -E cmake_depends \"Unix Makefiles\" /content/metis-5.1.0 /content/metis-5.1.0/programs /content/metis-5.1.0/build/Linux-x86_64 /content/metis-5.1.0/build/Linux-x86_64/programs /content/metis-5.1.0/build/Linux-x86_64/programs/CMakeFiles/gpmetis.dir/DependInfo.cmake --color=\n",
            "make[3]: Leaving directory '/content/metis-5.1.0/build/Linux-x86_64'\n",
            "make  -f programs/CMakeFiles/gpmetis.dir/build.make programs/CMakeFiles/gpmetis.dir/build\n",
            "make[3]: Entering directory '/content/metis-5.1.0/build/Linux-x86_64'\n",
            "[ 71%] \u001b[32mBuilding C object programs/CMakeFiles/gpmetis.dir/gpmetis.c.o\u001b[0m\n",
            "cd /content/metis-5.1.0/build/Linux-x86_64/programs && /usr/bin/cc -DSVNINFO=\\\"\\\" -I/content/metis-5.1.0/GKlib -I/content/metis-5.1.0/include -I/content/metis-5.1.0/programs/../libmetis -DLINUX -D_FILE_OFFSET_BITS=64 -std=c99 -fno-strict-aliasing -fPIC -Wall -pedantic -Wno-unused-but-set-variable -Wno-unused-variable -Wno-unknown-pragmas -DNDEBUG -DNDEBUG2 -DHAVE_EXECINFO_H -DHAVE_GETLINE -O3 -MD -MT programs/CMakeFiles/gpmetis.dir/gpmetis.c.o -MF CMakeFiles/gpmetis.dir/gpmetis.c.o.d -o CMakeFiles/gpmetis.dir/gpmetis.c.o -c /content/metis-5.1.0/programs/gpmetis.c\n",
            "[ 72%] \u001b[32mBuilding C object programs/CMakeFiles/gpmetis.dir/cmdline_gpmetis.c.o\u001b[0m\n",
            "cd /content/metis-5.1.0/build/Linux-x86_64/programs && /usr/bin/cc -DSVNINFO=\\\"\\\" -I/content/metis-5.1.0/GKlib -I/content/metis-5.1.0/include -I/content/metis-5.1.0/programs/../libmetis -DLINUX -D_FILE_OFFSET_BITS=64 -std=c99 -fno-strict-aliasing -fPIC -Wall -pedantic -Wno-unused-but-set-variable -Wno-unused-variable -Wno-unknown-pragmas -DNDEBUG -DNDEBUG2 -DHAVE_EXECINFO_H -DHAVE_GETLINE -O3 -MD -MT programs/CMakeFiles/gpmetis.dir/cmdline_gpmetis.c.o -MF CMakeFiles/gpmetis.dir/cmdline_gpmetis.c.o.d -o CMakeFiles/gpmetis.dir/cmdline_gpmetis.c.o -c /content/metis-5.1.0/programs/cmdline_gpmetis.c\n",
            "[ 73%] \u001b[32mBuilding C object programs/CMakeFiles/gpmetis.dir/io.c.o\u001b[0m\n",
            "cd /content/metis-5.1.0/build/Linux-x86_64/programs && /usr/bin/cc -DSVNINFO=\\\"\\\" -I/content/metis-5.1.0/GKlib -I/content/metis-5.1.0/include -I/content/metis-5.1.0/programs/../libmetis -DLINUX -D_FILE_OFFSET_BITS=64 -std=c99 -fno-strict-aliasing -fPIC -Wall -pedantic -Wno-unused-but-set-variable -Wno-unused-variable -Wno-unknown-pragmas -DNDEBUG -DNDEBUG2 -DHAVE_EXECINFO_H -DHAVE_GETLINE -O3 -MD -MT programs/CMakeFiles/gpmetis.dir/io.c.o -MF CMakeFiles/gpmetis.dir/io.c.o.d -o CMakeFiles/gpmetis.dir/io.c.o -c /content/metis-5.1.0/programs/io.c\n",
            "[ 75%] \u001b[32mBuilding C object programs/CMakeFiles/gpmetis.dir/stat.c.o\u001b[0m\n",
            "cd /content/metis-5.1.0/build/Linux-x86_64/programs && /usr/bin/cc -DSVNINFO=\\\"\\\" -I/content/metis-5.1.0/GKlib -I/content/metis-5.1.0/include -I/content/metis-5.1.0/programs/../libmetis -DLINUX -D_FILE_OFFSET_BITS=64 -std=c99 -fno-strict-aliasing -fPIC -Wall -pedantic -Wno-unused-but-set-variable -Wno-unused-variable -Wno-unknown-pragmas -DNDEBUG -DNDEBUG2 -DHAVE_EXECINFO_H -DHAVE_GETLINE -O3 -MD -MT programs/CMakeFiles/gpmetis.dir/stat.c.o -MF CMakeFiles/gpmetis.dir/stat.c.o.d -o CMakeFiles/gpmetis.dir/stat.c.o -c /content/metis-5.1.0/programs/stat.c\n",
            "[ 76%] \u001b[32m\u001b[1mLinking C executable gpmetis\u001b[0m\n",
            "cd /content/metis-5.1.0/build/Linux-x86_64/programs && /usr/local/lib/python3.10/dist-packages/cmake/data/bin/cmake -E cmake_link_script CMakeFiles/gpmetis.dir/link.txt --verbose=1\n",
            "/usr/bin/cc  -DLINUX -D_FILE_OFFSET_BITS=64 -std=c99 -fno-strict-aliasing -fPIC -Wall -pedantic -Wno-unused-but-set-variable -Wno-unused-variable -Wno-unknown-pragmas -DNDEBUG -DNDEBUG2 -DHAVE_EXECINFO_H -DHAVE_GETLINE -O3 -rdynamic CMakeFiles/gpmetis.dir/gpmetis.c.o CMakeFiles/gpmetis.dir/cmdline_gpmetis.c.o CMakeFiles/gpmetis.dir/io.c.o CMakeFiles/gpmetis.dir/stat.c.o -o gpmetis   -L/home/karypis/local/lib  -Wl,-rpath,/home/karypis/local/lib:/content/metis-5.1.0/build/Linux-x86_64/libmetis: ../libmetis/libmetis.so -lm \n",
            "make[3]: Leaving directory '/content/metis-5.1.0/build/Linux-x86_64'\n",
            "[ 76%] Built target gpmetis\n",
            "make  -f programs/CMakeFiles/ndmetis.dir/build.make programs/CMakeFiles/ndmetis.dir/depend\n",
            "make[3]: Entering directory '/content/metis-5.1.0/build/Linux-x86_64'\n",
            "cd /content/metis-5.1.0/build/Linux-x86_64 && /usr/local/lib/python3.10/dist-packages/cmake/data/bin/cmake -E cmake_depends \"Unix Makefiles\" /content/metis-5.1.0 /content/metis-5.1.0/programs /content/metis-5.1.0/build/Linux-x86_64 /content/metis-5.1.0/build/Linux-x86_64/programs /content/metis-5.1.0/build/Linux-x86_64/programs/CMakeFiles/ndmetis.dir/DependInfo.cmake --color=\n",
            "make[3]: Leaving directory '/content/metis-5.1.0/build/Linux-x86_64'\n",
            "make  -f programs/CMakeFiles/ndmetis.dir/build.make programs/CMakeFiles/ndmetis.dir/build\n",
            "make[3]: Entering directory '/content/metis-5.1.0/build/Linux-x86_64'\n",
            "[ 77%] \u001b[32mBuilding C object programs/CMakeFiles/ndmetis.dir/ndmetis.c.o\u001b[0m\n",
            "cd /content/metis-5.1.0/build/Linux-x86_64/programs && /usr/bin/cc -DSVNINFO=\\\"\\\" -I/content/metis-5.1.0/GKlib -I/content/metis-5.1.0/include -I/content/metis-5.1.0/programs/../libmetis -DLINUX -D_FILE_OFFSET_BITS=64 -std=c99 -fno-strict-aliasing -fPIC -Wall -pedantic -Wno-unused-but-set-variable -Wno-unused-variable -Wno-unknown-pragmas -DNDEBUG -DNDEBUG2 -DHAVE_EXECINFO_H -DHAVE_GETLINE -O3 -MD -MT programs/CMakeFiles/ndmetis.dir/ndmetis.c.o -MF CMakeFiles/ndmetis.dir/ndmetis.c.o.d -o CMakeFiles/ndmetis.dir/ndmetis.c.o -c /content/metis-5.1.0/programs/ndmetis.c\n",
            "[ 78%] \u001b[32mBuilding C object programs/CMakeFiles/ndmetis.dir/cmdline_ndmetis.c.o\u001b[0m\n",
            "cd /content/metis-5.1.0/build/Linux-x86_64/programs && /usr/bin/cc -DSVNINFO=\\\"\\\" -I/content/metis-5.1.0/GKlib -I/content/metis-5.1.0/include -I/content/metis-5.1.0/programs/../libmetis -DLINUX -D_FILE_OFFSET_BITS=64 -std=c99 -fno-strict-aliasing -fPIC -Wall -pedantic -Wno-unused-but-set-variable -Wno-unused-variable -Wno-unknown-pragmas -DNDEBUG -DNDEBUG2 -DHAVE_EXECINFO_H -DHAVE_GETLINE -O3 -MD -MT programs/CMakeFiles/ndmetis.dir/cmdline_ndmetis.c.o -MF CMakeFiles/ndmetis.dir/cmdline_ndmetis.c.o.d -o CMakeFiles/ndmetis.dir/cmdline_ndmetis.c.o -c /content/metis-5.1.0/programs/cmdline_ndmetis.c\n",
            "[ 79%] \u001b[32mBuilding C object programs/CMakeFiles/ndmetis.dir/io.c.o\u001b[0m\n",
            "cd /content/metis-5.1.0/build/Linux-x86_64/programs && /usr/bin/cc -DSVNINFO=\\\"\\\" -I/content/metis-5.1.0/GKlib -I/content/metis-5.1.0/include -I/content/metis-5.1.0/programs/../libmetis -DLINUX -D_FILE_OFFSET_BITS=64 -std=c99 -fno-strict-aliasing -fPIC -Wall -pedantic -Wno-unused-but-set-variable -Wno-unused-variable -Wno-unknown-pragmas -DNDEBUG -DNDEBUG2 -DHAVE_EXECINFO_H -DHAVE_GETLINE -O3 -MD -MT programs/CMakeFiles/ndmetis.dir/io.c.o -MF CMakeFiles/ndmetis.dir/io.c.o.d -o CMakeFiles/ndmetis.dir/io.c.o -c /content/metis-5.1.0/programs/io.c\n",
            "[ 80%] \u001b[32mBuilding C object programs/CMakeFiles/ndmetis.dir/smbfactor.c.o\u001b[0m\n",
            "cd /content/metis-5.1.0/build/Linux-x86_64/programs && /usr/bin/cc -DSVNINFO=\\\"\\\" -I/content/metis-5.1.0/GKlib -I/content/metis-5.1.0/include -I/content/metis-5.1.0/programs/../libmetis -DLINUX -D_FILE_OFFSET_BITS=64 -std=c99 -fno-strict-aliasing -fPIC -Wall -pedantic -Wno-unused-but-set-variable -Wno-unused-variable -Wno-unknown-pragmas -DNDEBUG -DNDEBUG2 -DHAVE_EXECINFO_H -DHAVE_GETLINE -O3 -MD -MT programs/CMakeFiles/ndmetis.dir/smbfactor.c.o -MF CMakeFiles/ndmetis.dir/smbfactor.c.o.d -o CMakeFiles/ndmetis.dir/smbfactor.c.o -c /content/metis-5.1.0/programs/smbfactor.c\n",
            "[ 81%] \u001b[32m\u001b[1mLinking C executable ndmetis\u001b[0m\n",
            "cd /content/metis-5.1.0/build/Linux-x86_64/programs && /usr/local/lib/python3.10/dist-packages/cmake/data/bin/cmake -E cmake_link_script CMakeFiles/ndmetis.dir/link.txt --verbose=1\n",
            "/usr/bin/cc  -DLINUX -D_FILE_OFFSET_BITS=64 -std=c99 -fno-strict-aliasing -fPIC -Wall -pedantic -Wno-unused-but-set-variable -Wno-unused-variable -Wno-unknown-pragmas -DNDEBUG -DNDEBUG2 -DHAVE_EXECINFO_H -DHAVE_GETLINE -O3 -rdynamic CMakeFiles/ndmetis.dir/ndmetis.c.o CMakeFiles/ndmetis.dir/cmdline_ndmetis.c.o CMakeFiles/ndmetis.dir/io.c.o CMakeFiles/ndmetis.dir/smbfactor.c.o -o ndmetis   -L/home/karypis/local/lib  -Wl,-rpath,/home/karypis/local/lib:/content/metis-5.1.0/build/Linux-x86_64/libmetis: ../libmetis/libmetis.so -lm \n",
            "make[3]: Leaving directory '/content/metis-5.1.0/build/Linux-x86_64'\n",
            "[ 81%] Built target ndmetis\n",
            "make  -f programs/CMakeFiles/mpmetis.dir/build.make programs/CMakeFiles/mpmetis.dir/depend\n",
            "make[3]: Entering directory '/content/metis-5.1.0/build/Linux-x86_64'\n",
            "cd /content/metis-5.1.0/build/Linux-x86_64 && /usr/local/lib/python3.10/dist-packages/cmake/data/bin/cmake -E cmake_depends \"Unix Makefiles\" /content/metis-5.1.0 /content/metis-5.1.0/programs /content/metis-5.1.0/build/Linux-x86_64 /content/metis-5.1.0/build/Linux-x86_64/programs /content/metis-5.1.0/build/Linux-x86_64/programs/CMakeFiles/mpmetis.dir/DependInfo.cmake --color=\n",
            "make[3]: Leaving directory '/content/metis-5.1.0/build/Linux-x86_64'\n",
            "make  -f programs/CMakeFiles/mpmetis.dir/build.make programs/CMakeFiles/mpmetis.dir/build\n",
            "make[3]: Entering directory '/content/metis-5.1.0/build/Linux-x86_64'\n",
            "[ 82%] \u001b[32mBuilding C object programs/CMakeFiles/mpmetis.dir/mpmetis.c.o\u001b[0m\n",
            "cd /content/metis-5.1.0/build/Linux-x86_64/programs && /usr/bin/cc -DSVNINFO=\\\"\\\" -I/content/metis-5.1.0/GKlib -I/content/metis-5.1.0/include -I/content/metis-5.1.0/programs/../libmetis -DLINUX -D_FILE_OFFSET_BITS=64 -std=c99 -fno-strict-aliasing -fPIC -Wall -pedantic -Wno-unused-but-set-variable -Wno-unused-variable -Wno-unknown-pragmas -DNDEBUG -DNDEBUG2 -DHAVE_EXECINFO_H -DHAVE_GETLINE -O3 -MD -MT programs/CMakeFiles/mpmetis.dir/mpmetis.c.o -MF CMakeFiles/mpmetis.dir/mpmetis.c.o.d -o CMakeFiles/mpmetis.dir/mpmetis.c.o -c /content/metis-5.1.0/programs/mpmetis.c\n",
            "[ 84%] \u001b[32mBuilding C object programs/CMakeFiles/mpmetis.dir/cmdline_mpmetis.c.o\u001b[0m\n",
            "cd /content/metis-5.1.0/build/Linux-x86_64/programs && /usr/bin/cc -DSVNINFO=\\\"\\\" -I/content/metis-5.1.0/GKlib -I/content/metis-5.1.0/include -I/content/metis-5.1.0/programs/../libmetis -DLINUX -D_FILE_OFFSET_BITS=64 -std=c99 -fno-strict-aliasing -fPIC -Wall -pedantic -Wno-unused-but-set-variable -Wno-unused-variable -Wno-unknown-pragmas -DNDEBUG -DNDEBUG2 -DHAVE_EXECINFO_H -DHAVE_GETLINE -O3 -MD -MT programs/CMakeFiles/mpmetis.dir/cmdline_mpmetis.c.o -MF CMakeFiles/mpmetis.dir/cmdline_mpmetis.c.o.d -o CMakeFiles/mpmetis.dir/cmdline_mpmetis.c.o -c /content/metis-5.1.0/programs/cmdline_mpmetis.c\n",
            "[ 85%] \u001b[32mBuilding C object programs/CMakeFiles/mpmetis.dir/io.c.o\u001b[0m\n",
            "cd /content/metis-5.1.0/build/Linux-x86_64/programs && /usr/bin/cc -DSVNINFO=\\\"\\\" -I/content/metis-5.1.0/GKlib -I/content/metis-5.1.0/include -I/content/metis-5.1.0/programs/../libmetis -DLINUX -D_FILE_OFFSET_BITS=64 -std=c99 -fno-strict-aliasing -fPIC -Wall -pedantic -Wno-unused-but-set-variable -Wno-unused-variable -Wno-unknown-pragmas -DNDEBUG -DNDEBUG2 -DHAVE_EXECINFO_H -DHAVE_GETLINE -O3 -MD -MT programs/CMakeFiles/mpmetis.dir/io.c.o -MF CMakeFiles/mpmetis.dir/io.c.o.d -o CMakeFiles/mpmetis.dir/io.c.o -c /content/metis-5.1.0/programs/io.c\n",
            "[ 86%] \u001b[32mBuilding C object programs/CMakeFiles/mpmetis.dir/stat.c.o\u001b[0m\n",
            "cd /content/metis-5.1.0/build/Linux-x86_64/programs && /usr/bin/cc -DSVNINFO=\\\"\\\" -I/content/metis-5.1.0/GKlib -I/content/metis-5.1.0/include -I/content/metis-5.1.0/programs/../libmetis -DLINUX -D_FILE_OFFSET_BITS=64 -std=c99 -fno-strict-aliasing -fPIC -Wall -pedantic -Wno-unused-but-set-variable -Wno-unused-variable -Wno-unknown-pragmas -DNDEBUG -DNDEBUG2 -DHAVE_EXECINFO_H -DHAVE_GETLINE -O3 -MD -MT programs/CMakeFiles/mpmetis.dir/stat.c.o -MF CMakeFiles/mpmetis.dir/stat.c.o.d -o CMakeFiles/mpmetis.dir/stat.c.o -c /content/metis-5.1.0/programs/stat.c\n",
            "[ 87%] \u001b[32m\u001b[1mLinking C executable mpmetis\u001b[0m\n",
            "cd /content/metis-5.1.0/build/Linux-x86_64/programs && /usr/local/lib/python3.10/dist-packages/cmake/data/bin/cmake -E cmake_link_script CMakeFiles/mpmetis.dir/link.txt --verbose=1\n",
            "/usr/bin/cc  -DLINUX -D_FILE_OFFSET_BITS=64 -std=c99 -fno-strict-aliasing -fPIC -Wall -pedantic -Wno-unused-but-set-variable -Wno-unused-variable -Wno-unknown-pragmas -DNDEBUG -DNDEBUG2 -DHAVE_EXECINFO_H -DHAVE_GETLINE -O3 -rdynamic CMakeFiles/mpmetis.dir/mpmetis.c.o CMakeFiles/mpmetis.dir/cmdline_mpmetis.c.o CMakeFiles/mpmetis.dir/io.c.o CMakeFiles/mpmetis.dir/stat.c.o -o mpmetis   -L/home/karypis/local/lib  -Wl,-rpath,/home/karypis/local/lib:/content/metis-5.1.0/build/Linux-x86_64/libmetis: ../libmetis/libmetis.so -lm \n",
            "make[3]: Leaving directory '/content/metis-5.1.0/build/Linux-x86_64'\n",
            "[ 87%] Built target mpmetis\n",
            "make  -f programs/CMakeFiles/m2gmetis.dir/build.make programs/CMakeFiles/m2gmetis.dir/depend\n",
            "make[3]: Entering directory '/content/metis-5.1.0/build/Linux-x86_64'\n",
            "cd /content/metis-5.1.0/build/Linux-x86_64 && /usr/local/lib/python3.10/dist-packages/cmake/data/bin/cmake -E cmake_depends \"Unix Makefiles\" /content/metis-5.1.0 /content/metis-5.1.0/programs /content/metis-5.1.0/build/Linux-x86_64 /content/metis-5.1.0/build/Linux-x86_64/programs /content/metis-5.1.0/build/Linux-x86_64/programs/CMakeFiles/m2gmetis.dir/DependInfo.cmake --color=\n",
            "make[3]: Leaving directory '/content/metis-5.1.0/build/Linux-x86_64'\n",
            "make  -f programs/CMakeFiles/m2gmetis.dir/build.make programs/CMakeFiles/m2gmetis.dir/build\n",
            "make[3]: Entering directory '/content/metis-5.1.0/build/Linux-x86_64'\n",
            "[ 88%] \u001b[32mBuilding C object programs/CMakeFiles/m2gmetis.dir/m2gmetis.c.o\u001b[0m\n",
            "cd /content/metis-5.1.0/build/Linux-x86_64/programs && /usr/bin/cc -DSVNINFO=\\\"\\\" -I/content/metis-5.1.0/GKlib -I/content/metis-5.1.0/include -I/content/metis-5.1.0/programs/../libmetis -DLINUX -D_FILE_OFFSET_BITS=64 -std=c99 -fno-strict-aliasing -fPIC -Wall -pedantic -Wno-unused-but-set-variable -Wno-unused-variable -Wno-unknown-pragmas -DNDEBUG -DNDEBUG2 -DHAVE_EXECINFO_H -DHAVE_GETLINE -O3 -MD -MT programs/CMakeFiles/m2gmetis.dir/m2gmetis.c.o -MF CMakeFiles/m2gmetis.dir/m2gmetis.c.o.d -o CMakeFiles/m2gmetis.dir/m2gmetis.c.o -c /content/metis-5.1.0/programs/m2gmetis.c\n",
            "[ 89%] \u001b[32mBuilding C object programs/CMakeFiles/m2gmetis.dir/cmdline_m2gmetis.c.o\u001b[0m\n",
            "cd /content/metis-5.1.0/build/Linux-x86_64/programs && /usr/bin/cc -DSVNINFO=\\\"\\\" -I/content/metis-5.1.0/GKlib -I/content/metis-5.1.0/include -I/content/metis-5.1.0/programs/../libmetis -DLINUX -D_FILE_OFFSET_BITS=64 -std=c99 -fno-strict-aliasing -fPIC -Wall -pedantic -Wno-unused-but-set-variable -Wno-unused-variable -Wno-unknown-pragmas -DNDEBUG -DNDEBUG2 -DHAVE_EXECINFO_H -DHAVE_GETLINE -O3 -MD -MT programs/CMakeFiles/m2gmetis.dir/cmdline_m2gmetis.c.o -MF CMakeFiles/m2gmetis.dir/cmdline_m2gmetis.c.o.d -o CMakeFiles/m2gmetis.dir/cmdline_m2gmetis.c.o -c /content/metis-5.1.0/programs/cmdline_m2gmetis.c\n",
            "[ 90%] \u001b[32mBuilding C object programs/CMakeFiles/m2gmetis.dir/io.c.o\u001b[0m\n",
            "cd /content/metis-5.1.0/build/Linux-x86_64/programs && /usr/bin/cc -DSVNINFO=\\\"\\\" -I/content/metis-5.1.0/GKlib -I/content/metis-5.1.0/include -I/content/metis-5.1.0/programs/../libmetis -DLINUX -D_FILE_OFFSET_BITS=64 -std=c99 -fno-strict-aliasing -fPIC -Wall -pedantic -Wno-unused-but-set-variable -Wno-unused-variable -Wno-unknown-pragmas -DNDEBUG -DNDEBUG2 -DHAVE_EXECINFO_H -DHAVE_GETLINE -O3 -MD -MT programs/CMakeFiles/m2gmetis.dir/io.c.o -MF CMakeFiles/m2gmetis.dir/io.c.o.d -o CMakeFiles/m2gmetis.dir/io.c.o -c /content/metis-5.1.0/programs/io.c\n",
            "[ 92%] \u001b[32m\u001b[1mLinking C executable m2gmetis\u001b[0m\n",
            "cd /content/metis-5.1.0/build/Linux-x86_64/programs && /usr/local/lib/python3.10/dist-packages/cmake/data/bin/cmake -E cmake_link_script CMakeFiles/m2gmetis.dir/link.txt --verbose=1\n",
            "/usr/bin/cc  -DLINUX -D_FILE_OFFSET_BITS=64 -std=c99 -fno-strict-aliasing -fPIC -Wall -pedantic -Wno-unused-but-set-variable -Wno-unused-variable -Wno-unknown-pragmas -DNDEBUG -DNDEBUG2 -DHAVE_EXECINFO_H -DHAVE_GETLINE -O3 -rdynamic CMakeFiles/m2gmetis.dir/m2gmetis.c.o CMakeFiles/m2gmetis.dir/cmdline_m2gmetis.c.o CMakeFiles/m2gmetis.dir/io.c.o -o m2gmetis   -L/home/karypis/local/lib  -Wl,-rpath,/home/karypis/local/lib:/content/metis-5.1.0/build/Linux-x86_64/libmetis: ../libmetis/libmetis.so -lm \n",
            "make[3]: Leaving directory '/content/metis-5.1.0/build/Linux-x86_64'\n",
            "[ 92%] Built target m2gmetis\n",
            "make  -f programs/CMakeFiles/graphchk.dir/build.make programs/CMakeFiles/graphchk.dir/depend\n",
            "make[3]: Entering directory '/content/metis-5.1.0/build/Linux-x86_64'\n",
            "cd /content/metis-5.1.0/build/Linux-x86_64 && /usr/local/lib/python3.10/dist-packages/cmake/data/bin/cmake -E cmake_depends \"Unix Makefiles\" /content/metis-5.1.0 /content/metis-5.1.0/programs /content/metis-5.1.0/build/Linux-x86_64 /content/metis-5.1.0/build/Linux-x86_64/programs /content/metis-5.1.0/build/Linux-x86_64/programs/CMakeFiles/graphchk.dir/DependInfo.cmake --color=\n",
            "make[3]: Leaving directory '/content/metis-5.1.0/build/Linux-x86_64'\n",
            "make  -f programs/CMakeFiles/graphchk.dir/build.make programs/CMakeFiles/graphchk.dir/build\n",
            "make[3]: Entering directory '/content/metis-5.1.0/build/Linux-x86_64'\n",
            "[ 93%] \u001b[32mBuilding C object programs/CMakeFiles/graphchk.dir/graphchk.c.o\u001b[0m\n",
            "cd /content/metis-5.1.0/build/Linux-x86_64/programs && /usr/bin/cc -DSVNINFO=\\\"\\\" -I/content/metis-5.1.0/GKlib -I/content/metis-5.1.0/include -I/content/metis-5.1.0/programs/../libmetis -DLINUX -D_FILE_OFFSET_BITS=64 -std=c99 -fno-strict-aliasing -fPIC -Wall -pedantic -Wno-unused-but-set-variable -Wno-unused-variable -Wno-unknown-pragmas -DNDEBUG -DNDEBUG2 -DHAVE_EXECINFO_H -DHAVE_GETLINE -O3 -MD -MT programs/CMakeFiles/graphchk.dir/graphchk.c.o -MF CMakeFiles/graphchk.dir/graphchk.c.o.d -o CMakeFiles/graphchk.dir/graphchk.c.o -c /content/metis-5.1.0/programs/graphchk.c\n",
            "[ 94%] \u001b[32mBuilding C object programs/CMakeFiles/graphchk.dir/io.c.o\u001b[0m\n",
            "cd /content/metis-5.1.0/build/Linux-x86_64/programs && /usr/bin/cc -DSVNINFO=\\\"\\\" -I/content/metis-5.1.0/GKlib -I/content/metis-5.1.0/include -I/content/metis-5.1.0/programs/../libmetis -DLINUX -D_FILE_OFFSET_BITS=64 -std=c99 -fno-strict-aliasing -fPIC -Wall -pedantic -Wno-unused-but-set-variable -Wno-unused-variable -Wno-unknown-pragmas -DNDEBUG -DNDEBUG2 -DHAVE_EXECINFO_H -DHAVE_GETLINE -O3 -MD -MT programs/CMakeFiles/graphchk.dir/io.c.o -MF CMakeFiles/graphchk.dir/io.c.o.d -o CMakeFiles/graphchk.dir/io.c.o -c /content/metis-5.1.0/programs/io.c\n",
            "[ 95%] \u001b[32m\u001b[1mLinking C executable graphchk\u001b[0m\n",
            "cd /content/metis-5.1.0/build/Linux-x86_64/programs && /usr/local/lib/python3.10/dist-packages/cmake/data/bin/cmake -E cmake_link_script CMakeFiles/graphchk.dir/link.txt --verbose=1\n",
            "/usr/bin/cc  -DLINUX -D_FILE_OFFSET_BITS=64 -std=c99 -fno-strict-aliasing -fPIC -Wall -pedantic -Wno-unused-but-set-variable -Wno-unused-variable -Wno-unknown-pragmas -DNDEBUG -DNDEBUG2 -DHAVE_EXECINFO_H -DHAVE_GETLINE -O3 -rdynamic CMakeFiles/graphchk.dir/graphchk.c.o CMakeFiles/graphchk.dir/io.c.o -o graphchk   -L/home/karypis/local/lib  -Wl,-rpath,/home/karypis/local/lib:/content/metis-5.1.0/build/Linux-x86_64/libmetis: ../libmetis/libmetis.so -lm \n",
            "make[3]: Leaving directory '/content/metis-5.1.0/build/Linux-x86_64'\n",
            "[ 95%] Built target graphchk\n",
            "make  -f programs/CMakeFiles/cmpfillin.dir/build.make programs/CMakeFiles/cmpfillin.dir/depend\n",
            "make[3]: Entering directory '/content/metis-5.1.0/build/Linux-x86_64'\n",
            "cd /content/metis-5.1.0/build/Linux-x86_64 && /usr/local/lib/python3.10/dist-packages/cmake/data/bin/cmake -E cmake_depends \"Unix Makefiles\" /content/metis-5.1.0 /content/metis-5.1.0/programs /content/metis-5.1.0/build/Linux-x86_64 /content/metis-5.1.0/build/Linux-x86_64/programs /content/metis-5.1.0/build/Linux-x86_64/programs/CMakeFiles/cmpfillin.dir/DependInfo.cmake --color=\n",
            "make[3]: Leaving directory '/content/metis-5.1.0/build/Linux-x86_64'\n",
            "make  -f programs/CMakeFiles/cmpfillin.dir/build.make programs/CMakeFiles/cmpfillin.dir/build\n",
            "make[3]: Entering directory '/content/metis-5.1.0/build/Linux-x86_64'\n",
            "[ 96%] \u001b[32mBuilding C object programs/CMakeFiles/cmpfillin.dir/cmpfillin.c.o\u001b[0m\n",
            "cd /content/metis-5.1.0/build/Linux-x86_64/programs && /usr/bin/cc -DSVNINFO=\\\"\\\" -I/content/metis-5.1.0/GKlib -I/content/metis-5.1.0/include -I/content/metis-5.1.0/programs/../libmetis -DLINUX -D_FILE_OFFSET_BITS=64 -std=c99 -fno-strict-aliasing -fPIC -Wall -pedantic -Wno-unused-but-set-variable -Wno-unused-variable -Wno-unknown-pragmas -DNDEBUG -DNDEBUG2 -DHAVE_EXECINFO_H -DHAVE_GETLINE -O3 -MD -MT programs/CMakeFiles/cmpfillin.dir/cmpfillin.c.o -MF CMakeFiles/cmpfillin.dir/cmpfillin.c.o.d -o CMakeFiles/cmpfillin.dir/cmpfillin.c.o -c /content/metis-5.1.0/programs/cmpfillin.c\n",
            "[ 97%] \u001b[32mBuilding C object programs/CMakeFiles/cmpfillin.dir/io.c.o\u001b[0m\n",
            "cd /content/metis-5.1.0/build/Linux-x86_64/programs && /usr/bin/cc -DSVNINFO=\\\"\\\" -I/content/metis-5.1.0/GKlib -I/content/metis-5.1.0/include -I/content/metis-5.1.0/programs/../libmetis -DLINUX -D_FILE_OFFSET_BITS=64 -std=c99 -fno-strict-aliasing -fPIC -Wall -pedantic -Wno-unused-but-set-variable -Wno-unused-variable -Wno-unknown-pragmas -DNDEBUG -DNDEBUG2 -DHAVE_EXECINFO_H -DHAVE_GETLINE -O3 -MD -MT programs/CMakeFiles/cmpfillin.dir/io.c.o -MF CMakeFiles/cmpfillin.dir/io.c.o.d -o CMakeFiles/cmpfillin.dir/io.c.o -c /content/metis-5.1.0/programs/io.c\n",
            "[ 98%] \u001b[32mBuilding C object programs/CMakeFiles/cmpfillin.dir/smbfactor.c.o\u001b[0m\n",
            "cd /content/metis-5.1.0/build/Linux-x86_64/programs && /usr/bin/cc -DSVNINFO=\\\"\\\" -I/content/metis-5.1.0/GKlib -I/content/metis-5.1.0/include -I/content/metis-5.1.0/programs/../libmetis -DLINUX -D_FILE_OFFSET_BITS=64 -std=c99 -fno-strict-aliasing -fPIC -Wall -pedantic -Wno-unused-but-set-variable -Wno-unused-variable -Wno-unknown-pragmas -DNDEBUG -DNDEBUG2 -DHAVE_EXECINFO_H -DHAVE_GETLINE -O3 -MD -MT programs/CMakeFiles/cmpfillin.dir/smbfactor.c.o -MF CMakeFiles/cmpfillin.dir/smbfactor.c.o.d -o CMakeFiles/cmpfillin.dir/smbfactor.c.o -c /content/metis-5.1.0/programs/smbfactor.c\n",
            "[100%] \u001b[32m\u001b[1mLinking C executable cmpfillin\u001b[0m\n",
            "cd /content/metis-5.1.0/build/Linux-x86_64/programs && /usr/local/lib/python3.10/dist-packages/cmake/data/bin/cmake -E cmake_link_script CMakeFiles/cmpfillin.dir/link.txt --verbose=1\n",
            "/usr/bin/cc  -DLINUX -D_FILE_OFFSET_BITS=64 -std=c99 -fno-strict-aliasing -fPIC -Wall -pedantic -Wno-unused-but-set-variable -Wno-unused-variable -Wno-unknown-pragmas -DNDEBUG -DNDEBUG2 -DHAVE_EXECINFO_H -DHAVE_GETLINE -O3 -rdynamic CMakeFiles/cmpfillin.dir/cmpfillin.c.o CMakeFiles/cmpfillin.dir/io.c.o CMakeFiles/cmpfillin.dir/smbfactor.c.o -o cmpfillin   -L/home/karypis/local/lib  -Wl,-rpath,/home/karypis/local/lib:/content/metis-5.1.0/build/Linux-x86_64/libmetis: ../libmetis/libmetis.so -lm \n",
            "make[3]: Leaving directory '/content/metis-5.1.0/build/Linux-x86_64'\n",
            "[100%] Built target cmpfillin\n",
            "make[2]: Leaving directory '/content/metis-5.1.0/build/Linux-x86_64'\n",
            "/usr/local/lib/python3.10/dist-packages/cmake/data/bin/cmake -E cmake_progress_start /content/metis-5.1.0/build/Linux-x86_64/CMakeFiles 0\n",
            "make  -f CMakeFiles/Makefile2 preinstall\n",
            "make[2]: Entering directory '/content/metis-5.1.0/build/Linux-x86_64'\n",
            "make[2]: Nothing to be done for 'preinstall'.\n",
            "make[2]: Leaving directory '/content/metis-5.1.0/build/Linux-x86_64'\n",
            "\u001b[36mInstall the project...\u001b[0m\n",
            "/usr/local/lib/python3.10/dist-packages/cmake/data/bin/cmake -P cmake_install.cmake\n",
            "-- Install configuration: \"\"\n",
            "-- Installing: /root/.local/include/metis.h\n",
            "-- Installing: /root/.local/lib/libmetis.so\n",
            "-- Installing: /root/.local/bin/gpmetis\n",
            "-- Set runtime path of \"/root/.local/bin/gpmetis\" to \"\"\n",
            "-- Installing: /root/.local/bin/ndmetis\n",
            "-- Set runtime path of \"/root/.local/bin/ndmetis\" to \"\"\n",
            "-- Installing: /root/.local/bin/mpmetis\n",
            "-- Set runtime path of \"/root/.local/bin/mpmetis\" to \"\"\n",
            "-- Installing: /root/.local/bin/m2gmetis\n",
            "-- Set runtime path of \"/root/.local/bin/m2gmetis\" to \"\"\n",
            "-- Installing: /root/.local/bin/graphchk\n",
            "-- Set runtime path of \"/root/.local/bin/graphchk\" to \"\"\n",
            "-- Installing: /root/.local/bin/cmpfillin\n",
            "-- Set runtime path of \"/root/.local/bin/cmpfillin\" to \"\"\n",
            "make[1]: Leaving directory '/content/metis-5.1.0/build/Linux-x86_64'\n",
            "Looking in indexes: https://pypi.org/simple, https://us-python.pkg.dev/colab-wheels/public/simple/\n",
            "Collecting metis-python\n",
            "  Downloading metis-python-0.1.tar.gz (11 kB)\n",
            "  Preparing metadata (setup.py) ... \u001b[?25l\u001b[?25hdone\n",
            "Requirement already satisfied: networkx in /usr/local/lib/python3.10/dist-packages (from metis-python) (3.1)\n",
            "Building wheels for collected packages: metis-python\n",
            "  Building wheel for metis-python (setup.py) ... \u001b[?25l\u001b[?25hdone\n",
            "  Created wheel for metis-python: filename=metis_python-0.1-py3-none-any.whl size=11166 sha256=dd0eb3c85d29655ec6742c9164ecf3574eb2392866418d2bdca6cfaf7b9da9eb\n",
            "  Stored in directory: /root/.cache/pip/wheels/49/2c/94/5c30dd51e289dee8d350288854f2b899b4fdb6e36976860e0f\n",
            "Successfully built metis-python\n",
            "Installing collected packages: metis-python\n",
            "Successfully installed metis-python-0.1\n"
          ]
        }
      ],
      "source": [
        "import requests\n",
        "import tarfile\n",
        "  \n",
        "\n",
        "# Download and extract the file\n",
        "url = \"https://src.fedoraproject.org/lookaside/pkgs/metis/metis-5.1.0.tar.gz/5465e67079419a69e0116de24fce58fe//metis-5.1.0.tar.gz\"\n",
        "response = requests.get(url, stream=True)\n",
        "file = tarfile.open(fileobj=response.raw, mode=\"r|gz\")\n",
        "file.extractall(path=\".\")\n",
        "\n",
        "# Change working directory\n",
        "%cd metis-5.1.0\n",
        "\n",
        "!make config shared=1 prefix=~/.local/\n",
        "!make install\n",
        "!cp ~/.local/lib/libmetis.so /usr/lib/libmetis.so\n",
        "!export METIS_DLL=/usr/lib/libmetis.so\n",
        "!pip3 install metis-python\n",
        "\n",
        "import metispy as metis"
      ]
    },
    {
      "cell_type": "code",
      "execution_count": null,
      "metadata": {
        "id": "mq005qTiCArN"
      },
      "outputs": [],
      "source": [
        "import numpy as np\n",
        "from keras.datasets import mnist\n",
        "from sklearn.model_selection import train_test_split\n",
        "from sklearn.preprocessing import StandardScaler\n",
        "import matplotlib.pyplot as plt\n",
        "import seaborn as sns\n",
        "import pandas as pd\n",
        "import forcelayout as fl\n",
        "from sklearn.preprocessing import MinMaxScaler\n",
        "from scipy import spatial"
      ]
    },
    {
      "cell_type": "code",
      "execution_count": null,
      "metadata": {
        "colab": {
          "background_save": true
        },
        "id": "RUpaxmoiHz71"
      },
      "outputs": [],
      "source": [
        "import umap.distances as distances\n",
        "import umap.umap_ as umap\n",
        "import networkx as nkx\n",
        "\n",
        "from pyDRMetrics.pyDRMetrics import *"
      ]
    },
    {
      "cell_type": "code",
      "execution_count": null,
      "metadata": {
        "colab": {
          "background_save": true
        },
        "id": "jexrWv9oHLSg",
        "outputId": "b55819bf-03b5-4a9d-d9e1-4626264e7dfb"
      },
      "outputs": [
        {
          "ename": "KeyboardInterrupt",
          "evalue": "ignored",
          "output_type": "error",
          "traceback": [
            "\u001b[0;31m---------------------------------------------------------------------------\u001b[0m",
            "\u001b[0;31mKeyboardInterrupt\u001b[0m                         Traceback (most recent call last)",
            "\u001b[0;32m<ipython-input-8-d5df0069828e>\u001b[0m in \u001b[0;36m<cell line: 2>\u001b[0;34m()\u001b[0m\n\u001b[1;32m      1\u001b[0m \u001b[0;32mfrom\u001b[0m \u001b[0mgoogle\u001b[0m\u001b[0;34m.\u001b[0m\u001b[0mcolab\u001b[0m \u001b[0;32mimport\u001b[0m \u001b[0mdrive\u001b[0m\u001b[0;34m\u001b[0m\u001b[0;34m\u001b[0m\u001b[0m\n\u001b[0;32m----> 2\u001b[0;31m \u001b[0mdrive\u001b[0m\u001b[0;34m.\u001b[0m\u001b[0mmount\u001b[0m\u001b[0;34m(\u001b[0m\u001b[0;34m'/content/drive'\u001b[0m\u001b[0;34m)\u001b[0m\u001b[0;34m\u001b[0m\u001b[0;34m\u001b[0m\u001b[0m\n\u001b[0m",
            "\u001b[0;32m/usr/local/lib/python3.10/dist-packages/google/colab/drive.py\u001b[0m in \u001b[0;36mmount\u001b[0;34m(mountpoint, force_remount, timeout_ms, readonly)\u001b[0m\n\u001b[1;32m    101\u001b[0m \u001b[0;32mdef\u001b[0m \u001b[0mmount\u001b[0m\u001b[0;34m(\u001b[0m\u001b[0mmountpoint\u001b[0m\u001b[0;34m,\u001b[0m \u001b[0mforce_remount\u001b[0m\u001b[0;34m=\u001b[0m\u001b[0;32mFalse\u001b[0m\u001b[0;34m,\u001b[0m \u001b[0mtimeout_ms\u001b[0m\u001b[0;34m=\u001b[0m\u001b[0;36m120000\u001b[0m\u001b[0;34m,\u001b[0m \u001b[0mreadonly\u001b[0m\u001b[0;34m=\u001b[0m\u001b[0;32mFalse\u001b[0m\u001b[0;34m)\u001b[0m\u001b[0;34m:\u001b[0m\u001b[0;34m\u001b[0m\u001b[0;34m\u001b[0m\u001b[0m\n\u001b[1;32m    102\u001b[0m   \u001b[0;34m\"\"\"Mount your Google Drive at the specified mountpoint path.\"\"\"\u001b[0m\u001b[0;34m\u001b[0m\u001b[0;34m\u001b[0m\u001b[0m\n\u001b[0;32m--> 103\u001b[0;31m   return _mount(\n\u001b[0m\u001b[1;32m    104\u001b[0m       \u001b[0mmountpoint\u001b[0m\u001b[0;34m,\u001b[0m\u001b[0;34m\u001b[0m\u001b[0;34m\u001b[0m\u001b[0m\n\u001b[1;32m    105\u001b[0m       \u001b[0mforce_remount\u001b[0m\u001b[0;34m=\u001b[0m\u001b[0mforce_remount\u001b[0m\u001b[0;34m,\u001b[0m\u001b[0;34m\u001b[0m\u001b[0;34m\u001b[0m\u001b[0m\n",
            "\u001b[0;32m/usr/local/lib/python3.10/dist-packages/google/colab/drive.py\u001b[0m in \u001b[0;36m_mount\u001b[0;34m(mountpoint, force_remount, timeout_ms, ephemeral, readonly)\u001b[0m\n\u001b[1;32m    130\u001b[0m   )\n\u001b[1;32m    131\u001b[0m   \u001b[0;32mif\u001b[0m \u001b[0mephemeral\u001b[0m\u001b[0;34m:\u001b[0m\u001b[0;34m\u001b[0m\u001b[0;34m\u001b[0m\u001b[0m\n\u001b[0;32m--> 132\u001b[0;31m     _message.blocking_request(\n\u001b[0m\u001b[1;32m    133\u001b[0m         \u001b[0;34m'request_auth'\u001b[0m\u001b[0;34m,\u001b[0m \u001b[0mrequest\u001b[0m\u001b[0;34m=\u001b[0m\u001b[0;34m{\u001b[0m\u001b[0;34m'authType'\u001b[0m\u001b[0;34m:\u001b[0m \u001b[0;34m'dfs_ephemeral'\u001b[0m\u001b[0;34m}\u001b[0m\u001b[0;34m,\u001b[0m \u001b[0mtimeout_sec\u001b[0m\u001b[0;34m=\u001b[0m\u001b[0;32mNone\u001b[0m\u001b[0;34m\u001b[0m\u001b[0;34m\u001b[0m\u001b[0m\n\u001b[1;32m    134\u001b[0m     )\n",
            "\u001b[0;32m/usr/local/lib/python3.10/dist-packages/google/colab/_message.py\u001b[0m in \u001b[0;36mblocking_request\u001b[0;34m(request_type, request, timeout_sec, parent)\u001b[0m\n\u001b[1;32m    174\u001b[0m       \u001b[0mrequest_type\u001b[0m\u001b[0;34m,\u001b[0m \u001b[0mrequest\u001b[0m\u001b[0;34m,\u001b[0m \u001b[0mparent\u001b[0m\u001b[0;34m=\u001b[0m\u001b[0mparent\u001b[0m\u001b[0;34m,\u001b[0m \u001b[0mexpect_reply\u001b[0m\u001b[0;34m=\u001b[0m\u001b[0;32mTrue\u001b[0m\u001b[0;34m\u001b[0m\u001b[0;34m\u001b[0m\u001b[0m\n\u001b[1;32m    175\u001b[0m   )\n\u001b[0;32m--> 176\u001b[0;31m   \u001b[0;32mreturn\u001b[0m \u001b[0mread_reply_from_input\u001b[0m\u001b[0;34m(\u001b[0m\u001b[0mrequest_id\u001b[0m\u001b[0;34m,\u001b[0m \u001b[0mtimeout_sec\u001b[0m\u001b[0;34m)\u001b[0m\u001b[0;34m\u001b[0m\u001b[0;34m\u001b[0m\u001b[0m\n\u001b[0m",
            "\u001b[0;32m/usr/local/lib/python3.10/dist-packages/google/colab/_message.py\u001b[0m in \u001b[0;36mread_reply_from_input\u001b[0;34m(message_id, timeout_sec)\u001b[0m\n\u001b[1;32m     94\u001b[0m     \u001b[0mreply\u001b[0m \u001b[0;34m=\u001b[0m \u001b[0m_read_next_input_message\u001b[0m\u001b[0;34m(\u001b[0m\u001b[0;34m)\u001b[0m\u001b[0;34m\u001b[0m\u001b[0;34m\u001b[0m\u001b[0m\n\u001b[1;32m     95\u001b[0m     \u001b[0;32mif\u001b[0m \u001b[0mreply\u001b[0m \u001b[0;34m==\u001b[0m \u001b[0m_NOT_READY\u001b[0m \u001b[0;32mor\u001b[0m \u001b[0;32mnot\u001b[0m \u001b[0misinstance\u001b[0m\u001b[0;34m(\u001b[0m\u001b[0mreply\u001b[0m\u001b[0;34m,\u001b[0m \u001b[0mdict\u001b[0m\u001b[0;34m)\u001b[0m\u001b[0;34m:\u001b[0m\u001b[0;34m\u001b[0m\u001b[0;34m\u001b[0m\u001b[0m\n\u001b[0;32m---> 96\u001b[0;31m       \u001b[0mtime\u001b[0m\u001b[0;34m.\u001b[0m\u001b[0msleep\u001b[0m\u001b[0;34m(\u001b[0m\u001b[0;36m0.025\u001b[0m\u001b[0;34m)\u001b[0m\u001b[0;34m\u001b[0m\u001b[0;34m\u001b[0m\u001b[0m\n\u001b[0m\u001b[1;32m     97\u001b[0m       \u001b[0;32mcontinue\u001b[0m\u001b[0;34m\u001b[0m\u001b[0;34m\u001b[0m\u001b[0m\n\u001b[1;32m     98\u001b[0m     if (\n",
            "\u001b[0;31mKeyboardInterrupt\u001b[0m: "
          ]
        }
      ],
      "source": [
        "from google.colab import drive\n",
        "drive.mount('/content/drive')"
      ]
    },
    {
      "cell_type": "code",
      "execution_count": null,
      "metadata": {
        "id": "pcc5XfejEnaI"
      },
      "outputs": [],
      "source": [
        "files=['bank.csv','cifar.csv','cnae.csv','coil20.csv','epileptic.csv','fashion_mnist.csv','fmd.csv','har.csv','hatespeech.csv','hiva.csv','imdb.csv','orl.csv','secom.csv','seismic.csv','sentiment.csv','sms.csv','spambase.csv','svhn.csv']"
      ]
    },
    {
      "cell_type": "code",
      "execution_count": null,
      "metadata": {
        "id": "X1tswduRASy9"
      },
      "outputs": [],
      "source": [
        "params = [{'angular_rp_forest': False, 'init': 'random', 'metric': 'euclidean', 'min_dist': 0.01, 'n_components': 2, 'n_neighbors': 5, 'random_state': 42, 'spread': 1.0,'densmap':True},\n",
        "{'angular_rp_forest': False, 'init': 'spectral', 'metric': 'euclidean', 'min_dist': 0.001, 'n_components': 2, 'n_neighbors': 15, 'random_state': 42, 'spread': 1.0},\n",
        "{'angular_rp_forest': False, 'init': 'spectral', 'metric': 'euclidean', 'min_dist': 0.01, 'n_components': 2, 'n_neighbors': 10, 'random_state': 42, 'spread': 1.0},\n",
        "{'angular_rp_forest': False, 'init': 'spectral', 'metric': 'euclidean', 'min_dist': 0.001, 'n_components': 2, 'n_neighbors': 5, 'random_state': 42, 'spread': 1.0},\n",
        "{'angular_rp_forest': False, 'init': 'spectral', 'metric': 'euclidean', 'min_dist': 0.001, 'n_components': 2, 'n_neighbors': 5, 'random_state': 42, 'spread': 1.0},\n",
        "{'angular_rp_forest': False, 'init': 'spectral', 'metric': 'euclidean', 'min_dist': 0.5, 'n_components': 2, 'n_neighbors': 5, 'random_state': 42, 'spread': 1.0},\n",
        "{'angular_rp_forest': False, 'init': 'spectral', 'metric': 'euclidean', 'min_dist': 0.5, 'n_components': 2, 'n_neighbors': 15, 'random_state': 42, 'spread': 1.0},\n",
        "{'angular_rp_forest': False, 'init': 'random', 'metric': 'euclidean', 'min_dist': 0.001, 'n_components': 2, 'n_neighbors': 5, 'random_state': 42, 'spread': 1.0},\n",
        "{'angular_rp_forest': False, 'init': 'spectral', 'metric': 'euclidean', 'min_dist': 0.1, 'n_components': 2, 'n_neighbors': 15, 'random_state': 42, 'spread': 1.0},\n",
        "{'angular_rp_forest': False, 'init': 'spectral', 'metric': 'euclidean', 'min_dist': 0.1, 'n_components': 2, 'n_neighbors': 15, 'random_state': 42, 'spread': 1.0},\n",
        "{'angular_rp_forest': False, 'init': 'spectral', 'metric': 'euclidean', 'min_dist': 0.5, 'n_components': 2, 'n_neighbors': 15, 'random_state': 42, 'spread': 1.0},\n",
        "{'angular_rp_forest': False, 'init': 'random', 'metric': 'euclidean', 'min_dist': 0.01, 'n_components': 2, 'n_neighbors': 15, 'random_state': 42, 'spread': 1.0},\n",
        "{'angular_rp_forest': False, 'init': 'spectral', 'metric': 'euclidean', 'min_dist': 0.5, 'n_components': 2, 'n_neighbors': 5, 'random_state': 42, 'spread': 1.0},\n",
        "{'angular_rp_forest': False, 'init': 'spectral', 'metric': 'euclidean', 'min_dist': 0.001, 'n_components': 2, 'n_neighbors': 5, 'random_state': 42, 'spread': 1.0},\n",
        "{'angular_rp_forest': False, 'init': 'random', 'metric': 'euclidean', 'min_dist': 0.001, 'n_components': 2, 'n_neighbors': 5, 'random_state': 42, 'spread': 1.0},\n",
        "{'angular_rp_forest': False, 'init': 'random', 'metric': 'euclidean', 'min_dist': 0.001, 'n_components': 2, 'n_neighbors': 5, 'random_state': 42, 'spread': 1.0},\n",
        "{'angular_rp_forest': False, 'init': 'random', 'metric': 'euclidean', 'min_dist': 0.5, 'n_components': 2, 'n_neighbors': 10, 'random_state': 42, 'spread': 1.0},\n",
        "{'angular_rp_forest': False, 'init': 'spectral', 'metric': 'euclidean', 'min_dist': 0.001, 'n_components': 2, 'n_neighbors': 10, 'random_state': 42, 'spread': 1.0}]\n"
      ]
    },
    {
      "cell_type": "code",
      "execution_count": null,
      "metadata": {
        "id": "2C4fGjelAWYO"
      },
      "outputs": [],
      "source": [
        "classes = [2,5,9,20,4,10,10,6,3,2,2,3,2,2,2,2,2,5]"
      ]
    },
    {
      "cell_type": "code",
      "execution_count": null,
      "metadata": {
        "id": "OEo6AgvyUTC7"
      },
      "outputs": [],
      "source": [
        "i=0"
      ]
    },
    {
      "cell_type": "code",
      "execution_count": null,
      "metadata": {
        "id": "vx27XW33Hd1N"
      },
      "outputs": [],
      "source": [
        "dataset_path = '/content/drive/MyDrive/input_data/'+files[i] \n",
        "data_ = pd.read_csv(dataset_path)"
      ]
    },
    {
      "cell_type": "code",
      "execution_count": null,
      "metadata": {
        "id": "-a-K4LZ_LHSQ"
      },
      "outputs": [],
      "source": [
        "#data_ = StandardScaler().fit_transform(data_)"
      ]
    },
    {
      "cell_type": "code",
      "execution_count": null,
      "metadata": {
        "id": "rpn5zYQhaFHy"
      },
      "outputs": [],
      "source": [
        "scaler = MinMaxScaler()\n",
        "#data_ = scaler.fit_transform(data_.astype('float32'))"
      ]
    },
    {
      "cell_type": "code",
      "execution_count": null,
      "metadata": {
        "id": "kRliCpRpL0Rz"
      },
      "outputs": [],
      "source": [
        "data_ = np.array(data_)"
      ]
    },
    {
      "cell_type": "code",
      "execution_count": null,
      "metadata": {
        "colab": {
          "background_save": true
        },
        "id": "DzJoPoMCLK4L",
        "outputId": "b00be12c-44e7-40fe-8ba1-fbb04f6e68b6"
      },
      "outputs": [
        {
          "data": {
            "text/html": [
              "<style>#sk-container-id-6 {color: black;background-color: white;}#sk-container-id-6 pre{padding: 0;}#sk-container-id-6 div.sk-toggleable {background-color: white;}#sk-container-id-6 label.sk-toggleable__label {cursor: pointer;display: block;width: 100%;margin-bottom: 0;padding: 0.3em;box-sizing: border-box;text-align: center;}#sk-container-id-6 label.sk-toggleable__label-arrow:before {content: \"▸\";float: left;margin-right: 0.25em;color: #696969;}#sk-container-id-6 label.sk-toggleable__label-arrow:hover:before {color: black;}#sk-container-id-6 div.sk-estimator:hover label.sk-toggleable__label-arrow:before {color: black;}#sk-container-id-6 div.sk-toggleable__content {max-height: 0;max-width: 0;overflow: hidden;text-align: left;background-color: #f0f8ff;}#sk-container-id-6 div.sk-toggleable__content pre {margin: 0.2em;color: black;border-radius: 0.25em;background-color: #f0f8ff;}#sk-container-id-6 input.sk-toggleable__control:checked~div.sk-toggleable__content {max-height: 200px;max-width: 100%;overflow: auto;}#sk-container-id-6 input.sk-toggleable__control:checked~label.sk-toggleable__label-arrow:before {content: \"▾\";}#sk-container-id-6 div.sk-estimator input.sk-toggleable__control:checked~label.sk-toggleable__label {background-color: #d4ebff;}#sk-container-id-6 div.sk-label input.sk-toggleable__control:checked~label.sk-toggleable__label {background-color: #d4ebff;}#sk-container-id-6 input.sk-hidden--visually {border: 0;clip: rect(1px 1px 1px 1px);clip: rect(1px, 1px, 1px, 1px);height: 1px;margin: -1px;overflow: hidden;padding: 0;position: absolute;width: 1px;}#sk-container-id-6 div.sk-estimator {font-family: monospace;background-color: #f0f8ff;border: 1px dotted black;border-radius: 0.25em;box-sizing: border-box;margin-bottom: 0.5em;}#sk-container-id-6 div.sk-estimator:hover {background-color: #d4ebff;}#sk-container-id-6 div.sk-parallel-item::after {content: \"\";width: 100%;border-bottom: 1px solid gray;flex-grow: 1;}#sk-container-id-6 div.sk-label:hover label.sk-toggleable__label {background-color: #d4ebff;}#sk-container-id-6 div.sk-serial::before {content: \"\";position: absolute;border-left: 1px solid gray;box-sizing: border-box;top: 0;bottom: 0;left: 50%;z-index: 0;}#sk-container-id-6 div.sk-serial {display: flex;flex-direction: column;align-items: center;background-color: white;padding-right: 0.2em;padding-left: 0.2em;position: relative;}#sk-container-id-6 div.sk-item {position: relative;z-index: 1;}#sk-container-id-6 div.sk-parallel {display: flex;align-items: stretch;justify-content: center;background-color: white;position: relative;}#sk-container-id-6 div.sk-item::before, #sk-container-id-6 div.sk-parallel-item::before {content: \"\";position: absolute;border-left: 1px solid gray;box-sizing: border-box;top: 0;bottom: 0;left: 50%;z-index: -1;}#sk-container-id-6 div.sk-parallel-item {display: flex;flex-direction: column;z-index: 1;position: relative;background-color: white;}#sk-container-id-6 div.sk-parallel-item:first-child::after {align-self: flex-end;width: 50%;}#sk-container-id-6 div.sk-parallel-item:last-child::after {align-self: flex-start;width: 50%;}#sk-container-id-6 div.sk-parallel-item:only-child::after {width: 0;}#sk-container-id-6 div.sk-dashed-wrapped {border: 1px dashed gray;margin: 0 0.4em 0.5em 0.4em;box-sizing: border-box;padding-bottom: 0.4em;background-color: white;}#sk-container-id-6 div.sk-label label {font-family: monospace;font-weight: bold;display: inline-block;line-height: 1.2em;}#sk-container-id-6 div.sk-label-container {text-align: center;}#sk-container-id-6 div.sk-container {/* jupyter's `normalize.less` sets `[hidden] { display: none; }` but bootstrap.min.css set `[hidden] { display: none !important; }` so we also need the `!important` here to be able to override the default hidden behavior on the sphinx rendered scikit-learn.org. See: https://github.com/scikit-learn/scikit-learn/issues/21755 */display: inline-block !important;position: relative;}#sk-container-id-6 div.sk-text-repr-fallback {display: none;}</style><div id=\"sk-container-id-6\" class=\"sk-top-container\"><div class=\"sk-text-repr-fallback\"><pre>UMAP(min_dist=0.001, n_neighbors=5, random_state=42, tqdm_kwds={&#x27;bar_format&#x27;: &#x27;{desc}: {percentage:3.0f}%| {bar} {n_fmt}/{total_fmt} [{elapsed}]&#x27;, &#x27;desc&#x27;: &#x27;Epochs completed&#x27;, &#x27;disable&#x27;: True})</pre><b>In a Jupyter environment, please rerun this cell to show the HTML representation or trust the notebook. <br />On GitHub, the HTML representation is unable to render, please try loading this page with nbviewer.org.</b></div><div class=\"sk-container\" hidden><div class=\"sk-item\"><div class=\"sk-estimator sk-toggleable\"><input class=\"sk-toggleable__control sk-hidden--visually\" id=\"sk-estimator-id-6\" type=\"checkbox\" checked><label for=\"sk-estimator-id-6\" class=\"sk-toggleable__label sk-toggleable__label-arrow\">UMAP</label><div class=\"sk-toggleable__content\"><pre>UMAP(min_dist=0.001, n_neighbors=5, random_state=42, tqdm_kwds={&#x27;bar_format&#x27;: &#x27;{desc}: {percentage:3.0f}%| {bar} {n_fmt}/{total_fmt} [{elapsed}]&#x27;, &#x27;desc&#x27;: &#x27;Epochs completed&#x27;, &#x27;disable&#x27;: True})</pre></div></div></div></div></div>"
            ],
            "text/plain": [
              "UMAP(min_dist=0.001, n_neighbors=5, random_state=42, tqdm_kwds={'bar_format': '{desc}: {percentage:3.0f}%| {bar} {n_fmt}/{total_fmt} [{elapsed}]', 'desc': 'Epochs completed', 'disable': True})"
            ]
          },
          "execution_count": 178,
          "metadata": {},
          "output_type": "execute_result"
        }
      ],
      "source": [
        "reducer = umap.UMAP(**params[i])\n",
        "#reducer = umap.UMAP()\n",
        "reducer.fit(data_)\n",
        "#dens_mapper = umap.UMAP(densmap=True, random_state=42).fit(mnist.data)"
      ]
    },
    {
      "cell_type": "code",
      "execution_count": null,
      "metadata": {
        "colab": {
          "background_save": true
        },
        "id": "1US5dM7p93wt"
      },
      "outputs": [],
      "source": [
        "graph = reducer.graph_\n",
        "ngraph = nkx.Graph(graph)"
      ]
    },
    {
      "cell_type": "code",
      "execution_count": null,
      "metadata": {
        "colab": {
          "background_save": true
        },
        "id": "aXyxBLHD8rUl"
      },
      "outputs": [],
      "source": [
        "(edgecuts, parts) = metis.part_graph(ngraph, nparts=classes[i])\n",
        "#(edgecuts, parts) = metis.part_graph(ngraph, nparts=10)"
      ]
    },
    {
      "cell_type": "code",
      "execution_count": null,
      "metadata": {
        "colab": {
          "background_save": true
        },
        "id": "UpBvygbeV_k0"
      },
      "outputs": [],
      "source": [
        "embedding = reducer.embedding_"
      ]
    },
    {
      "cell_type": "code",
      "execution_count": null,
      "metadata": {
        "colab": {
          "background_save": true
        },
        "id": "87ElG_emWArw"
      },
      "outputs": [],
      "source": [
        "embedding = reducer.embedding_\n",
        "embedding_scaled =  scaler.fit_transform(embedding.astype('float32'))"
      ]
    },
    {
      "cell_type": "code",
      "execution_count": null,
      "metadata": {
        "colab": {
          "background_save": true
        },
        "id": "cyAy_rWWHR5x"
      },
      "outputs": [],
      "source": [
        "def calculateClusterCenter(data,parts):\n",
        "  centre={}\n",
        "  for i in range(len(parts)):\n",
        "    if parts[i] in centre:\n",
        "      centre[parts[i]]+=data[i]\n",
        "    else:\n",
        "      centre[parts[i]]=data[i]\n",
        "\n",
        "\n",
        "  for j in centre:\n",
        "    try:\n",
        "      centre[j]/=parts.count(j)\n",
        "    except:\n",
        "      centre[j]=centre[j]/parts.count(j)\n",
        "  \n",
        "  return centre\n",
        "\n",
        "centre = calculateClusterCenter(data_,parts)\n"
      ]
    },
    {
      "cell_type": "code",
      "execution_count": null,
      "metadata": {
        "colab": {
          "background_save": true
        },
        "id": "pAFTRZjnQewb"
      },
      "outputs": [],
      "source": [
        "def normalize(D):\n",
        "    scaler = MinMaxScaler()\n",
        "    D = scaler.fit_transform(D.reshape((-1, 1)))\n",
        "    D = D.squeeze()\n",
        "    return D\n",
        "\n",
        "def normalized_stress(D_high, D_low):\n",
        "    return (np.sum((D_high - D_low)**2) / np.sum(D_high**2))"
      ]
    },
    {
      "cell_type": "code",
      "execution_count": null,
      "metadata": {
        "colab": {
          "background_save": true
        },
        "id": "HtBRTJjmQgRt"
      },
      "outputs": [],
      "source": [
        "def stress1(origData, projData):\n",
        "  D_low = spatial.distance.pdist(projData, 'euclidean')\n",
        "  D_high = spatial.distance.pdist(origData, 'euclidean')\n",
        "  D_low = normalize(D_low)\n",
        "  D_high = normalize(D_high)\n",
        "  return normalized_stress(D_high, D_low)"
      ]
    },
    {
      "cell_type": "code",
      "execution_count": null,
      "metadata": {
        "colab": {
          "background_save": true
        },
        "id": "1eXDHUxrQj0k"
      },
      "outputs": [],
      "source": [
        "def stress2(origData, projData):\n",
        "  D_low = spatial.distance.pdist(projData, 'euclidean')\n",
        "  D_high = spatial.distance.pdist(origData, 'euclidean')\n",
        "  #D_low = normalize(D_low)\n",
        "  #D_high = normalize(D_high)\n",
        "  return normalized_stress(D_high, D_low)"
      ]
    },
    {
      "cell_type": "code",
      "execution_count": null,
      "metadata": {
        "colab": {
          "background_save": true
        },
        "id": "nFynDb6ZTKcp"
      },
      "outputs": [],
      "source": [
        "def selectCluster(parts, projectedPoints, cluster):\n",
        "  clusterPoints=[]\n",
        "  for i in range(len(parts)):\n",
        "    if parts[i]==cluster:\n",
        "      clusterPoints.append(list(projectedPoints[i]))\n",
        "  return np.array(clusterPoints)"
      ]
    },
    {
      "cell_type": "code",
      "execution_count": null,
      "metadata": {
        "colab": {
          "background_save": true
        },
        "id": "pTcflOppVbc9"
      },
      "outputs": [],
      "source": [
        "def translate(cluster,axis, distance):\n",
        "  toAdd = [0,0]\n",
        "  toAdd[axis] = distance\n",
        "  return cluster+toAdd"
      ]
    },
    {
      "cell_type": "code",
      "execution_count": null,
      "metadata": {
        "colab": {
          "background_save": true
        },
        "id": "9qPAowDQW3-k"
      },
      "outputs": [],
      "source": [
        "def changeCluster(parts, coordinates, projected, cluster):\n",
        "  count=0\n",
        "  newProjected=[]\n",
        "  for i in range(len(parts)):\n",
        "    if parts[i]==cluster:\n",
        "      newProjected.append(coordinates[count])\n",
        "      count+=1\n",
        "    else:\n",
        "      newProjected.append(projected[i])\n",
        "  return newProjected"
      ]
    },
    {
      "cell_type": "code",
      "execution_count": null,
      "metadata": {
        "colab": {
          "background_save": true
        },
        "id": "9E12TCwuIjvF"
      },
      "outputs": [],
      "source": [
        "def forceDirectedCentres(originalCentres, parts):\n",
        "  clusterCentres = np.array(originalCentres[0])\n",
        "  for i in range(1,len(set(parts))):\n",
        "    clusterCentres=np.vstack((clusterCentres, originalCentres[i]))\n",
        "\n",
        "  layout = fl.draw_spring_layout(dataset=clusterCentres, algorithm=fl.SpringForce)\n",
        "\n",
        "  print(layout.get_stress())\n",
        "\n",
        "  forceDirectedPositions = layout.get_positions()\n",
        "\n",
        "  return forceDirectedPositions"
      ]
    },
    {
      "cell_type": "code",
      "execution_count": null,
      "metadata": {
        "colab": {
          "background_save": true
        },
        "id": "2kH4j--B92gf"
      },
      "outputs": [],
      "source": [
        "def PCACentres(originalCentres, parts):\n",
        "  clusterCentres = np.array(originalCentres[0])\n",
        "  for i in range(1,len(set(parts))):\n",
        "    clusterCentres=np.vstack((clusterCentres, originalCentres[i]))\n",
        "\n",
        "  pcaCoords = PCA(n_components=2).fit_transform(clusterCentres)\n",
        "\n",
        "  return pcaCoords"
      ]
    },
    {
      "cell_type": "code",
      "execution_count": null,
      "metadata": {
        "colab": {
          "background_save": true
        },
        "id": "qnWm5yv9MAZk"
      },
      "outputs": [],
      "source": [
        "def posDifference(highDimensionCentres, lowDimensionCentres, initializer):\n",
        "  if initializer==\"fdl\":\n",
        "    centreRepresentation = forceDirectedCentres(highDimensionCentres, parts)\n",
        "  elif initializer==\"pca\":\n",
        "    centreRepresentation = PCACentres(highDimensionCentres, parts)\n",
        "\n",
        "  centre2d = np.array(lowDimensionCentres[0])\n",
        "  for i in range(1,len(set(parts))):\n",
        "    centre2d=np.vstack((centre2d, lowDimensionCentres[i]))\n",
        "\n",
        "  return centreRepresentation - centre2d"
      ]
    },
    {
      "cell_type": "code",
      "execution_count": null,
      "metadata": {
        "colab": {
          "background_save": true
        },
        "id": "45m3YOU1Bbwz"
      },
      "outputs": [],
      "source": [
        "def translateUsingDifference(difference, parts, embedding):\n",
        "  newEmbedding = embedding \n",
        "  for i in range(len(difference)):\n",
        "    x = selectCluster(parts, newEmbedding, i)\n",
        "    translated = translate(x, 0, difference[i][0])\n",
        "    newEmbedding = changeCluster(parts, translated, newEmbedding, i)\n",
        "\n",
        "    y = selectCluster(parts, newEmbedding, i)\n",
        "    translated = translate(y, 1, difference[i][1])\n",
        "    newEmbedding = changeCluster(parts, translated, newEmbedding, i)\n",
        "\n",
        "  return newEmbedding"
      ]
    },
    {
      "cell_type": "code",
      "execution_count": null,
      "metadata": {
        "colab": {
          "background_save": true
        },
        "id": "85RFLXVlmMNN",
        "outputId": "adefa3ff-60ac-4c97-ea95-c6f21b1d7505"
      },
      "outputs": [
        {
          "name": "stdout",
          "output_type": "stream",
          "text": [
            "0.2862838484144247\n"
          ]
        },
        {
          "data": {
            "image/png": "[encoded data removed]",
            "text/plain": [
              "<Figure size 640x480 with 1 Axes>"
            ]
          },
          "metadata": {},
          "output_type": "display_data"
        }
      ],
      "source": [
        "initialCentres = calculateClusterCenter(embedding_scaled,parts)\n",
        "clusterCentres = np.array(centre.get(i, []))\n",
        "\n",
        "differenceFDL = posDifference(centre, initialCentres, \"fdl\")"
      ]
    },
    {
      "cell_type": "code",
      "execution_count": null,
      "metadata": {
        "colab": {
          "background_save": true
        },
        "id": "le7T0R8PbSv1"
      },
      "outputs": [],
      "source": [
        "translatedEmbeddingFDL = translateUsingDifference(differenceFDL, parts, embedding_scaled)\n"
      ]
    },
    {
      "cell_type": "code",
      "execution_count": null,
      "metadata": {
        "colab": {
          "background_save": true
        },
        "id": "YK6BV4BtA0mt",
        "outputId": "898b128c-2013-44cb-c103-c5a4b4c95457"
      },
      "outputs": [
        {
          "data": {
            "application/vnd.google.colaboratory.intrinsic+json": {
              "type": "string"
            },
            "text/plain": [
              "'import numpy as np\\nfrom sklearn.metrics import pairwise_distances\\n\\ndef compute_tandc(k, data_, embeddings):\\n    n = data_.shape[0]\\n\\n    D_high = pairwise_distances(data_)\\n    D_low = pairwise_distances(embeddings)\\n\\n    nn_orig = D_high.argsort()\\n    nn_proj = D_low.argsort()\\n\\n    knn_orig = nn_orig[:, :k + 1][:, 1:]\\n    knn_proj = nn_proj[:, :k + 1][:, 1:]\\n\\n    sum_i_t = 0\\n    sum_i_c = 0\\n\\n    for i in range(n):\\n        V = np.setdiff1d(knn_orig[i], knn_proj[i])\\n        U = np.setdiff1d(knn_proj[i], knn_orig[i])\\n\\n        sum_j_t = 0\\n        for j in range(U.shape[0]):\\n            sum_j_t += np.where(nn_orig[i] == U[j])[0] - k\\n\\n        sum_j_c = 0\\n        for j in range(V.shape[0]):\\n            sum_j_c += np.where(nn_proj[i] == V[j])[0] - k\\n\\n        sum_i_t += sum_j_t\\n        sum_i_c += sum_j_c\\n\\n    T = float((1 - (2 / (n * k * (2 * n - 3 * k - 1)) * sum_i_t)).squeeze())\\n    C = float((1 - (2 / (n * k * (2 * n - 3 * k - 1)) * sum_i_c)).squeeze())\\n\\n    return T, C'"
            ]
          },
          "execution_count": 196,
          "metadata": {},
          "output_type": "execute_result"
        }
      ],
      "source": [
        "import numpy as np\n",
        "from sklearn.metrics import pairwise_distances\n",
        "\n",
        "def compute_tandc(k, data_, embeddings):\n",
        "    n = data_.shape[0]\n",
        "\n",
        "    D_high = pairwise_distances(data_)\n",
        "    D_low = pairwise_distances(embeddings)\n",
        "\n",
        "    nn_orig = D_high.argsort()\n",
        "    nn_proj = D_low.argsort()\n",
        "\n",
        "    knn_orig = nn_orig[:, :k + 1][:, 1:]\n",
        "    knn_proj = nn_proj[:, :k + 1][:, 1:]\n",
        "\n",
        "    sum_i_t = 0\n",
        "    sum_i_c = 0\n",
        "\n",
        "    for i in range(n):\n",
        "        V = np.setdiff1d(knn_orig[i], knn_proj[i])\n",
        "        U = np.setdiff1d(knn_proj[i], knn_orig[i])\n",
        "\n",
        "        sum_j_t = 0\n",
        "        for j in range(U.shape[0]):\n",
        "            sum_j_t += np.where(nn_orig[i] == U[j])[0] - k\n",
        "\n",
        "        sum_j_c = 0\n",
        "        for j in range(V.shape[0]):\n",
        "            sum_j_c += np.where(nn_proj[i] == V[j])[0] - k\n",
        "\n",
        "        sum_i_t += sum_j_t\n",
        "        sum_i_c += sum_j_c\n",
        "\n",
        "    T = float((1 - (2 / (n * k * (2 * n - 3 * k - 1)) * sum_i_t)).squeeze())\n",
        "    C = float((1 - (2 / (n * k * (2 * n - 3 * k - 1)) * sum_i_c)).squeeze())\n",
        "\n",
        "    return T, C\n"
      ]
    },
    {
      "cell_type": "code",
      "execution_count": null,
      "metadata": {
        "colab": {
          "background_save": true
        },
        "id": "8jUimgXJA7UT",
        "outputId": "fb348f5b-363e-4f00-d9e4-4087947d0b04"
      },
      "outputs": [
        {
          "data": {
            "application/vnd.google.colaboratory.intrinsic+json": {
              "type": "string"
            },
            "text/plain": [
              "'trustworthiness, continuity = compute_tandc(7, data_, translatedEmbeddingFDL)\\nprint(\"Trustworthiness:\", trustworthiness)\\nprint(\"Continuity:\", continuity)'"
            ]
          },
          "execution_count": 197,
          "metadata": {},
          "output_type": "execute_result"
        }
      ],
      "source": [
        "trustworthiness, continuity = compute_tandc(7, data_, translatedEmbeddingFDL)\n",
        "print(\"Trustworthiness:\", trustworthiness)\n",
        "print(\"Continuity:\", continuity)"
      ]
    },
    {
      "cell_type": "code",
      "execution_count": null,
      "metadata": {
        "colab": {
          "background_save": true
        },
        "id": "WLKCEr8eQ7Fx",
        "outputId": "e2b943d7-132d-45b5-c0ff-886a372ae356"
      },
      "outputs": [
        {
          "name": "stdout",
          "output_type": "stream",
          "text": [
            "Both scaled: 0.21280463173110878 , 0.182348394200804\n"
          ]
        }
      ],
      "source": [
        "print(\"Both scaled:\" ,stress1(data_, embedding_scaled),',',stress1(data_,translatedEmbeddingFDL))\n",
        "print(\"Stress not scaled:\", stress2(data_, embedding_scaled),',',stress2(data_,translatedEmbeddingFDL))"
      ]
    },
    {
      "cell_type": "code",
      "execution_count": null,
      "metadata": {
        "colab": {
          "background_save": true
        },
        "id": "SPPLHmaEkJGq"
      },
      "outputs": [],
      "source": [
        "initialCentres = calculateClusterCenter(embedding,parts)\n",
        "differenceFDL = posDifference(centre, initialCentres, \"fdl\")\n"
      ]
    },
    {
      "cell_type": "code",
      "execution_count": null,
      "metadata": {
        "colab": {
          "background_save": true
        },
        "id": "3vXv2k_Jbb9N"
      },
      "outputs": [],
      "source": [
        "translatedEmbeddingFDL = translateUsingDifference(differenceFDL, parts, embedding)"
      ]
    },
    {
      "cell_type": "code",
      "execution_count": null,
      "metadata": {
        "colab": {
          "background_save": true
        },
        "id": "RfMnb5D5RFHq"
      },
      "outputs": [],
      "source": [
        "print(\"Embedding not scaled:\", stress1(data_, embedding),',',stress1(data_,translatedEmbeddingFDL))\n",
        "print(\"Both not scaled:\", stress2(data_, embedding),',',stress2(data_,translatedEmbeddingFDL))"
      ]
    },
    {
      "cell_type": "code",
      "execution_count": null,
      "metadata": {
        "colab": {
          "background_save": true
        },
        "id": "Jr8wmpfHBGbs",
        "outputId": "0eadb0d5-76e2-4ae6-fe49-1755aa86eeab"
      },
      "outputs": [
        {
          "data": {
            "application/vnd.google.colaboratory.intrinsic+json": {
              "type": "string"
            },
            "text/plain": [
              "'trustworthiness, continuity = compute_tandc(7, data_, translatedEmbeddingFDL)\\nprint(\"Trustworthiness:\", trustworthiness)\\nprint(\"Continuity:\", continuity)'"
            ]
          },
          "execution_count": 202,
          "metadata": {},
          "output_type": "execute_result"
        }
      ],
      "source": [
        "trustworthiness, continuity = compute_tandc(7, data_, translatedEmbeddingFDL)\n",
        "print(\"Trustworthiness:\", trustworthiness)\n",
        "print(\"Continuity:\", continuity)"
      ]
    },
    {
      "cell_type": "code",
      "execution_count": null,
      "metadata": {
        "colab": {
          "background_save": true
        },
        "id": "0QzVjSSJ-D-h"
      },
      "outputs": [],
      "source": []
    }
  ],
  "metadata": {
    "colab": {
      "collapsed_sections": [
        "pl0bcfq8tq0V",
        "F3pxbse0ty2f",
        "DkauVZJlClv8",
        "sZXpvZ0at49Q",
        "KWKv912Y-AIO",
        "be9n_gUZTXeA",
        "JWlG2v5ViZ9p"
      ],
      "machine_shape": "hm",
      "provenance": [],
      "gpuClass": "premium",
      "include_colab_link": true
    },
    "gpuClass": "premium",
    "kernelspec": {
      "display_name": "Python 3",
      "name": "python3"
    },
    "language_info": {
      "name": "python"
    }
  },
  "nbformat": 4,
  "nbformat_minor": 0
}