{
  "cells": [
    {
      "cell_type": "markdown",
      "metadata": {
        "id": "view-in-github",
        "colab_type": "text"
      },
      "source": [
        "<a href=\"https://colab.research.google.com/github/Vasu456/ClusterView-/blob/main/Copy_of_Cluster_View.ipynb\" target=\"_parent\"><img src=\"https://colab.research.google.com/assets/colab-badge.svg\" alt=\"Open In Colab\"/></a>"
      ]
    },
    {
      "cell_type": "markdown",
      "metadata": {
        "id": "g_iruOG-5VvN"
      },
      "source": [
        "# Importing Modules\n",
        "\n"
      ]
    },
    {
      "cell_type": "code",
      "execution_count": null,
      "metadata": {
        "id": "0iyMknrzH_Ah"
      },
      "outputs": [],
      "source": [
        "!pip install umap-learn"
      ]
    },
    {
      "cell_type": "code",
      "execution_count": 4,
      "metadata": {
        "colab": {
          "base_uri": "https://localhost:8080/"
        },
        "id": "sU6QnMaLTzXi",
        "outputId": "8dabe0db-6516-4734-fda6-203483da7dc4"
      },
      "outputs": [
        {
          "output_type": "stream",
          "name": "stdout",
          "text": [
            "Looking in indexes: https://pypi.org/simple, https://us-python.pkg.dev/colab-wheels/public/simple/\n",
            "Requirement already satisfied: networkx in /usr/local/lib/python3.10/dist-packages (3.1)\n"
          ]
        }
      ],
      "source": [
        "!pip install networkx"
      ]
    },
    {
      "cell_type": "code",
      "execution_count": null,
      "metadata": {
        "id": "HT06Hdl7IaSR"
      },
      "outputs": [],
      "source": [
        "!pip install forcelayout\n",
        "!pip install pyDRMetrics"
      ]
    },
    {
      "cell_type": "code",
      "execution_count": 6,
      "metadata": {
        "colab": {
          "base_uri": "https://localhost:8080/"
        },
        "id": "SwWOWTkcJ4yN",
        "outputId": "2cbc2d2f-6102-487a-c763-4799da9e7bce"
      },
      "outputs": [
        {
          "output_type": "stream",
          "name": "stdout",
          "text": [
            "Looking in indexes: https://pypi.org/simple, https://us-python.pkg.dev/colab-wheels/public/simple/\n",
            "Requirement already satisfied: scikit-learn in /usr/local/lib/python3.10/dist-packages (1.2.2)\n",
            "Requirement already satisfied: numpy>=1.17.3 in /usr/local/lib/python3.10/dist-packages (from scikit-learn) (1.22.4)\n",
            "Requirement already satisfied: scipy>=1.3.2 in /usr/local/lib/python3.10/dist-packages (from scikit-learn) (1.10.1)\n",
            "Requirement already satisfied: joblib>=1.1.1 in /usr/local/lib/python3.10/dist-packages (from scikit-learn) (1.2.0)\n",
            "Requirement already satisfied: threadpoolctl>=2.0.0 in /usr/local/lib/python3.10/dist-packages (from scikit-learn) (3.1.0)\n"
          ]
        }
      ],
      "source": [
        "!pip install scikit-learn"
      ]
    },
    {
      "cell_type": "code",
      "execution_count": 7,
      "metadata": {
        "id": "0rUyj-1u-e0V",
        "colab": {
          "base_uri": "https://localhost:8080/"
        },
        "outputId": "beb19bf3-1239-44a8-bb8d-e04c5217d0d8"
      },
      "outputs": [
        {
          "output_type": "stream",
          "name": "stdout",
          "text": [
            "Installing collected packages: metis-python\n",
            "Successfully installed metis-python-0.1\n"
          ]
        }
      ],
      "source": [
        "import requests\n",
        "import tarfile\n",
        "  \n",
        "\n",
        "# Download and extract the file\n",
        "url = \"https://src.fedoraproject.org/lookaside/pkgs/metis/metis-5.1.0.tar.gz/5465e67079419a69e0116de24fce58fe//metis-5.1.0.tar.gz\"\n",
        "response = requests.get(url, stream=True)\n",
        "file = tarfile.open(fileobj=response.raw, mode=\"r|gz\")\n",
        "file.extractall(path=\".\")\n",
        "\n",
        "# Change working directory\n",
        "%cd metis-5.1.0\n",
        "\n",
        "!make config shared=1 prefix=~/.local/\n",
        "!make install\n",
        "!cp ~/.local/lib/libmetis.so /usr/lib/libmetis.so\n",
        "!export METIS_DLL=/usr/lib/libmetis.so\n",
        "!pip3 install metis-python\n",
        "\n",
        "import metispy as metis"
      ]
    },
    {
      "cell_type": "code",
      "execution_count": 8,
      "metadata": {
        "id": "mq005qTiCArN"
      },
      "outputs": [],
      "source": [
        "import numpy as np\n",
        "from keras.datasets import mnist\n",
        "from sklearn.model_selection import train_test_split\n",
        "from sklearn.preprocessing import StandardScaler\n",
        "import matplotlib.pyplot as plt\n",
        "import seaborn as sns\n",
        "import pandas as pd\n",
        "import forcelayout as fl\n",
        "from sklearn.preprocessing import MinMaxScaler\n",
        "from scipy import spatial"
      ]
    },
    {
      "cell_type": "code",
      "execution_count": 9,
      "metadata": {
        "id": "RUpaxmoiHz71"
      },
      "outputs": [],
      "source": [
        "import umap.distances as distances\n",
        "import umap.umap_ as umap\n",
        "import networkx as nkx\n",
        "\n",
        "from pyDRMetrics.pyDRMetrics import *"
      ]
    },
    {
      "cell_type": "code",
      "execution_count": 10,
      "metadata": {
        "colab": {
          "base_uri": "https://localhost:8080/"
        },
        "id": "jexrWv9oHLSg",
        "outputId": "780d2a14-d7fb-4286-9cb3-c72436e62a8d"
      },
      "outputs": [
        {
          "output_type": "stream",
          "name": "stdout",
          "text": [
            "Mounted at /content/drive\n"
          ]
        }
      ],
      "source": [
        "from google.colab import drive\n",
        "drive.mount('/content/drive')"
      ]
    },
    {
      "cell_type": "code",
      "execution_count": 11,
      "metadata": {
        "id": "pcc5XfejEnaI"
      },
      "outputs": [],
      "source": [
        "files=['bank.csv','cifar.csv','cnae.csv','coil20.csv','epileptic.csv','fashion_mnist.csv','fmd.csv','har.csv','hatespeech.csv','hiva.csv','imdb.csv','orl.csv','secom.csv','seismic.csv','sentiment.csv','sms.csv','spambase.csv','svhn.csv']"
      ]
    },
    {
      "cell_type": "code",
      "execution_count": 12,
      "metadata": {
        "id": "OEo6AgvyUTC7"
      },
      "outputs": [],
      "source": [
        "i=0"
      ]
    },
    {
      "cell_type": "code",
      "execution_count": 13,
      "metadata": {
        "id": "vx27XW33Hd1N"
      },
      "outputs": [],
      "source": [
        "dataset_path = '/content/drive/MyDrive/input_data/'+files[i] \n",
        "data_ = pd.read_csv(dataset_path)"
      ]
    },
    {
      "cell_type": "code",
      "execution_count": 14,
      "metadata": {
        "id": "bSlFIEMC3ria"
      },
      "outputs": [],
      "source": [
        "params = [{'angular_rp_forest': False, 'init': 'random', 'metric': 'euclidean', 'min_dist': 0.01, 'n_components': 2, 'n_neighbors': 5, 'random_state': 42, 'spread': 1.0},\n",
        "{'angular_rp_forest': False, 'init': 'spectral', 'metric': 'euclidean', 'min_dist': 0.001, 'n_components': 2, 'n_neighbors': 15, 'random_state': 42, 'spread': 1.0},\n",
        "{'angular_rp_forest': False, 'init': 'spectral', 'metric': 'euclidean', 'min_dist': 0.01, 'n_components': 2, 'n_neighbors': 10, 'random_state': 42, 'spread': 1.0},\n",
        "{'angular_rp_forest': False, 'init': 'spectral', 'metric': 'euclidean', 'min_dist': 0.001, 'n_components': 2, 'n_neighbors': 5, 'random_state': 42, 'spread': 1.0},\n",
        "{'angular_rp_forest': False, 'init': 'spectral', 'metric': 'euclidean', 'min_dist': 0.001, 'n_components': 2, 'n_neighbors': 5, 'random_state': 42, 'spread': 1.0},\n",
        "{'angular_rp_forest': False, 'init': 'spectral', 'metric': 'euclidean', 'min_dist': 0.5, 'n_components': 2, 'n_neighbors': 5, 'random_state': 42, 'spread': 1.0},\n",
        "{'angular_rp_forest': False, 'init': 'spectral', 'metric': 'euclidean', 'min_dist': 0.5, 'n_components': 2, 'n_neighbors': 15, 'random_state': 42, 'spread': 1.0},\n",
        "{'angular_rp_forest': False, 'init': 'random', 'metric': 'euclidean', 'min_dist': 0.001, 'n_components': 2, 'n_neighbors': 5, 'random_state': 42, 'spread': 1.0},\n",
        "{'angular_rp_forest': False, 'init': 'spectral', 'metric': 'euclidean', 'min_dist': 0.1, 'n_components': 2, 'n_neighbors': 15, 'random_state': 42, 'spread': 1.0},\n",
        "{'angular_rp_forest': False, 'init': 'spectral', 'metric': 'euclidean', 'min_dist': 0.1, 'n_components': 2, 'n_neighbors': 15, 'random_state': 42, 'spread': 1.0},\n",
        "{'angular_rp_forest': False, 'init': 'spectral', 'metric': 'euclidean', 'min_dist': 0.5, 'n_components': 2, 'n_neighbors': 15, 'random_state': 42, 'spread': 1.0},\n",
        "{'angular_rp_forest': False, 'init': 'random', 'metric': 'euclidean', 'min_dist': 0.01, 'n_components': 2, 'n_neighbors': 15, 'random_state': 42, 'spread': 1.0},\n",
        "{'angular_rp_forest': False, 'init': 'spectral', 'metric': 'euclidean', 'min_dist': 0.5, 'n_components': 2, 'n_neighbors': 5, 'random_state': 42, 'spread': 1.0},\n",
        "{'angular_rp_forest': False, 'init': 'spectral', 'metric': 'euclidean', 'min_dist': 0.001, 'n_components': 2, 'n_neighbors': 5, 'random_state': 42, 'spread': 1.0},\n",
        "{'angular_rp_forest': False, 'init': 'random', 'metric': 'euclidean', 'min_dist': 0.001, 'n_components': 2, 'n_neighbors': 5, 'random_state': 42, 'spread': 1.0},\n",
        "{'angular_rp_forest': False, 'init': 'random', 'metric': 'euclidean', 'min_dist': 0.001, 'n_components': 2, 'n_neighbors': 5, 'random_state': 42, 'spread': 1.0},\n",
        "{'angular_rp_forest': False, 'init': 'random', 'metric': 'euclidean', 'min_dist': 0.5, 'n_components': 2, 'n_neighbors': 10, 'random_state': 42, 'spread': 1.0},\n",
        "{'angular_rp_forest': False, 'init': 'spectral', 'metric': 'euclidean', 'min_dist': 0.001, 'n_components': 2, 'n_neighbors': 10, 'random_state': 42, 'spread': 1.0}]\n"
      ]
    },
    {
      "cell_type": "code",
      "execution_count": 15,
      "metadata": {
        "id": "0MiqQfvq4H87"
      },
      "outputs": [],
      "source": [
        "classes = [2,5,9,20,4,10,10,6,3,2,2,3,2,2,2,2,2,5]"
      ]
    },
    {
      "cell_type": "code",
      "source": [],
      "metadata": {
        "id": "G_0wYrbhprhF"
      },
      "execution_count": null,
      "outputs": []
    },
    {
      "cell_type": "markdown",
      "metadata": {
        "id": "pl0bcfq8tq0V"
      },
      "source": [
        "## Penguins"
      ]
    },
    {
      "cell_type": "code",
      "execution_count": null,
      "metadata": {
        "id": "MwLtvQBwCRAo"
      },
      "outputs": [],
      "source": [
        "penguin_data = pd.read_csv(\"https://raw.githubusercontent.com/allisonhorst/palmerpenguins/c19a904462482430170bfe2c718775ddb7dbb885/inst/extdata/penguins.csv\")"
      ]
    },
    {
      "cell_type": "code",
      "execution_count": null,
      "metadata": {
        "colab": {
          "base_uri": "https://localhost:8080/",
          "height": 206
        },
        "id": "MMu69fUrCSop",
        "outputId": "fe422028-3c3f-4e3e-c951-43686ea8b37d"
      },
      "outputs": [
        {
          "output_type": "execute_result",
          "data": {
            "text/plain": [
              "  species     island  bill_length_mm  bill_depth_mm  flipper_length_mm  \\\n",
              "0  Adelie  Torgersen            39.1           18.7              181.0   \n",
              "1  Adelie  Torgersen            39.5           17.4              186.0   \n",
              "2  Adelie  Torgersen            40.3           18.0              195.0   \n",
              "4  Adelie  Torgersen            36.7           19.3              193.0   \n",
              "5  Adelie  Torgersen            39.3           20.6              190.0   \n",
              "\n",
              "   body_mass_g     sex  year  \n",
              "0       3750.0    male  2007  \n",
              "1       3800.0  female  2007  \n",
              "2       3250.0  female  2007  \n",
              "4       3450.0  female  2007  \n",
              "5       3650.0    male  2007  "
            ],
            "text/html": [
              "\n",
              "  <div id=\"df-a9733da4-fdde-4410-8aab-f45479412cd0\">\n",
              "    <div class=\"colab-df-container\">\n",
              "      <div>\n",
              "<style scoped>\n",
              "    .dataframe tbody tr th:only-of-type {\n",
              "        vertical-align: middle;\n",
              "    }\n",
              "\n",
              "    .dataframe tbody tr th {\n",
              "        vertical-align: top;\n",
              "    }\n",
              "\n",
              "    .dataframe thead th {\n",
              "        text-align: right;\n",
              "    }\n",
              "</style>\n",
              "<table border=\"1\" class=\"dataframe\">\n",
              "  <thead>\n",
              "    <tr style=\"text-align: right;\">\n",
              "      <th></th>\n",
              "      <th>species</th>\n",
              "      <th>island</th>\n",
              "      <th>bill_length_mm</th>\n",
              "      <th>bill_depth_mm</th>\n",
              "      <th>flipper_length_mm</th>\n",
              "      <th>body_mass_g</th>\n",
              "      <th>sex</th>\n",
              "      <th>year</th>\n",
              "    </tr>\n",
              "  </thead>\n",
              "  <tbody>\n",
              "    <tr>\n",
              "      <th>0</th>\n",
              "      <td>Adelie</td>\n",
              "      <td>Torgersen</td>\n",
              "      <td>39.1</td>\n",
              "      <td>18.7</td>\n",
              "      <td>181.0</td>\n",
              "      <td>3750.0</td>\n",
              "      <td>male</td>\n",
              "      <td>2007</td>\n",
              "    </tr>\n",
              "    <tr>\n",
              "      <th>1</th>\n",
              "      <td>Adelie</td>\n",
              "      <td>Torgersen</td>\n",
              "      <td>39.5</td>\n",
              "      <td>17.4</td>\n",
              "      <td>186.0</td>\n",
              "      <td>3800.0</td>\n",
              "      <td>female</td>\n",
              "      <td>2007</td>\n",
              "    </tr>\n",
              "    <tr>\n",
              "      <th>2</th>\n",
              "      <td>Adelie</td>\n",
              "      <td>Torgersen</td>\n",
              "      <td>40.3</td>\n",
              "      <td>18.0</td>\n",
              "      <td>195.0</td>\n",
              "      <td>3250.0</td>\n",
              "      <td>female</td>\n",
              "      <td>2007</td>\n",
              "    </tr>\n",
              "    <tr>\n",
              "      <th>4</th>\n",
              "      <td>Adelie</td>\n",
              "      <td>Torgersen</td>\n",
              "      <td>36.7</td>\n",
              "      <td>19.3</td>\n",
              "      <td>193.0</td>\n",
              "      <td>3450.0</td>\n",
              "      <td>female</td>\n",
              "      <td>2007</td>\n",
              "    </tr>\n",
              "    <tr>\n",
              "      <th>5</th>\n",
              "      <td>Adelie</td>\n",
              "      <td>Torgersen</td>\n",
              "      <td>39.3</td>\n",
              "      <td>20.6</td>\n",
              "      <td>190.0</td>\n",
              "      <td>3650.0</td>\n",
              "      <td>male</td>\n",
              "      <td>2007</td>\n",
              "    </tr>\n",
              "  </tbody>\n",
              "</table>\n",
              "</div>\n",
              "      <button class=\"colab-df-convert\" onclick=\"convertToInteractive('df-a9733da4-fdde-4410-8aab-f45479412cd0')\"\n",
              "              title=\"Convert this dataframe to an interactive table.\"\n",
              "              style=\"display:none;\">\n",
              "        \n",
              "  <svg xmlns=\"http://www.w3.org/2000/svg\" height=\"24px\"viewBox=\"0 0 24 24\"\n",
              "       width=\"24px\">\n",
              "    <path d=\"M0 0h24v24H0V0z\" fill=\"none\"/>\n",
              "    <path d=\"M18.56 5.44l.94 2.06.94-2.06 2.06-.94-2.06-.94-.94-2.06-.94 2.06-2.06.94zm-11 1L8.5 8.5l.94-2.06 2.06-.94-2.06-.94L8.5 2.5l-.94 2.06-2.06.94zm10 10l.94 2.06.94-2.06 2.06-.94-2.06-.94-.94-2.06-.94 2.06-2.06.94z\"/><path d=\"M17.41 7.96l-1.37-1.37c-.4-.4-.92-.59-1.43-.59-.52 0-1.04.2-1.43.59L10.3 9.45l-7.72 7.72c-.78.78-.78 2.05 0 2.83L4 21.41c.39.39.9.59 1.41.59.51 0 1.02-.2 1.41-.59l7.78-7.78 2.81-2.81c.8-.78.8-2.07 0-2.86zM5.41 20L4 18.59l7.72-7.72 1.47 1.35L5.41 20z\"/>\n",
              "  </svg>\n",
              "      </button>\n",
              "      \n",
              "  <style>\n",
              "    .colab-df-container {\n",
              "      display:flex;\n",
              "      flex-wrap:wrap;\n",
              "      gap: 12px;\n",
              "    }\n",
              "\n",
              "    .colab-df-convert {\n",
              "      background-color: #E8F0FE;\n",
              "      border: none;\n",
              "      border-radius: 50%;\n",
              "      cursor: pointer;\n",
              "      display: none;\n",
              "      fill: #1967D2;\n",
              "      height: 32px;\n",
              "      padding: 0 0 0 0;\n",
              "      width: 32px;\n",
              "    }\n",
              "\n",
              "    .colab-df-convert:hover {\n",
              "      background-color: #E2EBFA;\n",
              "      box-shadow: 0px 1px 2px rgba(60, 64, 67, 0.3), 0px 1px 3px 1px rgba(60, 64, 67, 0.15);\n",
              "      fill: #174EA6;\n",
              "    }\n",
              "\n",
              "    [theme=dark] .colab-df-convert {\n",
              "      background-color: #3B4455;\n",
              "      fill: #D2E3FC;\n",
              "    }\n",
              "\n",
              "    [theme=dark] .colab-df-convert:hover {\n",
              "      background-color: #434B5C;\n",
              "      box-shadow: 0px 1px 3px 1px rgba(0, 0, 0, 0.15);\n",
              "      filter: drop-shadow(0px 1px 2px rgba(0, 0, 0, 0.3));\n",
              "      fill: #FFFFFF;\n",
              "    }\n",
              "  </style>\n",
              "\n",
              "      <script>\n",
              "        const buttonEl =\n",
              "          document.querySelector('#df-a9733da4-fdde-4410-8aab-f45479412cd0 button.colab-df-convert');\n",
              "        buttonEl.style.display =\n",
              "          google.colab.kernel.accessAllowed ? 'block' : 'none';\n",
              "\n",
              "        async function convertToInteractive(key) {\n",
              "          const element = document.querySelector('#df-a9733da4-fdde-4410-8aab-f45479412cd0');\n",
              "          const dataTable =\n",
              "            await google.colab.kernel.invokeFunction('convertToInteractive',\n",
              "                                                     [key], {});\n",
              "          if (!dataTable) return;\n",
              "\n",
              "          const docLinkHtml = 'Like what you see? Visit the ' +\n",
              "            '<a target=\"_blank\" href=https://colab.research.google.com/notebooks/data_table.ipynb>data table notebook</a>'\n",
              "            + ' to learn more about interactive tables.';\n",
              "          element.innerHTML = '';\n",
              "          dataTable['output_type'] = 'display_data';\n",
              "          await google.colab.output.renderOutput(dataTable, element);\n",
              "          const docLink = document.createElement('div');\n",
              "          docLink.innerHTML = docLinkHtml;\n",
              "          element.appendChild(docLink);\n",
              "        }\n",
              "      </script>\n",
              "    </div>\n",
              "  </div>\n",
              "  "
            ]
          },
          "metadata": {},
          "execution_count": 794
        }
      ],
      "source": [
        "penguin_data = penguin_data.dropna()\n",
        "penguin_data.head()"
      ]
    },
    {
      "cell_type": "code",
      "execution_count": null,
      "metadata": {
        "id": "OOxA6KCiIHR1"
      },
      "outputs": [],
      "source": [
        "data_ = penguin_data[\n",
        "    [\n",
        "        \"bill_length_mm\",\n",
        "        \"bill_depth_mm\",\n",
        "        \"flipper_length_mm\",\n",
        "        \"body_mass_g\",\n",
        "    ]\n",
        "].values\n",
        "data_ = StandardScaler().fit_transform(data_)"
      ]
    },
    {
      "cell_type": "code",
      "execution_count": null,
      "metadata": {
        "colab": {
          "base_uri": "https://localhost:8080/"
        },
        "id": "furbln-EIicZ",
        "outputId": "0fca4c78-678b-40f4-f55e-c0e8bce7803e"
      },
      "outputs": [
        {
          "output_type": "execute_result",
          "data": {
            "text/plain": [
              "(333, 4)"
            ]
          },
          "metadata": {},
          "execution_count": 796
        }
      ],
      "source": [
        "data_.shape"
      ]
    },
    {
      "cell_type": "code",
      "source": [],
      "metadata": {
        "id": "xidxWnlUqqzc"
      },
      "execution_count": null,
      "outputs": []
    },
    {
      "cell_type": "markdown",
      "metadata": {
        "id": "sZXpvZ0at49Q"
      },
      "source": [
        "# Iris"
      ]
    },
    {
      "cell_type": "code",
      "execution_count": null,
      "metadata": {
        "id": "LwTuXY37wE5a"
      },
      "outputs": [],
      "source": [
        "dataset = pd.read_csv('https://gist.githubusercontent.com/curran/a08a1080b88344b0c8a7/raw/0e7a9b0a5d22642a06d3d5b9bcbad9890c8ee534/iris.csv')"
      ]
    },
    {
      "cell_type": "code",
      "execution_count": null,
      "metadata": {
        "colab": {
          "base_uri": "https://localhost:8080/",
          "height": 206
        },
        "id": "IhFmFA47wxee",
        "outputId": "2295e297-a56c-4464-e796-3d5b61601eb5"
      },
      "outputs": [
        {
          "output_type": "execute_result",
          "data": {
            "text/plain": [
              "   sepal_length  sepal_width  petal_length  petal_width species\n",
              "0           5.1          3.5           1.4          0.2  setosa\n",
              "1           4.9          3.0           1.4          0.2  setosa\n",
              "2           4.7          3.2           1.3          0.2  setosa\n",
              "3           4.6          3.1           1.5          0.2  setosa\n",
              "4           5.0          3.6           1.4          0.2  setosa"
            ],
            "text/html": [
              "\n",
              "  <div id=\"df-3fd97d05-6b33-4002-8fcd-9c837be2bbc7\">\n",
              "    <div class=\"colab-df-container\">\n",
              "      <div>\n",
              "<style scoped>\n",
              "    .dataframe tbody tr th:only-of-type {\n",
              "        vertical-align: middle;\n",
              "    }\n",
              "\n",
              "    .dataframe tbody tr th {\n",
              "        vertical-align: top;\n",
              "    }\n",
              "\n",
              "    .dataframe thead th {\n",
              "        text-align: right;\n",
              "    }\n",
              "</style>\n",
              "<table border=\"1\" class=\"dataframe\">\n",
              "  <thead>\n",
              "    <tr style=\"text-align: right;\">\n",
              "      <th></th>\n",
              "      <th>sepal_length</th>\n",
              "      <th>sepal_width</th>\n",
              "      <th>petal_length</th>\n",
              "      <th>petal_width</th>\n",
              "      <th>species</th>\n",
              "    </tr>\n",
              "  </thead>\n",
              "  <tbody>\n",
              "    <tr>\n",
              "      <th>0</th>\n",
              "      <td>5.1</td>\n",
              "      <td>3.5</td>\n",
              "      <td>1.4</td>\n",
              "      <td>0.2</td>\n",
              "      <td>setosa</td>\n",
              "    </tr>\n",
              "    <tr>\n",
              "      <th>1</th>\n",
              "      <td>4.9</td>\n",
              "      <td>3.0</td>\n",
              "      <td>1.4</td>\n",
              "      <td>0.2</td>\n",
              "      <td>setosa</td>\n",
              "    </tr>\n",
              "    <tr>\n",
              "      <th>2</th>\n",
              "      <td>4.7</td>\n",
              "      <td>3.2</td>\n",
              "      <td>1.3</td>\n",
              "      <td>0.2</td>\n",
              "      <td>setosa</td>\n",
              "    </tr>\n",
              "    <tr>\n",
              "      <th>3</th>\n",
              "      <td>4.6</td>\n",
              "      <td>3.1</td>\n",
              "      <td>1.5</td>\n",
              "      <td>0.2</td>\n",
              "      <td>setosa</td>\n",
              "    </tr>\n",
              "    <tr>\n",
              "      <th>4</th>\n",
              "      <td>5.0</td>\n",
              "      <td>3.6</td>\n",
              "      <td>1.4</td>\n",
              "      <td>0.2</td>\n",
              "      <td>setosa</td>\n",
              "    </tr>\n",
              "  </tbody>\n",
              "</table>\n",
              "</div>\n",
              "      <button class=\"colab-df-convert\" onclick=\"convertToInteractive('df-3fd97d05-6b33-4002-8fcd-9c837be2bbc7')\"\n",
              "              title=\"Convert this dataframe to an interactive table.\"\n",
              "              style=\"display:none;\">\n",
              "        \n",
              "  <svg xmlns=\"http://www.w3.org/2000/svg\" height=\"24px\"viewBox=\"0 0 24 24\"\n",
              "       width=\"24px\">\n",
              "    <path d=\"M0 0h24v24H0V0z\" fill=\"none\"/>\n",
              "    <path d=\"M18.56 5.44l.94 2.06.94-2.06 2.06-.94-2.06-.94-.94-2.06-.94 2.06-2.06.94zm-11 1L8.5 8.5l.94-2.06 2.06-.94-2.06-.94L8.5 2.5l-.94 2.06-2.06.94zm10 10l.94 2.06.94-2.06 2.06-.94-2.06-.94-.94-2.06-.94 2.06-2.06.94z\"/><path d=\"M17.41 7.96l-1.37-1.37c-.4-.4-.92-.59-1.43-.59-.52 0-1.04.2-1.43.59L10.3 9.45l-7.72 7.72c-.78.78-.78 2.05 0 2.83L4 21.41c.39.39.9.59 1.41.59.51 0 1.02-.2 1.41-.59l7.78-7.78 2.81-2.81c.8-.78.8-2.07 0-2.86zM5.41 20L4 18.59l7.72-7.72 1.47 1.35L5.41 20z\"/>\n",
              "  </svg>\n",
              "      </button>\n",
              "      \n",
              "  <style>\n",
              "    .colab-df-container {\n",
              "      display:flex;\n",
              "      flex-wrap:wrap;\n",
              "      gap: 12px;\n",
              "    }\n",
              "\n",
              "    .colab-df-convert {\n",
              "      background-color: #E8F0FE;\n",
              "      border: none;\n",
              "      border-radius: 50%;\n",
              "      cursor: pointer;\n",
              "      display: none;\n",
              "      fill: #1967D2;\n",
              "      height: 32px;\n",
              "      padding: 0 0 0 0;\n",
              "      width: 32px;\n",
              "    }\n",
              "\n",
              "    .colab-df-convert:hover {\n",
              "      background-color: #E2EBFA;\n",
              "      box-shadow: 0px 1px 2px rgba(60, 64, 67, 0.3), 0px 1px 3px 1px rgba(60, 64, 67, 0.15);\n",
              "      fill: #174EA6;\n",
              "    }\n",
              "\n",
              "    [theme=dark] .colab-df-convert {\n",
              "      background-color: #3B4455;\n",
              "      fill: #D2E3FC;\n",
              "    }\n",
              "\n",
              "    [theme=dark] .colab-df-convert:hover {\n",
              "      background-color: #434B5C;\n",
              "      box-shadow: 0px 1px 3px 1px rgba(0, 0, 0, 0.15);\n",
              "      filter: drop-shadow(0px 1px 2px rgba(0, 0, 0, 0.3));\n",
              "      fill: #FFFFFF;\n",
              "    }\n",
              "  </style>\n",
              "\n",
              "      <script>\n",
              "        const buttonEl =\n",
              "          document.querySelector('#df-3fd97d05-6b33-4002-8fcd-9c837be2bbc7 button.colab-df-convert');\n",
              "        buttonEl.style.display =\n",
              "          google.colab.kernel.accessAllowed ? 'block' : 'none';\n",
              "\n",
              "        async function convertToInteractive(key) {\n",
              "          const element = document.querySelector('#df-3fd97d05-6b33-4002-8fcd-9c837be2bbc7');\n",
              "          const dataTable =\n",
              "            await google.colab.kernel.invokeFunction('convertToInteractive',\n",
              "                                                     [key], {});\n",
              "          if (!dataTable) return;\n",
              "\n",
              "          const docLinkHtml = 'Like what you see? Visit the ' +\n",
              "            '<a target=\"_blank\" href=https://colab.research.google.com/notebooks/data_table.ipynb>data table notebook</a>'\n",
              "            + ' to learn more about interactive tables.';\n",
              "          element.innerHTML = '';\n",
              "          dataTable['output_type'] = 'display_data';\n",
              "          await google.colab.output.renderOutput(dataTable, element);\n",
              "          const docLink = document.createElement('div');\n",
              "          docLink.innerHTML = docLinkHtml;\n",
              "          element.appendChild(docLink);\n",
              "        }\n",
              "      </script>\n",
              "    </div>\n",
              "  </div>\n",
              "  "
            ]
          },
          "metadata": {},
          "execution_count": 828
        }
      ],
      "source": [
        "dataset.head()"
      ]
    },
    {
      "cell_type": "code",
      "execution_count": null,
      "metadata": {
        "id": "bQAepLatwa8E"
      },
      "outputs": [],
      "source": [
        "data_ = dataset[\n",
        "    [\n",
        "        \"sepal_length\",\n",
        "        \"sepal_width\",\n",
        "        \"petal_length\",\n",
        "        \"petal_width\",\n",
        "    ]\n",
        "].values"
      ]
    },
    {
      "cell_type": "code",
      "execution_count": null,
      "metadata": {
        "colab": {
          "base_uri": "https://localhost:8080/"
        },
        "id": "w1cbngr4KX18",
        "outputId": "caaee38e-bb15-425b-b389-677a3520a348"
      },
      "outputs": [
        {
          "output_type": "execute_result",
          "data": {
            "text/plain": [
              "(150, 4)"
            ]
          },
          "metadata": {},
          "execution_count": 830
        }
      ],
      "source": [
        "data_.shape"
      ]
    },
    {
      "cell_type": "code",
      "source": [],
      "metadata": {
        "id": "krEw2L50rSuz"
      },
      "execution_count": null,
      "outputs": []
    },
    {
      "cell_type": "markdown",
      "metadata": {
        "id": "JWlG2v5ViZ9p"
      },
      "source": [
        "#Wheat seed Dataset"
      ]
    },
    {
      "cell_type": "code",
      "execution_count": null,
      "metadata": {
        "id": "oBIpmJo_jzMl"
      },
      "outputs": [],
      "source": [
        "dataset = pd.read_csv('https://raw.githubusercontent.com/jbrownlee/Datasets/master/wheat-seeds.csv')"
      ]
    },
    {
      "cell_type": "code",
      "execution_count": null,
      "metadata": {
        "id": "CDM-TE34kjd_"
      },
      "outputs": [],
      "source": [
        "dataset.columns = ['Area', 'Perimeter', 'Compactness', 'KernelLength', 'KernelWidth', 'AsymmetryCoefficient', 'KernelGrooveLength', 'Variety']"
      ]
    },
    {
      "cell_type": "code",
      "execution_count": null,
      "metadata": {
        "colab": {
          "base_uri": "https://localhost:8080/",
          "height": 206
        },
        "id": "nz5VmPYxkbOg",
        "outputId": "b1ab9aa6-79fc-4789-f6df-9bc2e4b6bdbd"
      },
      "outputs": [
        {
          "output_type": "execute_result",
          "data": {
            "text/plain": [
              "    Area  Perimeter  Compactness  KernelLength  KernelWidth  \\\n",
              "0  14.88      14.57       0.8811         5.554        3.333   \n",
              "1  14.29      14.09       0.9050         5.291        3.337   \n",
              "2  13.84      13.94       0.8955         5.324        3.379   \n",
              "3  16.14      14.99       0.9034         5.658        3.562   \n",
              "4  14.38      14.21       0.8951         5.386        3.312   \n",
              "\n",
              "   AsymmetryCoefficient  KernelGrooveLength  Variety  \n",
              "0                 1.018               4.956        1  \n",
              "1                 2.699               4.825        1  \n",
              "2                 2.259               4.805        1  \n",
              "3                 1.355               5.175        1  \n",
              "4                 2.462               4.956        1  "
            ],
            "text/html": [
              "\n",
              "  <div id=\"df-e2594b53-5457-41f3-bb7b-228aa6e6034a\">\n",
              "    <div class=\"colab-df-container\">\n",
              "      <div>\n",
              "<style scoped>\n",
              "    .dataframe tbody tr th:only-of-type {\n",
              "        vertical-align: middle;\n",
              "    }\n",
              "\n",
              "    .dataframe tbody tr th {\n",
              "        vertical-align: top;\n",
              "    }\n",
              "\n",
              "    .dataframe thead th {\n",
              "        text-align: right;\n",
              "    }\n",
              "</style>\n",
              "<table border=\"1\" class=\"dataframe\">\n",
              "  <thead>\n",
              "    <tr style=\"text-align: right;\">\n",
              "      <th></th>\n",
              "      <th>Area</th>\n",
              "      <th>Perimeter</th>\n",
              "      <th>Compactness</th>\n",
              "      <th>KernelLength</th>\n",
              "      <th>KernelWidth</th>\n",
              "      <th>AsymmetryCoefficient</th>\n",
              "      <th>KernelGrooveLength</th>\n",
              "      <th>Variety</th>\n",
              "    </tr>\n",
              "  </thead>\n",
              "  <tbody>\n",
              "    <tr>\n",
              "      <th>0</th>\n",
              "      <td>14.88</td>\n",
              "      <td>14.57</td>\n",
              "      <td>0.8811</td>\n",
              "      <td>5.554</td>\n",
              "      <td>3.333</td>\n",
              "      <td>1.018</td>\n",
              "      <td>4.956</td>\n",
              "      <td>1</td>\n",
              "    </tr>\n",
              "    <tr>\n",
              "      <th>1</th>\n",
              "      <td>14.29</td>\n",
              "      <td>14.09</td>\n",
              "      <td>0.9050</td>\n",
              "      <td>5.291</td>\n",
              "      <td>3.337</td>\n",
              "      <td>2.699</td>\n",
              "      <td>4.825</td>\n",
              "      <td>1</td>\n",
              "    </tr>\n",
              "    <tr>\n",
              "      <th>2</th>\n",
              "      <td>13.84</td>\n",
              "      <td>13.94</td>\n",
              "      <td>0.8955</td>\n",
              "      <td>5.324</td>\n",
              "      <td>3.379</td>\n",
              "      <td>2.259</td>\n",
              "      <td>4.805</td>\n",
              "      <td>1</td>\n",
              "    </tr>\n",
              "    <tr>\n",
              "      <th>3</th>\n",
              "      <td>16.14</td>\n",
              "      <td>14.99</td>\n",
              "      <td>0.9034</td>\n",
              "      <td>5.658</td>\n",
              "      <td>3.562</td>\n",
              "      <td>1.355</td>\n",
              "      <td>5.175</td>\n",
              "      <td>1</td>\n",
              "    </tr>\n",
              "    <tr>\n",
              "      <th>4</th>\n",
              "      <td>14.38</td>\n",
              "      <td>14.21</td>\n",
              "      <td>0.8951</td>\n",
              "      <td>5.386</td>\n",
              "      <td>3.312</td>\n",
              "      <td>2.462</td>\n",
              "      <td>4.956</td>\n",
              "      <td>1</td>\n",
              "    </tr>\n",
              "  </tbody>\n",
              "</table>\n",
              "</div>\n",
              "      <button class=\"colab-df-convert\" onclick=\"convertToInteractive('df-e2594b53-5457-41f3-bb7b-228aa6e6034a')\"\n",
              "              title=\"Convert this dataframe to an interactive table.\"\n",
              "              style=\"display:none;\">\n",
              "        \n",
              "  <svg xmlns=\"http://www.w3.org/2000/svg\" height=\"24px\"viewBox=\"0 0 24 24\"\n",
              "       width=\"24px\">\n",
              "    <path d=\"M0 0h24v24H0V0z\" fill=\"none\"/>\n",
              "    <path d=\"M18.56 5.44l.94 2.06.94-2.06 2.06-.94-2.06-.94-.94-2.06-.94 2.06-2.06.94zm-11 1L8.5 8.5l.94-2.06 2.06-.94-2.06-.94L8.5 2.5l-.94 2.06-2.06.94zm10 10l.94 2.06.94-2.06 2.06-.94-2.06-.94-.94-2.06-.94 2.06-2.06.94z\"/><path d=\"M17.41 7.96l-1.37-1.37c-.4-.4-.92-.59-1.43-.59-.52 0-1.04.2-1.43.59L10.3 9.45l-7.72 7.72c-.78.78-.78 2.05 0 2.83L4 21.41c.39.39.9.59 1.41.59.51 0 1.02-.2 1.41-.59l7.78-7.78 2.81-2.81c.8-.78.8-2.07 0-2.86zM5.41 20L4 18.59l7.72-7.72 1.47 1.35L5.41 20z\"/>\n",
              "  </svg>\n",
              "      </button>\n",
              "      \n",
              "  <style>\n",
              "    .colab-df-container {\n",
              "      display:flex;\n",
              "      flex-wrap:wrap;\n",
              "      gap: 12px;\n",
              "    }\n",
              "\n",
              "    .colab-df-convert {\n",
              "      background-color: #E8F0FE;\n",
              "      border: none;\n",
              "      border-radius: 50%;\n",
              "      cursor: pointer;\n",
              "      display: none;\n",
              "      fill: #1967D2;\n",
              "      height: 32px;\n",
              "      padding: 0 0 0 0;\n",
              "      width: 32px;\n",
              "    }\n",
              "\n",
              "    .colab-df-convert:hover {\n",
              "      background-color: #E2EBFA;\n",
              "      box-shadow: 0px 1px 2px rgba(60, 64, 67, 0.3), 0px 1px 3px 1px rgba(60, 64, 67, 0.15);\n",
              "      fill: #174EA6;\n",
              "    }\n",
              "\n",
              "    [theme=dark] .colab-df-convert {\n",
              "      background-color: #3B4455;\n",
              "      fill: #D2E3FC;\n",
              "    }\n",
              "\n",
              "    [theme=dark] .colab-df-convert:hover {\n",
              "      background-color: #434B5C;\n",
              "      box-shadow: 0px 1px 3px 1px rgba(0, 0, 0, 0.15);\n",
              "      filter: drop-shadow(0px 1px 2px rgba(0, 0, 0, 0.3));\n",
              "      fill: #FFFFFF;\n",
              "    }\n",
              "  </style>\n",
              "\n",
              "      <script>\n",
              "        const buttonEl =\n",
              "          document.querySelector('#df-e2594b53-5457-41f3-bb7b-228aa6e6034a button.colab-df-convert');\n",
              "        buttonEl.style.display =\n",
              "          google.colab.kernel.accessAllowed ? 'block' : 'none';\n",
              "\n",
              "        async function convertToInteractive(key) {\n",
              "          const element = document.querySelector('#df-e2594b53-5457-41f3-bb7b-228aa6e6034a');\n",
              "          const dataTable =\n",
              "            await google.colab.kernel.invokeFunction('convertToInteractive',\n",
              "                                                     [key], {});\n",
              "          if (!dataTable) return;\n",
              "\n",
              "          const docLinkHtml = 'Like what you see? Visit the ' +\n",
              "            '<a target=\"_blank\" href=https://colab.research.google.com/notebooks/data_table.ipynb>data table notebook</a>'\n",
              "            + ' to learn more about interactive tables.';\n",
              "          element.innerHTML = '';\n",
              "          dataTable['output_type'] = 'display_data';\n",
              "          await google.colab.output.renderOutput(dataTable, element);\n",
              "          const docLink = document.createElement('div');\n",
              "          docLink.innerHTML = docLinkHtml;\n",
              "          element.appendChild(docLink);\n",
              "        }\n",
              "      </script>\n",
              "    </div>\n",
              "  </div>\n",
              "  "
            ]
          },
          "metadata": {},
          "execution_count": 866
        }
      ],
      "source": [
        "dataset.head()"
      ]
    },
    {
      "cell_type": "code",
      "execution_count": null,
      "metadata": {
        "id": "T6Lr8b0wkpZj"
      },
      "outputs": [],
      "source": [
        "data_ = dataset.iloc[:,:-1].values"
      ]
    },
    {
      "cell_type": "code",
      "execution_count": null,
      "metadata": {
        "colab": {
          "base_uri": "https://localhost:8080/"
        },
        "id": "WiT3TUBXkwOi",
        "outputId": "bc5cfd78-a61b-42d9-9ac8-f434a43e2b5d"
      },
      "outputs": [
        {
          "output_type": "execute_result",
          "data": {
            "text/plain": [
              "(209, 7)"
            ]
          },
          "metadata": {},
          "execution_count": 868
        }
      ],
      "source": [
        "data_.shape"
      ]
    },
    {
      "cell_type": "code",
      "source": [],
      "metadata": {
        "id": "kSoe7wHasJ6K"
      },
      "execution_count": null,
      "outputs": []
    },
    {
      "cell_type": "markdown",
      "metadata": {
        "id": "KWKv912Y-AIO"
      },
      "source": [
        "# Wine"
      ]
    },
    {
      "cell_type": "code",
      "execution_count": null,
      "metadata": {
        "id": "A2u0MCls-AIf"
      },
      "outputs": [],
      "source": [
        "dataset = pd.read_csv('https://archive.ics.uci.edu/ml/machine-learning-databases/wine-quality/winequality-white.csv', sep=';')"
      ]
    },
    {
      "cell_type": "code",
      "execution_count": null,
      "metadata": {
        "colab": {
          "base_uri": "https://localhost:8080/",
          "height": 250
        },
        "id": "YL2l64ik-AIg",
        "outputId": "dc394db6-c885-487b-da61-27acd92a324d"
      },
      "outputs": [
        {
          "output_type": "execute_result",
          "data": {
            "text/plain": [
              "   fixed acidity  volatile acidity  citric acid  residual sugar  chlorides  \\\n",
              "0            7.0              0.27         0.36            20.7      0.045   \n",
              "1            6.3              0.30         0.34             1.6      0.049   \n",
              "2            8.1              0.28         0.40             6.9      0.050   \n",
              "3            7.2              0.23         0.32             8.5      0.058   \n",
              "4            7.2              0.23         0.32             8.5      0.058   \n",
              "\n",
              "   free sulfur dioxide  total sulfur dioxide  density    pH  sulphates  \\\n",
              "0                 45.0                 170.0   1.0010  3.00       0.45   \n",
              "1                 14.0                 132.0   0.9940  3.30       0.49   \n",
              "2                 30.0                  97.0   0.9951  3.26       0.44   \n",
              "3                 47.0                 186.0   0.9956  3.19       0.40   \n",
              "4                 47.0                 186.0   0.9956  3.19       0.40   \n",
              "\n",
              "   alcohol  quality  \n",
              "0      8.8        6  \n",
              "1      9.5        6  \n",
              "2     10.1        6  \n",
              "3      9.9        6  \n",
              "4      9.9        6  "
            ],
            "text/html": [
              "\n",
              "  <div id=\"df-28986e81-963e-4964-b5f5-24dfcd270516\">\n",
              "    <div class=\"colab-df-container\">\n",
              "      <div>\n",
              "<style scoped>\n",
              "    .dataframe tbody tr th:only-of-type {\n",
              "        vertical-align: middle;\n",
              "    }\n",
              "\n",
              "    .dataframe tbody tr th {\n",
              "        vertical-align: top;\n",
              "    }\n",
              "\n",
              "    .dataframe thead th {\n",
              "        text-align: right;\n",
              "    }\n",
              "</style>\n",
              "<table border=\"1\" class=\"dataframe\">\n",
              "  <thead>\n",
              "    <tr style=\"text-align: right;\">\n",
              "      <th></th>\n",
              "      <th>fixed acidity</th>\n",
              "      <th>volatile acidity</th>\n",
              "      <th>citric acid</th>\n",
              "      <th>residual sugar</th>\n",
              "      <th>chlorides</th>\n",
              "      <th>free sulfur dioxide</th>\n",
              "      <th>total sulfur dioxide</th>\n",
              "      <th>density</th>\n",
              "      <th>pH</th>\n",
              "      <th>sulphates</th>\n",
              "      <th>alcohol</th>\n",
              "      <th>quality</th>\n",
              "    </tr>\n",
              "  </thead>\n",
              "  <tbody>\n",
              "    <tr>\n",
              "      <th>0</th>\n",
              "      <td>7.0</td>\n",
              "      <td>0.27</td>\n",
              "      <td>0.36</td>\n",
              "      <td>20.7</td>\n",
              "      <td>0.045</td>\n",
              "      <td>45.0</td>\n",
              "      <td>170.0</td>\n",
              "      <td>1.0010</td>\n",
              "      <td>3.00</td>\n",
              "      <td>0.45</td>\n",
              "      <td>8.8</td>\n",
              "      <td>6</td>\n",
              "    </tr>\n",
              "    <tr>\n",
              "      <th>1</th>\n",
              "      <td>6.3</td>\n",
              "      <td>0.30</td>\n",
              "      <td>0.34</td>\n",
              "      <td>1.6</td>\n",
              "      <td>0.049</td>\n",
              "      <td>14.0</td>\n",
              "      <td>132.0</td>\n",
              "      <td>0.9940</td>\n",
              "      <td>3.30</td>\n",
              "      <td>0.49</td>\n",
              "      <td>9.5</td>\n",
              "      <td>6</td>\n",
              "    </tr>\n",
              "    <tr>\n",
              "      <th>2</th>\n",
              "      <td>8.1</td>\n",
              "      <td>0.28</td>\n",
              "      <td>0.40</td>\n",
              "      <td>6.9</td>\n",
              "      <td>0.050</td>\n",
              "      <td>30.0</td>\n",
              "      <td>97.0</td>\n",
              "      <td>0.9951</td>\n",
              "      <td>3.26</td>\n",
              "      <td>0.44</td>\n",
              "      <td>10.1</td>\n",
              "      <td>6</td>\n",
              "    </tr>\n",
              "    <tr>\n",
              "      <th>3</th>\n",
              "      <td>7.2</td>\n",
              "      <td>0.23</td>\n",
              "      <td>0.32</td>\n",
              "      <td>8.5</td>\n",
              "      <td>0.058</td>\n",
              "      <td>47.0</td>\n",
              "      <td>186.0</td>\n",
              "      <td>0.9956</td>\n",
              "      <td>3.19</td>\n",
              "      <td>0.40</td>\n",
              "      <td>9.9</td>\n",
              "      <td>6</td>\n",
              "    </tr>\n",
              "    <tr>\n",
              "      <th>4</th>\n",
              "      <td>7.2</td>\n",
              "      <td>0.23</td>\n",
              "      <td>0.32</td>\n",
              "      <td>8.5</td>\n",
              "      <td>0.058</td>\n",
              "      <td>47.0</td>\n",
              "      <td>186.0</td>\n",
              "      <td>0.9956</td>\n",
              "      <td>3.19</td>\n",
              "      <td>0.40</td>\n",
              "      <td>9.9</td>\n",
              "      <td>6</td>\n",
              "    </tr>\n",
              "  </tbody>\n",
              "</table>\n",
              "</div>\n",
              "      <button class=\"colab-df-convert\" onclick=\"convertToInteractive('df-28986e81-963e-4964-b5f5-24dfcd270516')\"\n",
              "              title=\"Convert this dataframe to an interactive table.\"\n",
              "              style=\"display:none;\">\n",
              "        \n",
              "  <svg xmlns=\"http://www.w3.org/2000/svg\" height=\"24px\"viewBox=\"0 0 24 24\"\n",
              "       width=\"24px\">\n",
              "    <path d=\"M0 0h24v24H0V0z\" fill=\"none\"/>\n",
              "    <path d=\"M18.56 5.44l.94 2.06.94-2.06 2.06-.94-2.06-.94-.94-2.06-.94 2.06-2.06.94zm-11 1L8.5 8.5l.94-2.06 2.06-.94-2.06-.94L8.5 2.5l-.94 2.06-2.06.94zm10 10l.94 2.06.94-2.06 2.06-.94-2.06-.94-.94-2.06-.94 2.06-2.06.94z\"/><path d=\"M17.41 7.96l-1.37-1.37c-.4-.4-.92-.59-1.43-.59-.52 0-1.04.2-1.43.59L10.3 9.45l-7.72 7.72c-.78.78-.78 2.05 0 2.83L4 21.41c.39.39.9.59 1.41.59.51 0 1.02-.2 1.41-.59l7.78-7.78 2.81-2.81c.8-.78.8-2.07 0-2.86zM5.41 20L4 18.59l7.72-7.72 1.47 1.35L5.41 20z\"/>\n",
              "  </svg>\n",
              "      </button>\n",
              "      \n",
              "  <style>\n",
              "    .colab-df-container {\n",
              "      display:flex;\n",
              "      flex-wrap:wrap;\n",
              "      gap: 12px;\n",
              "    }\n",
              "\n",
              "    .colab-df-convert {\n",
              "      background-color: #E8F0FE;\n",
              "      border: none;\n",
              "      border-radius: 50%;\n",
              "      cursor: pointer;\n",
              "      display: none;\n",
              "      fill: #1967D2;\n",
              "      height: 32px;\n",
              "      padding: 0 0 0 0;\n",
              "      width: 32px;\n",
              "    }\n",
              "\n",
              "    .colab-df-convert:hover {\n",
              "      background-color: #E2EBFA;\n",
              "      box-shadow: 0px 1px 2px rgba(60, 64, 67, 0.3), 0px 1px 3px 1px rgba(60, 64, 67, 0.15);\n",
              "      fill: #174EA6;\n",
              "    }\n",
              "\n",
              "    [theme=dark] .colab-df-convert {\n",
              "      background-color: #3B4455;\n",
              "      fill: #D2E3FC;\n",
              "    }\n",
              "\n",
              "    [theme=dark] .colab-df-convert:hover {\n",
              "      background-color: #434B5C;\n",
              "      box-shadow: 0px 1px 3px 1px rgba(0, 0, 0, 0.15);\n",
              "      filter: drop-shadow(0px 1px 2px rgba(0, 0, 0, 0.3));\n",
              "      fill: #FFFFFF;\n",
              "    }\n",
              "  </style>\n",
              "\n",
              "      <script>\n",
              "        const buttonEl =\n",
              "          document.querySelector('#df-28986e81-963e-4964-b5f5-24dfcd270516 button.colab-df-convert');\n",
              "        buttonEl.style.display =\n",
              "          google.colab.kernel.accessAllowed ? 'block' : 'none';\n",
              "\n",
              "        async function convertToInteractive(key) {\n",
              "          const element = document.querySelector('#df-28986e81-963e-4964-b5f5-24dfcd270516');\n",
              "          const dataTable =\n",
              "            await google.colab.kernel.invokeFunction('convertToInteractive',\n",
              "                                                     [key], {});\n",
              "          if (!dataTable) return;\n",
              "\n",
              "          const docLinkHtml = 'Like what you see? Visit the ' +\n",
              "            '<a target=\"_blank\" href=https://colab.research.google.com/notebooks/data_table.ipynb>data table notebook</a>'\n",
              "            + ' to learn more about interactive tables.';\n",
              "          element.innerHTML = '';\n",
              "          dataTable['output_type'] = 'display_data';\n",
              "          await google.colab.output.renderOutput(dataTable, element);\n",
              "          const docLink = document.createElement('div');\n",
              "          docLink.innerHTML = docLinkHtml;\n",
              "          element.appendChild(docLink);\n",
              "        }\n",
              "      </script>\n",
              "    </div>\n",
              "  </div>\n",
              "  "
            ]
          },
          "metadata": {},
          "execution_count": 937
        }
      ],
      "source": [
        "dataset.head()"
      ]
    },
    {
      "cell_type": "code",
      "execution_count": null,
      "metadata": {
        "id": "rh1zhtD_-AIg"
      },
      "outputs": [],
      "source": [
        "data_ = dataset[\n",
        "    [\n",
        "        \"fixed acidity\",\n",
        "        \"volatile acidity\",\n",
        "        \"citric acid\",\n",
        "        \"residual sugar\",\n",
        "        \"chlorides\",\n",
        "        \"free sulfur dioxide\",\n",
        "        \"total sulfur dioxide\",\n",
        "        \"density\",\n",
        "        \"pH\",\n",
        "        \"sulphates\",\n",
        "        \"alcohol\"\n",
        "    ]\n",
        "].values"
      ]
    },
    {
      "cell_type": "code",
      "execution_count": null,
      "metadata": {
        "colab": {
          "base_uri": "https://localhost:8080/"
        },
        "id": "qsv4c04BKv2k",
        "outputId": "6e31d643-b32c-4f76-cf37-a823cadeb931"
      },
      "outputs": [
        {
          "output_type": "execute_result",
          "data": {
            "text/plain": [
              "(4898, 11)"
            ]
          },
          "metadata": {},
          "execution_count": 939
        }
      ],
      "source": [
        "data_.shape"
      ]
    },
    {
      "cell_type": "code",
      "source": [],
      "metadata": {
        "id": "r-YffSPauNco"
      },
      "execution_count": null,
      "outputs": []
    },
    {
      "cell_type": "markdown",
      "metadata": {
        "id": "be9n_gUZTXeA"
      },
      "source": [
        "#Diabetes Dataset"
      ]
    },
    {
      "cell_type": "code",
      "execution_count": null,
      "metadata": {
        "id": "s4ADmSsnml4e",
        "colab": {
          "base_uri": "https://localhost:8080/",
          "height": 183
        },
        "outputId": "78a82efa-eb61-4630-c0af-857ba9c089aa"
      },
      "outputs": [
        {
          "output_type": "error",
          "ename": "NameError",
          "evalue": "ignored",
          "traceback": [
            "\u001b[0;31m---------------------------------------------------------------------------\u001b[0m",
            "\u001b[0;31mNameError\u001b[0m                                 Traceback (most recent call last)",
            "\u001b[0;32m<ipython-input-1-660150e468dc>\u001b[0m in \u001b[0;36m<cell line: 1>\u001b[0;34m()\u001b[0m\n\u001b[0;32m----> 1\u001b[0;31m \u001b[0mdataset\u001b[0m \u001b[0;34m=\u001b[0m \u001b[0mpd\u001b[0m\u001b[0;34m.\u001b[0m\u001b[0mread_csv\u001b[0m\u001b[0;34m(\u001b[0m\u001b[0;34m'https://raw.githubusercontent.com/jbrownlee/Datasets/master/pima-indians-diabetes.csv'\u001b[0m\u001b[0;34m)\u001b[0m\u001b[0;34m\u001b[0m\u001b[0;34m\u001b[0m\u001b[0m\n\u001b[0m\u001b[1;32m      2\u001b[0m \u001b[0mdataset\u001b[0m\u001b[0;34m.\u001b[0m\u001b[0mcolumns\u001b[0m \u001b[0;34m=\u001b[0m \u001b[0;34m[\u001b[0m\u001b[0;34m'pregnancies'\u001b[0m\u001b[0;34m,\u001b[0m \u001b[0;34m'glucose'\u001b[0m\u001b[0;34m,\u001b[0m \u001b[0;34m'blood_pressure'\u001b[0m\u001b[0;34m,\u001b[0m \u001b[0;34m'skin_thickness'\u001b[0m\u001b[0;34m,\u001b[0m \u001b[0;34m'insulin'\u001b[0m\u001b[0;34m,\u001b[0m \u001b[0;34m'bmi'\u001b[0m\u001b[0;34m,\u001b[0m \u001b[0;34m'diabetes_pedigree_function'\u001b[0m\u001b[0;34m,\u001b[0m \u001b[0;34m'age'\u001b[0m\u001b[0;34m,\u001b[0m \u001b[0;34m'outcome'\u001b[0m\u001b[0;34m]\u001b[0m\u001b[0;34m\u001b[0m\u001b[0;34m\u001b[0m\u001b[0m\n",
            "\u001b[0;31mNameError\u001b[0m: name 'pd' is not defined"
          ]
        }
      ],
      "source": [
        "dataset = pd.read_csv('https://raw.githubusercontent.com/jbrownlee/Datasets/master/pima-indians-diabetes.csv')\n",
        "dataset.columns = ['pregnancies', 'glucose', 'blood_pressure', 'skin_thickness', 'insulin', 'bmi', 'diabetes_pedigree_function', 'age', 'outcome']"
      ]
    },
    {
      "cell_type": "code",
      "execution_count": null,
      "metadata": {
        "id": "nZ96Nh6NTh6T"
      },
      "outputs": [],
      "source": [
        "dataset.head()"
      ]
    },
    {
      "cell_type": "code",
      "execution_count": null,
      "metadata": {
        "id": "Udf_-wiETlF4"
      },
      "outputs": [],
      "source": [
        "data_ = dataset.iloc[:,:-1].values"
      ]
    },
    {
      "cell_type": "code",
      "execution_count": null,
      "metadata": {
        "id": "QYakY6x6ToeP"
      },
      "outputs": [],
      "source": [
        "data_.shape"
      ]
    },
    {
      "cell_type": "code",
      "source": [],
      "metadata": {
        "id": "M5U4L-JZvj9r"
      },
      "execution_count": null,
      "outputs": []
    },
    {
      "cell_type": "markdown",
      "metadata": {
        "id": "F3pxbse0ty2f"
      },
      "source": [
        "## MNIST"
      ]
    },
    {
      "cell_type": "code",
      "execution_count": null,
      "metadata": {
        "id": "5QFXrj1wPxO5"
      },
      "outputs": [],
      "source": [
        "(x_train,y_train),(x_test,y_test)  = mnist.load_data()\n",
        "# data_ = digits.data\n",
        "data_ = x_train[50000:60000]\n",
        "data_ = [i.flatten() for i in data_]"
      ]
    },
    {
      "cell_type": "code",
      "execution_count": null,
      "metadata": {
        "id": "LoopgWKpKke1"
      },
      "outputs": [],
      "source": [
        "np.array(data_).shape"
      ]
    },
    {
      "cell_type": "code",
      "execution_count": 16,
      "metadata": {
        "id": "-a-K4LZ_LHSQ"
      },
      "outputs": [],
      "source": [
        "data_ = StandardScaler().fit_transform(data_)"
      ]
    },
    {
      "cell_type": "code",
      "execution_count": 17,
      "metadata": {
        "id": "rpn5zYQhaFHy"
      },
      "outputs": [],
      "source": [
        "scaler = MinMaxScaler()\n",
        "data_ = scaler.fit_transform(data_.astype('float32'))"
      ]
    },
    {
      "cell_type": "code",
      "execution_count": 18,
      "metadata": {
        "id": "kRliCpRpL0Rz"
      },
      "outputs": [],
      "source": [
        "data_ = np.array(data_)"
      ]
    },
    {
      "cell_type": "code",
      "execution_count": 19,
      "metadata": {
        "id": "DzJoPoMCLK4L",
        "colab": {
          "base_uri": "https://localhost:8080/",
          "height": 94
        },
        "outputId": "74b67e3a-5183-416a-dc0d-a11e9bc7787d"
      },
      "outputs": [
        {
          "output_type": "execute_result",
          "data": {
            "text/plain": [
              "UMAP(init='random', min_dist=0.01, n_neighbors=5, random_state=42, tqdm_kwds={'bar_format': '{desc}: {percentage:3.0f}%| {bar} {n_fmt}/{total_fmt} [{elapsed}]', 'desc': 'Epochs completed', 'disable': True})"
            ],
            "text/html": [
              "<style>#sk-container-id-1 {color: black;background-color: white;}#sk-container-id-1 pre{padding: 0;}#sk-container-id-1 div.sk-toggleable {background-color: white;}#sk-container-id-1 label.sk-toggleable__label {cursor: pointer;display: block;width: 100%;margin-bottom: 0;padding: 0.3em;box-sizing: border-box;text-align: center;}#sk-container-id-1 label.sk-toggleable__label-arrow:before {content: \"▸\";float: left;margin-right: 0.25em;color: #696969;}#sk-container-id-1 label.sk-toggleable__label-arrow:hover:before {color: black;}#sk-container-id-1 div.sk-estimator:hover label.sk-toggleable__label-arrow:before {color: black;}#sk-container-id-1 div.sk-toggleable__content {max-height: 0;max-width: 0;overflow: hidden;text-align: left;background-color: #f0f8ff;}#sk-container-id-1 div.sk-toggleable__content pre {margin: 0.2em;color: black;border-radius: 0.25em;background-color: #f0f8ff;}#sk-container-id-1 input.sk-toggleable__control:checked~div.sk-toggleable__content {max-height: 200px;max-width: 100%;overflow: auto;}#sk-container-id-1 input.sk-toggleable__control:checked~label.sk-toggleable__label-arrow:before {content: \"▾\";}#sk-container-id-1 div.sk-estimator input.sk-toggleable__control:checked~label.sk-toggleable__label {background-color: #d4ebff;}#sk-container-id-1 div.sk-label input.sk-toggleable__control:checked~label.sk-toggleable__label {background-color: #d4ebff;}#sk-container-id-1 input.sk-hidden--visually {border: 0;clip: rect(1px 1px 1px 1px);clip: rect(1px, 1px, 1px, 1px);height: 1px;margin: -1px;overflow: hidden;padding: 0;position: absolute;width: 1px;}#sk-container-id-1 div.sk-estimator {font-family: monospace;background-color: #f0f8ff;border: 1px dotted black;border-radius: 0.25em;box-sizing: border-box;margin-bottom: 0.5em;}#sk-container-id-1 div.sk-estimator:hover {background-color: #d4ebff;}#sk-container-id-1 div.sk-parallel-item::after {content: \"\";width: 100%;border-bottom: 1px solid gray;flex-grow: 1;}#sk-container-id-1 div.sk-label:hover label.sk-toggleable__label {background-color: #d4ebff;}#sk-container-id-1 div.sk-serial::before {content: \"\";position: absolute;border-left: 1px solid gray;box-sizing: border-box;top: 0;bottom: 0;left: 50%;z-index: 0;}#sk-container-id-1 div.sk-serial {display: flex;flex-direction: column;align-items: center;background-color: white;padding-right: 0.2em;padding-left: 0.2em;position: relative;}#sk-container-id-1 div.sk-item {position: relative;z-index: 1;}#sk-container-id-1 div.sk-parallel {display: flex;align-items: stretch;justify-content: center;background-color: white;position: relative;}#sk-container-id-1 div.sk-item::before, #sk-container-id-1 div.sk-parallel-item::before {content: \"\";position: absolute;border-left: 1px solid gray;box-sizing: border-box;top: 0;bottom: 0;left: 50%;z-index: -1;}#sk-container-id-1 div.sk-parallel-item {display: flex;flex-direction: column;z-index: 1;position: relative;background-color: white;}#sk-container-id-1 div.sk-parallel-item:first-child::after {align-self: flex-end;width: 50%;}#sk-container-id-1 div.sk-parallel-item:last-child::after {align-self: flex-start;width: 50%;}#sk-container-id-1 div.sk-parallel-item:only-child::after {width: 0;}#sk-container-id-1 div.sk-dashed-wrapped {border: 1px dashed gray;margin: 0 0.4em 0.5em 0.4em;box-sizing: border-box;padding-bottom: 0.4em;background-color: white;}#sk-container-id-1 div.sk-label label {font-family: monospace;font-weight: bold;display: inline-block;line-height: 1.2em;}#sk-container-id-1 div.sk-label-container {text-align: center;}#sk-container-id-1 div.sk-container {/* jupyter's `normalize.less` sets `[hidden] { display: none; }` but bootstrap.min.css set `[hidden] { display: none !important; }` so we also need the `!important` here to be able to override the default hidden behavior on the sphinx rendered scikit-learn.org. See: https://github.com/scikit-learn/scikit-learn/issues/21755 */display: inline-block !important;position: relative;}#sk-container-id-1 div.sk-text-repr-fallback {display: none;}</style><div id=\"sk-container-id-1\" class=\"sk-top-container\"><div class=\"sk-text-repr-fallback\"><pre>UMAP(init=&#x27;random&#x27;, min_dist=0.01, n_neighbors=5, random_state=42, tqdm_kwds={&#x27;bar_format&#x27;: &#x27;{desc}: {percentage:3.0f}%| {bar} {n_fmt}/{total_fmt} [{elapsed}]&#x27;, &#x27;desc&#x27;: &#x27;Epochs completed&#x27;, &#x27;disable&#x27;: True})</pre><b>In a Jupyter environment, please rerun this cell to show the HTML representation or trust the notebook. <br />On GitHub, the HTML representation is unable to render, please try loading this page with nbviewer.org.</b></div><div class=\"sk-container\" hidden><div class=\"sk-item\"><div class=\"sk-estimator sk-toggleable\"><input class=\"sk-toggleable__control sk-hidden--visually\" id=\"sk-estimator-id-1\" type=\"checkbox\" checked><label for=\"sk-estimator-id-1\" class=\"sk-toggleable__label sk-toggleable__label-arrow\">UMAP</label><div class=\"sk-toggleable__content\"><pre>UMAP(init=&#x27;random&#x27;, min_dist=0.01, n_neighbors=5, random_state=42, tqdm_kwds={&#x27;bar_format&#x27;: &#x27;{desc}: {percentage:3.0f}%| {bar} {n_fmt}/{total_fmt} [{elapsed}]&#x27;, &#x27;desc&#x27;: &#x27;Epochs completed&#x27;, &#x27;disable&#x27;: True})</pre></div></div></div></div></div>"
            ]
          },
          "metadata": {},
          "execution_count": 19
        }
      ],
      "source": [
        "reducer = umap.UMAP(**params[i])\n",
        "#reducer = umap.UMAP()\n",
        "reducer.fit(data_)"
      ]
    },
    {
      "cell_type": "code",
      "execution_count": null,
      "metadata": {
        "id": "ls4g5f7duLNz"
      },
      "outputs": [],
      "source": [
        "#graph = reducer.graph_\n",
        "#ngraph = nkx.Graph(graph)"
      ]
    },
    {
      "cell_type": "code",
      "source": [
        "graph = reducer.graph_\n",
        "ngraph = nkx.Graph(graph)"
      ],
      "metadata": {
        "id": "1US5dM7p93wt"
      },
      "execution_count": 20,
      "outputs": []
    },
    {
      "cell_type": "code",
      "execution_count": 21,
      "metadata": {
        "id": "aXyxBLHD8rUl"
      },
      "outputs": [],
      "source": [
        "(edgecuts, parts) = metis.part_graph(ngraph, nparts=classes[i])\n",
        "#(edgecuts, parts) = metis.part_graph(ngraph, nparts=10)"
      ]
    },
    {
      "cell_type": "code",
      "execution_count": 22,
      "metadata": {
        "id": "UpBvygbeV_k0"
      },
      "outputs": [],
      "source": [
        "embedding = reducer.embedding_"
      ]
    },
    {
      "cell_type": "code",
      "execution_count": 23,
      "metadata": {
        "id": "87ElG_emWArw"
      },
      "outputs": [],
      "source": [
        "embedding = reducer.embedding_\n",
        "embedding_scaled =  scaler.fit_transform(embedding.astype('float32'))"
      ]
    },
    {
      "cell_type": "code",
      "execution_count": 48,
      "metadata": {
        "id": "cyAy_rWWHR5x"
      },
      "outputs": [],
      "source": [
        "def calculateClusterCenter(data,parts):\n",
        "  centre={}\n",
        "  for i in range(len(parts)):\n",
        "    if parts[i] in centre:\n",
        "      centre[parts[i]]+=data[i]\n",
        "    else:\n",
        "      centre[parts[i]]=data[i]\n",
        "\n",
        "\n",
        "  for j in centre:\n",
        "    try:\n",
        "      centre[j]/=parts.count(j)\n",
        "    except:\n",
        "      centre[j]=centre[j]/parts.count(j)\n",
        "  \n",
        "  return centre\n",
        "\n",
        "centre = calculateClusterCenter(data_,parts)\n"
      ]
    },
    {
      "cell_type": "code",
      "execution_count": 49,
      "metadata": {
        "id": "puEb3sMFyt5E"
      },
      "outputs": [],
      "source": [
        "embedding = reducer.embedding_"
      ]
    },
    {
      "cell_type": "code",
      "execution_count": 50,
      "metadata": {
        "id": "La5Kqg_DehdF",
        "colab": {
          "base_uri": "https://localhost:8080/"
        },
        "outputId": "90c0201f-3cf9-43c2-dc84-c1c53e6d7be2"
      },
      "outputs": [
        {
          "output_type": "stream",
          "name": "stdout",
          "text": [
            "[[ 7.279009   8.786418 ]\n",
            " [ 5.421264   4.5952168]\n",
            " [-1.2364806  8.16062  ]\n",
            " ...\n",
            " [ 5.9090853 -1.7539309]\n",
            " [ 3.282805   2.9156132]\n",
            " [ 8.592041   7.480546 ]]\n"
          ]
        }
      ],
      "source": [
        "print(embedding)"
      ]
    },
    {
      "cell_type": "code",
      "execution_count": 51,
      "metadata": {
        "id": "rVKklSFaeP-t"
      },
      "outputs": [],
      "source": [
        "embedding = reducer.embedding_\n",
        "embedding_scaled =  scaler.fit_transform(embedding.astype('float32'))"
      ]
    },
    {
      "cell_type": "code",
      "execution_count": 52,
      "metadata": {
        "id": "Znjce-Qr9phB"
      },
      "outputs": [],
      "source": [
        "def normalize(D):\n",
        "    scaler = MinMaxScaler()\n",
        "    D = scaler.fit_transform(D.reshape((-1, 1)))\n",
        "    D = D.squeeze()\n",
        "    return D\n",
        "\n",
        "def normalized_stress(D_high, D_low):\n",
        "    return (np.sum((D_high - D_low)**2) / np.sum(D_high**2))"
      ]
    },
    {
      "cell_type": "code",
      "execution_count": 53,
      "metadata": {
        "id": "SPs7mbmU9pVV"
      },
      "outputs": [],
      "source": [
        "def stress1(origData, projData):\n",
        "  D_low = spatial.distance.pdist(projData, 'euclidean')\n",
        "  D_high = spatial.distance.pdist(origData, 'euclidean')\n",
        "  D_low = normalize(D_low)\n",
        "  D_high = normalize(D_high)\n",
        "  return normalized_stress(D_high, D_low)"
      ]
    },
    {
      "cell_type": "code",
      "execution_count": 54,
      "metadata": {
        "id": "fhFwJRc9W4ao"
      },
      "outputs": [],
      "source": [
        "def stress2(origData, projData):\n",
        "  D_low = spatial.distance.pdist(projData, 'euclidean')\n",
        "  D_high = spatial.distance.pdist(origData, 'euclidean')\n",
        "  #D_low = normalize(D_low)\n",
        "  #D_high = normalize(D_high)\n",
        "  return normalized_stress(D_high, D_low)"
      ]
    },
    {
      "cell_type": "code",
      "execution_count": 55,
      "metadata": {
        "id": "yaPWTLSaFlLK"
      },
      "outputs": [],
      "source": [
        "def stress(originalData, projectedData):\n",
        "  squarePairDistance=0\n",
        "  numerator=0\n",
        "  length = len(originalData)\n",
        "  for i in range(length):\n",
        "    for j in range(i+1,length):\n",
        "          original = distances.euclidean(originalData[i],originalData[j])\n",
        "          projected = distances.euclidean(projectedData[i], projectedData[j])\n",
        "          squareDifference = (original-projected)**2\n",
        "          numerator+=squareDifference\n",
        "          squarePairDistance += original**2\n",
        "\n",
        "  stress = numerator/squarePairDistance\n",
        "\n",
        "  return stress"
      ]
    },
    {
      "cell_type": "code",
      "execution_count": 56,
      "metadata": {
        "id": "nFynDb6ZTKcp"
      },
      "outputs": [],
      "source": [
        "def selectCluster(parts, projectedPoints, cluster):\n",
        "  clusterPoints=[]\n",
        "  for i in range(len(parts)):\n",
        "    if parts[i]==cluster:\n",
        "      clusterPoints.append(list(projectedPoints[i]))\n",
        "  return np.array(clusterPoints)"
      ]
    },
    {
      "cell_type": "code",
      "execution_count": 57,
      "metadata": {
        "id": "pTcflOppVbc9"
      },
      "outputs": [],
      "source": [
        "def translate(cluster,axis, distance):\n",
        "  toAdd = [0,0]\n",
        "  toAdd[axis] = distance\n",
        "  return cluster+toAdd"
      ]
    },
    {
      "cell_type": "code",
      "execution_count": 58,
      "metadata": {
        "id": "9qPAowDQW3-k"
      },
      "outputs": [],
      "source": [
        "def changeCluster(parts, coordinates, projected, cluster):\n",
        "  count=0\n",
        "  newProjected=[]\n",
        "  for i in range(len(parts)):\n",
        "    if parts[i]==cluster:\n",
        "      newProjected.append(coordinates[count])\n",
        "      count+=1\n",
        "    else:\n",
        "      newProjected.append(projected[i])\n",
        "  return newProjected"
      ]
    },
    {
      "cell_type": "code",
      "execution_count": 59,
      "metadata": {
        "id": "9E12TCwuIjvF"
      },
      "outputs": [],
      "source": [
        "def forceDirectedCentres(originalCentres, parts):\n",
        "  clusterCentres = np.array(originalCentres[0])\n",
        "  for i in range(1,len(set(parts))):\n",
        "    clusterCentres=np.vstack((clusterCentres, originalCentres[i]))\n",
        "\n",
        "  layout = fl.draw_spring_layout(dataset=clusterCentres, algorithm=fl.SpringForce)\n",
        "\n",
        "  print(layout.get_stress())\n",
        "\n",
        "  forceDirectedPositions = layout.get_positions()\n",
        "\n",
        "  return forceDirectedPositions"
      ]
    },
    {
      "cell_type": "code",
      "execution_count": 60,
      "metadata": {
        "id": "2kH4j--B92gf"
      },
      "outputs": [],
      "source": [
        "def PCACentres(originalCentres, parts):\n",
        "  clusterCentres = np.array(originalCentres[0])\n",
        "  for i in range(1,len(set(parts))):\n",
        "    clusterCentres=np.vstack((clusterCentres, originalCentres[i]))\n",
        "\n",
        "  pcaCoords = PCA(n_components=2).fit_transform(clusterCentres)\n",
        "\n",
        "  return pcaCoords"
      ]
    },
    {
      "cell_type": "code",
      "execution_count": 61,
      "metadata": {
        "id": "qnWm5yv9MAZk"
      },
      "outputs": [],
      "source": [
        "def posDifference(highDimensionCentres, lowDimensionCentres, initializer):\n",
        "  if initializer==\"fdl\":\n",
        "    centreRepresentation = forceDirectedCentres(highDimensionCentres, parts)\n",
        "  elif initializer==\"pca\":\n",
        "    centreRepresentation = PCACentres(highDimensionCentres, parts)\n",
        "\n",
        "  centre2d = np.array(lowDimensionCentres[0])\n",
        "  for i in range(1,len(set(parts))):\n",
        "    centre2d=np.vstack((centre2d, lowDimensionCentres[i]))\n",
        "\n",
        "  return centreRepresentation - centre2d"
      ]
    },
    {
      "cell_type": "code",
      "execution_count": 62,
      "metadata": {
        "id": "45m3YOU1Bbwz"
      },
      "outputs": [],
      "source": [
        "def translateUsingDifference(difference, parts, embedding):\n",
        "  newEmbedding = embedding \n",
        "  for i in range(len(difference)):\n",
        "    x = selectCluster(parts, newEmbedding, i)\n",
        "    translated = translate(x, 0, difference[i][0])\n",
        "    newEmbedding = changeCluster(parts, translated, newEmbedding, i)\n",
        "\n",
        "    y = selectCluster(parts, newEmbedding, i)\n",
        "    translated = translate(y, 1, difference[i][1])\n",
        "    newEmbedding = changeCluster(parts, translated, newEmbedding, i)\n",
        "\n",
        "  return newEmbedding"
      ]
    },
    {
      "cell_type": "code",
      "execution_count": 63,
      "metadata": {
        "id": "85RFLXVlmMNN",
        "colab": {
          "base_uri": "https://localhost:8080/",
          "height": 423
        },
        "outputId": "2beacdc2-71ef-41a5-cb95-a5f12494c4e0"
      },
      "outputs": [
        {
          "output_type": "stream",
          "name": "stdout",
          "text": [
            "1.5774393774668228e-16\n"
          ]
        },
        {
          "output_type": "display_data",
          "data": {
            "text/plain": [
              "<Figure size 640x480 with 1 Axes>"
            ],
            "image/png": "[encoded data removed]"
          },
          "metadata": {}
        }
      ],
      "source": [
        "initialCentres = calculateClusterCenter(embedding_scaled,parts)\n",
        "clusterCentres = np.array(centre.get(i, []))\n",
        "\n",
        "differenceFDL = posDifference(centre, initialCentres, \"fdl\")"
      ]
    },
    {
      "cell_type": "code",
      "execution_count": 64,
      "metadata": {
        "id": "le7T0R8PbSv1",
        "colab": {
          "base_uri": "https://localhost:8080/"
        },
        "outputId": "a2fdfe00-5698-4ec4-b8f4-596c7652069a"
      },
      "outputs": [
        {
          "output_type": "stream",
          "name": "stdout",
          "text": [
            "Both scaled: 0.23010996786125318 , 0.27906107440942307\n",
            "Stress not scaled: 0.7375776794521277 , 0.5515109924862928\n"
          ]
        }
      ],
      "source": [
        "translatedEmbeddingFDL = translateUsingDifference(differenceFDL, parts, embedding_scaled)\n",
        "print(\"Both scaled:\" ,stress1(data_, embedding_scaled),',',stress1(data_,translatedEmbeddingFDL))\n",
        "print(\"Stress not scaled:\", stress2(data_, embedding_scaled),',',stress2(data_,translatedEmbeddingFDL))"
      ]
    },
    {
      "cell_type": "code",
      "execution_count": null,
      "metadata": {
        "id": "FSQleX33DSFh"
      },
      "outputs": [],
      "source": [
        "'''for i in range(0,5):\n",
        "  reducer = umap.UMAP(**params[0])\n",
        "  reducer.fit(data_)\n",
        "  graph = reducer.graph_\n",
        "  ngraph = nkx.Graph(graph)\n",
        "  (edgecuts, parts) = metis.part_graph(ngraph, nparts=classes[0])\n",
        "  embedding = reducer.embedding_\n",
        "  embedding_scaled =  scaler.fit_transform(embedding.astype('float32'))\n",
        "  translatedEmbeddingFDL = translateUsingDifference(differenceFDL, parts, embedding_scaled)\n",
        "  print(\"Both scaled:\" ,stress1(data_, embedding_scaled),',',stress1(data_,translatedEmbeddingFDL))\n",
        "  print(\"Stress not scaled:\", stress2(data_, embedding_scaled),',',stress2(data_,translatedEmbeddingFDL))'''"
      ]
    },
    {
      "cell_type": "code",
      "execution_count": null,
      "metadata": {
        "id": "SPPLHmaEkJGq"
      },
      "outputs": [],
      "source": [
        "initialCentres = calculateClusterCenter(embedding,parts)\n",
        "differenceFDL = posDifference(centre, initialCentres, \"fdl\")\n"
      ]
    },
    {
      "cell_type": "code",
      "execution_count": null,
      "metadata": {
        "id": "3vXv2k_Jbb9N"
      },
      "outputs": [],
      "source": [
        "translatedEmbeddingFDL = translateUsingDifference(differenceFDL, parts, embedding)\n",
        "print(\"Embedding not scaled:\", stress1(data_, embedding),',',stress1(data_,translatedEmbeddingFDL))\n",
        "print(\"Both not scaled:\", stress2(data_, embedding),',',stress2(data_,translatedEmbeddingFDL))"
      ]
    },
    {
      "cell_type": "code",
      "source": [
        "import os\n",
        "import pandas as pd\n",
        "import numpy as np\n",
        "from sklearn import metrics\n",
        "from sklearn.decomposition import PCA\n",
        "from sklearn.linear_model import LogisticRegression\n",
        "from sklearn.model_selection import GridSearchCV, train_test_split\n",
        "from sklearn.neighbors import KNeighborsClassifier\n",
        "from scipy import spatial\n",
        "from scipy import stats"
      ],
      "metadata": {
        "id": "bZIS8GEl0eUn"
      },
      "execution_count": 42,
      "outputs": []
    },
    {
      "cell_type": "code",
      "execution_count": 43,
      "metadata": {
        "id": "T39rNJa66lEh"
      },
      "outputs": [],
      "source": [
        "def metric_continuity(k, id_run):\n",
        "    global N_SAMPLES\n",
        "    global DISTANCES\n",
        "\n",
        "    D_high = np.load(DISTANCES['D_high_matrix'], mmap_mode='c')\n",
        "    D_low = np.load(DISTANCES[id_run]['D_low_matrix'], mmap_mode='c')\n",
        "\n",
        "    n = N_SAMPLES\n",
        "\n",
        "    nn_orig = D_high.argsort()\n",
        "    nn_proj = D_low.argsort()\n",
        "\n",
        "    knn_orig = nn_orig[:, :k + 1][:, 1:]\n",
        "    knn_proj = nn_proj[:, :k + 1][:, 1:]\n",
        "\n",
        "    sum_i = 0\n",
        "\n",
        "    for i in range(N_SAMPLES):\n",
        "        V = np.setdiff1d(knn_orig[i], knn_proj[i])\n",
        "\n",
        "        sum_j = 0\n",
        "        for j in range(V.shape[0]):\n",
        "            sum_j += np.where(nn_proj[i] == V[j])[0] - k\n",
        "\n",
        "        sum_i += sum_j\n",
        "\n",
        "    return float((1 - (2 / (n * k * (2 * n - 3 * k - 1)) * sum_i)).squeeze())\n"
      ]
    },
    {
      "cell_type": "code",
      "source": [
        "metric_continuity(7,data_)"
      ],
      "metadata": {
        "colab": {
          "base_uri": "https://localhost:8080/",
          "height": 287
        },
        "id": "jUKy71K4yfRG",
        "outputId": "6db87cc1-774f-4a10-c50f-ffaee620f2d3"
      },
      "execution_count": 44,
      "outputs": [
        {
          "output_type": "error",
          "ename": "NameError",
          "evalue": "ignored",
          "traceback": [
            "\u001b[0;31m---------------------------------------------------------------------------\u001b[0m",
            "\u001b[0;31mNameError\u001b[0m                                 Traceback (most recent call last)",
            "\u001b[0;32m<ipython-input-44-a3a6ffe91998>\u001b[0m in \u001b[0;36m<cell line: 1>\u001b[0;34m()\u001b[0m\n\u001b[0;32m----> 1\u001b[0;31m \u001b[0mmetric_continuity\u001b[0m\u001b[0;34m(\u001b[0m\u001b[0;36m7\u001b[0m\u001b[0;34m,\u001b[0m\u001b[0mdata_\u001b[0m\u001b[0;34m)\u001b[0m\u001b[0;34m\u001b[0m\u001b[0;34m\u001b[0m\u001b[0m\n\u001b[0m",
            "\u001b[0;32m<ipython-input-43-26ae36318ef3>\u001b[0m in \u001b[0;36mmetric_continuity\u001b[0;34m(k, id_run)\u001b[0m\n\u001b[1;32m      3\u001b[0m     \u001b[0;32mglobal\u001b[0m \u001b[0mDISTANCES\u001b[0m\u001b[0;34m\u001b[0m\u001b[0;34m\u001b[0m\u001b[0m\n\u001b[1;32m      4\u001b[0m \u001b[0;34m\u001b[0m\u001b[0m\n\u001b[0;32m----> 5\u001b[0;31m     \u001b[0mD_high\u001b[0m \u001b[0;34m=\u001b[0m \u001b[0mnp\u001b[0m\u001b[0;34m.\u001b[0m\u001b[0mload\u001b[0m\u001b[0;34m(\u001b[0m\u001b[0mDISTANCES\u001b[0m\u001b[0;34m[\u001b[0m\u001b[0;34m'D_high_matrix'\u001b[0m\u001b[0;34m]\u001b[0m\u001b[0;34m,\u001b[0m \u001b[0mmmap_mode\u001b[0m\u001b[0;34m=\u001b[0m\u001b[0;34m'c'\u001b[0m\u001b[0;34m)\u001b[0m\u001b[0;34m\u001b[0m\u001b[0;34m\u001b[0m\u001b[0m\n\u001b[0m\u001b[1;32m      6\u001b[0m     \u001b[0mD_low\u001b[0m \u001b[0;34m=\u001b[0m \u001b[0mnp\u001b[0m\u001b[0;34m.\u001b[0m\u001b[0mload\u001b[0m\u001b[0;34m(\u001b[0m\u001b[0mDISTANCES\u001b[0m\u001b[0;34m[\u001b[0m\u001b[0mid_run\u001b[0m\u001b[0;34m]\u001b[0m\u001b[0;34m[\u001b[0m\u001b[0;34m'D_low_matrix'\u001b[0m\u001b[0;34m]\u001b[0m\u001b[0;34m,\u001b[0m \u001b[0mmmap_mode\u001b[0m\u001b[0;34m=\u001b[0m\u001b[0;34m'c'\u001b[0m\u001b[0;34m)\u001b[0m\u001b[0;34m\u001b[0m\u001b[0;34m\u001b[0m\u001b[0m\n\u001b[1;32m      7\u001b[0m \u001b[0;34m\u001b[0m\u001b[0m\n",
            "\u001b[0;31mNameError\u001b[0m: name 'DISTANCES' is not defined"
          ]
        }
      ]
    },
    {
      "cell_type": "code",
      "source": [
        "from pyDRMetrics.coranking_matrix import *\n",
        "from sklearn.metrics import pairwise_distances\n",
        "\n",
        "def TandC(X,Z):\n",
        "  df = pd.DataFrame(X, index=None)\n",
        "  D = pd.DataFrame(pairwise_distances(df.values)).values\n",
        "  dfz = pd.DataFrame(Z, index=None)\n",
        "  Dz = pd.DataFrame(pairwise_distances(dfz.values)).values\n",
        "\n",
        "  R = ranking_matrix(D)\n",
        "  Rz = ranking_matrix(Dz)\n",
        "  Q = coranking_matrix(R, Rz)\n",
        "\n",
        "  Q = Q[1:,1:]\n",
        "  m = len(Q)\n",
        "\n",
        "  # T = np.zeros(m-1) # trustworthiness\n",
        "  # C = np.zeros(m-1) # continuity\n",
        "\n",
        "  Qs = Q[7:,:7]\n",
        "  W = np.arange(Qs.shape[0]).reshape(-1, 1) # a column vector of weights. weight = rank error = actual_rank - k\n",
        "  T = 1-np.sum(Qs * W)/(7+1)/m/(m-1-7)  # 1 - normalized hard-k-intrusions. lower-left region. weighted by rank error (rank - k)\n",
        "  Qs = Q[:7,7:]\n",
        "  W = np.arange(Qs.shape[1]).reshape(1, -1) # a row vector of weights. weight = rank error = actual_rank - k\n",
        "  C = 1-np.sum(Qs * W)/(7+1)/m/(m-1-7)  # 1 - normalized hard-k-extrusions. upper-right region \n",
        "\n",
        "  return (T,C)"
      ],
      "metadata": {
        "id": "ll3Appjs0ZFL"
      },
      "execution_count": 45,
      "outputs": []
    },
    {
      "cell_type": "code",
      "source": [
        "drm = TandC(data_, embedding_scaled)\n",
        "newDrm = TandC(data_, translatedEmbeddingFDL)"
      ],
      "metadata": {
        "id": "ECy7_1Y-0qyj"
      },
      "execution_count": 69,
      "outputs": []
    },
    {
      "cell_type": "code",
      "source": [
        "\n",
        "print(\"Trustworthiness of UMAP: \",drm[0])\n",
        "print(\"Trustworthiness of Translation FDL: \",newDrm[0])"
      ],
      "metadata": {
        "colab": {
          "base_uri": "https://localhost:8080/"
        },
        "id": "hum2fDL902dG",
        "outputId": "0ccfb682-5093-45c4-bf8a-24502c8ef723"
      },
      "execution_count": 71,
      "outputs": [
        {
          "output_type": "stream",
          "name": "stdout",
          "text": [
            "Trustworthiness of UMAP:  0.9700529758941905\n",
            "Trustworthiness of Translation FDL:  0.9662268304534357\n"
          ]
        }
      ]
    },
    {
      "cell_type": "code",
      "source": [
        "print(\"\\nContinuity of UMAP: \",drm[1])\n",
        "print(\"Continuity of Translation FDL: \",newDrm[1])"
      ],
      "metadata": {
        "colab": {
          "base_uri": "https://localhost:8080/"
        },
        "id": "tMiZXcwQ1oxa",
        "outputId": "cd132cb8-b0df-4342-91f2-2a17d0bfcfc2"
      },
      "execution_count": 72,
      "outputs": [
        {
          "output_type": "stream",
          "name": "stdout",
          "text": [
            "\n",
            "Continuity of UMAP:  0.9289523631752352\n",
            "Continuity of Translation FDL:  0.9292073467017469\n"
          ]
        }
      ]
    },
    {
      "cell_type": "code",
      "source": [
        "import numpy as np\n",
        "from sklearn.metrics import pairwise_distances\n",
        "\n",
        "def metric_trustworthiness(k, data_, embedding):\n",
        "    n = data_.shape[0]\n",
        "\n",
        "    D_high = pairwise_distances(data_)\n",
        "    D_low = pairwise_distances(embedding)\n",
        "\n",
        "    nn_orig = D_high.argsort()\n",
        "    nn_proj = D_low.argsort()\n",
        "\n",
        "    knn_orig = nn_orig[:, :k + 1][:, 1:]\n",
        "    knn_proj = nn_proj[:, :k + 1][:, 1:]\n",
        "\n",
        "    sum_i = 0\n",
        "\n",
        "    for i in range(n):\n",
        "        U = np.setdiff1d(knn_proj[i], knn_orig[i])\n",
        "\n",
        "        sum_j = 0\n",
        "        for j in range(U.shape[0]):\n",
        "            sum_j += np.where(nn_orig[i] == U[j])[0] - k\n",
        "\n",
        "        sum_i += sum_j\n",
        "\n",
        "    return float((1 - (2 / (n * k * (2 * n - 3 * k - 1)) * sum_i)).squeeze())\n"
      ],
      "metadata": {
        "id": "XQZdn-Sw2UDq"
      },
      "execution_count": 73,
      "outputs": []
    },
    {
      "cell_type": "code",
      "source": [
        "result = metric_trustworthiness(7, data_, embedding)\n",
        "print(result)"
      ],
      "metadata": {
        "colab": {
          "base_uri": "https://localhost:8080/"
        },
        "id": "X0Pqp2QO7U0F",
        "outputId": "9331a617-0786-417c-c718-c7afa3e92c46"
      },
      "execution_count": 74,
      "outputs": [
        {
          "output_type": "stream",
          "name": "stdout",
          "text": [
            "0.9653627245693992\n"
          ]
        }
      ]
    },
    {
      "cell_type": "code",
      "source": [
        "import numpy as np\n",
        "from sklearn.metrics import pairwise_distances\n",
        "\n",
        "def metric_continuity(k, data_, embeddings):\n",
        "    n = data_.shape[0]\n",
        "\n",
        "    D_high = pairwise_distances(data_)\n",
        "    D_low = pairwise_distances(embeddings)\n",
        "\n",
        "    nn_orig = D_high.argsort()\n",
        "    nn_proj = D_low.argsort()\n",
        "\n",
        "    knn_orig = nn_orig[:, :k + 1][:, 1:]\n",
        "    knn_proj = nn_proj[:, :k + 1][:, 1:]\n",
        "\n",
        "    sum_i = 0\n",
        "\n",
        "    for i in range(n):\n",
        "        V = np.setdiff1d(knn_orig[i], knn_proj[i])\n",
        "\n",
        "        sum_j = 0\n",
        "        for j in range(V.shape[0]):\n",
        "            sum_j += np.where(nn_proj[i] == V[j])[0] - k\n",
        "\n",
        "        sum_i += sum_j\n",
        "\n",
        "    return float((1 - (2 / (n * k * (2 * n - 3 * k - 1)) * sum_i)).squeeze())\n"
      ],
      "metadata": {
        "id": "KVkHyjJs7ayE"
      },
      "execution_count": 75,
      "outputs": []
    },
    {
      "cell_type": "code",
      "source": [
        "result = metric_continuity(7, data_, embedding)\n",
        "print(result)\n"
      ],
      "metadata": {
        "colab": {
          "base_uri": "https://localhost:8080/"
        },
        "id": "t3PhE0Gu9jbr",
        "outputId": "901d3a75-0ed1-425e-b41a-dc8f0ef4946d"
      },
      "execution_count": 76,
      "outputs": [
        {
          "output_type": "stream",
          "name": "stdout",
          "text": [
            "0.9175976521846597\n"
          ]
        }
      ]
    },
    {
      "cell_type": "code",
      "source": [
        "import numpy as np\n",
        "from sklearn.metrics import pairwise_distances\n",
        "\n",
        "def compute_tandc(k, data_, embeddings):\n",
        "    n = data_.shape[0]\n",
        "\n",
        "    D_high = pairwise_distances(data_)\n",
        "    D_low = pairwise_distances(embeddings)\n",
        "\n",
        "    nn_orig = D_high.argsort()\n",
        "    nn_proj = D_low.argsort()\n",
        "\n",
        "    knn_orig = nn_orig[:, :k + 1][:, 1:]\n",
        "    knn_proj = nn_proj[:, :k + 1][:, 1:]\n",
        "\n",
        "    sum_i_t = 0\n",
        "    sum_i_c = 0\n",
        "\n",
        "    for i in range(n):\n",
        "        V = np.setdiff1d(knn_orig[i], knn_proj[i])\n",
        "        U = np.setdiff1d(knn_proj[i], knn_orig[i])\n",
        "\n",
        "        sum_j_t = 0\n",
        "        for j in range(U.shape[0]):\n",
        "            sum_j_t += np.where(nn_orig[i] == U[j])[0] - k\n",
        "\n",
        "        sum_j_c = 0\n",
        "        for j in range(V.shape[0]):\n",
        "            sum_j_c += np.where(nn_proj[i] == V[j])[0] - k\n",
        "\n",
        "        sum_i_t += sum_j_t\n",
        "        sum_i_c += sum_j_c\n",
        "\n",
        "    T = float((1 - (2 / (n * k * (2 * n - 3 * k - 1)) * sum_i_t)).squeeze())\n",
        "    C = float((1 - (2 / (n * k * (2 * n - 3 * k - 1)) * sum_i_c)).squeeze())\n",
        "\n",
        "    return T, C\n"
      ],
      "metadata": {
        "id": "JmUq4Y1I9qsd"
      },
      "execution_count": 77,
      "outputs": []
    },
    {
      "cell_type": "code",
      "source": [
        "trustworthiness, continuity = compute_tandc(7, data_, translatedEmbeddingFDL)\n",
        "print(\"Trustworthiness:\", trustworthiness)\n",
        "print(\"Continuity:\", continuity)\n"
      ],
      "metadata": {
        "colab": {
          "base_uri": "https://localhost:8080/"
        },
        "id": "CC75xiky9-1g",
        "outputId": "a57a1f91-10c5-4bf1-8798-1ec6711c7419"
      },
      "execution_count": 79,
      "outputs": [
        {
          "output_type": "stream",
          "name": "stdout",
          "text": [
            "Trustworthiness: 0.9610914747645355\n",
            "Continuity: 0.9187627448418962\n"
          ]
        }
      ]
    },
    {
      "cell_type": "code",
      "source": [],
      "metadata": {
        "id": "0QzVjSSJ-D-h"
      },
      "execution_count": null,
      "outputs": []
    }
  ],
  "metadata": {
    "colab": {
      "collapsed_sections": [
        "pl0bcfq8tq0V",
        "F3pxbse0ty2f",
        "DkauVZJlClv8",
        "sZXpvZ0at49Q",
        "KWKv912Y-AIO",
        "be9n_gUZTXeA",
        "JWlG2v5ViZ9p"
      ],
      "machine_shape": "hm",
      "provenance": [],
      "gpuClass": "premium",
      "include_colab_link": true
    },
    "gpuClass": "premium",
    "kernelspec": {
      "display_name": "Python 3",
      "name": "python3"
    },
    "language_info": {
      "name": "python"
    }
  },
  "nbformat": 4,
  "nbformat_minor": 0
}